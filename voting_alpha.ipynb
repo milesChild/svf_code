{
 "cells": [
  {
   "cell_type": "code",
   "execution_count": 1,
   "metadata": {},
   "outputs": [
    {
     "name": "stderr",
     "output_type": "stream",
     "text": [
      "/Users/MilesChild/opt/miniconda3/lib/python3.9/site-packages/yfinance/base.py:48: FutureWarning: The default dtype for empty Series will be 'object' instead of 'float64' in a future version. Specify a dtype explicitly to silence this warning.\n",
      "  _empty_series = pd.Series()\n"
     ]
    }
   ],
   "source": [
    "# imports\n",
    "import pandas as pd\n",
    "import yfinance as yf\n",
    "import plotly.graph_objects as go\n",
    "from datetime import datetime, timedelta"
   ]
  },
  {
   "cell_type": "markdown",
   "metadata": {},
   "source": [
    "# Read Voting History"
   ]
  },
  {
   "cell_type": "code",
   "execution_count": 2,
   "metadata": {},
   "outputs": [
    {
     "data": {
      "text/html": [
       "<div>\n",
       "<style scoped>\n",
       "    .dataframe tbody tr th:only-of-type {\n",
       "        vertical-align: middle;\n",
       "    }\n",
       "\n",
       "    .dataframe tbody tr th {\n",
       "        vertical-align: top;\n",
       "    }\n",
       "\n",
       "    .dataframe thead th {\n",
       "        text-align: right;\n",
       "    }\n",
       "</style>\n",
       "<table border=\"1\" class=\"dataframe\">\n",
       "  <thead>\n",
       "    <tr style=\"text-align: right;\">\n",
       "      <th></th>\n",
       "      <th>voting_date</th>\n",
       "      <th>ticker</th>\n",
       "      <th>decision</th>\n",
       "      <th>yes</th>\n",
       "      <th>no</th>\n",
       "    </tr>\n",
       "  </thead>\n",
       "  <tbody>\n",
       "    <tr>\n",
       "      <th>0</th>\n",
       "      <td>2024-04-14</td>\n",
       "      <td>PL</td>\n",
       "      <td>LONG</td>\n",
       "      <td>24</td>\n",
       "      <td>6</td>\n",
       "    </tr>\n",
       "    <tr>\n",
       "      <th>1</th>\n",
       "      <td>2024-04-10</td>\n",
       "      <td>PGY</td>\n",
       "      <td>SHORT</td>\n",
       "      <td>13</td>\n",
       "      <td>14</td>\n",
       "    </tr>\n",
       "    <tr>\n",
       "      <th>2</th>\n",
       "      <td>2024-04-10</td>\n",
       "      <td>CREX</td>\n",
       "      <td>LONG</td>\n",
       "      <td>26</td>\n",
       "      <td>2</td>\n",
       "    </tr>\n",
       "    <tr>\n",
       "      <th>3</th>\n",
       "      <td>2024-09-10</td>\n",
       "      <td>CLBT</td>\n",
       "      <td>SHORT</td>\n",
       "      <td>21</td>\n",
       "      <td>1</td>\n",
       "    </tr>\n",
       "    <tr>\n",
       "      <th>4</th>\n",
       "      <td>2024-04-14</td>\n",
       "      <td>TOST</td>\n",
       "      <td>LONG</td>\n",
       "      <td>28</td>\n",
       "      <td>3</td>\n",
       "    </tr>\n",
       "  </tbody>\n",
       "</table>\n",
       "</div>"
      ],
      "text/plain": [
       "  voting_date ticker decision  yes  no\n",
       "0  2024-04-14     PL     LONG   24   6\n",
       "1  2024-04-10    PGY    SHORT   13  14\n",
       "2  2024-04-10   CREX     LONG   26   2\n",
       "3  2024-09-10   CLBT    SHORT   21   1\n",
       "4  2024-04-14   TOST     LONG   28   3"
      ]
     },
     "execution_count": 2,
     "metadata": {},
     "output_type": "execute_result"
    }
   ],
   "source": [
    "# read in the voting history data\n",
    "votes = pd.read_excel('voting_history.xlsx')\n",
    "votes['voting_date'] = votes['voting_date'].astype('str')\n",
    "votes.head()"
   ]
  },
  {
   "cell_type": "markdown",
   "metadata": {},
   "source": [
    "# Obtain Historical Price Data"
   ]
  },
  {
   "cell_type": "code",
   "execution_count": 3,
   "metadata": {},
   "outputs": [],
   "source": [
    "# Add in 1mo, 6mo, 1yr return columns to the votes dataframe\n",
    "votes_with_returns = votes.copy()\n",
    "votes_with_returns['1mo_return_asset'] = None\n",
    "votes_with_returns['1mo_return_benchmark'] = None\n",
    "votes_with_returns['6mo_return_asset'] = None\n",
    "votes_with_returns['6mo_return_benchmark'] = None\n",
    "votes_with_returns['1yr_return_asset'] = None\n",
    "votes_with_returns['1yr_return_benchmark'] = None"
   ]
  },
  {
   "cell_type": "code",
   "execution_count": 4,
   "metadata": {},
   "outputs": [],
   "source": [
    "# get end date for start date\n",
    "def get_end_date(start_date: str, no_days: int):\n",
    "    end_date = datetime.strptime(start_date, '%Y-%m-%d') + timedelta(days=no_days)\n",
    "    end_date = end_date.date()\n",
    "    end_date = str(end_date)\n",
    "    return end_date\n",
    "\n",
    "# Method for getting stock data for a date range from yfinance\n",
    "def __get_stock_data(ticker: str, start_date: str, end_date: str):\n",
    "    # make sure start and end date are not in the future\n",
    "    if datetime.strptime(start_date, '%Y-%m-%d') > datetime.now():\n",
    "        raise ValueError(\"Start date is in the future\")\n",
    "    if datetime.strptime(end_date, '%Y-%m-%d') > datetime.now():\n",
    "        raise ValueError(\"End date is in the future\")\n",
    "    \n",
    "    data = yf.download(ticker, start_date, end_date)\n",
    "    return data\n",
    "\n",
    "def get_asset_returns(ticker: str, start_date: str, end_date: str):\n",
    "    data = __get_stock_data(ticker, start_date, end_date)\n",
    "    return_for_period = data['Adj Close'][-1] / data['Adj Close'][0] - 1\n",
    "    return return_for_period\n",
    "\n",
    "# Assertions \n",
    "\n",
    "assert get_end_date('2024-01-01', 30) == '2024-01-31'\n",
    "# assert that this returns an error\n",
    "try:\n",
    "    __get_stock_data('TSLA', '2025-01-01', '2025-12-31')\n",
    "except ValueError as e:\n",
    "    i = 0"
   ]
  },
  {
   "cell_type": "markdown",
   "metadata": {},
   "source": [
    "**Benchmark Returns**"
   ]
  },
  {
   "cell_type": "code",
   "execution_count": 5,
   "metadata": {},
   "outputs": [
    {
     "name": "stderr",
     "output_type": "stream",
     "text": [
      "[*********************100%%**********************]  1 of 1 completed\n",
      "[*********************100%%**********************]  1 of 1 completed\n",
      "[*********************100%%**********************]  1 of 1 completed\n",
      "[*********************100%%**********************]  1 of 1 completed\n",
      "[*********************100%%**********************]  1 of 1 completed\n",
      "[*********************100%%**********************]  1 of 1 completed\n",
      "[*********************100%%**********************]  1 of 1 completed\n",
      "[*********************100%%**********************]  1 of 1 completed\n",
      "[*********************100%%**********************]  1 of 1 completed\n",
      "[*********************100%%**********************]  1 of 1 completed\n",
      "[*********************100%%**********************]  1 of 1 completed\n",
      "[*********************100%%**********************]  1 of 1 completed\n",
      "[*********************100%%**********************]  1 of 1 completed\n",
      "[*********************100%%**********************]  1 of 1 completed\n",
      "[*********************100%%**********************]  1 of 1 completed\n",
      "[*********************100%%**********************]  1 of 1 completed\n",
      "[*********************100%%**********************]  1 of 1 completed\n",
      "[*********************100%%**********************]  1 of 1 completed\n",
      "[*********************100%%**********************]  1 of 1 completed\n",
      "[*********************100%%**********************]  1 of 1 completed\n",
      "[*********************100%%**********************]  1 of 1 completed\n",
      "[*********************100%%**********************]  1 of 1 completed\n",
      "[*********************100%%**********************]  1 of 1 completed\n",
      "[*********************100%%**********************]  1 of 1 completed\n",
      "[*********************100%%**********************]  1 of 1 completed\n",
      "[*********************100%%**********************]  1 of 1 completed\n",
      "[*********************100%%**********************]  1 of 1 completed\n",
      "[*********************100%%**********************]  1 of 1 completed\n",
      "[*********************100%%**********************]  1 of 1 completed\n",
      "[*********************100%%**********************]  1 of 1 completed\n",
      "[*********************100%%**********************]  1 of 1 completed\n",
      "[*********************100%%**********************]  1 of 1 completed\n",
      "[*********************100%%**********************]  1 of 1 completed\n",
      "[*********************100%%**********************]  1 of 1 completed\n",
      "[*********************100%%**********************]  1 of 1 completed\n",
      "[*********************100%%**********************]  1 of 1 completed\n",
      "[*********************100%%**********************]  1 of 1 completed\n",
      "[*********************100%%**********************]  1 of 1 completed\n",
      "[*********************100%%**********************]  1 of 1 completed\n",
      "[*********************100%%**********************]  1 of 1 completed\n",
      "[*********************100%%**********************]  1 of 1 completed\n",
      "[*********************100%%**********************]  1 of 1 completed\n",
      "[*********************100%%**********************]  1 of 1 completed\n",
      "[*********************100%%**********************]  1 of 1 completed\n",
      "[*********************100%%**********************]  1 of 1 completed\n",
      "[*********************100%%**********************]  1 of 1 completed\n",
      "[*********************100%%**********************]  1 of 1 completed\n",
      "[*********************100%%**********************]  1 of 1 completed\n",
      "[*********************100%%**********************]  1 of 1 completed\n",
      "[*********************100%%**********************]  1 of 1 completed\n",
      "[*********************100%%**********************]  1 of 1 completed\n",
      "[*********************100%%**********************]  1 of 1 completed\n",
      "[*********************100%%**********************]  1 of 1 completed\n",
      "[*********************100%%**********************]  1 of 1 completed\n",
      "[*********************100%%**********************]  1 of 1 completed\n",
      "[*********************100%%**********************]  1 of 1 completed\n",
      "[*********************100%%**********************]  1 of 1 completed\n",
      "[*********************100%%**********************]  1 of 1 completed\n",
      "[*********************100%%**********************]  1 of 1 completed\n",
      "[*********************100%%**********************]  1 of 1 completed\n",
      "[*********************100%%**********************]  1 of 1 completed\n",
      "[*********************100%%**********************]  1 of 1 completed\n",
      "[*********************100%%**********************]  1 of 1 completed\n",
      "[*********************100%%**********************]  1 of 1 completed\n",
      "[*********************100%%**********************]  1 of 1 completed\n",
      "[*********************100%%**********************]  1 of 1 completed\n",
      "[*********************100%%**********************]  1 of 1 completed\n",
      "[*********************100%%**********************]  1 of 1 completed\n",
      "[*********************100%%**********************]  1 of 1 completed\n",
      "[*********************100%%**********************]  1 of 1 completed\n",
      "[*********************100%%**********************]  1 of 1 completed\n",
      "[*********************100%%**********************]  1 of 1 completed\n",
      "[*********************100%%**********************]  1 of 1 completed\n",
      "[*********************100%%**********************]  1 of 1 completed\n",
      "[*********************100%%**********************]  1 of 1 completed\n",
      "[*********************100%%**********************]  1 of 1 completed\n",
      "[*********************100%%**********************]  1 of 1 completed\n",
      "[*********************100%%**********************]  1 of 1 completed\n",
      "[*********************100%%**********************]  1 of 1 completed\n",
      "[*********************100%%**********************]  1 of 1 completed\n",
      "[*********************100%%**********************]  1 of 1 completed\n",
      "[*********************100%%**********************]  1 of 1 completed\n",
      "[*********************100%%**********************]  1 of 1 completed\n",
      "[*********************100%%**********************]  1 of 1 completed\n",
      "[*********************100%%**********************]  1 of 1 completed\n",
      "[*********************100%%**********************]  1 of 1 completed\n",
      "[*********************100%%**********************]  1 of 1 completed\n",
      "[*********************100%%**********************]  1 of 1 completed\n",
      "[*********************100%%**********************]  1 of 1 completed\n",
      "[*********************100%%**********************]  1 of 1 completed\n",
      "[*********************100%%**********************]  1 of 1 completed\n",
      "[*********************100%%**********************]  1 of 1 completed\n",
      "[*********************100%%**********************]  1 of 1 completed\n",
      "[*********************100%%**********************]  1 of 1 completed\n",
      "[*********************100%%**********************]  1 of 1 completed\n",
      "[*********************100%%**********************]  1 of 1 completed\n",
      "[*********************100%%**********************]  1 of 1 completed\n",
      "[*********************100%%**********************]  1 of 1 completed\n",
      "[*********************100%%**********************]  1 of 1 completed\n",
      "[*********************100%%**********************]  1 of 1 completed\n",
      "[*********************100%%**********************]  1 of 1 completed\n",
      "[*********************100%%**********************]  1 of 1 completed\n",
      "[*********************100%%**********************]  1 of 1 completed\n",
      "[*********************100%%**********************]  1 of 1 completed\n"
     ]
    },
    {
     "data": {
      "text/html": [
       "<div>\n",
       "<style scoped>\n",
       "    .dataframe tbody tr th:only-of-type {\n",
       "        vertical-align: middle;\n",
       "    }\n",
       "\n",
       "    .dataframe tbody tr th {\n",
       "        vertical-align: top;\n",
       "    }\n",
       "\n",
       "    .dataframe thead th {\n",
       "        text-align: right;\n",
       "    }\n",
       "</style>\n",
       "<table border=\"1\" class=\"dataframe\">\n",
       "  <thead>\n",
       "    <tr style=\"text-align: right;\">\n",
       "      <th></th>\n",
       "      <th>voting_date</th>\n",
       "      <th>ticker</th>\n",
       "      <th>decision</th>\n",
       "      <th>yes</th>\n",
       "      <th>no</th>\n",
       "      <th>1mo_return_asset</th>\n",
       "      <th>1mo_return_benchmark</th>\n",
       "      <th>6mo_return_asset</th>\n",
       "      <th>6mo_return_benchmark</th>\n",
       "      <th>1yr_return_asset</th>\n",
       "      <th>1yr_return_benchmark</th>\n",
       "    </tr>\n",
       "  </thead>\n",
       "  <tbody>\n",
       "    <tr>\n",
       "      <th>0</th>\n",
       "      <td>2024-04-14</td>\n",
       "      <td>PL</td>\n",
       "      <td>LONG</td>\n",
       "      <td>24</td>\n",
       "      <td>6</td>\n",
       "      <td>None</td>\n",
       "      <td>0.043736</td>\n",
       "      <td>None</td>\n",
       "      <td>None</td>\n",
       "      <td>None</td>\n",
       "      <td>None</td>\n",
       "    </tr>\n",
       "    <tr>\n",
       "      <th>1</th>\n",
       "      <td>2024-04-10</td>\n",
       "      <td>PGY</td>\n",
       "      <td>SHORT</td>\n",
       "      <td>13</td>\n",
       "      <td>14</td>\n",
       "      <td>None</td>\n",
       "      <td>0.022303</td>\n",
       "      <td>None</td>\n",
       "      <td>None</td>\n",
       "      <td>None</td>\n",
       "      <td>None</td>\n",
       "    </tr>\n",
       "    <tr>\n",
       "      <th>2</th>\n",
       "      <td>2024-04-10</td>\n",
       "      <td>CREX</td>\n",
       "      <td>LONG</td>\n",
       "      <td>26</td>\n",
       "      <td>2</td>\n",
       "      <td>None</td>\n",
       "      <td>0.022303</td>\n",
       "      <td>None</td>\n",
       "      <td>None</td>\n",
       "      <td>None</td>\n",
       "      <td>None</td>\n",
       "    </tr>\n",
       "    <tr>\n",
       "      <th>3</th>\n",
       "      <td>2024-09-10</td>\n",
       "      <td>CLBT</td>\n",
       "      <td>SHORT</td>\n",
       "      <td>21</td>\n",
       "      <td>1</td>\n",
       "      <td>None</td>\n",
       "      <td>None</td>\n",
       "      <td>None</td>\n",
       "      <td>None</td>\n",
       "      <td>None</td>\n",
       "      <td>None</td>\n",
       "    </tr>\n",
       "    <tr>\n",
       "      <th>4</th>\n",
       "      <td>2024-04-14</td>\n",
       "      <td>TOST</td>\n",
       "      <td>LONG</td>\n",
       "      <td>28</td>\n",
       "      <td>3</td>\n",
       "      <td>None</td>\n",
       "      <td>0.043736</td>\n",
       "      <td>None</td>\n",
       "      <td>None</td>\n",
       "      <td>None</td>\n",
       "      <td>None</td>\n",
       "    </tr>\n",
       "  </tbody>\n",
       "</table>\n",
       "</div>"
      ],
      "text/plain": [
       "  voting_date ticker decision  yes  no 1mo_return_asset 1mo_return_benchmark  \\\n",
       "0  2024-04-14     PL     LONG   24   6             None             0.043736   \n",
       "1  2024-04-10    PGY    SHORT   13  14             None             0.022303   \n",
       "2  2024-04-10   CREX     LONG   26   2             None             0.022303   \n",
       "3  2024-09-10   CLBT    SHORT   21   1             None                 None   \n",
       "4  2024-04-14   TOST     LONG   28   3             None             0.043736   \n",
       "\n",
       "  6mo_return_asset 6mo_return_benchmark 1yr_return_asset 1yr_return_benchmark  \n",
       "0             None                 None             None                 None  \n",
       "1             None                 None             None                 None  \n",
       "2             None                 None             None                 None  \n",
       "3             None                 None             None                 None  \n",
       "4             None                 None             None                 None  "
      ]
     },
     "execution_count": 5,
     "metadata": {},
     "output_type": "execute_result"
    }
   ],
   "source": [
    "# Fill in benchmark return columns\n",
    "benchmark = '^RUT'\n",
    "\n",
    "for index, row in votes_with_returns.iterrows():\n",
    "    start = row['voting_date']\n",
    "    one_mo_after = get_end_date(start, 30)\n",
    "    six_mo_after = get_end_date(start, 180)\n",
    "    one_yr_after = get_end_date(start, 365)\n",
    "    try:\n",
    "        one_mo_ret_benchmark = get_asset_returns(benchmark, start, one_mo_after)\n",
    "    except ValueError as e:\n",
    "        one_mo_ret_benchmark = None\n",
    "\n",
    "    try:\n",
    "        six_mo_ret_benchmark = get_asset_returns(benchmark, start, six_mo_after)\n",
    "    except ValueError as e:\n",
    "        six_mo_ret_benchmark = None\n",
    "        \n",
    "    try:\n",
    "        one_yr_ret_benchmark = get_asset_returns(benchmark, start, one_yr_after)\n",
    "    except ValueError as e:\n",
    "        one_yr_ret_benchmark = None\n",
    "\n",
    "    votes_with_returns.at[index, '1mo_return_benchmark'] = one_mo_ret_benchmark\n",
    "    votes_with_returns.at[index, '6mo_return_benchmark'] = six_mo_ret_benchmark\n",
    "    votes_with_returns.at[index, '1yr_return_benchmark'] = one_yr_ret_benchmark\n",
    "\n",
    "votes_with_returns.head()"
   ]
  },
  {
   "cell_type": "markdown",
   "metadata": {},
   "source": [
    "**Asset Returns**"
   ]
  },
  {
   "cell_type": "code",
   "execution_count": 20,
   "metadata": {},
   "outputs": [
    {
     "name": "stderr",
     "output_type": "stream",
     "text": [
      "[*********************100%%**********************]  1 of 1 completed\n",
      "[*********************100%%**********************]  1 of 1 completed\n",
      "[*********************100%%**********************]  1 of 1 completed\n",
      "[*********************100%%**********************]  1 of 1 completed\n",
      "[*********************100%%**********************]  1 of 1 completed\n",
      "[*********************100%%**********************]  1 of 1 completed\n",
      "[*********************100%%**********************]  1 of 1 completed\n",
      "[*********************100%%**********************]  1 of 1 completed\n",
      "[*********************100%%**********************]  1 of 1 completed\n",
      "[*********************100%%**********************]  1 of 1 completed\n",
      "[*********************100%%**********************]  1 of 1 completed\n",
      "[*********************100%%**********************]  1 of 1 completed\n",
      "[*********************100%%**********************]  1 of 1 completed\n",
      "[*********************100%%**********************]  1 of 1 completed\n",
      "\n",
      "1 Failed download:\n",
      "['KRTX']: Exception('%ticker%: No timezone found, symbol may be delisted')\n",
      "[*********************100%%**********************]  1 of 1 completed\n",
      "[*********************100%%**********************]  1 of 1 completed\n",
      "[*********************100%%**********************]  1 of 1 completed\n",
      "[*********************100%%**********************]  1 of 1 completed\n"
     ]
    },
    {
     "name": "stdout",
     "output_type": "stream",
     "text": [
      "Skipping KRTX due to error: index -1 is out of bounds for axis 0 with size 0\n"
     ]
    },
    {
     "name": "stderr",
     "output_type": "stream",
     "text": [
      "[*********************100%%**********************]  1 of 1 completed\n",
      "[*********************100%%**********************]  1 of 1 completed\n",
      "[*********************100%%**********************]  1 of 1 completed\n",
      "[*********************100%%**********************]  1 of 1 completed\n",
      "[*********************100%%**********************]  1 of 1 completed\n",
      "[*********************100%%**********************]  1 of 1 completed\n",
      "[*********************100%%**********************]  1 of 1 completed\n",
      "[*********************100%%**********************]  1 of 1 completed\n",
      "[*********************100%%**********************]  1 of 1 completed\n",
      "[*********************100%%**********************]  1 of 1 completed\n",
      "[*********************100%%**********************]  1 of 1 completed\n",
      "[*********************100%%**********************]  1 of 1 completed\n",
      "[*********************100%%**********************]  1 of 1 completed\n",
      "[*********************100%%**********************]  1 of 1 completed\n",
      "[*********************100%%**********************]  1 of 1 completed\n",
      "[*********************100%%**********************]  1 of 1 completed\n",
      "[*********************100%%**********************]  1 of 1 completed\n",
      "[*********************100%%**********************]  1 of 1 completed\n",
      "[*********************100%%**********************]  1 of 1 completed\n",
      "[*********************100%%**********************]  1 of 1 completed\n",
      "[*********************100%%**********************]  1 of 1 completed\n",
      "[*********************100%%**********************]  1 of 1 completed\n",
      "[*********************100%%**********************]  1 of 1 completed\n",
      "[*********************100%%**********************]  1 of 1 completed\n",
      "[*********************100%%**********************]  1 of 1 completed\n",
      "[*********************100%%**********************]  1 of 1 completed\n",
      "[*********************100%%**********************]  1 of 1 completed\n",
      "[*********************100%%**********************]  1 of 1 completed\n",
      "[*********************100%%**********************]  1 of 1 completed\n",
      "[*********************100%%**********************]  1 of 1 completed\n",
      "[*********************100%%**********************]  1 of 1 completed\n",
      "[*********************100%%**********************]  1 of 1 completed\n",
      "[*********************100%%**********************]  1 of 1 completed\n",
      "[*********************100%%**********************]  1 of 1 completed\n",
      "[*********************100%%**********************]  1 of 1 completed\n",
      "[*********************100%%**********************]  1 of 1 completed\n",
      "[*********************100%%**********************]  1 of 1 completed\n",
      "[*********************100%%**********************]  1 of 1 completed\n",
      "[*********************100%%**********************]  1 of 1 completed\n",
      "[*********************100%%**********************]  1 of 1 completed\n",
      "[*********************100%%**********************]  1 of 1 completed\n",
      "[*********************100%%**********************]  1 of 1 completed\n",
      "[*********************100%%**********************]  1 of 1 completed\n",
      "[*********************100%%**********************]  1 of 1 completed\n",
      "[*********************100%%**********************]  1 of 1 completed\n",
      "[*********************100%%**********************]  1 of 1 completed\n",
      "[*********************100%%**********************]  1 of 1 completed\n",
      "\n",
      "1 Failed download:\n",
      "['MAXR']: Exception('%ticker%: No timezone found, symbol may be delisted')\n",
      "[*********************100%%**********************]  1 of 1 completed\n",
      "[*********************100%%**********************]  1 of 1 completed\n",
      "[*********************100%%**********************]  1 of 1 completed\n",
      "[*********************100%%**********************]  1 of 1 completed\n"
     ]
    },
    {
     "name": "stdout",
     "output_type": "stream",
     "text": [
      "Skipping MAXR due to error: index -1 is out of bounds for axis 0 with size 0\n"
     ]
    },
    {
     "name": "stderr",
     "output_type": "stream",
     "text": [
      "[*********************100%%**********************]  1 of 1 completed\n",
      "[*********************100%%**********************]  1 of 1 completed\n",
      "[*********************100%%**********************]  1 of 1 completed\n",
      "[*********************100%%**********************]  1 of 1 completed\n",
      "[*********************100%%**********************]  1 of 1 completed\n",
      "[*********************100%%**********************]  1 of 1 completed\n",
      "[*********************100%%**********************]  1 of 1 completed\n",
      "[*********************100%%**********************]  1 of 1 completed\n",
      "[*********************100%%**********************]  1 of 1 completed\n",
      "[*********************100%%**********************]  1 of 1 completed\n",
      "[*********************100%%**********************]  1 of 1 completed\n",
      "[*********************100%%**********************]  1 of 1 completed\n",
      "[*********************100%%**********************]  1 of 1 completed\n",
      "[*********************100%%**********************]  1 of 1 completed\n",
      "[*********************100%%**********************]  1 of 1 completed\n",
      "[*********************100%%**********************]  1 of 1 completed\n",
      "[*********************100%%**********************]  1 of 1 completed\n",
      "[*********************100%%**********************]  1 of 1 completed\n",
      "[*********************100%%**********************]  1 of 1 completed\n",
      "[*********************100%%**********************]  1 of 1 completed\n",
      "[*********************100%%**********************]  1 of 1 completed\n",
      "[*********************100%%**********************]  1 of 1 completed\n",
      "[*********************100%%**********************]  1 of 1 completed\n",
      "[*********************100%%**********************]  1 of 1 completed\n",
      "[*********************100%%**********************]  1 of 1 completed\n",
      "[*********************100%%**********************]  1 of 1 completed\n",
      "[*********************100%%**********************]  1 of 1 completed\n",
      "[*********************100%%**********************]  1 of 1 completed\n",
      "[*********************100%%**********************]  1 of 1 completed\n",
      "[*********************100%%**********************]  1 of 1 completed\n",
      "[*********************100%%**********************]  1 of 1 completed\n",
      "[*********************100%%**********************]  1 of 1 completed\n"
     ]
    },
    {
     "data": {
      "text/html": [
       "<div>\n",
       "<style scoped>\n",
       "    .dataframe tbody tr th:only-of-type {\n",
       "        vertical-align: middle;\n",
       "    }\n",
       "\n",
       "    .dataframe tbody tr th {\n",
       "        vertical-align: top;\n",
       "    }\n",
       "\n",
       "    .dataframe thead th {\n",
       "        text-align: right;\n",
       "    }\n",
       "</style>\n",
       "<table border=\"1\" class=\"dataframe\">\n",
       "  <thead>\n",
       "    <tr style=\"text-align: right;\">\n",
       "      <th></th>\n",
       "      <th>voting_date</th>\n",
       "      <th>ticker</th>\n",
       "      <th>decision</th>\n",
       "      <th>yes</th>\n",
       "      <th>no</th>\n",
       "      <th>1mo_return_asset</th>\n",
       "      <th>1mo_return_benchmark</th>\n",
       "      <th>6mo_return_asset</th>\n",
       "      <th>6mo_return_benchmark</th>\n",
       "      <th>1yr_return_asset</th>\n",
       "      <th>1yr_return_benchmark</th>\n",
       "      <th>1mo_alpha</th>\n",
       "      <th>6mo_alpha</th>\n",
       "      <th>1yr_alpha</th>\n",
       "    </tr>\n",
       "  </thead>\n",
       "  <tbody>\n",
       "    <tr>\n",
       "      <th>0</th>\n",
       "      <td>2024-04-14</td>\n",
       "      <td>PL</td>\n",
       "      <td>LONG</td>\n",
       "      <td>24</td>\n",
       "      <td>6</td>\n",
       "      <td>0.088398</td>\n",
       "      <td>0.043736</td>\n",
       "      <td>None</td>\n",
       "      <td>None</td>\n",
       "      <td>None</td>\n",
       "      <td>None</td>\n",
       "      <td>0.044662</td>\n",
       "      <td>NaN</td>\n",
       "      <td>NaN</td>\n",
       "    </tr>\n",
       "    <tr>\n",
       "      <th>1</th>\n",
       "      <td>2024-04-10</td>\n",
       "      <td>PGY</td>\n",
       "      <td>SHORT</td>\n",
       "      <td>13</td>\n",
       "      <td>14</td>\n",
       "      <td>-0.146497</td>\n",
       "      <td>0.022303</td>\n",
       "      <td>None</td>\n",
       "      <td>None</td>\n",
       "      <td>None</td>\n",
       "      <td>None</td>\n",
       "      <td>0.124194</td>\n",
       "      <td>NaN</td>\n",
       "      <td>NaN</td>\n",
       "    </tr>\n",
       "    <tr>\n",
       "      <th>2</th>\n",
       "      <td>2024-04-10</td>\n",
       "      <td>CREX</td>\n",
       "      <td>LONG</td>\n",
       "      <td>26</td>\n",
       "      <td>2</td>\n",
       "      <td>0.238532</td>\n",
       "      <td>0.022303</td>\n",
       "      <td>None</td>\n",
       "      <td>None</td>\n",
       "      <td>None</td>\n",
       "      <td>None</td>\n",
       "      <td>0.216229</td>\n",
       "      <td>NaN</td>\n",
       "      <td>NaN</td>\n",
       "    </tr>\n",
       "    <tr>\n",
       "      <th>3</th>\n",
       "      <td>2024-09-10</td>\n",
       "      <td>CLBT</td>\n",
       "      <td>SHORT</td>\n",
       "      <td>21</td>\n",
       "      <td>1</td>\n",
       "      <td>None</td>\n",
       "      <td>None</td>\n",
       "      <td>None</td>\n",
       "      <td>None</td>\n",
       "      <td>None</td>\n",
       "      <td>None</td>\n",
       "      <td>NaN</td>\n",
       "      <td>NaN</td>\n",
       "      <td>NaN</td>\n",
       "    </tr>\n",
       "    <tr>\n",
       "      <th>4</th>\n",
       "      <td>2024-04-14</td>\n",
       "      <td>TOST</td>\n",
       "      <td>LONG</td>\n",
       "      <td>28</td>\n",
       "      <td>3</td>\n",
       "      <td>0.200889</td>\n",
       "      <td>0.043736</td>\n",
       "      <td>None</td>\n",
       "      <td>None</td>\n",
       "      <td>None</td>\n",
       "      <td>None</td>\n",
       "      <td>0.157153</td>\n",
       "      <td>NaN</td>\n",
       "      <td>NaN</td>\n",
       "    </tr>\n",
       "  </tbody>\n",
       "</table>\n",
       "</div>"
      ],
      "text/plain": [
       "  voting_date ticker decision  yes  no 1mo_return_asset 1mo_return_benchmark  \\\n",
       "0  2024-04-14     PL     LONG   24   6         0.088398             0.043736   \n",
       "1  2024-04-10    PGY    SHORT   13  14        -0.146497             0.022303   \n",
       "2  2024-04-10   CREX     LONG   26   2         0.238532             0.022303   \n",
       "3  2024-09-10   CLBT    SHORT   21   1             None                 None   \n",
       "4  2024-04-14   TOST     LONG   28   3         0.200889             0.043736   \n",
       "\n",
       "  6mo_return_asset 6mo_return_benchmark 1yr_return_asset 1yr_return_benchmark  \\\n",
       "0             None                 None             None                 None   \n",
       "1             None                 None             None                 None   \n",
       "2             None                 None             None                 None   \n",
       "3             None                 None             None                 None   \n",
       "4             None                 None             None                 None   \n",
       "\n",
       "  1mo_alpha 6mo_alpha 1yr_alpha  \n",
       "0  0.044662       NaN       NaN  \n",
       "1  0.124194       NaN       NaN  \n",
       "2  0.216229       NaN       NaN  \n",
       "3       NaN       NaN       NaN  \n",
       "4  0.157153       NaN       NaN  "
      ]
     },
     "execution_count": 20,
     "metadata": {},
     "output_type": "execute_result"
    }
   ],
   "source": [
    "# Get the asset returns\n",
    "\n",
    "for index, row in votes_with_returns.iterrows():\n",
    "    ticker = row['ticker']\n",
    "    start = row['voting_date']\n",
    "    side = row['decision']\n",
    "    one_mo_after = get_end_date(start, 30)\n",
    "    six_mo_after = get_end_date(start, 180)\n",
    "    one_yr_after = get_end_date(start, 365)\n",
    "    try:\n",
    "        try:\n",
    "            one_mo_ret = get_asset_returns(ticker, start, one_mo_after)\n",
    "            if side == 'SHORT':\n",
    "                one_mo_ret = -one_mo_ret\n",
    "        except ValueError as e:\n",
    "            one_mo_ret = None\n",
    "\n",
    "        try:\n",
    "            six_mo_ret = get_asset_returns(ticker, start, six_mo_after)\n",
    "            if side == 'SHORT':\n",
    "                six_mo_ret = -six_mo_ret\n",
    "        except ValueError as e:\n",
    "            six_mo_ret = None\n",
    "            \n",
    "        try:\n",
    "            one_yr_ret = get_asset_returns(ticker, start, one_yr_after)\n",
    "            if side == 'SHORT':\n",
    "                one_yr_ret = -one_yr_ret\n",
    "        except ValueError as e:\n",
    "            one_yr_ret = None\n",
    "    except Exception as e:\n",
    "        print(f'Skipping {ticker} due to error: {e}')\n",
    "        continue\n",
    "\n",
    "    votes_with_returns.at[index, '1mo_return_asset'] = one_mo_ret\n",
    "    votes_with_returns.at[index, '6mo_return_asset'] = six_mo_ret\n",
    "    votes_with_returns.at[index, '1yr_return_asset'] = one_yr_ret\n",
    "\n",
    "votes_with_returns.head()"
   ]
  },
  {
   "cell_type": "code",
   "execution_count": 21,
   "metadata": {},
   "outputs": [
    {
     "data": {
      "text/html": [
       "<div>\n",
       "<style scoped>\n",
       "    .dataframe tbody tr th:only-of-type {\n",
       "        vertical-align: middle;\n",
       "    }\n",
       "\n",
       "    .dataframe tbody tr th {\n",
       "        vertical-align: top;\n",
       "    }\n",
       "\n",
       "    .dataframe thead th {\n",
       "        text-align: right;\n",
       "    }\n",
       "</style>\n",
       "<table border=\"1\" class=\"dataframe\">\n",
       "  <thead>\n",
       "    <tr style=\"text-align: right;\">\n",
       "      <th></th>\n",
       "      <th>voting_date</th>\n",
       "      <th>ticker</th>\n",
       "      <th>decision</th>\n",
       "      <th>yes</th>\n",
       "      <th>no</th>\n",
       "      <th>1mo_return_asset</th>\n",
       "      <th>1mo_return_benchmark</th>\n",
       "      <th>6mo_return_asset</th>\n",
       "      <th>6mo_return_benchmark</th>\n",
       "      <th>1yr_return_asset</th>\n",
       "      <th>1yr_return_benchmark</th>\n",
       "      <th>1mo_alpha</th>\n",
       "      <th>6mo_alpha</th>\n",
       "      <th>1yr_alpha</th>\n",
       "    </tr>\n",
       "  </thead>\n",
       "  <tbody>\n",
       "    <tr>\n",
       "      <th>37</th>\n",
       "      <td>2020-12-12</td>\n",
       "      <td>EVVTY</td>\n",
       "      <td>LONG</td>\n",
       "      <td>59</td>\n",
       "      <td>27</td>\n",
       "      <td>0.025692</td>\n",
       "      <td>0.092901</td>\n",
       "      <td>1.007361</td>\n",
       "      <td>0.215935</td>\n",
       "      <td>0.293376</td>\n",
       "      <td>0.15568</td>\n",
       "      <td>-0.06721</td>\n",
       "      <td>0.791426</td>\n",
       "      <td>0.137696</td>\n",
       "    </tr>\n",
       "    <tr>\n",
       "      <th>38</th>\n",
       "      <td>2020-12-12</td>\n",
       "      <td>REGI</td>\n",
       "      <td>LONG</td>\n",
       "      <td>83</td>\n",
       "      <td>1</td>\n",
       "      <td>0.30017</td>\n",
       "      <td>0.092901</td>\n",
       "      <td>0.097177</td>\n",
       "      <td>0.215935</td>\n",
       "      <td>-0.302329</td>\n",
       "      <td>0.15568</td>\n",
       "      <td>0.207268</td>\n",
       "      <td>-0.118758</td>\n",
       "      <td>-0.458009</td>\n",
       "    </tr>\n",
       "    <tr>\n",
       "      <th>39</th>\n",
       "      <td>2020-12-12</td>\n",
       "      <td>EAF</td>\n",
       "      <td>SHORT</td>\n",
       "      <td>36</td>\n",
       "      <td>46</td>\n",
       "      <td>-0.20829</td>\n",
       "      <td>0.092901</td>\n",
       "      <td>-0.322241</td>\n",
       "      <td>0.215935</td>\n",
       "      <td>-0.241334</td>\n",
       "      <td>0.15568</td>\n",
       "      <td>0.115389</td>\n",
       "      <td>0.106305</td>\n",
       "      <td>0.085654</td>\n",
       "    </tr>\n",
       "    <tr>\n",
       "      <th>40</th>\n",
       "      <td>2020-12-12</td>\n",
       "      <td>INVH</td>\n",
       "      <td>LONG</td>\n",
       "      <td>40</td>\n",
       "      <td>33</td>\n",
       "      <td>0.01911</td>\n",
       "      <td>0.092901</td>\n",
       "      <td>0.315026</td>\n",
       "      <td>0.215935</td>\n",
       "      <td>0.513116</td>\n",
       "      <td>0.15568</td>\n",
       "      <td>-0.073791</td>\n",
       "      <td>0.099091</td>\n",
       "      <td>0.357435</td>\n",
       "    </tr>\n",
       "    <tr>\n",
       "      <th>41</th>\n",
       "      <td>2020-12-12</td>\n",
       "      <td>GLXZ</td>\n",
       "      <td>LONG</td>\n",
       "      <td>65</td>\n",
       "      <td>21</td>\n",
       "      <td>0.090909</td>\n",
       "      <td>0.092901</td>\n",
       "      <td>1.181818</td>\n",
       "      <td>0.215935</td>\n",
       "      <td>1.242424</td>\n",
       "      <td>0.15568</td>\n",
       "      <td>-0.001992</td>\n",
       "      <td>0.965883</td>\n",
       "      <td>1.086744</td>\n",
       "    </tr>\n",
       "  </tbody>\n",
       "</table>\n",
       "</div>"
      ],
      "text/plain": [
       "   voting_date ticker decision  yes  no 1mo_return_asset 1mo_return_benchmark  \\\n",
       "37  2020-12-12  EVVTY     LONG   59  27         0.025692             0.092901   \n",
       "38  2020-12-12   REGI     LONG   83   1          0.30017             0.092901   \n",
       "39  2020-12-12    EAF    SHORT   36  46         -0.20829             0.092901   \n",
       "40  2020-12-12   INVH     LONG   40  33          0.01911             0.092901   \n",
       "41  2020-12-12   GLXZ     LONG   65  21         0.090909             0.092901   \n",
       "\n",
       "   6mo_return_asset 6mo_return_benchmark 1yr_return_asset  \\\n",
       "37         1.007361             0.215935         0.293376   \n",
       "38         0.097177             0.215935        -0.302329   \n",
       "39        -0.322241             0.215935        -0.241334   \n",
       "40         0.315026             0.215935         0.513116   \n",
       "41         1.181818             0.215935         1.242424   \n",
       "\n",
       "   1yr_return_benchmark 1mo_alpha 6mo_alpha 1yr_alpha  \n",
       "37              0.15568  -0.06721  0.791426  0.137696  \n",
       "38              0.15568  0.207268 -0.118758 -0.458009  \n",
       "39              0.15568  0.115389  0.106305  0.085654  \n",
       "40              0.15568 -0.073791  0.099091  0.357435  \n",
       "41              0.15568 -0.001992  0.965883  1.086744  "
      ]
     },
     "execution_count": 21,
     "metadata": {},
     "output_type": "execute_result"
    }
   ],
   "source": [
    "votes_with_returns.tail()"
   ]
  },
  {
   "cell_type": "markdown",
   "metadata": {},
   "source": [
    "# Calculate Alphas\n",
    "\n",
    "alpha = true if N-period return of equity > N-period return of benchmark else false"
   ]
  },
  {
   "cell_type": "code",
   "execution_count": 23,
   "metadata": {},
   "outputs": [
    {
     "data": {
      "text/html": [
       "<div>\n",
       "<style scoped>\n",
       "    .dataframe tbody tr th:only-of-type {\n",
       "        vertical-align: middle;\n",
       "    }\n",
       "\n",
       "    .dataframe tbody tr th {\n",
       "        vertical-align: top;\n",
       "    }\n",
       "\n",
       "    .dataframe thead th {\n",
       "        text-align: right;\n",
       "    }\n",
       "</style>\n",
       "<table border=\"1\" class=\"dataframe\">\n",
       "  <thead>\n",
       "    <tr style=\"text-align: right;\">\n",
       "      <th></th>\n",
       "      <th>voting_date</th>\n",
       "      <th>ticker</th>\n",
       "      <th>decision</th>\n",
       "      <th>yes</th>\n",
       "      <th>no</th>\n",
       "      <th>1mo_return_asset</th>\n",
       "      <th>1mo_return_benchmark</th>\n",
       "      <th>6mo_return_asset</th>\n",
       "      <th>6mo_return_benchmark</th>\n",
       "      <th>1yr_return_asset</th>\n",
       "      <th>1yr_return_benchmark</th>\n",
       "      <th>1mo_alpha</th>\n",
       "      <th>6mo_alpha</th>\n",
       "      <th>1yr_alpha</th>\n",
       "    </tr>\n",
       "  </thead>\n",
       "  <tbody>\n",
       "    <tr>\n",
       "      <th>37</th>\n",
       "      <td>2020-12-12</td>\n",
       "      <td>EVVTY</td>\n",
       "      <td>LONG</td>\n",
       "      <td>59</td>\n",
       "      <td>27</td>\n",
       "      <td>0.025692</td>\n",
       "      <td>0.092901</td>\n",
       "      <td>1.007361</td>\n",
       "      <td>0.215935</td>\n",
       "      <td>0.293376</td>\n",
       "      <td>0.15568</td>\n",
       "      <td>-0.06721</td>\n",
       "      <td>0.791426</td>\n",
       "      <td>0.137696</td>\n",
       "    </tr>\n",
       "    <tr>\n",
       "      <th>38</th>\n",
       "      <td>2020-12-12</td>\n",
       "      <td>REGI</td>\n",
       "      <td>LONG</td>\n",
       "      <td>83</td>\n",
       "      <td>1</td>\n",
       "      <td>0.30017</td>\n",
       "      <td>0.092901</td>\n",
       "      <td>0.097177</td>\n",
       "      <td>0.215935</td>\n",
       "      <td>-0.302329</td>\n",
       "      <td>0.15568</td>\n",
       "      <td>0.207268</td>\n",
       "      <td>-0.118758</td>\n",
       "      <td>-0.458009</td>\n",
       "    </tr>\n",
       "    <tr>\n",
       "      <th>39</th>\n",
       "      <td>2020-12-12</td>\n",
       "      <td>EAF</td>\n",
       "      <td>SHORT</td>\n",
       "      <td>36</td>\n",
       "      <td>46</td>\n",
       "      <td>-0.20829</td>\n",
       "      <td>0.092901</td>\n",
       "      <td>-0.322241</td>\n",
       "      <td>0.215935</td>\n",
       "      <td>-0.241334</td>\n",
       "      <td>0.15568</td>\n",
       "      <td>-0.301191</td>\n",
       "      <td>-0.538176</td>\n",
       "      <td>-0.397014</td>\n",
       "    </tr>\n",
       "    <tr>\n",
       "      <th>40</th>\n",
       "      <td>2020-12-12</td>\n",
       "      <td>INVH</td>\n",
       "      <td>LONG</td>\n",
       "      <td>40</td>\n",
       "      <td>33</td>\n",
       "      <td>0.01911</td>\n",
       "      <td>0.092901</td>\n",
       "      <td>0.315026</td>\n",
       "      <td>0.215935</td>\n",
       "      <td>0.513116</td>\n",
       "      <td>0.15568</td>\n",
       "      <td>-0.073791</td>\n",
       "      <td>0.099091</td>\n",
       "      <td>0.357436</td>\n",
       "    </tr>\n",
       "    <tr>\n",
       "      <th>41</th>\n",
       "      <td>2020-12-12</td>\n",
       "      <td>GLXZ</td>\n",
       "      <td>LONG</td>\n",
       "      <td>65</td>\n",
       "      <td>21</td>\n",
       "      <td>0.090909</td>\n",
       "      <td>0.092901</td>\n",
       "      <td>1.181818</td>\n",
       "      <td>0.215935</td>\n",
       "      <td>1.242424</td>\n",
       "      <td>0.15568</td>\n",
       "      <td>-0.001992</td>\n",
       "      <td>0.965883</td>\n",
       "      <td>1.086744</td>\n",
       "    </tr>\n",
       "  </tbody>\n",
       "</table>\n",
       "</div>"
      ],
      "text/plain": [
       "   voting_date ticker decision  yes  no 1mo_return_asset 1mo_return_benchmark  \\\n",
       "37  2020-12-12  EVVTY     LONG   59  27         0.025692             0.092901   \n",
       "38  2020-12-12   REGI     LONG   83   1          0.30017             0.092901   \n",
       "39  2020-12-12    EAF    SHORT   36  46         -0.20829             0.092901   \n",
       "40  2020-12-12   INVH     LONG   40  33          0.01911             0.092901   \n",
       "41  2020-12-12   GLXZ     LONG   65  21         0.090909             0.092901   \n",
       "\n",
       "   6mo_return_asset 6mo_return_benchmark 1yr_return_asset  \\\n",
       "37         1.007361             0.215935         0.293376   \n",
       "38         0.097177             0.215935        -0.302329   \n",
       "39        -0.322241             0.215935        -0.241334   \n",
       "40         0.315026             0.215935         0.513116   \n",
       "41         1.181818             0.215935         1.242424   \n",
       "\n",
       "   1yr_return_benchmark 1mo_alpha 6mo_alpha 1yr_alpha  \n",
       "37              0.15568  -0.06721  0.791426  0.137696  \n",
       "38              0.15568  0.207268 -0.118758 -0.458009  \n",
       "39              0.15568 -0.301191 -0.538176 -0.397014  \n",
       "40              0.15568 -0.073791  0.099091  0.357436  \n",
       "41              0.15568 -0.001992  0.965883  1.086744  "
      ]
     },
     "execution_count": 23,
     "metadata": {},
     "output_type": "execute_result"
    }
   ],
   "source": [
    "votes_with_returns['1mo_alpha'] = votes_with_returns['1mo_return_asset'] - votes_with_returns['1mo_return_benchmark']\n",
    "votes_with_returns['6mo_alpha'] = votes_with_returns['6mo_return_asset'] - votes_with_returns['6mo_return_benchmark']\n",
    "votes_with_returns['1yr_alpha'] = votes_with_returns['1yr_return_asset'] - votes_with_returns['1yr_return_benchmark']\n",
    "votes_with_returns.tail()"
   ]
  },
  {
   "cell_type": "code",
   "execution_count": 29,
   "metadata": {},
   "outputs": [
    {
     "name": "stdout",
     "output_type": "stream",
     "text": [
      "0.08183230516122474\n"
     ]
    },
    {
     "data": {
      "application/vnd.plotly.v1+json": {
       "config": {
        "plotlyServerURL": "https://plot.ly"
       },
       "data": [
        {
         "nbinsx": 100,
         "type": "histogram",
         "x": [
          null,
          null,
          null,
          null,
          null,
          null,
          null,
          0.1905642639972598,
          null,
          null,
          null,
          null,
          null,
          0.021604755778784956,
          -0.01961091248760638,
          0.10747871576609513,
          0.3463606255844338,
          -0.5602553609654117,
          null,
          null,
          -0.07365303925920519,
          -0.256211647609774,
          0.25106867198872374,
          0.06907705096756778,
          -0.23556248812688485,
          0.16090068804523594,
          0.21546237090136455,
          0.007147204838480414,
          0.06383870191764396,
          null,
          0.1666878522813825,
          0.6582113998357049,
          -0.14409562102361084,
          0.7383373195630833,
          0.16916064685043963,
          -0.13275756959628282,
          -0.26113370526120816,
          0.137696120552675,
          -0.4580093786148274,
          -0.397014068601659,
          0.35743552155912317,
          1.0867441204715398
         ]
        }
       ],
       "layout": {
        "template": {
         "data": {
          "bar": [
           {
            "error_x": {
             "color": "#2a3f5f"
            },
            "error_y": {
             "color": "#2a3f5f"
            },
            "marker": {
             "line": {
              "color": "#E5ECF6",
              "width": 0.5
             },
             "pattern": {
              "fillmode": "overlay",
              "size": 10,
              "solidity": 0.2
             }
            },
            "type": "bar"
           }
          ],
          "barpolar": [
           {
            "marker": {
             "line": {
              "color": "#E5ECF6",
              "width": 0.5
             },
             "pattern": {
              "fillmode": "overlay",
              "size": 10,
              "solidity": 0.2
             }
            },
            "type": "barpolar"
           }
          ],
          "carpet": [
           {
            "aaxis": {
             "endlinecolor": "#2a3f5f",
             "gridcolor": "white",
             "linecolor": "white",
             "minorgridcolor": "white",
             "startlinecolor": "#2a3f5f"
            },
            "baxis": {
             "endlinecolor": "#2a3f5f",
             "gridcolor": "white",
             "linecolor": "white",
             "minorgridcolor": "white",
             "startlinecolor": "#2a3f5f"
            },
            "type": "carpet"
           }
          ],
          "choropleth": [
           {
            "colorbar": {
             "outlinewidth": 0,
             "ticks": ""
            },
            "type": "choropleth"
           }
          ],
          "contour": [
           {
            "colorbar": {
             "outlinewidth": 0,
             "ticks": ""
            },
            "colorscale": [
             [
              0,
              "#0d0887"
             ],
             [
              0.1111111111111111,
              "#46039f"
             ],
             [
              0.2222222222222222,
              "#7201a8"
             ],
             [
              0.3333333333333333,
              "#9c179e"
             ],
             [
              0.4444444444444444,
              "#bd3786"
             ],
             [
              0.5555555555555556,
              "#d8576b"
             ],
             [
              0.6666666666666666,
              "#ed7953"
             ],
             [
              0.7777777777777778,
              "#fb9f3a"
             ],
             [
              0.8888888888888888,
              "#fdca26"
             ],
             [
              1,
              "#f0f921"
             ]
            ],
            "type": "contour"
           }
          ],
          "contourcarpet": [
           {
            "colorbar": {
             "outlinewidth": 0,
             "ticks": ""
            },
            "type": "contourcarpet"
           }
          ],
          "heatmap": [
           {
            "colorbar": {
             "outlinewidth": 0,
             "ticks": ""
            },
            "colorscale": [
             [
              0,
              "#0d0887"
             ],
             [
              0.1111111111111111,
              "#46039f"
             ],
             [
              0.2222222222222222,
              "#7201a8"
             ],
             [
              0.3333333333333333,
              "#9c179e"
             ],
             [
              0.4444444444444444,
              "#bd3786"
             ],
             [
              0.5555555555555556,
              "#d8576b"
             ],
             [
              0.6666666666666666,
              "#ed7953"
             ],
             [
              0.7777777777777778,
              "#fb9f3a"
             ],
             [
              0.8888888888888888,
              "#fdca26"
             ],
             [
              1,
              "#f0f921"
             ]
            ],
            "type": "heatmap"
           }
          ],
          "heatmapgl": [
           {
            "colorbar": {
             "outlinewidth": 0,
             "ticks": ""
            },
            "colorscale": [
             [
              0,
              "#0d0887"
             ],
             [
              0.1111111111111111,
              "#46039f"
             ],
             [
              0.2222222222222222,
              "#7201a8"
             ],
             [
              0.3333333333333333,
              "#9c179e"
             ],
             [
              0.4444444444444444,
              "#bd3786"
             ],
             [
              0.5555555555555556,
              "#d8576b"
             ],
             [
              0.6666666666666666,
              "#ed7953"
             ],
             [
              0.7777777777777778,
              "#fb9f3a"
             ],
             [
              0.8888888888888888,
              "#fdca26"
             ],
             [
              1,
              "#f0f921"
             ]
            ],
            "type": "heatmapgl"
           }
          ],
          "histogram": [
           {
            "marker": {
             "pattern": {
              "fillmode": "overlay",
              "size": 10,
              "solidity": 0.2
             }
            },
            "type": "histogram"
           }
          ],
          "histogram2d": [
           {
            "colorbar": {
             "outlinewidth": 0,
             "ticks": ""
            },
            "colorscale": [
             [
              0,
              "#0d0887"
             ],
             [
              0.1111111111111111,
              "#46039f"
             ],
             [
              0.2222222222222222,
              "#7201a8"
             ],
             [
              0.3333333333333333,
              "#9c179e"
             ],
             [
              0.4444444444444444,
              "#bd3786"
             ],
             [
              0.5555555555555556,
              "#d8576b"
             ],
             [
              0.6666666666666666,
              "#ed7953"
             ],
             [
              0.7777777777777778,
              "#fb9f3a"
             ],
             [
              0.8888888888888888,
              "#fdca26"
             ],
             [
              1,
              "#f0f921"
             ]
            ],
            "type": "histogram2d"
           }
          ],
          "histogram2dcontour": [
           {
            "colorbar": {
             "outlinewidth": 0,
             "ticks": ""
            },
            "colorscale": [
             [
              0,
              "#0d0887"
             ],
             [
              0.1111111111111111,
              "#46039f"
             ],
             [
              0.2222222222222222,
              "#7201a8"
             ],
             [
              0.3333333333333333,
              "#9c179e"
             ],
             [
              0.4444444444444444,
              "#bd3786"
             ],
             [
              0.5555555555555556,
              "#d8576b"
             ],
             [
              0.6666666666666666,
              "#ed7953"
             ],
             [
              0.7777777777777778,
              "#fb9f3a"
             ],
             [
              0.8888888888888888,
              "#fdca26"
             ],
             [
              1,
              "#f0f921"
             ]
            ],
            "type": "histogram2dcontour"
           }
          ],
          "mesh3d": [
           {
            "colorbar": {
             "outlinewidth": 0,
             "ticks": ""
            },
            "type": "mesh3d"
           }
          ],
          "parcoords": [
           {
            "line": {
             "colorbar": {
              "outlinewidth": 0,
              "ticks": ""
             }
            },
            "type": "parcoords"
           }
          ],
          "pie": [
           {
            "automargin": true,
            "type": "pie"
           }
          ],
          "scatter": [
           {
            "fillpattern": {
             "fillmode": "overlay",
             "size": 10,
             "solidity": 0.2
            },
            "type": "scatter"
           }
          ],
          "scatter3d": [
           {
            "line": {
             "colorbar": {
              "outlinewidth": 0,
              "ticks": ""
             }
            },
            "marker": {
             "colorbar": {
              "outlinewidth": 0,
              "ticks": ""
             }
            },
            "type": "scatter3d"
           }
          ],
          "scattercarpet": [
           {
            "marker": {
             "colorbar": {
              "outlinewidth": 0,
              "ticks": ""
             }
            },
            "type": "scattercarpet"
           }
          ],
          "scattergeo": [
           {
            "marker": {
             "colorbar": {
              "outlinewidth": 0,
              "ticks": ""
             }
            },
            "type": "scattergeo"
           }
          ],
          "scattergl": [
           {
            "marker": {
             "colorbar": {
              "outlinewidth": 0,
              "ticks": ""
             }
            },
            "type": "scattergl"
           }
          ],
          "scattermapbox": [
           {
            "marker": {
             "colorbar": {
              "outlinewidth": 0,
              "ticks": ""
             }
            },
            "type": "scattermapbox"
           }
          ],
          "scatterpolar": [
           {
            "marker": {
             "colorbar": {
              "outlinewidth": 0,
              "ticks": ""
             }
            },
            "type": "scatterpolar"
           }
          ],
          "scatterpolargl": [
           {
            "marker": {
             "colorbar": {
              "outlinewidth": 0,
              "ticks": ""
             }
            },
            "type": "scatterpolargl"
           }
          ],
          "scatterternary": [
           {
            "marker": {
             "colorbar": {
              "outlinewidth": 0,
              "ticks": ""
             }
            },
            "type": "scatterternary"
           }
          ],
          "surface": [
           {
            "colorbar": {
             "outlinewidth": 0,
             "ticks": ""
            },
            "colorscale": [
             [
              0,
              "#0d0887"
             ],
             [
              0.1111111111111111,
              "#46039f"
             ],
             [
              0.2222222222222222,
              "#7201a8"
             ],
             [
              0.3333333333333333,
              "#9c179e"
             ],
             [
              0.4444444444444444,
              "#bd3786"
             ],
             [
              0.5555555555555556,
              "#d8576b"
             ],
             [
              0.6666666666666666,
              "#ed7953"
             ],
             [
              0.7777777777777778,
              "#fb9f3a"
             ],
             [
              0.8888888888888888,
              "#fdca26"
             ],
             [
              1,
              "#f0f921"
             ]
            ],
            "type": "surface"
           }
          ],
          "table": [
           {
            "cells": {
             "fill": {
              "color": "#EBF0F8"
             },
             "line": {
              "color": "white"
             }
            },
            "header": {
             "fill": {
              "color": "#C8D4E3"
             },
             "line": {
              "color": "white"
             }
            },
            "type": "table"
           }
          ]
         },
         "layout": {
          "annotationdefaults": {
           "arrowcolor": "#2a3f5f",
           "arrowhead": 0,
           "arrowwidth": 1
          },
          "autotypenumbers": "strict",
          "coloraxis": {
           "colorbar": {
            "outlinewidth": 0,
            "ticks": ""
           }
          },
          "colorscale": {
           "diverging": [
            [
             0,
             "#8e0152"
            ],
            [
             0.1,
             "#c51b7d"
            ],
            [
             0.2,
             "#de77ae"
            ],
            [
             0.3,
             "#f1b6da"
            ],
            [
             0.4,
             "#fde0ef"
            ],
            [
             0.5,
             "#f7f7f7"
            ],
            [
             0.6,
             "#e6f5d0"
            ],
            [
             0.7,
             "#b8e186"
            ],
            [
             0.8,
             "#7fbc41"
            ],
            [
             0.9,
             "#4d9221"
            ],
            [
             1,
             "#276419"
            ]
           ],
           "sequential": [
            [
             0,
             "#0d0887"
            ],
            [
             0.1111111111111111,
             "#46039f"
            ],
            [
             0.2222222222222222,
             "#7201a8"
            ],
            [
             0.3333333333333333,
             "#9c179e"
            ],
            [
             0.4444444444444444,
             "#bd3786"
            ],
            [
             0.5555555555555556,
             "#d8576b"
            ],
            [
             0.6666666666666666,
             "#ed7953"
            ],
            [
             0.7777777777777778,
             "#fb9f3a"
            ],
            [
             0.8888888888888888,
             "#fdca26"
            ],
            [
             1,
             "#f0f921"
            ]
           ],
           "sequentialminus": [
            [
             0,
             "#0d0887"
            ],
            [
             0.1111111111111111,
             "#46039f"
            ],
            [
             0.2222222222222222,
             "#7201a8"
            ],
            [
             0.3333333333333333,
             "#9c179e"
            ],
            [
             0.4444444444444444,
             "#bd3786"
            ],
            [
             0.5555555555555556,
             "#d8576b"
            ],
            [
             0.6666666666666666,
             "#ed7953"
            ],
            [
             0.7777777777777778,
             "#fb9f3a"
            ],
            [
             0.8888888888888888,
             "#fdca26"
            ],
            [
             1,
             "#f0f921"
            ]
           ]
          },
          "colorway": [
           "#636efa",
           "#EF553B",
           "#00cc96",
           "#ab63fa",
           "#FFA15A",
           "#19d3f3",
           "#FF6692",
           "#B6E880",
           "#FF97FF",
           "#FECB52"
          ],
          "font": {
           "color": "#2a3f5f"
          },
          "geo": {
           "bgcolor": "white",
           "lakecolor": "white",
           "landcolor": "#E5ECF6",
           "showlakes": true,
           "showland": true,
           "subunitcolor": "white"
          },
          "hoverlabel": {
           "align": "left"
          },
          "hovermode": "closest",
          "mapbox": {
           "style": "light"
          },
          "paper_bgcolor": "white",
          "plot_bgcolor": "#E5ECF6",
          "polar": {
           "angularaxis": {
            "gridcolor": "white",
            "linecolor": "white",
            "ticks": ""
           },
           "bgcolor": "#E5ECF6",
           "radialaxis": {
            "gridcolor": "white",
            "linecolor": "white",
            "ticks": ""
           }
          },
          "scene": {
           "xaxis": {
            "backgroundcolor": "#E5ECF6",
            "gridcolor": "white",
            "gridwidth": 2,
            "linecolor": "white",
            "showbackground": true,
            "ticks": "",
            "zerolinecolor": "white"
           },
           "yaxis": {
            "backgroundcolor": "#E5ECF6",
            "gridcolor": "white",
            "gridwidth": 2,
            "linecolor": "white",
            "showbackground": true,
            "ticks": "",
            "zerolinecolor": "white"
           },
           "zaxis": {
            "backgroundcolor": "#E5ECF6",
            "gridcolor": "white",
            "gridwidth": 2,
            "linecolor": "white",
            "showbackground": true,
            "ticks": "",
            "zerolinecolor": "white"
           }
          },
          "shapedefaults": {
           "line": {
            "color": "#2a3f5f"
           }
          },
          "ternary": {
           "aaxis": {
            "gridcolor": "white",
            "linecolor": "white",
            "ticks": ""
           },
           "baxis": {
            "gridcolor": "white",
            "linecolor": "white",
            "ticks": ""
           },
           "bgcolor": "#E5ECF6",
           "caxis": {
            "gridcolor": "white",
            "linecolor": "white",
            "ticks": ""
           }
          },
          "title": {
           "x": 0.05
          },
          "xaxis": {
           "automargin": true,
           "gridcolor": "white",
           "linecolor": "white",
           "ticks": "",
           "title": {
            "standoff": 15
           },
           "zerolinecolor": "white",
           "zerolinewidth": 2
          },
          "yaxis": {
           "automargin": true,
           "gridcolor": "white",
           "linecolor": "white",
           "ticks": "",
           "title": {
            "standoff": 15
           },
           "zerolinecolor": "white",
           "zerolinewidth": 2
          }
         }
        }
       }
      }
     },
     "metadata": {},
     "output_type": "display_data"
    }
   ],
   "source": [
    "# Histogram the 1mo alpha for all dates before 2022\n",
    "print(votes_with_returns['1yr_alpha'].mean())\n",
    "plt = go.Histogram(x=votes_with_returns['1yr_alpha'], nbinsx=100)\n",
    "fig = go.Figure(plt)\n",
    "fig.show()"
   ]
  },
  {
   "cell_type": "code",
   "execution_count": 33,
   "metadata": {},
   "outputs": [
    {
     "name": "stdout",
     "output_type": "stream",
     "text": [
      "1mo alpha is positive 47.61904761904761% of the time\n",
      "6mo alpha is positive 50.0% of the time\n",
      "1yr alpha is positive 40.476190476190474% of the time\n"
     ]
    }
   ],
   "source": [
    "# Get the percent of time the alpha is positive on each time scale \n",
    "print(f'1mo alpha is positive {votes_with_returns[votes_with_returns[\"1mo_alpha\"] > 0].shape[0] / votes_with_returns.shape[0] * 100}% of the time')\n",
    "print(f'6mo alpha is positive {votes_with_returns[votes_with_returns[\"6mo_alpha\"] > 0].shape[0] / votes_with_returns.shape[0] * 100}% of the time')\n",
    "print(f'1yr alpha is positive {votes_with_returns[votes_with_returns[\"1yr_alpha\"] > 0].shape[0] / votes_with_returns.shape[0] * 100}% of the time')"
   ]
  },
  {
   "cell_type": "code",
   "execution_count": null,
   "metadata": {},
   "outputs": [],
   "source": []
  }
 ],
 "metadata": {
  "kernelspec": {
   "display_name": "base",
   "language": "python",
   "name": "python3"
  },
  "language_info": {
   "codemirror_mode": {
    "name": "ipython",
    "version": 3
   },
   "file_extension": ".py",
   "mimetype": "text/x-python",
   "name": "python",
   "nbconvert_exporter": "python",
   "pygments_lexer": "ipython3",
   "version": "3.9.12"
  }
 },
 "nbformat": 4,
 "nbformat_minor": 2
}
