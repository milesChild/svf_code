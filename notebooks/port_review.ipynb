{
 "cells": [
  {
   "cell_type": "markdown",
   "metadata": {},
   "source": [
    "# Historical Portfolio Construction\n",
    "#### Northeastern University Student Value Fund\n",
    "#### Miles Child - Portfolio Manager\n",
    "____________\n",
    "\n",
    "In this notebook, we will conduct a historical analysis of fund performance from inception to present (Sept 2023). This will be done with the purpose of:\n",
    "\n",
    "- Understanding our performance and risk/return metrics against various benchmarks\n",
    "- Illustrating the negative impact of haphazard timing/trade execution on portfolio performance\n",
    "- Demonstrating how a theoretical portfolio with rational holdings, weights, and execution times would have performed during the same period\n",
    "\n",
    "____________"
   ]
  },
  {
   "cell_type": "code",
   "execution_count": 1,
   "metadata": {},
   "outputs": [],
   "source": [
    "# imports\n",
    "import numpy as np\n",
    "import pandas as pd\n",
    "import plotly.graph_objects as go\n",
    "import yfinance as yf  # <-- for hist px data\n",
    "from portfolio_builder import Trade, PortfolioBuilder\n",
    "import datetime"
   ]
  },
  {
   "cell_type": "markdown",
   "metadata": {},
   "source": [
    "Ingesting historical portfolio data"
   ]
  },
  {
   "cell_type": "code",
   "execution_count": 2,
   "metadata": {},
   "outputs": [
    {
     "data": {
      "text/html": [
       "<div>\n",
       "<style scoped>\n",
       "    .dataframe tbody tr th:only-of-type {\n",
       "        vertical-align: middle;\n",
       "    }\n",
       "\n",
       "    .dataframe tbody tr th {\n",
       "        vertical-align: top;\n",
       "    }\n",
       "\n",
       "    .dataframe thead th {\n",
       "        text-align: right;\n",
       "    }\n",
       "</style>\n",
       "<table border=\"1\" class=\"dataframe\">\n",
       "  <thead>\n",
       "    <tr style=\"text-align: right;\">\n",
       "      <th></th>\n",
       "      <th>Consolidation</th>\n",
       "      <th>Account Number</th>\n",
       "      <th>From date</th>\n",
       "      <th>Through date</th>\n",
       "      <th>I-TRAN</th>\n",
       "      <th>C-TRD-STAT-7</th>\n",
       "      <th>Value</th>\n",
       "      <th>Quantity</th>\n",
       "      <th>Currency code</th>\n",
       "      <th>Date</th>\n",
       "      <th>...</th>\n",
       "      <th>N-INV-SUB-CATG</th>\n",
       "      <th>Error code</th>\n",
       "      <th>Ticker</th>\n",
       "      <th>N-CNTRY-P2</th>\n",
       "      <th>Consolidation Audit Indicator Flag</th>\n",
       "      <th>Accrued Interest</th>\n",
       "      <th>C-ASSET-LIAB</th>\n",
       "      <th>Narrative - Short</th>\n",
       "      <th>Mutual Fund Flag</th>\n",
       "      <th>Wash sale adjustment</th>\n",
       "    </tr>\n",
       "  </thead>\n",
       "  <tbody>\n",
       "    <tr>\n",
       "      <th>0</th>\n",
       "      <td>4475530</td>\n",
       "      <td>4475530</td>\n",
       "      <td>2009-01-01</td>\n",
       "      <td>2023-09-08</td>\n",
       "      <td>647038213</td>\n",
       "      <td>Settled</td>\n",
       "      <td>200000.00</td>\n",
       "      <td>200000.00</td>\n",
       "      <td>USD</td>\n",
       "      <td>2019-01-09</td>\n",
       "      <td>...</td>\n",
       "      <td>Cash</td>\n",
       "      <td></td>\n",
       "      <td>CASH</td>\n",
       "      <td>United States</td>\n",
       "      <td>N</td>\n",
       "      <td>0</td>\n",
       "      <td></td>\n",
       "      <td>NaN</td>\n",
       "      <td></td>\n",
       "      <td>0</td>\n",
       "    </tr>\n",
       "    <tr>\n",
       "      <th>1</th>\n",
       "      <td>4475530</td>\n",
       "      <td>4475530</td>\n",
       "      <td>2009-01-01</td>\n",
       "      <td>2023-09-08</td>\n",
       "      <td>647038213</td>\n",
       "      <td>Settled</td>\n",
       "      <td>3847.50</td>\n",
       "      <td>25.00</td>\n",
       "      <td>USD</td>\n",
       "      <td>2019-01-09</td>\n",
       "      <td>...</td>\n",
       "      <td>Common Stock</td>\n",
       "      <td></td>\n",
       "      <td>PH</td>\n",
       "      <td>United States</td>\n",
       "      <td>N</td>\n",
       "      <td>0</td>\n",
       "      <td></td>\n",
       "      <td>PURCHASED 25.00 SHARES 01-07-19 AT A PRICE OF ...</td>\n",
       "      <td></td>\n",
       "      <td>0</td>\n",
       "    </tr>\n",
       "    <tr>\n",
       "      <th>2</th>\n",
       "      <td>4475530</td>\n",
       "      <td>4475530</td>\n",
       "      <td>2009-01-01</td>\n",
       "      <td>2023-09-08</td>\n",
       "      <td>647038213</td>\n",
       "      <td>Settled</td>\n",
       "      <td>-3847.50</td>\n",
       "      <td>-3874.50</td>\n",
       "      <td>USD</td>\n",
       "      <td>2019-01-09</td>\n",
       "      <td>...</td>\n",
       "      <td>Cash</td>\n",
       "      <td></td>\n",
       "      <td>CASH</td>\n",
       "      <td>United States</td>\n",
       "      <td>N</td>\n",
       "      <td>0</td>\n",
       "      <td></td>\n",
       "      <td>NaN</td>\n",
       "      <td></td>\n",
       "      <td>0</td>\n",
       "    </tr>\n",
       "    <tr>\n",
       "      <th>3</th>\n",
       "      <td>4475530</td>\n",
       "      <td>4475530</td>\n",
       "      <td>2009-01-01</td>\n",
       "      <td>2023-09-08</td>\n",
       "      <td>573190268</td>\n",
       "      <td>Settled</td>\n",
       "      <td>6208.75</td>\n",
       "      <td>725.00</td>\n",
       "      <td>USD</td>\n",
       "      <td>2019-04-26</td>\n",
       "      <td>...</td>\n",
       "      <td>Common Stock</td>\n",
       "      <td></td>\n",
       "      <td>NTDOY</td>\n",
       "      <td>Japan</td>\n",
       "      <td>N</td>\n",
       "      <td>0</td>\n",
       "      <td></td>\n",
       "      <td>PURCHASED 145.00 SHARES 04-24-19 AT A PRICE OF...</td>\n",
       "      <td></td>\n",
       "      <td>0</td>\n",
       "    </tr>\n",
       "    <tr>\n",
       "      <th>4</th>\n",
       "      <td>4475530</td>\n",
       "      <td>4475530</td>\n",
       "      <td>2009-01-01</td>\n",
       "      <td>2023-09-08</td>\n",
       "      <td>647038213</td>\n",
       "      <td>Settled</td>\n",
       "      <td>-6208.75</td>\n",
       "      <td>-6208.75</td>\n",
       "      <td>USD</td>\n",
       "      <td>2019-04-26</td>\n",
       "      <td>...</td>\n",
       "      <td>Cash</td>\n",
       "      <td></td>\n",
       "      <td>CASH</td>\n",
       "      <td>United States</td>\n",
       "      <td>N</td>\n",
       "      <td>0</td>\n",
       "      <td></td>\n",
       "      <td>NaN</td>\n",
       "      <td></td>\n",
       "      <td>0</td>\n",
       "    </tr>\n",
       "  </tbody>\n",
       "</table>\n",
       "<p>5 rows × 43 columns</p>\n",
       "</div>"
      ],
      "text/plain": [
       "   Consolidation  Account Number  From date Through date     I-TRAN  \\\n",
       "0        4475530         4475530 2009-01-01   2023-09-08  647038213   \n",
       "1        4475530         4475530 2009-01-01   2023-09-08  647038213   \n",
       "2        4475530         4475530 2009-01-01   2023-09-08  647038213   \n",
       "3        4475530         4475530 2009-01-01   2023-09-08  573190268   \n",
       "4        4475530         4475530 2009-01-01   2023-09-08  647038213   \n",
       "\n",
       "  C-TRD-STAT-7      Value   Quantity Currency code       Date  ...  \\\n",
       "0      Settled  200000.00  200000.00           USD 2019-01-09  ...   \n",
       "1      Settled    3847.50      25.00           USD 2019-01-09  ...   \n",
       "2      Settled   -3847.50   -3874.50           USD 2019-01-09  ...   \n",
       "3      Settled    6208.75     725.00           USD 2019-04-26  ...   \n",
       "4      Settled   -6208.75   -6208.75           USD 2019-04-26  ...   \n",
       "\n",
       "  N-INV-SUB-CATG  Error code Ticker     N-CNTRY-P2  \\\n",
       "0           Cash               CASH  United States   \n",
       "1   Common Stock                 PH  United States   \n",
       "2           Cash               CASH  United States   \n",
       "3   Common Stock              NTDOY          Japan   \n",
       "4           Cash               CASH  United States   \n",
       "\n",
       "  Consolidation Audit Indicator Flag Accrued Interest  C-ASSET-LIAB  \\\n",
       "0                                  N                0                 \n",
       "1                                  N                0                 \n",
       "2                                  N                0                 \n",
       "3                                  N                0                 \n",
       "4                                  N                0                 \n",
       "\n",
       "                                   Narrative - Short  Mutual Fund Flag  \\\n",
       "0                                                NaN                     \n",
       "1  PURCHASED 25.00 SHARES 01-07-19 AT A PRICE OF ...                     \n",
       "2                                                NaN                     \n",
       "3  PURCHASED 145.00 SHARES 04-24-19 AT A PRICE OF...                     \n",
       "4                                                NaN                     \n",
       "\n",
       "   Wash sale adjustment  \n",
       "0                     0  \n",
       "1                     0  \n",
       "2                     0  \n",
       "3                     0  \n",
       "4                     0  \n",
       "\n",
       "[5 rows x 43 columns]"
      ]
     },
     "execution_count": 2,
     "metadata": {},
     "output_type": "execute_result"
    }
   ],
   "source": [
    "transactions = pd.read_excel('../data/Investment_Transaction_Detail (1).xlsx')\n",
    "transactions.head()"
   ]
  },
  {
   "cell_type": "code",
   "execution_count": 3,
   "metadata": {},
   "outputs": [
    {
     "data": {
      "text/plain": [
       "[CASH 200000.0 2019-01-09 00:00:00 1,\n",
       " PH 25.0 2019-01-09 00:00:00 153.9,\n",
       " CASH -3874.5 2019-01-09 00:00:00 1,\n",
       " NTDOY 725.0 2019-04-26 00:00:00 8.563793103448276,\n",
       " CASH -6208.75 2019-04-26 00:00:00 1,\n",
       " ABMD 32.0 2019-04-26 00:00:00 260.3725,\n",
       " CASH -8331.92 2019-04-26 00:00:00 1,\n",
       " HCA -35.0 2019-04-26 00:00:00 80.69657142857143,\n",
       " CASH 2824.38 2019-04-26 00:00:00 1,\n",
       " CSIQ 350.0 2019-10-31 00:00:00 17.779,\n",
       " CASH -6222.65 2019-10-31 00:00:00 1,\n",
       " NTDOY 570.0 2019-12-06 00:00:00 10.205543859649122,\n",
       " CASH -5817.16 2019-12-06 00:00:00 1,\n",
       " SATS 298.0 2019-12-06 00:00:00 40.0701677852349,\n",
       " CASH -11940.91 2019-12-06 00:00:00 1,\n",
       " SCPL 1062.0 2019-12-06 00:00:00 12.789096045197741,\n",
       " CASH -13582.02 2019-12-06 00:00:00 1,\n",
       " EVVTY 190.0 2021-04-15 00:00:00 166.04263157894735,\n",
       " CASH -31548.1 2021-04-15 00:00:00 1,\n",
       " REGI 199.0 2021-04-15 00:00:00 60.39015075376884,\n",
       " CASH -12017.64 2021-04-15 00:00:00 1,\n",
       " GLXZ 11299.0 2021-04-15 00:00:00 3.005799628285689,\n",
       " CASH -33962.53 2021-04-15 00:00:00 1,\n",
       " PCYO 1725.0 2021-04-15 00:00:00 14.515298550724637,\n",
       " CASH -25038.89 2021-04-15 00:00:00 1,\n",
       " FREE 1684.0 2021-04-15 00:00:00 13.57229809976247,\n",
       " CASH -22855.75 2021-04-15 00:00:00 1,\n",
       " APG 839.0 2021-04-21 00:00:00 22.149201430274136,\n",
       " CASH -18583.18 2021-04-21 00:00:00 1,\n",
       " CVLT 271.0 2021-04-21 00:00:00 68.40948339483396,\n",
       " CASH -18538.97 2021-04-21 00:00:00 1,\n",
       " MITK 1182.0 2021-04-21 00:00:00 15.732800338409474,\n",
       " CASH -18596.17 2021-04-21 00:00:00 1,\n",
       " NTDOY 300.0 2021-12-30 00:00:00 11.999333333333334,\n",
       " CASH -3599.8 2021-12-30 00:00:00 1,\n",
       " ECOM 638.0 2021-12-30 00:00:00 25.25529780564263,\n",
       " CASH -16112.88 2021-12-30 00:00:00 1,\n",
       " MAXR 448.0 2021-12-30 00:00:00 30.315089285714286,\n",
       " CASH -13581.16 2021-12-30 00:00:00 1,\n",
       " REGI 116.0 2021-12-30 00:00:00 42.48620689655172,\n",
       " CASH -4928.4 2021-12-30 00:00:00 1,\n",
       " NSIT 145.0 2021-12-30 00:00:00 104.32393103448275,\n",
       " CASH -15126.97 2021-12-30 00:00:00 1,\n",
       " TUP 1299.0 2021-12-30 00:00:00 15.190600461893764,\n",
       " CASH -19732.59 2021-12-30 00:00:00 1,\n",
       " TWLO 72.0 2021-12-30 00:00:00 259.5758333333333,\n",
       " CASH -18689.46 2021-12-30 00:00:00 1,\n",
       " EVVTY -15.0 2021-12-30 00:00:00 166.04266666666666,\n",
       " CASH 2490.64 2021-12-30 00:00:00 1,\n",
       " ABMD -32.0 2021-12-30 00:00:00 260.3725,\n",
       " CASH 8331.92 2021-12-30 00:00:00 1,\n",
       " SATS -298.0 2021-12-30 00:00:00 40.0701677852349,\n",
       " CASH 11940.91 2021-12-30 00:00:00 1,\n",
       " GLXZ -6248.0 2021-12-30 00:00:00 3.0058002560819466,\n",
       " CASH 18780.24 2021-12-30 00:00:00 1,\n",
       " HCA -83.0 2021-12-30 00:00:00 80.69662650602409,\n",
       " CASH 6697.82 2021-12-30 00:00:00 1,\n",
       " PH -25.0 2021-12-30 00:00:00 153.9,\n",
       " CASH 3847.5 2021-12-30 00:00:00 1,\n",
       " PCYO -1725.0 2021-12-30 00:00:00 14.515298550724637,\n",
       " CASH 25038.89 2021-12-30 00:00:00 1,\n",
       " SCPL -1062.0 2021-12-30 00:00:00 12.789096045197741,\n",
       " CASH 13582.02 2021-12-30 00:00:00 1,\n",
       " CDLX 233.0 2022-01-05 00:00:00 66.67291845493563,\n",
       " CASH -15534.79 2022-01-05 00:00:00 1,\n",
       " REGI -315.0 2022-04-14 00:00:00 53.79695238095238,\n",
       " CASH 16946.04 2022-04-14 00:00:00 1,\n",
       " CSIQ -558.0 2022-05-06 00:00:00 24.107043010752687,\n",
       " CASH 13451.73 2022-05-06 00:00:00 1,\n",
       " APG -839.0 2022-05-06 00:00:00 22.149201430274136,\n",
       " CASH 18583.18 2022-05-06 00:00:00 1,\n",
       " CDLX -233.0 2022-05-06 00:00:00 66.67291845493563,\n",
       " CASH 15534.79 2022-05-06 00:00:00 1,\n",
       " TWLO -72.0 2022-05-06 00:00:00 259.5758333333333,\n",
       " CASH 18689.46 2022-05-06 00:00:00 1,\n",
       " ECOM -638.0 2022-09-27 00:00:00 25.25529780564263,\n",
       " CASH 16112.88 2022-09-27 00:00:00 1,\n",
       " DAR 323.0 2023-05-02 00:00:00 58.64065015479876,\n",
       " CASH -18940.93 2023-05-02 00:00:00 1,\n",
       " SMLP 1158.0 2023-05-02 00:00:00 15.870898100172711,\n",
       " CASH -18378.5 2023-05-02 00:00:00 1,\n",
       " PYPL 248.0 2023-05-02 00:00:00 74.27721774193549,\n",
       " CASH -18420.75 2023-05-02 00:00:00 1,\n",
       " MAXR -448.0 2023-05-02 00:00:00 30.315089285714286,\n",
       " CASH 13581.16 2023-05-02 00:00:00 1,\n",
       " GLXZ -5051.0 2023-05-02 00:00:00 3.0057988517125325,\n",
       " CASH 15182.29 2023-05-02 00:00:00 1,\n",
       " MITK -1182.0 2023-05-02 00:00:00 15.732800338409474,\n",
       " CASH 18596.17 2023-05-02 00:00:00 1,\n",
       " TUP -1299.0 2023-05-02 00:00:00 15.190600461893764,\n",
       " CASH 19732.59 2023-05-02 00:00:00 1,\n",
       " FREE -1684.0 2023-05-02 00:00:00 13.57229809976247,\n",
       " CASH 22855.75 2023-05-02 00:00:00 1,\n",
       " GM 560.0 2023-05-19 00:00:00 31.839607142857144,\n",
       " CASH -17830.18 2023-05-19 00:00:00 1,\n",
       " MTN 75.0 2023-05-19 00:00:00 239.85333333333332,\n",
       " CASH -17989.0 2023-05-19 00:00:00 1]"
      ]
     },
     "execution_count": 3,
     "metadata": {},
     "output_type": "execute_result"
    }
   ],
   "source": [
    "trades = []\n",
    "for i in range(len(transactions)):\n",
    "    trade = Trade(ticker=transactions['Ticker'][i],\n",
    "                  date=transactions['Date'][i],\n",
    "                  qty=transactions['Quantity'][i],\n",
    "                  price=transactions['Value'][i] / transactions['Quantity'][i])\n",
    "    trades.append(trade)\n",
    "trades"
   ]
  },
  {
   "cell_type": "code",
   "execution_count": 4,
   "metadata": {},
   "outputs": [
    {
     "data": {
      "text/html": [
       "<div>\n",
       "<style scoped>\n",
       "    .dataframe tbody tr th:only-of-type {\n",
       "        vertical-align: middle;\n",
       "    }\n",
       "\n",
       "    .dataframe tbody tr th {\n",
       "        vertical-align: top;\n",
       "    }\n",
       "\n",
       "    .dataframe thead th {\n",
       "        text-align: right;\n",
       "    }\n",
       "</style>\n",
       "<table border=\"1\" class=\"dataframe\">\n",
       "  <thead>\n",
       "    <tr style=\"text-align: right;\">\n",
       "      <th></th>\n",
       "      <th>Date</th>\n",
       "      <th>ABMD</th>\n",
       "      <th>MAXR</th>\n",
       "      <th>ECOM</th>\n",
       "      <th>REGI</th>\n",
       "    </tr>\n",
       "  </thead>\n",
       "  <tbody>\n",
       "    <tr>\n",
       "      <th>0</th>\n",
       "      <td>2022-11-12</td>\n",
       "      <td>374.10</td>\n",
       "      <td>52.99</td>\n",
       "      <td>23.09</td>\n",
       "      <td>61.50</td>\n",
       "    </tr>\n",
       "    <tr>\n",
       "      <th>1</th>\n",
       "      <td>2022-11-11</td>\n",
       "      <td>373.99</td>\n",
       "      <td>52.99</td>\n",
       "      <td>23.08</td>\n",
       "      <td>61.45</td>\n",
       "    </tr>\n",
       "    <tr>\n",
       "      <th>2</th>\n",
       "      <td>2022-11-10</td>\n",
       "      <td>372.78</td>\n",
       "      <td>52.99</td>\n",
       "      <td>23.08</td>\n",
       "      <td>61.47</td>\n",
       "    </tr>\n",
       "    <tr>\n",
       "      <th>3</th>\n",
       "      <td>2022-11-09</td>\n",
       "      <td>374.00</td>\n",
       "      <td>52.99</td>\n",
       "      <td>23.06</td>\n",
       "      <td>61.37</td>\n",
       "    </tr>\n",
       "    <tr>\n",
       "      <th>4</th>\n",
       "      <td>2022-11-08</td>\n",
       "      <td>374.00</td>\n",
       "      <td>52.99</td>\n",
       "      <td>23.06</td>\n",
       "      <td>61.39</td>\n",
       "    </tr>\n",
       "  </tbody>\n",
       "</table>\n",
       "</div>"
      ],
      "text/plain": [
       "        Date    ABMD   MAXR   ECOM   REGI\n",
       "0 2022-11-12  374.10  52.99  23.09  61.50\n",
       "1 2022-11-11  373.99  52.99  23.08  61.45\n",
       "2 2022-11-10  372.78  52.99  23.08  61.47\n",
       "3 2022-11-09  374.00  52.99  23.06  61.37\n",
       "4 2022-11-08  374.00  52.99  23.06  61.39"
      ]
     },
     "execution_count": 4,
     "metadata": {},
     "output_type": "execute_result"
    }
   ],
   "source": [
    "backup_data = pd.read_excel('../data/backup_data.xlsx')\n",
    "backup_data.head()"
   ]
  },
  {
   "cell_type": "code",
   "execution_count": 5,
   "metadata": {},
   "outputs": [
    {
     "data": {
      "text/plain": [
       "52.99"
      ]
     },
     "execution_count": 5,
     "metadata": {},
     "output_type": "execute_result"
    }
   ],
   "source": [
    "dt = datetime.datetime(2022, 11, 12)\n",
    "px = backup_data[backup_data['Date'] <= dt]['MAXR'].values[0]\n",
    "px"
   ]
  },
  {
   "cell_type": "code",
   "execution_count": 6,
   "metadata": {},
   "outputs": [
    {
     "data": {
      "text/html": [
       "<div>\n",
       "<style scoped>\n",
       "    .dataframe tbody tr th:only-of-type {\n",
       "        vertical-align: middle;\n",
       "    }\n",
       "\n",
       "    .dataframe tbody tr th {\n",
       "        vertical-align: top;\n",
       "    }\n",
       "\n",
       "    .dataframe thead th {\n",
       "        text-align: right;\n",
       "    }\n",
       "</style>\n",
       "<table border=\"1\" class=\"dataframe\">\n",
       "  <thead>\n",
       "    <tr style=\"text-align: right;\">\n",
       "      <th></th>\n",
       "      <th>ticker</th>\n",
       "      <th>qty</th>\n",
       "      <th>price</th>\n",
       "      <th>date</th>\n",
       "    </tr>\n",
       "  </thead>\n",
       "  <tbody>\n",
       "    <tr>\n",
       "      <th>0</th>\n",
       "      <td>CASH</td>\n",
       "      <td>200000.00</td>\n",
       "      <td>1.000000</td>\n",
       "      <td>2019-01-09</td>\n",
       "    </tr>\n",
       "    <tr>\n",
       "      <th>0</th>\n",
       "      <td>PH</td>\n",
       "      <td>25.00</td>\n",
       "      <td>153.900000</td>\n",
       "      <td>2019-01-09</td>\n",
       "    </tr>\n",
       "    <tr>\n",
       "      <th>0</th>\n",
       "      <td>CASH</td>\n",
       "      <td>-3874.50</td>\n",
       "      <td>1.000000</td>\n",
       "      <td>2019-01-09</td>\n",
       "    </tr>\n",
       "    <tr>\n",
       "      <th>0</th>\n",
       "      <td>NTDOY</td>\n",
       "      <td>725.00</td>\n",
       "      <td>8.563793</td>\n",
       "      <td>2019-04-26</td>\n",
       "    </tr>\n",
       "    <tr>\n",
       "      <th>0</th>\n",
       "      <td>CASH</td>\n",
       "      <td>-6208.75</td>\n",
       "      <td>1.000000</td>\n",
       "      <td>2019-04-26</td>\n",
       "    </tr>\n",
       "  </tbody>\n",
       "</table>\n",
       "</div>"
      ],
      "text/plain": [
       "  ticker        qty       price       date\n",
       "0   CASH  200000.00    1.000000 2019-01-09\n",
       "0     PH      25.00  153.900000 2019-01-09\n",
       "0   CASH   -3874.50    1.000000 2019-01-09\n",
       "0  NTDOY     725.00    8.563793 2019-04-26\n",
       "0   CASH   -6208.75    1.000000 2019-04-26"
      ]
     },
     "execution_count": 6,
     "metadata": {},
     "output_type": "execute_result"
    }
   ],
   "source": [
    "pb = PortfolioBuilder(trades, backup_price_data=backup_data)\n",
    "transactions = pb.get_transactions()\n",
    "transactions.head()"
   ]
  },
  {
   "cell_type": "code",
   "execution_count": 7,
   "metadata": {},
   "outputs": [
    {
     "data": {
      "text/html": [
       "<div>\n",
       "<style scoped>\n",
       "    .dataframe tbody tr th:only-of-type {\n",
       "        vertical-align: middle;\n",
       "    }\n",
       "\n",
       "    .dataframe tbody tr th {\n",
       "        vertical-align: top;\n",
       "    }\n",
       "\n",
       "    .dataframe thead th {\n",
       "        text-align: right;\n",
       "    }\n",
       "</style>\n",
       "<table border=\"1\" class=\"dataframe\">\n",
       "  <thead>\n",
       "    <tr style=\"text-align: right;\">\n",
       "      <th></th>\n",
       "      <th>Ticker</th>\n",
       "      <th>Weight</th>\n",
       "      <th>Value</th>\n",
       "      <th>Qty</th>\n",
       "      <th>Avg</th>\n",
       "      <th>Current</th>\n",
       "      <th>Gain/Loss $</th>\n",
       "      <th>Gain/Loss %</th>\n",
       "    </tr>\n",
       "  </thead>\n",
       "  <tbody>\n",
       "    <tr>\n",
       "      <th>0</th>\n",
       "      <td>CASH</td>\n",
       "      <td>0.224039</td>\n",
       "      <td>46815.81</td>\n",
       "      <td>46815.81</td>\n",
       "      <td>1.000000</td>\n",
       "      <td>1</td>\n",
       "      <td>0.000000</td>\n",
       "      <td>0.000000</td>\n",
       "    </tr>\n",
       "    <tr>\n",
       "      <th>0</th>\n",
       "      <td>NTDOY</td>\n",
       "      <td>0.089763</td>\n",
       "      <td>18757.200365</td>\n",
       "      <td>1595.00</td>\n",
       "      <td>9.796683</td>\n",
       "      <td>11.76</td>\n",
       "      <td>3131.490365</td>\n",
       "      <td>0.200406</td>\n",
       "    </tr>\n",
       "    <tr>\n",
       "      <th>0</th>\n",
       "      <td>EVVTY</td>\n",
       "      <td>0.085682</td>\n",
       "      <td>17904.249573</td>\n",
       "      <td>175.00</td>\n",
       "      <td>166.042629</td>\n",
       "      <td>102.309998</td>\n",
       "      <td>-11153.210427</td>\n",
       "      <td>-0.383833</td>\n",
       "    </tr>\n",
       "    <tr>\n",
       "      <th>0</th>\n",
       "      <td>CVLT</td>\n",
       "      <td>0.093051</td>\n",
       "      <td>19444.25</td>\n",
       "      <td>271.00</td>\n",
       "      <td>68.409483</td>\n",
       "      <td>71.75</td>\n",
       "      <td>905.280000</td>\n",
       "      <td>0.048831</td>\n",
       "    </tr>\n",
       "    <tr>\n",
       "      <th>0</th>\n",
       "      <td>NSIT</td>\n",
       "      <td>0.102282</td>\n",
       "      <td>21372.999115</td>\n",
       "      <td>145.00</td>\n",
       "      <td>104.323931</td>\n",
       "      <td>147.399994</td>\n",
       "      <td>6246.029115</td>\n",
       "      <td>0.412907</td>\n",
       "    </tr>\n",
       "    <tr>\n",
       "      <th>0</th>\n",
       "      <td>DAR</td>\n",
       "      <td>0.066034</td>\n",
       "      <td>13798.560394</td>\n",
       "      <td>323.00</td>\n",
       "      <td>58.640650</td>\n",
       "      <td>42.720001</td>\n",
       "      <td>-5142.369606</td>\n",
       "      <td>-0.271495</td>\n",
       "    </tr>\n",
       "    <tr>\n",
       "      <th>0</th>\n",
       "      <td>SMLP</td>\n",
       "      <td>0.115544</td>\n",
       "      <td>24144.300442</td>\n",
       "      <td>1158.00</td>\n",
       "      <td>15.870898</td>\n",
       "      <td>20.85</td>\n",
       "      <td>5765.800442</td>\n",
       "      <td>0.313725</td>\n",
       "    </tr>\n",
       "    <tr>\n",
       "      <th>0</th>\n",
       "      <td>PYPL</td>\n",
       "      <td>0.067269</td>\n",
       "      <td>14056.640076</td>\n",
       "      <td>248.00</td>\n",
       "      <td>74.277218</td>\n",
       "      <td>56.68</td>\n",
       "      <td>-4364.109924</td>\n",
       "      <td>-0.236913</td>\n",
       "    </tr>\n",
       "    <tr>\n",
       "      <th>0</th>\n",
       "      <td>GM</td>\n",
       "      <td>0.075573</td>\n",
       "      <td>15792.000427</td>\n",
       "      <td>560.00</td>\n",
       "      <td>31.839607</td>\n",
       "      <td>28.200001</td>\n",
       "      <td>-2038.179573</td>\n",
       "      <td>-0.114311</td>\n",
       "    </tr>\n",
       "    <tr>\n",
       "      <th>0</th>\n",
       "      <td>MTN</td>\n",
       "      <td>0.080763</td>\n",
       "      <td>16876.50032</td>\n",
       "      <td>75.00</td>\n",
       "      <td>239.853333</td>\n",
       "      <td>225.020004</td>\n",
       "      <td>-1112.499680</td>\n",
       "      <td>-0.061843</td>\n",
       "    </tr>\n",
       "  </tbody>\n",
       "</table>\n",
       "</div>"
      ],
      "text/plain": [
       "  Ticker    Weight         Value       Qty         Avg     Current  \\\n",
       "0   CASH  0.224039      46815.81  46815.81    1.000000           1   \n",
       "0  NTDOY  0.089763  18757.200365   1595.00    9.796683       11.76   \n",
       "0  EVVTY  0.085682  17904.249573    175.00  166.042629  102.309998   \n",
       "0   CVLT  0.093051      19444.25    271.00   68.409483       71.75   \n",
       "0   NSIT  0.102282  21372.999115    145.00  104.323931  147.399994   \n",
       "0    DAR  0.066034  13798.560394    323.00   58.640650   42.720001   \n",
       "0   SMLP  0.115544  24144.300442   1158.00   15.870898       20.85   \n",
       "0   PYPL  0.067269  14056.640076    248.00   74.277218       56.68   \n",
       "0     GM  0.075573  15792.000427    560.00   31.839607   28.200001   \n",
       "0    MTN  0.080763   16876.50032     75.00  239.853333  225.020004   \n",
       "\n",
       "    Gain/Loss $  Gain/Loss %  \n",
       "0      0.000000     0.000000  \n",
       "0   3131.490365     0.200406  \n",
       "0 -11153.210427    -0.383833  \n",
       "0    905.280000     0.048831  \n",
       "0   6246.029115     0.412907  \n",
       "0  -5142.369606    -0.271495  \n",
       "0   5765.800442     0.313725  \n",
       "0  -4364.109924    -0.236913  \n",
       "0  -2038.179573    -0.114311  \n",
       "0  -1112.499680    -0.061843  "
      ]
     },
     "execution_count": 7,
     "metadata": {},
     "output_type": "execute_result"
    }
   ],
   "source": [
    "portfolio = pb.get_portfolio()\n",
    "portfolio.head(25)"
   ]
  },
  {
   "cell_type": "code",
   "execution_count": 8,
   "metadata": {},
   "outputs": [
    {
     "data": {
      "text/html": [
       "<div>\n",
       "<style scoped>\n",
       "    .dataframe tbody tr th:only-of-type {\n",
       "        vertical-align: middle;\n",
       "    }\n",
       "\n",
       "    .dataframe tbody tr th {\n",
       "        vertical-align: top;\n",
       "    }\n",
       "\n",
       "    .dataframe thead th {\n",
       "        text-align: right;\n",
       "    }\n",
       "</style>\n",
       "<table border=\"1\" class=\"dataframe\">\n",
       "  <thead>\n",
       "    <tr style=\"text-align: right;\">\n",
       "      <th></th>\n",
       "      <th>Date</th>\n",
       "      <th>MAXR</th>\n",
       "    </tr>\n",
       "  </thead>\n",
       "  <tbody>\n",
       "    <tr>\n",
       "      <th>2021-01-01</th>\n",
       "      <td>NaT</td>\n",
       "      <td>NaN</td>\n",
       "    </tr>\n",
       "    <tr>\n",
       "      <th>2021-01-02</th>\n",
       "      <td>NaT</td>\n",
       "      <td>NaN</td>\n",
       "    </tr>\n",
       "    <tr>\n",
       "      <th>2021-01-03</th>\n",
       "      <td>NaT</td>\n",
       "      <td>NaN</td>\n",
       "    </tr>\n",
       "    <tr>\n",
       "      <th>2021-01-04</th>\n",
       "      <td>NaT</td>\n",
       "      <td>NaN</td>\n",
       "    </tr>\n",
       "    <tr>\n",
       "      <th>2021-01-05</th>\n",
       "      <td>NaT</td>\n",
       "      <td>NaN</td>\n",
       "    </tr>\n",
       "    <tr>\n",
       "      <th>2021-01-06</th>\n",
       "      <td>NaT</td>\n",
       "      <td>NaN</td>\n",
       "    </tr>\n",
       "    <tr>\n",
       "      <th>2021-01-07</th>\n",
       "      <td>NaT</td>\n",
       "      <td>NaN</td>\n",
       "    </tr>\n",
       "    <tr>\n",
       "      <th>2021-01-08</th>\n",
       "      <td>NaT</td>\n",
       "      <td>NaN</td>\n",
       "    </tr>\n",
       "    <tr>\n",
       "      <th>2021-01-09</th>\n",
       "      <td>NaT</td>\n",
       "      <td>NaN</td>\n",
       "    </tr>\n",
       "    <tr>\n",
       "      <th>2021-01-10</th>\n",
       "      <td>NaT</td>\n",
       "      <td>NaN</td>\n",
       "    </tr>\n",
       "    <tr>\n",
       "      <th>2021-01-11</th>\n",
       "      <td>NaT</td>\n",
       "      <td>NaN</td>\n",
       "    </tr>\n",
       "    <tr>\n",
       "      <th>2021-01-12</th>\n",
       "      <td>NaT</td>\n",
       "      <td>NaN</td>\n",
       "    </tr>\n",
       "    <tr>\n",
       "      <th>2021-01-13</th>\n",
       "      <td>NaT</td>\n",
       "      <td>NaN</td>\n",
       "    </tr>\n",
       "    <tr>\n",
       "      <th>2021-01-14</th>\n",
       "      <td>NaT</td>\n",
       "      <td>NaN</td>\n",
       "    </tr>\n",
       "    <tr>\n",
       "      <th>2021-01-15</th>\n",
       "      <td>NaT</td>\n",
       "      <td>NaN</td>\n",
       "    </tr>\n",
       "    <tr>\n",
       "      <th>2021-01-16</th>\n",
       "      <td>NaT</td>\n",
       "      <td>NaN</td>\n",
       "    </tr>\n",
       "    <tr>\n",
       "      <th>2021-01-17</th>\n",
       "      <td>NaT</td>\n",
       "      <td>NaN</td>\n",
       "    </tr>\n",
       "    <tr>\n",
       "      <th>2021-01-18</th>\n",
       "      <td>NaT</td>\n",
       "      <td>NaN</td>\n",
       "    </tr>\n",
       "    <tr>\n",
       "      <th>2021-01-19</th>\n",
       "      <td>NaT</td>\n",
       "      <td>NaN</td>\n",
       "    </tr>\n",
       "    <tr>\n",
       "      <th>2021-01-20</th>\n",
       "      <td>NaT</td>\n",
       "      <td>NaN</td>\n",
       "    </tr>\n",
       "    <tr>\n",
       "      <th>2021-01-21</th>\n",
       "      <td>NaT</td>\n",
       "      <td>NaN</td>\n",
       "    </tr>\n",
       "    <tr>\n",
       "      <th>2021-01-22</th>\n",
       "      <td>NaT</td>\n",
       "      <td>NaN</td>\n",
       "    </tr>\n",
       "    <tr>\n",
       "      <th>2021-01-23</th>\n",
       "      <td>NaT</td>\n",
       "      <td>NaN</td>\n",
       "    </tr>\n",
       "    <tr>\n",
       "      <th>2021-01-24</th>\n",
       "      <td>NaT</td>\n",
       "      <td>NaN</td>\n",
       "    </tr>\n",
       "    <tr>\n",
       "      <th>2021-01-25</th>\n",
       "      <td>NaT</td>\n",
       "      <td>NaN</td>\n",
       "    </tr>\n",
       "  </tbody>\n",
       "</table>\n",
       "</div>"
      ],
      "text/plain": [
       "           Date  MAXR\n",
       "2021-01-01  NaT   NaN\n",
       "2021-01-02  NaT   NaN\n",
       "2021-01-03  NaT   NaN\n",
       "2021-01-04  NaT   NaN\n",
       "2021-01-05  NaT   NaN\n",
       "2021-01-06  NaT   NaN\n",
       "2021-01-07  NaT   NaN\n",
       "2021-01-08  NaT   NaN\n",
       "2021-01-09  NaT   NaN\n",
       "2021-01-10  NaT   NaN\n",
       "2021-01-11  NaT   NaN\n",
       "2021-01-12  NaT   NaN\n",
       "2021-01-13  NaT   NaN\n",
       "2021-01-14  NaT   NaN\n",
       "2021-01-15  NaT   NaN\n",
       "2021-01-16  NaT   NaN\n",
       "2021-01-17  NaT   NaN\n",
       "2021-01-18  NaT   NaN\n",
       "2021-01-19  NaT   NaN\n",
       "2021-01-20  NaT   NaN\n",
       "2021-01-21  NaT   NaN\n",
       "2021-01-22  NaT   NaN\n",
       "2021-01-23  NaT   NaN\n",
       "2021-01-24  NaT   NaN\n",
       "2021-01-25  NaT   NaN"
      ]
     },
     "execution_count": 8,
     "metadata": {},
     "output_type": "execute_result"
    }
   ],
   "source": [
    "prices = pb.get_price_df(ticker=\"MAXR\", start_date=datetime.datetime(2021, 1, 1), end_date=datetime.datetime(2023, 9, 1))\n",
    "prices.to_excel('prices.xlsx')\n",
    "prices.head(25)"
   ]
  },
  {
   "cell_type": "code",
   "execution_count": 9,
   "metadata": {},
   "outputs": [
    {
     "data": {
      "text/html": [
       "<div>\n",
       "<style scoped>\n",
       "    .dataframe tbody tr th:only-of-type {\n",
       "        vertical-align: middle;\n",
       "    }\n",
       "\n",
       "    .dataframe tbody tr th {\n",
       "        vertical-align: top;\n",
       "    }\n",
       "\n",
       "    .dataframe thead th {\n",
       "        text-align: right;\n",
       "    }\n",
       "</style>\n",
       "<table border=\"1\" class=\"dataframe\">\n",
       "  <thead>\n",
       "    <tr style=\"text-align: right;\">\n",
       "      <th></th>\n",
       "      <th>Date</th>\n",
       "      <th>MAXR</th>\n",
       "    </tr>\n",
       "  </thead>\n",
       "  <tbody>\n",
       "    <tr>\n",
       "      <th>0</th>\n",
       "      <td>2022-11-12</td>\n",
       "      <td>52.99</td>\n",
       "    </tr>\n",
       "    <tr>\n",
       "      <th>1</th>\n",
       "      <td>2022-11-11</td>\n",
       "      <td>52.99</td>\n",
       "    </tr>\n",
       "    <tr>\n",
       "      <th>2</th>\n",
       "      <td>2022-11-10</td>\n",
       "      <td>52.99</td>\n",
       "    </tr>\n",
       "    <tr>\n",
       "      <th>3</th>\n",
       "      <td>2022-11-09</td>\n",
       "      <td>52.99</td>\n",
       "    </tr>\n",
       "    <tr>\n",
       "      <th>4</th>\n",
       "      <td>2022-11-08</td>\n",
       "      <td>52.99</td>\n",
       "    </tr>\n",
       "  </tbody>\n",
       "</table>\n",
       "</div>"
      ],
      "text/plain": [
       "        Date   MAXR\n",
       "0 2022-11-12  52.99\n",
       "1 2022-11-11  52.99\n",
       "2 2022-11-10  52.99\n",
       "3 2022-11-09  52.99\n",
       "4 2022-11-08  52.99"
      ]
     },
     "execution_count": 9,
     "metadata": {},
     "output_type": "execute_result"
    }
   ],
   "source": [
    "df = pb.backup_price_data\n",
    "\n",
    "start_date = datetime.datetime(2020, 1, 1)\n",
    "end_date = datetime.datetime(2022, 11, 12)\n",
    "ticker = \"MAXR\"\n",
    "price_df = pd.DataFrame(index=[d.date() for d in pd.date_range(start=start_date, end=end_date)])\n",
    "        \n",
    "if ticker in df.columns:\n",
    "    tmp_price_df = df[df['Date'] <= end_date].drop(columns=[c for c in df.columns if c != ticker and c != 'Date'])\n",
    "else:\n",
    "    tmp_price_df = yf.Ticker(ticker).history(period='1d', start=start_date, end=end_date)\n",
    "    tmp_price_df.index = tmp_price_df.index.date\n",
    "    tmp_price_df.drop(columns=[c for c in tmp_price_df.columns if c != 'Close'], inplace=True)\n",
    "\n",
    "# merge on the dates that we have\n",
    "price_df = price_df.merge(tmp_price_df, how='left', left_index=True, right_index=True)\n",
    "# fill forward\n",
    "price_df = price_df.fillna(method='ffill')\n",
    "# fill backward\n",
    "price_df = price_df.fillna(method='bfill')\n",
    "tmp_price_df.head()"
   ]
  },
  {
   "cell_type": "code",
   "execution_count": 10,
   "metadata": {},
   "outputs": [
    {
     "ename": "AttributeError",
     "evalue": "'NotImplementedType' object has no attribute '_indexed_same'",
     "output_type": "error",
     "traceback": [
      "\u001b[0;31m---------------------------------------------------------------------------\u001b[0m",
      "\u001b[0;31mAttributeError\u001b[0m                            Traceback (most recent call last)",
      "\u001b[1;32m/Users/MilesChild/Desktop/Student Value Fund/pm/svf_code/notebooks/port_review.ipynb Cell 12\u001b[0m in \u001b[0;36m<cell line: 1>\u001b[0;34m()\u001b[0m\n\u001b[0;32m----> <a href='vscode-notebook-cell:/Users/MilesChild/Desktop/Student%20Value%20Fund/pm/svf_code/notebooks/port_review.ipynb#X14sZmlsZQ%3D%3D?line=0'>1</a>\u001b[0m vot \u001b[39m=\u001b[39m pb\u001b[39m.\u001b[39;49mget_value_over_time(start_date\u001b[39m=\u001b[39;49mdatetime\u001b[39m.\u001b[39;49mdatetime(\u001b[39m2020\u001b[39;49m, \u001b[39m1\u001b[39;49m, \u001b[39m1\u001b[39;49m), end_date\u001b[39m=\u001b[39;49mdatetime\u001b[39m.\u001b[39;49mdatetime(\u001b[39m2023\u001b[39;49m, \u001b[39m9\u001b[39;49m, \u001b[39m12\u001b[39;49m))\n\u001b[1;32m      <a href='vscode-notebook-cell:/Users/MilesChild/Desktop/Student%20Value%20Fund/pm/svf_code/notebooks/port_review.ipynb#X14sZmlsZQ%3D%3D?line=1'>2</a>\u001b[0m vot\u001b[39m.\u001b[39mto_excel(\u001b[39m'\u001b[39m\u001b[39mvot.xlsx\u001b[39m\u001b[39m'\u001b[39m)\n",
      "File \u001b[0;32m~/Desktop/Student Value Fund/pm/svf_code/notebooks/portfolio_builder.py:151\u001b[0m, in \u001b[0;36mPortfolioBuilder.get_value_over_time\u001b[0;34m(self, start_date, end_date)\u001b[0m\n\u001b[1;32m    149\u001b[0m \u001b[39mfor\u001b[39;00m ticker \u001b[39min\u001b[39;00m quantities_over_time\u001b[39m.\u001b[39mcolumns:\n\u001b[1;32m    150\u001b[0m     price_df \u001b[39m=\u001b[39m \u001b[39mself\u001b[39m\u001b[39m.\u001b[39mget_price_df(ticker, start_date, end_date)\n\u001b[0;32m--> 151\u001b[0m     value_over_time[\u001b[39m'\u001b[39m\u001b[39mValue\u001b[39m\u001b[39m'\u001b[39m] \u001b[39m+\u001b[39m\u001b[39m=\u001b[39m quantities_over_time[ticker] \u001b[39m*\u001b[39m price_df\n\u001b[1;32m    153\u001b[0m \u001b[39mreturn\u001b[39;00m value_over_time\n",
      "File \u001b[0;32m~/opt/anaconda3/lib/python3.9/site-packages/pandas/core/generic.py:11372\u001b[0m, in \u001b[0;36mNDFrame.__iadd__\u001b[0;34m(self, other)\u001b[0m\n\u001b[1;32m  11370\u001b[0m \u001b[39mdef\u001b[39;00m \u001b[39m__iadd__\u001b[39m(\u001b[39mself\u001b[39m, other):\n\u001b[1;32m  11371\u001b[0m     \u001b[39m# error: Unsupported left operand type for + (\"Type[NDFrame]\")\u001b[39;00m\n\u001b[0;32m> 11372\u001b[0m     \u001b[39mreturn\u001b[39;00m \u001b[39mself\u001b[39;49m\u001b[39m.\u001b[39;49m_inplace_method(other, \u001b[39mtype\u001b[39;49m(\u001b[39mself\u001b[39;49m)\u001b[39m.\u001b[39;49m\u001b[39m__add__\u001b[39;49m)\n",
      "File \u001b[0;32m~/opt/anaconda3/lib/python3.9/site-packages/pandas/core/generic.py:11353\u001b[0m, in \u001b[0;36mNDFrame._inplace_method\u001b[0;34m(self, other, op)\u001b[0m\n\u001b[1;32m  11346\u001b[0m \u001b[39m\"\"\"\u001b[39;00m\n\u001b[1;32m  11347\u001b[0m \u001b[39mWrap arithmetic method to operate inplace.\u001b[39;00m\n\u001b[1;32m  11348\u001b[0m \u001b[39m\"\"\"\u001b[39;00m\n\u001b[1;32m  11349\u001b[0m result \u001b[39m=\u001b[39m op(\u001b[39mself\u001b[39m, other)\n\u001b[1;32m  11351\u001b[0m \u001b[39mif\u001b[39;00m (\n\u001b[1;32m  11352\u001b[0m     \u001b[39mself\u001b[39m\u001b[39m.\u001b[39mndim \u001b[39m==\u001b[39m \u001b[39m1\u001b[39m\n\u001b[0;32m> 11353\u001b[0m     \u001b[39mand\u001b[39;00m result\u001b[39m.\u001b[39;49m_indexed_same(\u001b[39mself\u001b[39m)\n\u001b[1;32m  11354\u001b[0m     \u001b[39mand\u001b[39;00m is_dtype_equal(result\u001b[39m.\u001b[39mdtype, \u001b[39mself\u001b[39m\u001b[39m.\u001b[39mdtype)\n\u001b[1;32m  11355\u001b[0m ):\n\u001b[1;32m  11356\u001b[0m     \u001b[39m# GH#36498 this inplace op can _actually_ be inplace.\u001b[39;00m\n\u001b[1;32m  11357\u001b[0m     \u001b[39mself\u001b[39m\u001b[39m.\u001b[39m_values[:] \u001b[39m=\u001b[39m result\u001b[39m.\u001b[39m_values\n\u001b[1;32m  11358\u001b[0m     \u001b[39mreturn\u001b[39;00m \u001b[39mself\u001b[39m\n",
      "\u001b[0;31mAttributeError\u001b[0m: 'NotImplementedType' object has no attribute '_indexed_same'"
     ]
    }
   ],
   "source": [
    "vot = pb.get_value_over_time(start_date=datetime.datetime(2020, 1, 1), end_date=datetime.datetime(2023, 9, 12))\n",
    "vot.to_excel('vot.xlsx')"
   ]
  },
  {
   "cell_type": "code",
   "execution_count": 10,
   "metadata": {},
   "outputs": [
    {
     "data": {
      "text/html": [
       "<div>\n",
       "<style scoped>\n",
       "    .dataframe tbody tr th:only-of-type {\n",
       "        vertical-align: middle;\n",
       "    }\n",
       "\n",
       "    .dataframe tbody tr th {\n",
       "        vertical-align: top;\n",
       "    }\n",
       "\n",
       "    .dataframe thead th {\n",
       "        text-align: right;\n",
       "    }\n",
       "</style>\n",
       "<table border=\"1\" class=\"dataframe\">\n",
       "  <thead>\n",
       "    <tr style=\"text-align: right;\">\n",
       "      <th></th>\n",
       "      <th>Value</th>\n",
       "    </tr>\n",
       "  </thead>\n",
       "  <tbody>\n",
       "    <tr>\n",
       "      <th>2020-01-01</th>\n",
       "      <td>NaN</td>\n",
       "    </tr>\n",
       "    <tr>\n",
       "      <th>2020-01-02</th>\n",
       "      <td>NaN</td>\n",
       "    </tr>\n",
       "    <tr>\n",
       "      <th>2020-01-03</th>\n",
       "      <td>NaN</td>\n",
       "    </tr>\n",
       "    <tr>\n",
       "      <th>2020-01-04</th>\n",
       "      <td>NaN</td>\n",
       "    </tr>\n",
       "    <tr>\n",
       "      <th>2020-01-05</th>\n",
       "      <td>NaN</td>\n",
       "    </tr>\n",
       "  </tbody>\n",
       "</table>\n",
       "</div>"
      ],
      "text/plain": [
       "           Value\n",
       "2020-01-01   NaN\n",
       "2020-01-02   NaN\n",
       "2020-01-03   NaN\n",
       "2020-01-04   NaN\n",
       "2020-01-05   NaN"
      ]
     },
     "execution_count": 10,
     "metadata": {},
     "output_type": "execute_result"
    }
   ],
   "source": [
    "vot.head()"
   ]
  },
  {
   "cell_type": "markdown",
   "metadata": {},
   "source": [
    "________"
   ]
  },
  {
   "cell_type": "code",
   "execution_count": 16,
   "metadata": {},
   "outputs": [
    {
     "name": "stdout",
     "output_type": "stream",
     "text": [
      "MAXR: No data found, symbol may be delisted\n"
     ]
    },
    {
     "data": {
      "text/html": [
       "<div>\n",
       "<style scoped>\n",
       "    .dataframe tbody tr th:only-of-type {\n",
       "        vertical-align: middle;\n",
       "    }\n",
       "\n",
       "    .dataframe tbody tr th {\n",
       "        vertical-align: top;\n",
       "    }\n",
       "\n",
       "    .dataframe thead th {\n",
       "        text-align: right;\n",
       "    }\n",
       "</style>\n",
       "<table border=\"1\" class=\"dataframe\">\n",
       "  <thead>\n",
       "    <tr style=\"text-align: right;\">\n",
       "      <th></th>\n",
       "      <th>Ticker</th>\n",
       "      <th>Weight</th>\n",
       "      <th>Value</th>\n",
       "      <th>Qty</th>\n",
       "      <th>Avg</th>\n",
       "      <th>Current</th>\n",
       "      <th>Gain/Loss $</th>\n",
       "      <th>Gain/Loss %</th>\n",
       "    </tr>\n",
       "  </thead>\n",
       "  <tbody>\n",
       "    <tr>\n",
       "      <th>0</th>\n",
       "      <td>CASH</td>\n",
       "      <td>0.278592</td>\n",
       "      <td>48427.21</td>\n",
       "      <td>48427.21</td>\n",
       "      <td>1.000000</td>\n",
       "      <td>1</td>\n",
       "      <td>0.000000</td>\n",
       "      <td>0.000000</td>\n",
       "    </tr>\n",
       "    <tr>\n",
       "      <th>0</th>\n",
       "      <td>NTDOY</td>\n",
       "      <td>0.096345</td>\n",
       "      <td>16747.5</td>\n",
       "      <td>1595.00</td>\n",
       "      <td>9.796683</td>\n",
       "      <td>10.5</td>\n",
       "      <td>1121.790000</td>\n",
       "      <td>0.071791</td>\n",
       "    </tr>\n",
       "    <tr>\n",
       "      <th>0</th>\n",
       "      <td>EVVTY</td>\n",
       "      <td>0.099841</td>\n",
       "      <td>17355.191612</td>\n",
       "      <td>175.00</td>\n",
       "      <td>166.042629</td>\n",
       "      <td>99.172523</td>\n",
       "      <td>-11702.268388</td>\n",
       "      <td>-0.402729</td>\n",
       "    </tr>\n",
       "    <tr>\n",
       "      <th>0</th>\n",
       "      <td>GLXZ</td>\n",
       "      <td>0.067704</td>\n",
       "      <td>11768.829615</td>\n",
       "      <td>5051.00</td>\n",
       "      <td>3.005799</td>\n",
       "      <td>2.33</td>\n",
       "      <td>-3413.460385</td>\n",
       "      <td>-0.224832</td>\n",
       "    </tr>\n",
       "    <tr>\n",
       "      <th>0</th>\n",
       "      <td>FREE</td>\n",
       "      <td>0.039623</td>\n",
       "      <td>6887.560257</td>\n",
       "      <td>1684.00</td>\n",
       "      <td>13.572298</td>\n",
       "      <td>4.09</td>\n",
       "      <td>-15968.189743</td>\n",
       "      <td>-0.698651</td>\n",
       "    </tr>\n",
       "    <tr>\n",
       "      <th>0</th>\n",
       "      <td>CVLT</td>\n",
       "      <td>0.099636</td>\n",
       "      <td>17319.609959</td>\n",
       "      <td>271.00</td>\n",
       "      <td>68.409483</td>\n",
       "      <td>63.91</td>\n",
       "      <td>-1219.360041</td>\n",
       "      <td>-0.065773</td>\n",
       "    </tr>\n",
       "    <tr>\n",
       "      <th>0</th>\n",
       "      <td>MITK</td>\n",
       "      <td>0.066026</td>\n",
       "      <td>11477.220045</td>\n",
       "      <td>1182.00</td>\n",
       "      <td>15.732800</td>\n",
       "      <td>9.71</td>\n",
       "      <td>-7118.949955</td>\n",
       "      <td>-0.382818</td>\n",
       "    </tr>\n",
       "    <tr>\n",
       "      <th>0</th>\n",
       "      <td>MAXR</td>\n",
       "      <td>0.136569</td>\n",
       "      <td>23739.52</td>\n",
       "      <td>448.00</td>\n",
       "      <td>30.315089</td>\n",
       "      <td>52.99</td>\n",
       "      <td>10158.360000</td>\n",
       "      <td>0.747974</td>\n",
       "    </tr>\n",
       "    <tr>\n",
       "      <th>0</th>\n",
       "      <td>NSIT</td>\n",
       "      <td>0.085251</td>\n",
       "      <td>14818.999557</td>\n",
       "      <td>145.00</td>\n",
       "      <td>104.323931</td>\n",
       "      <td>102.199997</td>\n",
       "      <td>-307.970443</td>\n",
       "      <td>-0.020359</td>\n",
       "    </tr>\n",
       "    <tr>\n",
       "      <th>0</th>\n",
       "      <td>TUP</td>\n",
       "      <td>0.030415</td>\n",
       "      <td>5286.930223</td>\n",
       "      <td>1299.00</td>\n",
       "      <td>15.190600</td>\n",
       "      <td>4.07</td>\n",
       "      <td>-14445.659777</td>\n",
       "      <td>-0.732071</td>\n",
       "    </tr>\n",
       "  </tbody>\n",
       "</table>\n",
       "</div>"
      ],
      "text/plain": [
       "  Ticker    Weight         Value       Qty         Avg     Current  \\\n",
       "0   CASH  0.278592      48427.21  48427.21    1.000000           1   \n",
       "0  NTDOY  0.096345       16747.5   1595.00    9.796683        10.5   \n",
       "0  EVVTY  0.099841  17355.191612    175.00  166.042629   99.172523   \n",
       "0   GLXZ  0.067704  11768.829615   5051.00    3.005799        2.33   \n",
       "0   FREE  0.039623   6887.560257   1684.00   13.572298        4.09   \n",
       "0   CVLT  0.099636  17319.609959    271.00   68.409483       63.91   \n",
       "0   MITK  0.066026  11477.220045   1182.00   15.732800        9.71   \n",
       "0   MAXR  0.136569      23739.52    448.00   30.315089       52.99   \n",
       "0   NSIT  0.085251  14818.999557    145.00  104.323931  102.199997   \n",
       "0    TUP  0.030415   5286.930223   1299.00   15.190600        4.07   \n",
       "\n",
       "    Gain/Loss $  Gain/Loss %  \n",
       "0      0.000000     0.000000  \n",
       "0   1121.790000     0.071791  \n",
       "0 -11702.268388    -0.402729  \n",
       "0  -3413.460385    -0.224832  \n",
       "0 -15968.189743    -0.698651  \n",
       "0  -1219.360041    -0.065773  \n",
       "0  -7118.949955    -0.382818  \n",
       "0  10158.360000     0.747974  \n",
       "0   -307.970443    -0.020359  \n",
       "0 -14445.659777    -0.732071  "
      ]
     },
     "execution_count": 16,
     "metadata": {},
     "output_type": "execute_result"
    }
   ],
   "source": [
    "dated_portfolio = pb.get_portfolio(up_to=datetime.datetime(2022, 12, 31))\n",
    "dated_portfolio.head(25)"
   ]
  },
  {
   "cell_type": "code",
   "execution_count": 15,
   "metadata": {},
   "outputs": [
    {
     "name": "stdout",
     "output_type": "stream",
     "text": [
      "2022-01-08 00:00:00\n",
      "Got error from yahoo api for ticker ECOM, Error: {'code': 'Not Found', 'description': 'No data found, symbol may be delisted'}\n",
      "- ECOM: No timezone found, symbol may be delisted\n",
      "MAXR: No data found, symbol may be delisted\n",
      "2022-01-15 00:00:00\n",
      "Got error from yahoo api for ticker ECOM, Error: {'code': 'Not Found', 'description': 'No data found, symbol may be delisted'}\n",
      "- ECOM: No timezone found, symbol may be delisted\n",
      "MAXR: No data found, symbol may be delisted\n",
      "2022-01-22 00:00:00\n",
      "Got error from yahoo api for ticker ECOM, Error: {'code': 'Not Found', 'description': 'No data found, symbol may be delisted'}\n",
      "- ECOM: No timezone found, symbol may be delisted\n",
      "MAXR: No data found, symbol may be delisted\n",
      "2022-01-29 00:00:00\n",
      "Got error from yahoo api for ticker ECOM, Error: {'code': 'Not Found', 'description': 'No data found, symbol may be delisted'}\n",
      "- ECOM: No timezone found, symbol may be delisted\n",
      "MAXR: No data found, symbol may be delisted\n",
      "2022-02-05 00:00:00\n",
      "Got error from yahoo api for ticker ECOM, Error: {'code': 'Not Found', 'description': 'No data found, symbol may be delisted'}\n",
      "- ECOM: No timezone found, symbol may be delisted\n",
      "MAXR: No data found, symbol may be delisted\n",
      "2022-02-12 00:00:00\n",
      "Got error from yahoo api for ticker ECOM, Error: {'code': 'Not Found', 'description': 'No data found, symbol may be delisted'}\n",
      "- ECOM: No timezone found, symbol may be delisted\n",
      "MAXR: No data found, symbol may be delisted\n",
      "2022-02-19 00:00:00\n",
      "Got error from yahoo api for ticker ECOM, Error: {'code': 'Not Found', 'description': 'No data found, symbol may be delisted'}\n",
      "- ECOM: No timezone found, symbol may be delisted\n",
      "MAXR: No data found, symbol may be delisted\n",
      "2022-02-26 00:00:00\n",
      "Got error from yahoo api for ticker ECOM, Error: {'code': 'Not Found', 'description': 'No data found, symbol may be delisted'}\n",
      "- ECOM: No timezone found, symbol may be delisted\n",
      "MAXR: No data found, symbol may be delisted\n",
      "2022-03-05 00:00:00\n",
      "Got error from yahoo api for ticker ECOM, Error: {'code': 'Not Found', 'description': 'No data found, symbol may be delisted'}\n",
      "- ECOM: No timezone found, symbol may be delisted\n",
      "MAXR: No data found, symbol may be delisted\n",
      "2022-03-12 00:00:00\n",
      "Got error from yahoo api for ticker ECOM, Error: {'code': 'Not Found', 'description': 'No data found, symbol may be delisted'}\n",
      "- ECOM: No timezone found, symbol may be delisted\n",
      "MAXR: No data found, symbol may be delisted\n",
      "2022-03-19 00:00:00\n",
      "Got error from yahoo api for ticker ECOM, Error: {'code': 'Not Found', 'description': 'No data found, symbol may be delisted'}\n",
      "- ECOM: No timezone found, symbol may be delisted\n",
      "MAXR: No data found, symbol may be delisted\n",
      "2022-03-26 00:00:00\n",
      "Got error from yahoo api for ticker ECOM, Error: {'code': 'Not Found', 'description': 'No data found, symbol may be delisted'}\n",
      "- ECOM: No timezone found, symbol may be delisted\n",
      "MAXR: No data found, symbol may be delisted\n",
      "2022-04-02 00:00:00\n",
      "Got error from yahoo api for ticker ECOM, Error: {'code': 'Not Found', 'description': 'No data found, symbol may be delisted'}\n",
      "- ECOM: No timezone found, symbol may be delisted\n",
      "MAXR: No data found, symbol may be delisted\n",
      "2022-04-09 00:00:00\n",
      "Got error from yahoo api for ticker ECOM, Error: {'code': 'Not Found', 'description': 'No data found, symbol may be delisted'}\n",
      "- ECOM: No timezone found, symbol may be delisted\n",
      "MAXR: No data found, symbol may be delisted\n",
      "2022-04-16 00:00:00\n",
      "Got error from yahoo api for ticker ECOM, Error: {'code': 'Not Found', 'description': 'No data found, symbol may be delisted'}\n",
      "- ECOM: No timezone found, symbol may be delisted\n",
      "MAXR: No data found, symbol may be delisted\n",
      "2022-04-23 00:00:00\n",
      "Got error from yahoo api for ticker ECOM, Error: {'code': 'Not Found', 'description': 'No data found, symbol may be delisted'}\n",
      "- ECOM: No timezone found, symbol may be delisted\n",
      "MAXR: No data found, symbol may be delisted\n",
      "2022-04-30 00:00:00\n",
      "Got error from yahoo api for ticker ECOM, Error: {'code': 'Not Found', 'description': 'No data found, symbol may be delisted'}\n",
      "- ECOM: No timezone found, symbol may be delisted\n",
      "MAXR: No data found, symbol may be delisted\n",
      "2022-05-07 00:00:00\n",
      "Got error from yahoo api for ticker ECOM, Error: {'code': 'Not Found', 'description': 'No data found, symbol may be delisted'}\n",
      "- ECOM: No timezone found, symbol may be delisted\n",
      "MAXR: No data found, symbol may be delisted\n",
      "2022-05-14 00:00:00\n",
      "Got error from yahoo api for ticker ECOM, Error: {'code': 'Not Found', 'description': 'No data found, symbol may be delisted'}\n",
      "- ECOM: No timezone found, symbol may be delisted\n",
      "MAXR: No data found, symbol may be delisted\n",
      "2022-05-21 00:00:00\n",
      "Got error from yahoo api for ticker ECOM, Error: {'code': 'Not Found', 'description': 'No data found, symbol may be delisted'}\n",
      "- ECOM: No timezone found, symbol may be delisted\n",
      "MAXR: No data found, symbol may be delisted\n",
      "2022-05-28 00:00:00\n",
      "Got error from yahoo api for ticker ECOM, Error: {'code': 'Not Found', 'description': 'No data found, symbol may be delisted'}\n",
      "- ECOM: No timezone found, symbol may be delisted\n",
      "MAXR: No data found, symbol may be delisted\n",
      "2022-06-04 00:00:00\n",
      "Got error from yahoo api for ticker ECOM, Error: {'code': 'Not Found', 'description': 'No data found, symbol may be delisted'}\n",
      "- ECOM: No timezone found, symbol may be delisted\n",
      "MAXR: No data found, symbol may be delisted\n",
      "2022-06-11 00:00:00\n",
      "Got error from yahoo api for ticker ECOM, Error: {'code': 'Not Found', 'description': 'No data found, symbol may be delisted'}\n",
      "- ECOM: No timezone found, symbol may be delisted\n",
      "MAXR: No data found, symbol may be delisted\n",
      "2022-06-18 00:00:00\n",
      "Got error from yahoo api for ticker ECOM, Error: {'code': 'Not Found', 'description': 'No data found, symbol may be delisted'}\n",
      "- ECOM: No timezone found, symbol may be delisted\n",
      "MAXR: No data found, symbol may be delisted\n",
      "2022-06-25 00:00:00\n",
      "Got error from yahoo api for ticker ECOM, Error: {'code': 'Not Found', 'description': 'No data found, symbol may be delisted'}\n",
      "- ECOM: No timezone found, symbol may be delisted\n",
      "MAXR: No data found, symbol may be delisted\n",
      "2022-07-02 00:00:00\n",
      "Got error from yahoo api for ticker ECOM, Error: {'code': 'Not Found', 'description': 'No data found, symbol may be delisted'}\n",
      "- ECOM: No timezone found, symbol may be delisted\n",
      "MAXR: No data found, symbol may be delisted\n",
      "2022-07-09 00:00:00\n",
      "Got error from yahoo api for ticker ECOM, Error: {'code': 'Not Found', 'description': 'No data found, symbol may be delisted'}\n",
      "- ECOM: No timezone found, symbol may be delisted\n",
      "MAXR: No data found, symbol may be delisted\n",
      "2022-07-16 00:00:00\n",
      "Got error from yahoo api for ticker ECOM, Error: {'code': 'Not Found', 'description': 'No data found, symbol may be delisted'}\n",
      "- ECOM: No timezone found, symbol may be delisted\n",
      "MAXR: No data found, symbol may be delisted\n",
      "2022-07-23 00:00:00\n",
      "Got error from yahoo api for ticker ECOM, Error: {'code': 'Not Found', 'description': 'No data found, symbol may be delisted'}\n",
      "- ECOM: No timezone found, symbol may be delisted\n",
      "MAXR: No data found, symbol may be delisted\n",
      "2022-07-30 00:00:00\n",
      "Got error from yahoo api for ticker ECOM, Error: {'code': 'Not Found', 'description': 'No data found, symbol may be delisted'}\n",
      "- ECOM: No timezone found, symbol may be delisted\n",
      "MAXR: No data found, symbol may be delisted\n",
      "2022-08-06 00:00:00\n",
      "Got error from yahoo api for ticker ECOM, Error: {'code': 'Not Found', 'description': 'No data found, symbol may be delisted'}\n",
      "- ECOM: No timezone found, symbol may be delisted\n",
      "MAXR: No data found, symbol may be delisted\n",
      "2022-08-13 00:00:00\n",
      "Got error from yahoo api for ticker ECOM, Error: {'code': 'Not Found', 'description': 'No data found, symbol may be delisted'}\n",
      "- ECOM: No timezone found, symbol may be delisted\n",
      "MAXR: No data found, symbol may be delisted\n",
      "2022-08-20 00:00:00\n",
      "Got error from yahoo api for ticker ECOM, Error: {'code': 'Not Found', 'description': 'No data found, symbol may be delisted'}\n",
      "- ECOM: No timezone found, symbol may be delisted\n",
      "MAXR: No data found, symbol may be delisted\n",
      "2022-08-27 00:00:00\n",
      "Got error from yahoo api for ticker ECOM, Error: {'code': 'Not Found', 'description': 'No data found, symbol may be delisted'}\n",
      "- ECOM: No timezone found, symbol may be delisted\n",
      "MAXR: No data found, symbol may be delisted\n",
      "2022-09-03 00:00:00\n",
      "Got error from yahoo api for ticker ECOM, Error: {'code': 'Not Found', 'description': 'No data found, symbol may be delisted'}\n",
      "- ECOM: No timezone found, symbol may be delisted\n",
      "MAXR: No data found, symbol may be delisted\n",
      "2022-09-10 00:00:00\n",
      "Got error from yahoo api for ticker ECOM, Error: {'code': 'Not Found', 'description': 'No data found, symbol may be delisted'}\n",
      "- ECOM: No timezone found, symbol may be delisted\n",
      "MAXR: No data found, symbol may be delisted\n",
      "2022-09-17 00:00:00\n",
      "Got error from yahoo api for ticker ECOM, Error: {'code': 'Not Found', 'description': 'No data found, symbol may be delisted'}\n",
      "- ECOM: No timezone found, symbol may be delisted\n",
      "MAXR: No data found, symbol may be delisted\n",
      "2022-09-24 00:00:00\n",
      "Got error from yahoo api for ticker ECOM, Error: {'code': 'Not Found', 'description': 'No data found, symbol may be delisted'}\n",
      "- ECOM: No timezone found, symbol may be delisted\n",
      "MAXR: No data found, symbol may be delisted\n",
      "2022-10-01 00:00:00\n",
      "MAXR: No data found, symbol may be delisted\n",
      "2022-10-08 00:00:00\n",
      "MAXR: No data found, symbol may be delisted\n",
      "2022-10-15 00:00:00\n",
      "MAXR: No data found, symbol may be delisted\n",
      "2022-10-22 00:00:00\n",
      "MAXR: No data found, symbol may be delisted\n",
      "2022-10-29 00:00:00\n",
      "MAXR: No data found, symbol may be delisted\n",
      "2022-11-05 00:00:00\n",
      "MAXR: No data found, symbol may be delisted\n",
      "2022-11-12 00:00:00\n",
      "MAXR: No data found, symbol may be delisted\n",
      "2022-11-19 00:00:00\n",
      "MAXR: No data found, symbol may be delisted\n",
      "2022-11-26 00:00:00\n",
      "MAXR: No data found, symbol may be delisted\n",
      "2022-12-03 00:00:00\n",
      "MAXR: No data found, symbol may be delisted\n",
      "2022-12-10 00:00:00\n",
      "MAXR: No data found, symbol may be delisted\n",
      "2022-12-17 00:00:00\n",
      "MAXR: No data found, symbol may be delisted\n",
      "2022-12-24 00:00:00\n",
      "MAXR: No data found, symbol may be delisted\n",
      "2022-12-31 00:00:00\n",
      "MAXR: No data found, symbol may be delisted\n"
     ]
    },
    {
     "data": {
      "text/plain": [
       "{datetime.datetime(2022, 1, 8, 0, 0): 262644.8783816338,\n",
       " datetime.datetime(2022, 1, 15, 0, 0): 259655.82911706925,\n",
       " datetime.datetime(2022, 1, 22, 0, 0): 251678.94962841034,\n",
       " datetime.datetime(2022, 1, 29, 0, 0): 254619.38347346304,\n",
       " datetime.datetime(2022, 2, 5, 0, 0): 252035.3180265808,\n",
       " datetime.datetime(2022, 2, 12, 0, 0): 251265.54489154817,\n",
       " datetime.datetime(2022, 2, 19, 0, 0): 240076.01075115206,\n",
       " datetime.datetime(2022, 2, 26, 0, 0): 260105.16839775085,\n",
       " datetime.datetime(2022, 3, 5, 0, 0): 245410.80344646453,\n",
       " datetime.datetime(2022, 3, 12, 0, 0): 237435.0323364067,\n",
       " datetime.datetime(2022, 3, 19, 0, 0): 256577.38973911287,\n",
       " datetime.datetime(2022, 3, 26, 0, 0): 257661.02874383927,\n",
       " datetime.datetime(2022, 4, 2, 0, 0): 263116.20509296417,\n",
       " datetime.datetime(2022, 4, 9, 0, 0): 251124.95835353853,\n",
       " datetime.datetime(2022, 4, 16, 0, 0): 228276.84178684236,\n",
       " datetime.datetime(2022, 4, 23, 0, 0): 219828.6032998848,\n",
       " datetime.datetime(2022, 4, 30, 0, 0): 211543.960828228,\n",
       " datetime.datetime(2022, 5, 7, 0, 0): 182116.46196174622,\n",
       " datetime.datetime(2022, 5, 14, 0, 0): 180206.44125974656,\n",
       " datetime.datetime(2022, 5, 21, 0, 0): 179057.08581051827,\n",
       " datetime.datetime(2022, 5, 28, 0, 0): 182297.99886421204,\n",
       " datetime.datetime(2022, 6, 4, 0, 0): 183560.55600055694,\n",
       " datetime.datetime(2022, 6, 11, 0, 0): 173374.1222992897,\n",
       " datetime.datetime(2022, 6, 18, 0, 0): 176065.90231155397,\n",
       " datetime.datetime(2022, 6, 25, 0, 0): 178712.8146791172,\n",
       " datetime.datetime(2022, 7, 2, 0, 0): 177901.6443704796,\n",
       " datetime.datetime(2022, 7, 9, 0, 0): 174671.6169491959,\n",
       " datetime.datetime(2022, 7, 16, 0, 0): 174827.46437890053,\n",
       " datetime.datetime(2022, 7, 23, 0, 0): 177471.8197107792,\n",
       " datetime.datetime(2022, 7, 30, 0, 0): 179529.67907139778,\n",
       " datetime.datetime(2022, 8, 6, 0, 0): 185378.03376006128,\n",
       " datetime.datetime(2022, 8, 13, 0, 0): 187411.9095093441,\n",
       " datetime.datetime(2022, 8, 20, 0, 0): 180746.55709017755,\n",
       " datetime.datetime(2022, 8, 27, 0, 0): 175731.34097851755,\n",
       " datetime.datetime(2022, 9, 3, 0, 0): 164458.16437287332,\n",
       " datetime.datetime(2022, 9, 10, 0, 0): 177936.33362155917,\n",
       " datetime.datetime(2022, 9, 17, 0, 0): 172030.24689616205,\n",
       " datetime.datetime(2022, 9, 24, 0, 0): 166199.99494334223,\n",
       " datetime.datetime(2022, 10, 1, 0, 0): 168520.6715781498,\n",
       " datetime.datetime(2022, 10, 8, 0, 0): 168809.00633571626,\n",
       " datetime.datetime(2022, 10, 15, 0, 0): 170223.40561006547,\n",
       " datetime.datetime(2022, 10, 22, 0, 0): 170721.80500052453,\n",
       " datetime.datetime(2022, 10, 29, 0, 0): 176322.42127440454,\n",
       " datetime.datetime(2022, 11, 5, 0, 0): 173154.54688952447,\n",
       " datetime.datetime(2022, 11, 12, 0, 0): 175165.77440140725,\n",
       " datetime.datetime(2022, 11, 19, 0, 0): 172880.73230288507,\n",
       " datetime.datetime(2022, 11, 26, 0, 0): 176384.30130146028,\n",
       " datetime.datetime(2022, 12, 3, 0, 0): 175952.24649427415,\n",
       " datetime.datetime(2022, 12, 10, 0, 0): 175814.1370184231,\n",
       " datetime.datetime(2022, 12, 17, 0, 0): 170830.38064692498,\n",
       " datetime.datetime(2022, 12, 24, 0, 0): 172270.7417673874,\n",
       " datetime.datetime(2022, 12, 31, 0, 0): 173828.5712680626}"
      ]
     },
     "execution_count": 15,
     "metadata": {},
     "output_type": "execute_result"
    }
   ],
   "source": [
    "# get weekly port values over the last year\n",
    "agg_values = {}\n",
    "for i in range(1, 53):\n",
    "    dt = datetime.datetime(2022, 1, 1) + datetime.timedelta(days=i*7)\n",
    "    print(dt)\n",
    "    dated_portfolio = pb.get_portfolio(up_to=dt)\n",
    "    agg_val = dated_portfolio['Value'].sum()\n",
    "    agg_values[dt] = agg_val\n",
    "\n",
    "agg_values"
   ]
  },
  {
   "cell_type": "code",
   "execution_count": 17,
   "metadata": {},
   "outputs": [
    {
     "name": "stdout",
     "output_type": "stream",
     "text": [
      "2019-01-17 00:00:00\n",
      "2019-01-24 00:00:00\n",
      "2019-01-31 00:00:00\n",
      "2019-02-07 00:00:00\n",
      "2019-02-14 00:00:00\n",
      "2019-02-21 00:00:00\n",
      "2019-02-28 00:00:00\n",
      "2019-03-07 00:00:00\n",
      "2019-03-14 00:00:00\n",
      "2019-03-21 00:00:00\n",
      "2019-03-28 00:00:00\n",
      "2019-04-04 00:00:00\n",
      "2019-04-11 00:00:00\n",
      "2019-04-18 00:00:00\n",
      "2019-04-25 00:00:00\n",
      "2019-05-02 00:00:00\n",
      "2019-05-09 00:00:00\n",
      "2019-05-16 00:00:00\n",
      "2019-05-23 00:00:00\n",
      "2019-05-30 00:00:00\n",
      "2019-06-06 00:00:00\n",
      "2019-06-13 00:00:00\n",
      "2019-06-20 00:00:00\n",
      "2019-06-27 00:00:00\n",
      "2019-07-04 00:00:00\n",
      "2019-07-11 00:00:00\n",
      "2019-07-18 00:00:00\n",
      "2019-07-25 00:00:00\n",
      "2019-08-01 00:00:00\n",
      "2019-08-08 00:00:00\n",
      "2019-08-15 00:00:00\n",
      "2019-08-22 00:00:00\n",
      "2019-08-29 00:00:00\n",
      "2019-09-05 00:00:00\n",
      "2019-09-12 00:00:00\n",
      "2019-09-19 00:00:00\n",
      "2019-09-26 00:00:00\n",
      "2019-10-03 00:00:00\n",
      "2019-10-10 00:00:00\n",
      "2019-10-17 00:00:00\n",
      "2019-10-24 00:00:00\n",
      "2019-10-31 00:00:00\n",
      "2019-11-07 00:00:00\n",
      "2019-11-14 00:00:00\n",
      "2019-11-21 00:00:00\n",
      "2019-11-28 00:00:00\n",
      "2019-12-05 00:00:00\n",
      "2019-12-12 00:00:00\n",
      "2019-12-19 00:00:00\n",
      "2019-12-26 00:00:00\n",
      "2020-01-02 00:00:00\n",
      "2020-01-09 00:00:00\n"
     ]
    },
    {
     "data": {
      "text/plain": [
       "{datetime.datetime(2019, 1, 17, 0, 0): 199792.2236328125,\n",
       " datetime.datetime(2019, 1, 24, 0, 0): 199758.894241333,\n",
       " datetime.datetime(2019, 1, 31, 0, 0): 199913.8186340332,\n",
       " datetime.datetime(2019, 2, 7, 0, 0): 199873.51445007324,\n",
       " datetime.datetime(2019, 2, 14, 0, 0): 200029.61415100098,\n",
       " datetime.datetime(2019, 2, 21, 0, 0): 200165.16217041016,\n",
       " datetime.datetime(2019, 2, 28, 0, 0): 200193.33332824707,\n",
       " datetime.datetime(2019, 3, 7, 0, 0): 200059.6339111328,\n",
       " datetime.datetime(2019, 3, 14, 0, 0): 200050.8589630127,\n",
       " datetime.datetime(2019, 3, 21, 0, 0): 200039.77459716797,\n",
       " datetime.datetime(2019, 3, 28, 0, 0): 200040.92854309082,\n",
       " datetime.datetime(2019, 4, 4, 0, 0): 200320.56912231445,\n",
       " datetime.datetime(2019, 4, 11, 0, 0): 200417.55436706543,\n",
       " datetime.datetime(2019, 4, 18, 0, 0): 200511.0754852295,\n",
       " datetime.datetime(2019, 4, 25, 0, 0): 200328.65170288086,\n",
       " datetime.datetime(2019, 5, 2, 0, 0): 203174.13573451995,\n",
       " datetime.datetime(2019, 5, 9, 0, 0): 202871.05589862823,\n",
       " datetime.datetime(2019, 5, 16, 0, 0): 202879.40290542602,\n",
       " datetime.datetime(2019, 5, 23, 0, 0): 202791.2379712677,\n",
       " datetime.datetime(2019, 5, 30, 0, 0): 202928.62204738616,\n",
       " datetime.datetime(2019, 6, 6, 0, 0): 203256.42098613738,\n",
       " datetime.datetime(2019, 6, 13, 0, 0): 202678.16932483672,\n",
       " datetime.datetime(2019, 6, 20, 0, 0): 203253.0301971054,\n",
       " datetime.datetime(2019, 6, 27, 0, 0): 203068.4754504776,\n",
       " datetime.datetime(2019, 7, 4, 0, 0): 203425.46373458861,\n",
       " datetime.datetime(2019, 7, 11, 0, 0): 203722.09768100738,\n",
       " datetime.datetime(2019, 7, 18, 0, 0): 203622.55228801726,\n",
       " datetime.datetime(2019, 7, 25, 0, 0): 203878.8158254242,\n",
       " datetime.datetime(2019, 8, 1, 0, 0): 201844.41500183105,\n",
       " datetime.datetime(2019, 8, 8, 0, 0): 201250.77426143645,\n",
       " datetime.datetime(2019, 8, 15, 0, 0): 200985.0669984436,\n",
       " datetime.datetime(2019, 8, 22, 0, 0): 201288.0054301834,\n",
       " datetime.datetime(2019, 8, 29, 0, 0): 201302.51110931396,\n",
       " datetime.datetime(2019, 9, 5, 0, 0): 201477.7916888809,\n",
       " datetime.datetime(2019, 9, 12, 0, 0): 201624.3990735626,\n",
       " datetime.datetime(2019, 9, 19, 0, 0): 201854.74032684325,\n",
       " datetime.datetime(2019, 9, 26, 0, 0): 201153.61394878387,\n",
       " datetime.datetime(2019, 10, 3, 0, 0): 200650.6724557495,\n",
       " datetime.datetime(2019, 10, 10, 0, 0): 200368.1493787384,\n",
       " datetime.datetime(2019, 10, 17, 0, 0): 200833.9938306427,\n",
       " datetime.datetime(2019, 10, 24, 0, 0): 200822.43909164428,\n",
       " datetime.datetime(2019, 10, 31, 0, 0): 201831.68131786346,\n",
       " datetime.datetime(2019, 11, 7, 0, 0): 202844.35614257812,\n",
       " datetime.datetime(2019, 11, 14, 0, 0): 202059.879314003,\n",
       " datetime.datetime(2019, 11, 21, 0, 0): 201004.74747520447,\n",
       " datetime.datetime(2019, 11, 28, 0, 0): 201863.7236953354,\n",
       " datetime.datetime(2019, 12, 5, 0, 0): 202439.23990016937,\n",
       " datetime.datetime(2019, 12, 12, 0, 0): 203174.39697429657,\n",
       " datetime.datetime(2019, 12, 19, 0, 0): 203226.25286361694,\n",
       " datetime.datetime(2019, 12, 26, 0, 0): 204569.56454917908,\n",
       " datetime.datetime(2020, 1, 2, 0, 0): 204232.86447116852,\n",
       " datetime.datetime(2020, 1, 9, 0, 0): 203880.70401546478}"
      ]
     },
     "execution_count": 17,
     "metadata": {},
     "output_type": "execute_result"
    }
   ],
   "source": [
    "# get weekly port values over the last year\n",
    "agg_values_2 = {}\n",
    "for i in range(1, 53):\n",
    "    dt = datetime.datetime(2019, 1, 10) + datetime.timedelta(days=i*7)\n",
    "    print(dt)\n",
    "    dated_portfolio = pb.get_portfolio(up_to=dt)\n",
    "    agg_val = dated_portfolio['Value'].sum()\n",
    "    agg_values_2[dt] = agg_val\n",
    "\n",
    "agg_values_2"
   ]
  },
  {
   "cell_type": "code",
   "execution_count": 18,
   "metadata": {},
   "outputs": [
    {
     "data": {
      "text/plain": [
       "{datetime.datetime(2019, 1, 17, 0, 0): 199792.2236328125,\n",
       " datetime.datetime(2019, 1, 24, 0, 0): 199758.894241333,\n",
       " datetime.datetime(2019, 1, 31, 0, 0): 199913.8186340332,\n",
       " datetime.datetime(2019, 2, 7, 0, 0): 199873.51445007324,\n",
       " datetime.datetime(2019, 2, 14, 0, 0): 200029.61415100098,\n",
       " datetime.datetime(2019, 2, 21, 0, 0): 200165.16217041016,\n",
       " datetime.datetime(2019, 2, 28, 0, 0): 200193.33332824707,\n",
       " datetime.datetime(2019, 3, 7, 0, 0): 200059.6339111328,\n",
       " datetime.datetime(2019, 3, 14, 0, 0): 200050.8589630127,\n",
       " datetime.datetime(2019, 3, 21, 0, 0): 200039.77459716797,\n",
       " datetime.datetime(2019, 3, 28, 0, 0): 200040.92854309082,\n",
       " datetime.datetime(2019, 4, 4, 0, 0): 200320.56912231445,\n",
       " datetime.datetime(2019, 4, 11, 0, 0): 200417.55436706543,\n",
       " datetime.datetime(2019, 4, 18, 0, 0): 200511.0754852295,\n",
       " datetime.datetime(2019, 4, 25, 0, 0): 200328.65170288086,\n",
       " datetime.datetime(2019, 5, 2, 0, 0): 203174.13573451995,\n",
       " datetime.datetime(2019, 5, 9, 0, 0): 202871.05589862823,\n",
       " datetime.datetime(2019, 5, 16, 0, 0): 202879.40290542602,\n",
       " datetime.datetime(2019, 5, 23, 0, 0): 202791.2379712677,\n",
       " datetime.datetime(2019, 5, 30, 0, 0): 202928.62204738616,\n",
       " datetime.datetime(2019, 6, 6, 0, 0): 203256.42098613738,\n",
       " datetime.datetime(2019, 6, 13, 0, 0): 202678.16932483672,\n",
       " datetime.datetime(2019, 6, 20, 0, 0): 203253.0301971054,\n",
       " datetime.datetime(2019, 6, 27, 0, 0): 203068.4754504776,\n",
       " datetime.datetime(2019, 7, 4, 0, 0): 203425.46373458861,\n",
       " datetime.datetime(2019, 7, 11, 0, 0): 203722.09768100738,\n",
       " datetime.datetime(2019, 7, 18, 0, 0): 203622.55228801726,\n",
       " datetime.datetime(2019, 7, 25, 0, 0): 203878.8158254242,\n",
       " datetime.datetime(2019, 8, 1, 0, 0): 201844.41500183105,\n",
       " datetime.datetime(2019, 8, 8, 0, 0): 201250.77426143645,\n",
       " datetime.datetime(2019, 8, 15, 0, 0): 200985.0669984436,\n",
       " datetime.datetime(2019, 8, 22, 0, 0): 201288.0054301834,\n",
       " datetime.datetime(2019, 8, 29, 0, 0): 201302.51110931396,\n",
       " datetime.datetime(2019, 9, 5, 0, 0): 201477.7916888809,\n",
       " datetime.datetime(2019, 9, 12, 0, 0): 201624.3990735626,\n",
       " datetime.datetime(2019, 9, 19, 0, 0): 201854.74032684325,\n",
       " datetime.datetime(2019, 9, 26, 0, 0): 201153.61394878387,\n",
       " datetime.datetime(2019, 10, 3, 0, 0): 200650.6724557495,\n",
       " datetime.datetime(2019, 10, 10, 0, 0): 200368.1493787384,\n",
       " datetime.datetime(2019, 10, 17, 0, 0): 200833.9938306427,\n",
       " datetime.datetime(2019, 10, 24, 0, 0): 200822.43909164428,\n",
       " datetime.datetime(2019, 10, 31, 0, 0): 201831.68131786346,\n",
       " datetime.datetime(2019, 11, 7, 0, 0): 202844.35614257812,\n",
       " datetime.datetime(2019, 11, 14, 0, 0): 202059.879314003,\n",
       " datetime.datetime(2019, 11, 21, 0, 0): 201004.74747520447,\n",
       " datetime.datetime(2019, 11, 28, 0, 0): 201863.7236953354,\n",
       " datetime.datetime(2019, 12, 5, 0, 0): 202439.23990016937,\n",
       " datetime.datetime(2019, 12, 12, 0, 0): 203174.39697429657,\n",
       " datetime.datetime(2019, 12, 19, 0, 0): 203226.25286361694,\n",
       " datetime.datetime(2019, 12, 26, 0, 0): 204569.56454917908,\n",
       " datetime.datetime(2020, 1, 2, 0, 0): 204232.86447116852,\n",
       " datetime.datetime(2020, 1, 9, 0, 0): 203880.70401546478,\n",
       " datetime.datetime(2022, 1, 8, 0, 0): 262644.8783816338,\n",
       " datetime.datetime(2022, 1, 15, 0, 0): 259655.82911706925,\n",
       " datetime.datetime(2022, 1, 22, 0, 0): 251678.94962841034,\n",
       " datetime.datetime(2022, 1, 29, 0, 0): 254619.38347346304,\n",
       " datetime.datetime(2022, 2, 5, 0, 0): 252035.3180265808,\n",
       " datetime.datetime(2022, 2, 12, 0, 0): 251265.54489154817,\n",
       " datetime.datetime(2022, 2, 19, 0, 0): 240076.01075115206,\n",
       " datetime.datetime(2022, 2, 26, 0, 0): 260105.16839775085,\n",
       " datetime.datetime(2022, 3, 5, 0, 0): 245410.80344646453,\n",
       " datetime.datetime(2022, 3, 12, 0, 0): 237435.0323364067,\n",
       " datetime.datetime(2022, 3, 19, 0, 0): 256577.38973911287,\n",
       " datetime.datetime(2022, 3, 26, 0, 0): 257661.02874383927,\n",
       " datetime.datetime(2022, 4, 2, 0, 0): 263116.20509296417,\n",
       " datetime.datetime(2022, 4, 9, 0, 0): 251124.95835353853,\n",
       " datetime.datetime(2022, 4, 16, 0, 0): 228276.84178684236,\n",
       " datetime.datetime(2022, 4, 23, 0, 0): 219828.6032998848,\n",
       " datetime.datetime(2022, 4, 30, 0, 0): 211543.960828228,\n",
       " datetime.datetime(2022, 5, 7, 0, 0): 182116.46196174622,\n",
       " datetime.datetime(2022, 5, 14, 0, 0): 180206.44125974656,\n",
       " datetime.datetime(2022, 5, 21, 0, 0): 179057.08581051827,\n",
       " datetime.datetime(2022, 5, 28, 0, 0): 182297.99886421204,\n",
       " datetime.datetime(2022, 6, 4, 0, 0): 183560.55600055694,\n",
       " datetime.datetime(2022, 6, 11, 0, 0): 173374.1222992897,\n",
       " datetime.datetime(2022, 6, 18, 0, 0): 176065.90231155397,\n",
       " datetime.datetime(2022, 6, 25, 0, 0): 178712.8146791172,\n",
       " datetime.datetime(2022, 7, 2, 0, 0): 177901.6443704796,\n",
       " datetime.datetime(2022, 7, 9, 0, 0): 174671.6169491959,\n",
       " datetime.datetime(2022, 7, 16, 0, 0): 174827.46437890053,\n",
       " datetime.datetime(2022, 7, 23, 0, 0): 177471.8197107792,\n",
       " datetime.datetime(2022, 7, 30, 0, 0): 179529.67907139778,\n",
       " datetime.datetime(2022, 8, 6, 0, 0): 185378.03376006128,\n",
       " datetime.datetime(2022, 8, 13, 0, 0): 187411.9095093441,\n",
       " datetime.datetime(2022, 8, 20, 0, 0): 180746.55709017755,\n",
       " datetime.datetime(2022, 8, 27, 0, 0): 175731.34097851755,\n",
       " datetime.datetime(2022, 9, 3, 0, 0): 164458.16437287332,\n",
       " datetime.datetime(2022, 9, 10, 0, 0): 177936.33362155917,\n",
       " datetime.datetime(2022, 9, 17, 0, 0): 172030.24689616205,\n",
       " datetime.datetime(2022, 9, 24, 0, 0): 166199.99494334223,\n",
       " datetime.datetime(2022, 10, 1, 0, 0): 168520.6715781498,\n",
       " datetime.datetime(2022, 10, 8, 0, 0): 168809.00633571626,\n",
       " datetime.datetime(2022, 10, 15, 0, 0): 170223.40561006547,\n",
       " datetime.datetime(2022, 10, 22, 0, 0): 170721.80500052453,\n",
       " datetime.datetime(2022, 10, 29, 0, 0): 176322.42127440454,\n",
       " datetime.datetime(2022, 11, 5, 0, 0): 173154.54688952447,\n",
       " datetime.datetime(2022, 11, 12, 0, 0): 175165.77440140725,\n",
       " datetime.datetime(2022, 11, 19, 0, 0): 172880.73230288507,\n",
       " datetime.datetime(2022, 11, 26, 0, 0): 176384.30130146028,\n",
       " datetime.datetime(2022, 12, 3, 0, 0): 175952.24649427415,\n",
       " datetime.datetime(2022, 12, 10, 0, 0): 175814.1370184231,\n",
       " datetime.datetime(2022, 12, 17, 0, 0): 170830.38064692498,\n",
       " datetime.datetime(2022, 12, 24, 0, 0): 172270.7417673874,\n",
       " datetime.datetime(2022, 12, 31, 0, 0): 173828.5712680626}"
      ]
     },
     "execution_count": 18,
     "metadata": {},
     "output_type": "execute_result"
    }
   ],
   "source": [
    "# join agg values\n",
    "agg_values = agg_values_2 | agg_values\n",
    "agg_values"
   ]
  },
  {
   "cell_type": "code",
   "execution_count": 19,
   "metadata": {},
   "outputs": [
    {
     "name": "stdout",
     "output_type": "stream",
     "text": [
      "2019-01-17 00:00:00\n",
      "2019-01-24 00:00:00\n",
      "2019-01-31 00:00:00\n",
      "2019-02-07 00:00:00\n",
      "2019-02-14 00:00:00\n",
      "2019-02-21 00:00:00\n",
      "2019-02-28 00:00:00\n",
      "2019-03-07 00:00:00\n",
      "2019-03-14 00:00:00\n",
      "2019-03-21 00:00:00\n",
      "2019-03-28 00:00:00\n",
      "2019-04-04 00:00:00\n",
      "2019-04-11 00:00:00\n",
      "2019-04-18 00:00:00\n",
      "2019-04-25 00:00:00\n",
      "2019-05-02 00:00:00\n",
      "2019-05-09 00:00:00\n",
      "2019-05-16 00:00:00\n",
      "2019-05-23 00:00:00\n",
      "2019-05-30 00:00:00\n",
      "2019-06-06 00:00:00\n",
      "2019-06-13 00:00:00\n",
      "2019-06-20 00:00:00\n",
      "2019-06-27 00:00:00\n",
      "2019-07-04 00:00:00\n",
      "2019-07-11 00:00:00\n",
      "2019-07-18 00:00:00\n",
      "2019-07-25 00:00:00\n",
      "2019-08-01 00:00:00\n",
      "2019-08-08 00:00:00\n",
      "2019-08-15 00:00:00\n",
      "2019-08-22 00:00:00\n",
      "2019-08-29 00:00:00\n",
      "2019-09-05 00:00:00\n",
      "2019-09-12 00:00:00\n",
      "2019-09-19 00:00:00\n",
      "2019-09-26 00:00:00\n",
      "2019-10-03 00:00:00\n",
      "2019-10-10 00:00:00\n",
      "2019-10-17 00:00:00\n",
      "2019-10-24 00:00:00\n",
      "2019-10-31 00:00:00\n",
      "2019-11-07 00:00:00\n",
      "2019-11-14 00:00:00\n",
      "2019-11-21 00:00:00\n",
      "2019-11-28 00:00:00\n",
      "2019-12-05 00:00:00\n",
      "2019-12-12 00:00:00\n",
      "2019-12-19 00:00:00\n",
      "2019-12-26 00:00:00\n",
      "2020-01-02 00:00:00\n",
      "2020-01-09 00:00:00\n",
      "2020-01-16 00:00:00\n",
      "2020-01-23 00:00:00\n",
      "2020-01-30 00:00:00\n",
      "2020-02-06 00:00:00\n",
      "2020-02-13 00:00:00\n",
      "2020-02-20 00:00:00\n",
      "2020-02-27 00:00:00\n",
      "2020-03-05 00:00:00\n",
      "2020-03-12 00:00:00\n",
      "2020-03-19 00:00:00\n",
      "2020-03-26 00:00:00\n",
      "2020-04-02 00:00:00\n",
      "2020-04-09 00:00:00\n",
      "2020-04-16 00:00:00\n",
      "2020-04-23 00:00:00\n",
      "2020-04-30 00:00:00\n",
      "2020-05-07 00:00:00\n",
      "2020-05-14 00:00:00\n",
      "2020-05-21 00:00:00\n",
      "2020-05-28 00:00:00\n",
      "2020-06-04 00:00:00\n",
      "2020-06-11 00:00:00\n",
      "2020-06-18 00:00:00\n",
      "2020-06-25 00:00:00\n",
      "2020-07-02 00:00:00\n",
      "2020-07-09 00:00:00\n",
      "2020-07-16 00:00:00\n",
      "2020-07-23 00:00:00\n",
      "2020-07-30 00:00:00\n",
      "2020-08-06 00:00:00\n",
      "2020-08-13 00:00:00\n",
      "2020-08-20 00:00:00\n",
      "2020-08-27 00:00:00\n",
      "2020-09-03 00:00:00\n",
      "2020-09-10 00:00:00\n",
      "2020-09-17 00:00:00\n",
      "2020-09-24 00:00:00\n",
      "2020-10-01 00:00:00\n",
      "2020-10-08 00:00:00\n",
      "2020-10-15 00:00:00\n",
      "2020-10-22 00:00:00\n",
      "2020-10-29 00:00:00\n",
      "2020-11-05 00:00:00\n",
      "2020-11-12 00:00:00\n",
      "2020-11-19 00:00:00\n",
      "2020-11-26 00:00:00\n",
      "2020-12-03 00:00:00\n",
      "2020-12-10 00:00:00\n",
      "2020-12-17 00:00:00\n",
      "2020-12-24 00:00:00\n",
      "2020-12-31 00:00:00\n",
      "2021-01-07 00:00:00\n",
      "2021-01-14 00:00:00\n",
      "2021-01-21 00:00:00\n",
      "2021-01-28 00:00:00\n",
      "2021-02-04 00:00:00\n",
      "2021-02-11 00:00:00\n",
      "2021-02-18 00:00:00\n",
      "2021-02-25 00:00:00\n",
      "2021-03-04 00:00:00\n",
      "2021-03-11 00:00:00\n",
      "2021-03-18 00:00:00\n",
      "2021-03-25 00:00:00\n",
      "2021-04-01 00:00:00\n",
      "2021-04-08 00:00:00\n",
      "2021-04-15 00:00:00\n",
      "2021-04-22 00:00:00\n",
      "2021-04-29 00:00:00\n",
      "2021-05-06 00:00:00\n",
      "2021-05-13 00:00:00\n",
      "2021-05-20 00:00:00\n",
      "2021-05-27 00:00:00\n",
      "2021-06-03 00:00:00\n",
      "2021-06-10 00:00:00\n",
      "2021-06-17 00:00:00\n",
      "2021-06-24 00:00:00\n",
      "2021-07-01 00:00:00\n",
      "2021-07-08 00:00:00\n",
      "2021-07-15 00:00:00\n",
      "2021-07-22 00:00:00\n",
      "2021-07-29 00:00:00\n",
      "2021-08-05 00:00:00\n",
      "2021-08-12 00:00:00\n",
      "2021-08-19 00:00:00\n",
      "2021-08-26 00:00:00\n",
      "2021-09-02 00:00:00\n",
      "2021-09-09 00:00:00\n",
      "2021-09-16 00:00:00\n",
      "2021-09-23 00:00:00\n",
      "2021-09-30 00:00:00\n",
      "2021-10-07 00:00:00\n",
      "2021-10-14 00:00:00\n",
      "2021-10-21 00:00:00\n",
      "2021-10-28 00:00:00\n",
      "2021-11-04 00:00:00\n",
      "2021-11-11 00:00:00\n",
      "2021-11-18 00:00:00\n",
      "2021-11-25 00:00:00\n",
      "2021-12-02 00:00:00\n",
      "2021-12-09 00:00:00\n",
      "2021-12-16 00:00:00\n",
      "2021-12-23 00:00:00\n",
      "2021-12-30 00:00:00\n",
      "Got error from yahoo api for ticker ECOM, Error: {'code': 'Not Found', 'description': 'No data found, symbol may be delisted'}\n",
      "- ECOM: No timezone found, symbol may be delisted\n",
      "MAXR: No data found, symbol may be delisted\n",
      "2022-01-06 00:00:00\n",
      "Got error from yahoo api for ticker ECOM, Error: {'code': 'Not Found', 'description': 'No data found, symbol may be delisted'}\n",
      "- ECOM: No timezone found, symbol may be delisted\n",
      "MAXR: No data found, symbol may be delisted\n",
      "2022-01-13 00:00:00\n",
      "Got error from yahoo api for ticker ECOM, Error: {'code': 'Not Found', 'description': 'No data found, symbol may be delisted'}\n",
      "- ECOM: No timezone found, symbol may be delisted\n",
      "MAXR: No data found, symbol may be delisted\n",
      "2022-01-20 00:00:00\n",
      "Got error from yahoo api for ticker ECOM, Error: {'code': 'Not Found', 'description': 'No data found, symbol may be delisted'}\n",
      "- ECOM: No timezone found, symbol may be delisted\n",
      "MAXR: No data found, symbol may be delisted\n",
      "2022-01-27 00:00:00\n",
      "Got error from yahoo api for ticker ECOM, Error: {'code': 'Not Found', 'description': 'No data found, symbol may be delisted'}\n",
      "- ECOM: No timezone found, symbol may be delisted\n",
      "MAXR: No data found, symbol may be delisted\n",
      "2022-02-03 00:00:00\n",
      "Got error from yahoo api for ticker ECOM, Error: {'code': 'Not Found', 'description': 'No data found, symbol may be delisted'}\n",
      "- ECOM: No timezone found, symbol may be delisted\n",
      "MAXR: No data found, symbol may be delisted\n",
      "2022-02-10 00:00:00\n",
      "Got error from yahoo api for ticker ECOM, Error: {'code': 'Not Found', 'description': 'No data found, symbol may be delisted'}\n",
      "- ECOM: No timezone found, symbol may be delisted\n",
      "MAXR: No data found, symbol may be delisted\n",
      "2022-02-17 00:00:00\n",
      "Got error from yahoo api for ticker ECOM, Error: {'code': 'Not Found', 'description': 'No data found, symbol may be delisted'}\n",
      "- ECOM: No timezone found, symbol may be delisted\n",
      "MAXR: No data found, symbol may be delisted\n",
      "2022-02-24 00:00:00\n",
      "Got error from yahoo api for ticker ECOM, Error: {'code': 'Not Found', 'description': 'No data found, symbol may be delisted'}\n",
      "- ECOM: No timezone found, symbol may be delisted\n",
      "MAXR: No data found, symbol may be delisted\n",
      "2022-03-03 00:00:00\n",
      "Got error from yahoo api for ticker ECOM, Error: {'code': 'Not Found', 'description': 'No data found, symbol may be delisted'}\n",
      "- ECOM: No timezone found, symbol may be delisted\n",
      "MAXR: No data found, symbol may be delisted\n",
      "2022-03-10 00:00:00\n",
      "Got error from yahoo api for ticker ECOM, Error: {'code': 'Not Found', 'description': 'No data found, symbol may be delisted'}\n",
      "- ECOM: No timezone found, symbol may be delisted\n",
      "MAXR: No data found, symbol may be delisted\n",
      "2022-03-17 00:00:00\n",
      "Got error from yahoo api for ticker ECOM, Error: {'code': 'Not Found', 'description': 'No data found, symbol may be delisted'}\n",
      "- ECOM: No timezone found, symbol may be delisted\n",
      "MAXR: No data found, symbol may be delisted\n",
      "2022-03-24 00:00:00\n",
      "Got error from yahoo api for ticker ECOM, Error: {'code': 'Not Found', 'description': 'No data found, symbol may be delisted'}\n",
      "- ECOM: No timezone found, symbol may be delisted\n",
      "MAXR: No data found, symbol may be delisted\n",
      "2022-03-31 00:00:00\n",
      "Got error from yahoo api for ticker ECOM, Error: {'code': 'Not Found', 'description': 'No data found, symbol may be delisted'}\n",
      "- ECOM: No timezone found, symbol may be delisted\n",
      "MAXR: No data found, symbol may be delisted\n",
      "2022-04-07 00:00:00\n",
      "Got error from yahoo api for ticker ECOM, Error: {'code': 'Not Found', 'description': 'No data found, symbol may be delisted'}\n",
      "- ECOM: No timezone found, symbol may be delisted\n",
      "MAXR: No data found, symbol may be delisted\n",
      "2022-04-14 00:00:00\n",
      "Got error from yahoo api for ticker ECOM, Error: {'code': 'Not Found', 'description': 'No data found, symbol may be delisted'}\n",
      "- ECOM: No timezone found, symbol may be delisted\n",
      "MAXR: No data found, symbol may be delisted\n",
      "2022-04-21 00:00:00\n",
      "Got error from yahoo api for ticker ECOM, Error: {'code': 'Not Found', 'description': 'No data found, symbol may be delisted'}\n",
      "- ECOM: No timezone found, symbol may be delisted\n",
      "MAXR: No data found, symbol may be delisted\n",
      "2022-04-28 00:00:00\n",
      "Got error from yahoo api for ticker ECOM, Error: {'code': 'Not Found', 'description': 'No data found, symbol may be delisted'}\n",
      "- ECOM: No timezone found, symbol may be delisted\n",
      "MAXR: No data found, symbol may be delisted\n",
      "2022-05-05 00:00:00\n",
      "Got error from yahoo api for ticker ECOM, Error: {'code': 'Not Found', 'description': 'No data found, symbol may be delisted'}\n",
      "- ECOM: No timezone found, symbol may be delisted\n",
      "MAXR: No data found, symbol may be delisted\n",
      "2022-05-12 00:00:00\n",
      "Got error from yahoo api for ticker ECOM, Error: {'code': 'Not Found', 'description': 'No data found, symbol may be delisted'}\n",
      "- ECOM: No timezone found, symbol may be delisted\n",
      "MAXR: No data found, symbol may be delisted\n",
      "2022-05-19 00:00:00\n",
      "Got error from yahoo api for ticker ECOM, Error: {'code': 'Not Found', 'description': 'No data found, symbol may be delisted'}\n",
      "- ECOM: No timezone found, symbol may be delisted\n",
      "MAXR: No data found, symbol may be delisted\n",
      "2022-05-26 00:00:00\n",
      "Got error from yahoo api for ticker ECOM, Error: {'code': 'Not Found', 'description': 'No data found, symbol may be delisted'}\n",
      "- ECOM: No timezone found, symbol may be delisted\n",
      "MAXR: No data found, symbol may be delisted\n",
      "2022-06-02 00:00:00\n",
      "Got error from yahoo api for ticker ECOM, Error: {'code': 'Not Found', 'description': 'No data found, symbol may be delisted'}\n",
      "- ECOM: No timezone found, symbol may be delisted\n",
      "MAXR: No data found, symbol may be delisted\n",
      "2022-06-09 00:00:00\n",
      "Got error from yahoo api for ticker ECOM, Error: {'code': 'Not Found', 'description': 'No data found, symbol may be delisted'}\n",
      "- ECOM: No timezone found, symbol may be delisted\n",
      "MAXR: No data found, symbol may be delisted\n",
      "2022-06-16 00:00:00\n",
      "Got error from yahoo api for ticker ECOM, Error: {'code': 'Not Found', 'description': 'No data found, symbol may be delisted'}\n",
      "- ECOM: No timezone found, symbol may be delisted\n",
      "MAXR: No data found, symbol may be delisted\n",
      "2022-06-23 00:00:00\n",
      "Got error from yahoo api for ticker ECOM, Error: {'code': 'Not Found', 'description': 'No data found, symbol may be delisted'}\n",
      "- ECOM: No timezone found, symbol may be delisted\n",
      "MAXR: No data found, symbol may be delisted\n",
      "2022-06-30 00:00:00\n",
      "Got error from yahoo api for ticker ECOM, Error: {'code': 'Not Found', 'description': 'No data found, symbol may be delisted'}\n",
      "- ECOM: No timezone found, symbol may be delisted\n",
      "MAXR: No data found, symbol may be delisted\n",
      "2022-07-07 00:00:00\n",
      "Got error from yahoo api for ticker ECOM, Error: {'code': 'Not Found', 'description': 'No data found, symbol may be delisted'}\n",
      "- ECOM: No timezone found, symbol may be delisted\n",
      "MAXR: No data found, symbol may be delisted\n",
      "2022-07-14 00:00:00\n",
      "Got error from yahoo api for ticker ECOM, Error: {'code': 'Not Found', 'description': 'No data found, symbol may be delisted'}\n",
      "- ECOM: No timezone found, symbol may be delisted\n",
      "MAXR: No data found, symbol may be delisted\n",
      "2022-07-21 00:00:00\n",
      "Got error from yahoo api for ticker ECOM, Error: {'code': 'Not Found', 'description': 'No data found, symbol may be delisted'}\n",
      "- ECOM: No timezone found, symbol may be delisted\n",
      "MAXR: No data found, symbol may be delisted\n",
      "2022-07-28 00:00:00\n",
      "Got error from yahoo api for ticker ECOM, Error: {'code': 'Not Found', 'description': 'No data found, symbol may be delisted'}\n",
      "- ECOM: No timezone found, symbol may be delisted\n",
      "MAXR: No data found, symbol may be delisted\n",
      "2022-08-04 00:00:00\n",
      "Got error from yahoo api for ticker ECOM, Error: {'code': 'Not Found', 'description': 'No data found, symbol may be delisted'}\n",
      "- ECOM: No timezone found, symbol may be delisted\n",
      "MAXR: No data found, symbol may be delisted\n",
      "2022-08-11 00:00:00\n",
      "Got error from yahoo api for ticker ECOM, Error: {'code': 'Not Found', 'description': 'No data found, symbol may be delisted'}\n",
      "- ECOM: No timezone found, symbol may be delisted\n",
      "MAXR: No data found, symbol may be delisted\n",
      "2022-08-18 00:00:00\n",
      "Got error from yahoo api for ticker ECOM, Error: {'code': 'Not Found', 'description': 'No data found, symbol may be delisted'}\n",
      "- ECOM: No timezone found, symbol may be delisted\n",
      "MAXR: No data found, symbol may be delisted\n",
      "2022-08-25 00:00:00\n",
      "Got error from yahoo api for ticker ECOM, Error: {'code': 'Not Found', 'description': 'No data found, symbol may be delisted'}\n",
      "- ECOM: No timezone found, symbol may be delisted\n",
      "MAXR: No data found, symbol may be delisted\n",
      "2022-09-01 00:00:00\n",
      "Got error from yahoo api for ticker ECOM, Error: {'code': 'Not Found', 'description': 'No data found, symbol may be delisted'}\n",
      "- ECOM: No timezone found, symbol may be delisted\n",
      "MAXR: No data found, symbol may be delisted\n",
      "2022-09-08 00:00:00\n",
      "Got error from yahoo api for ticker ECOM, Error: {'code': 'Not Found', 'description': 'No data found, symbol may be delisted'}\n",
      "- ECOM: No timezone found, symbol may be delisted\n",
      "MAXR: No data found, symbol may be delisted\n",
      "2022-09-15 00:00:00\n",
      "Got error from yahoo api for ticker ECOM, Error: {'code': 'Not Found', 'description': 'No data found, symbol may be delisted'}\n",
      "- ECOM: No timezone found, symbol may be delisted\n",
      "MAXR: No data found, symbol may be delisted\n",
      "2022-09-22 00:00:00\n",
      "Got error from yahoo api for ticker ECOM, Error: {'code': 'Not Found', 'description': 'No data found, symbol may be delisted'}\n",
      "- ECOM: No timezone found, symbol may be delisted\n",
      "MAXR: No data found, symbol may be delisted\n",
      "2022-09-29 00:00:00\n",
      "MAXR: No data found, symbol may be delisted\n",
      "2022-10-06 00:00:00\n",
      "MAXR: No data found, symbol may be delisted\n",
      "2022-10-13 00:00:00\n",
      "MAXR: No data found, symbol may be delisted\n",
      "2022-10-20 00:00:00\n",
      "MAXR: No data found, symbol may be delisted\n",
      "2022-10-27 00:00:00\n",
      "MAXR: No data found, symbol may be delisted\n",
      "2022-11-03 00:00:00\n",
      "MAXR: No data found, symbol may be delisted\n",
      "2022-11-10 00:00:00\n",
      "MAXR: No data found, symbol may be delisted\n",
      "2022-11-17 00:00:00\n",
      "MAXR: No data found, symbol may be delisted\n",
      "2022-11-24 00:00:00\n",
      "MAXR: No data found, symbol may be delisted\n",
      "2022-12-01 00:00:00\n",
      "MAXR: No data found, symbol may be delisted\n",
      "2022-12-08 00:00:00\n",
      "MAXR: No data found, symbol may be delisted\n",
      "2022-12-15 00:00:00\n",
      "MAXR: No data found, symbol may be delisted\n",
      "2022-12-22 00:00:00\n",
      "MAXR: No data found, symbol may be delisted\n",
      "2022-12-29 00:00:00\n",
      "MAXR: No data found, symbol may be delisted\n",
      "2023-01-05 00:00:00\n",
      "MAXR: No data found, symbol may be delisted\n",
      "2023-01-12 00:00:00\n",
      "MAXR: No data found, symbol may be delisted\n",
      "2023-01-19 00:00:00\n",
      "MAXR: No data found, symbol may be delisted\n",
      "2023-01-26 00:00:00\n",
      "MAXR: No data found, symbol may be delisted\n"
     ]
    },
    {
     "data": {
      "text/plain": [
       "{datetime.datetime(2019, 1, 17, 0, 0): 199792.2236328125,\n",
       " datetime.datetime(2019, 1, 24, 0, 0): 199758.894241333,\n",
       " datetime.datetime(2019, 1, 31, 0, 0): 199913.81939697266,\n",
       " datetime.datetime(2019, 2, 7, 0, 0): 199873.5136871338,\n",
       " datetime.datetime(2019, 2, 14, 0, 0): 200029.61376953125,\n",
       " datetime.datetime(2019, 2, 21, 0, 0): 200165.16255187988,\n",
       " datetime.datetime(2019, 2, 28, 0, 0): 200193.33485412598,\n",
       " datetime.datetime(2019, 3, 7, 0, 0): 200059.63314819336,\n",
       " datetime.datetime(2019, 3, 14, 0, 0): 200050.85858154297,\n",
       " datetime.datetime(2019, 3, 21, 0, 0): 200039.7734527588,\n",
       " datetime.datetime(2019, 3, 28, 0, 0): 200040.92930603027,\n",
       " datetime.datetime(2019, 4, 4, 0, 0): 200320.56950378418,\n",
       " datetime.datetime(2019, 4, 11, 0, 0): 200417.55436706543,\n",
       " datetime.datetime(2019, 4, 18, 0, 0): 200511.0754852295,\n",
       " datetime.datetime(2019, 4, 25, 0, 0): 200328.6509399414,\n",
       " datetime.datetime(2019, 5, 2, 0, 0): 203174.13726039886,\n",
       " datetime.datetime(2019, 5, 9, 0, 0): 202871.05589862823,\n",
       " datetime.datetime(2019, 5, 16, 0, 0): 202879.40290542602,\n",
       " datetime.datetime(2019, 5, 23, 0, 0): 202791.23835273742,\n",
       " datetime.datetime(2019, 5, 30, 0, 0): 202928.62204738616,\n",
       " datetime.datetime(2019, 6, 6, 0, 0): 203256.42174907684,\n",
       " datetime.datetime(2019, 6, 13, 0, 0): 202678.17008777618,\n",
       " datetime.datetime(2019, 6, 20, 0, 0): 203253.02981563567,\n",
       " datetime.datetime(2019, 6, 27, 0, 0): 203068.4769763565,\n",
       " datetime.datetime(2019, 7, 4, 0, 0): 203425.46373458861,\n",
       " datetime.datetime(2019, 7, 11, 0, 0): 203722.0980624771,\n",
       " datetime.datetime(2019, 7, 18, 0, 0): 203622.55190654754,\n",
       " datetime.datetime(2019, 7, 25, 0, 0): 203878.81658836364,\n",
       " datetime.datetime(2019, 8, 1, 0, 0): 201844.41500183105,\n",
       " datetime.datetime(2019, 8, 8, 0, 0): 201250.77387996673,\n",
       " datetime.datetime(2019, 8, 15, 0, 0): 200985.06661697387,\n",
       " datetime.datetime(2019, 8, 22, 0, 0): 201288.00428577422,\n",
       " datetime.datetime(2019, 8, 29, 0, 0): 201302.51072784423,\n",
       " datetime.datetime(2019, 9, 5, 0, 0): 201477.79054447173,\n",
       " datetime.datetime(2019, 9, 12, 0, 0): 201624.39831062316,\n",
       " datetime.datetime(2019, 9, 19, 0, 0): 201854.73918243407,\n",
       " datetime.datetime(2019, 9, 26, 0, 0): 201153.61509319305,\n",
       " datetime.datetime(2019, 10, 3, 0, 0): 200650.6724557495,\n",
       " datetime.datetime(2019, 10, 10, 0, 0): 200368.1493787384,\n",
       " datetime.datetime(2019, 10, 17, 0, 0): 200833.9938306427,\n",
       " datetime.datetime(2019, 10, 24, 0, 0): 200822.43909164428,\n",
       " datetime.datetime(2019, 10, 31, 0, 0): 201831.68131786346,\n",
       " datetime.datetime(2019, 11, 7, 0, 0): 202844.35537963867,\n",
       " datetime.datetime(2019, 11, 14, 0, 0): 202059.87969547271,\n",
       " datetime.datetime(2019, 11, 21, 0, 0): 201004.746712265,\n",
       " datetime.datetime(2019, 11, 28, 0, 0): 201863.7240768051,\n",
       " datetime.datetime(2019, 12, 5, 0, 0): 202439.23990016937,\n",
       " datetime.datetime(2019, 12, 12, 0, 0): 203174.39773723602,\n",
       " datetime.datetime(2019, 12, 19, 0, 0): 203226.25286361694,\n",
       " datetime.datetime(2019, 12, 26, 0, 0): 204569.56416770935,\n",
       " datetime.datetime(2020, 1, 2, 0, 0): 204232.8640896988,\n",
       " datetime.datetime(2020, 1, 9, 0, 0): 203880.7043969345,\n",
       " datetime.datetime(2020, 1, 16, 0, 0): 204006.03867218018,\n",
       " datetime.datetime(2020, 1, 23, 0, 0): 203204.14390060425,\n",
       " datetime.datetime(2020, 1, 30, 0, 0): 200713.91653224945,\n",
       " datetime.datetime(2020, 2, 6, 0, 0): 200824.25967380524,\n",
       " datetime.datetime(2020, 2, 13, 0, 0): 200454.03406879425,\n",
       " datetime.datetime(2020, 2, 20, 0, 0): 199556.2523047638,\n",
       " datetime.datetime(2020, 2, 27, 0, 0): 194133.61362621307,\n",
       " datetime.datetime(2020, 3, 5, 0, 0): 194836.85315105438,\n",
       " datetime.datetime(2020, 3, 12, 0, 0): 187130.1130888176,\n",
       " datetime.datetime(2020, 3, 19, 0, 0): 187071.7884480667,\n",
       " datetime.datetime(2020, 3, 26, 0, 0): 193010.9045254898,\n",
       " datetime.datetime(2020, 4, 2, 0, 0): 190895.0467698288,\n",
       " datetime.datetime(2020, 4, 9, 0, 0): 193044.79876205444,\n",
       " datetime.datetime(2020, 4, 16, 0, 0): 193446.96899291992,\n",
       " datetime.datetime(2020, 4, 23, 0, 0): 195656.87462112427,\n",
       " datetime.datetime(2020, 4, 30, 0, 0): 196861.89949676514,\n",
       " datetime.datetime(2020, 5, 7, 0, 0): 198364.37869235993,\n",
       " datetime.datetime(2020, 5, 14, 0, 0): 197128.123673172,\n",
       " datetime.datetime(2020, 5, 21, 0, 0): 200038.6694972229,\n",
       " datetime.datetime(2020, 5, 28, 0, 0): 200982.57521507263,\n",
       " datetime.datetime(2020, 6, 4, 0, 0): 204056.59475681305,\n",
       " datetime.datetime(2020, 6, 11, 0, 0): 201420.16589996338,\n",
       " datetime.datetime(2020, 6, 18, 0, 0): 204924.30226776123,\n",
       " datetime.datetime(2020, 6, 25, 0, 0): 203751.99345371246,\n",
       " datetime.datetime(2020, 7, 2, 0, 0): 205422.54645988464,\n",
       " datetime.datetime(2020, 7, 9, 0, 0): 206921.43970558167,\n",
       " datetime.datetime(2020, 7, 16, 0, 0): 206140.84791728974,\n",
       " datetime.datetime(2020, 7, 23, 0, 0): 206622.58751556397,\n",
       " datetime.datetime(2020, 7, 30, 0, 0): 206490.17745658875,\n",
       " datetime.datetime(2020, 8, 6, 0, 0): 211174.1794154358,\n",
       " datetime.datetime(2020, 8, 13, 0, 0): 210206.23881980896,\n",
       " datetime.datetime(2020, 8, 20, 0, 0): 210603.4454858017,\n",
       " datetime.datetime(2020, 8, 27, 0, 0): 211899.6913125229,\n",
       " datetime.datetime(2020, 9, 3, 0, 0): 212324.54062721253,\n",
       " datetime.datetime(2020, 9, 10, 0, 0): 209885.69396087647,\n",
       " datetime.datetime(2020, 9, 17, 0, 0): 213455.09545585632,\n",
       " datetime.datetime(2020, 9, 24, 0, 0): 212187.38901493073,\n",
       " datetime.datetime(2020, 10, 1, 0, 0): 215786.58086845398,\n",
       " datetime.datetime(2020, 10, 8, 0, 0): 217658.5707080078,\n",
       " datetime.datetime(2020, 10, 15, 0, 0): 217092.06403324127,\n",
       " datetime.datetime(2020, 10, 22, 0, 0): 215687.05624362946,\n",
       " datetime.datetime(2020, 10, 29, 0, 0): 213190.45886585236,\n",
       " datetime.datetime(2020, 11, 5, 0, 0): 216894.41977855682,\n",
       " datetime.datetime(2020, 11, 12, 0, 0): 212342.5006148529,\n",
       " datetime.datetime(2020, 11, 19, 0, 0): 214246.37321540833,\n",
       " datetime.datetime(2020, 11, 26, 0, 0): 218572.68657180786,\n",
       " datetime.datetime(2020, 12, 3, 0, 0): 215990.92657157898,\n",
       " datetime.datetime(2020, 12, 10, 0, 0): 215732.91563674927,\n",
       " datetime.datetime(2020, 12, 17, 0, 0): 219794.60235855103,\n",
       " datetime.datetime(2020, 12, 24, 0, 0): 223384.83575698853,\n",
       " datetime.datetime(2020, 12, 31, 0, 0): 223536.4048335266,\n",
       " datetime.datetime(2021, 1, 7, 0, 0): 228569.62462684631,\n",
       " datetime.datetime(2021, 1, 14, 0, 0): 229552.71757671356,\n",
       " datetime.datetime(2021, 1, 21, 0, 0): 231904.45955059052,\n",
       " datetime.datetime(2021, 1, 28, 0, 0): 227433.16907569885,\n",
       " datetime.datetime(2021, 2, 4, 0, 0): 227657.7651040268,\n",
       " datetime.datetime(2021, 2, 11, 0, 0): 233709.1674582672,\n",
       " datetime.datetime(2021, 2, 18, 0, 0): 231341.84251472473,\n",
       " datetime.datetime(2021, 2, 25, 0, 0): 227253.24315998078,\n",
       " datetime.datetime(2021, 3, 4, 0, 0): 220799.84480163574,\n",
       " datetime.datetime(2021, 3, 11, 0, 0): 224749.15377876282,\n",
       " datetime.datetime(2021, 3, 18, 0, 0): 222620.39380714417,\n",
       " datetime.datetime(2021, 3, 25, 0, 0): 220479.38306591034,\n",
       " datetime.datetime(2021, 4, 1, 0, 0): 224911.0643698883,\n",
       " datetime.datetime(2021, 4, 8, 0, 0): 225562.65348407745,\n",
       " datetime.datetime(2021, 4, 15, 0, 0): 228010.51741605758,\n",
       " datetime.datetime(2021, 4, 22, 0, 0): 266097.6334769726,\n",
       " datetime.datetime(2021, 4, 29, 0, 0): 269863.2858147621,\n",
       " datetime.datetime(2021, 5, 6, 0, 0): 261438.14182019234,\n",
       " datetime.datetime(2021, 5, 13, 0, 0): 245383.59527373314,\n",
       " datetime.datetime(2021, 5, 20, 0, 0): 258382.4882993698,\n",
       " datetime.datetime(2021, 5, 27, 0, 0): 267331.6779572964,\n",
       " datetime.datetime(2021, 6, 3, 0, 0): 267661.3781962395,\n",
       " datetime.datetime(2021, 6, 10, 0, 0): 276136.90385222435,\n",
       " datetime.datetime(2021, 6, 17, 0, 0): 268455.4238374233,\n",
       " datetime.datetime(2021, 6, 24, 0, 0): 273303.1901125908,\n",
       " datetime.datetime(2021, 7, 1, 0, 0): 270261.17072224617,\n",
       " datetime.datetime(2021, 7, 8, 0, 0): 265984.8796069622,\n",
       " datetime.datetime(2021, 7, 15, 0, 0): 265178.8092699051,\n",
       " datetime.datetime(2021, 7, 22, 0, 0): 272586.7501540184,\n",
       " datetime.datetime(2021, 7, 29, 0, 0): 278664.60840415955,\n",
       " datetime.datetime(2021, 8, 5, 0, 0): 280240.10497522354,\n",
       " datetime.datetime(2021, 8, 12, 0, 0): 279251.54460287094,\n",
       " datetime.datetime(2021, 8, 19, 0, 0): 263508.6194882393,\n",
       " datetime.datetime(2021, 8, 26, 0, 0): 275308.8490829468,\n",
       " datetime.datetime(2021, 9, 2, 0, 0): 282628.8710298538,\n",
       " datetime.datetime(2021, 9, 9, 0, 0): 275182.6460323334,\n",
       " datetime.datetime(2021, 9, 16, 0, 0): 269123.8106241226,\n",
       " datetime.datetime(2021, 9, 23, 0, 0): 271008.7651767731,\n",
       " datetime.datetime(2021, 9, 30, 0, 0): 262900.56041431427,\n",
       " datetime.datetime(2021, 10, 7, 0, 0): 262185.5746240616,\n",
       " datetime.datetime(2021, 10, 14, 0, 0): 270747.19519615173,\n",
       " datetime.datetime(2021, 10, 21, 0, 0): 276563.12223625183,\n",
       " datetime.datetime(2021, 10, 28, 0, 0): 273051.62193870544,\n",
       " datetime.datetime(2021, 11, 4, 0, 0): 272775.6597881317,\n",
       " datetime.datetime(2021, 11, 11, 0, 0): 272044.411591053,\n",
       " datetime.datetime(2021, 11, 18, 0, 0): 270085.51183366776,\n",
       " datetime.datetime(2021, 11, 25, 0, 0): 246565.37943935394,\n",
       " datetime.datetime(2021, 12, 2, 0, 0): 239023.36643600464,\n",
       " datetime.datetime(2021, 12, 9, 0, 0): 245233.21337342262,\n",
       " datetime.datetime(2021, 12, 16, 0, 0): 239503.7695260048,\n",
       " datetime.datetime(2021, 12, 23, 0, 0): 245406.20992827415,\n",
       " datetime.datetime(2021, 12, 30, 0, 0): 258651.06562420845,\n",
       " datetime.datetime(2022, 1, 6, 0, 0): 268968.2146041775,\n",
       " datetime.datetime(2022, 1, 13, 0, 0): 263629.7100439453,\n",
       " datetime.datetime(2022, 1, 20, 0, 0): 255051.76851688387,\n",
       " datetime.datetime(2022, 1, 27, 0, 0): 241800.9509605217,\n",
       " datetime.datetime(2022, 2, 3, 0, 0): 247671.1686944771,\n",
       " datetime.datetime(2022, 2, 10, 0, 0): 258259.9465574646,\n",
       " datetime.datetime(2022, 2, 17, 0, 0): 249605.03615285872,\n",
       " datetime.datetime(2022, 2, 24, 0, 0): 247908.24490898132,\n",
       " datetime.datetime(2022, 3, 3, 0, 0): 256167.85445611953,\n",
       " datetime.datetime(2022, 3, 10, 0, 0): 250977.87515857696,\n",
       " datetime.datetime(2022, 3, 17, 0, 0): 254309.90686590195,\n",
       " datetime.datetime(2022, 3, 24, 0, 0): 258536.50717035294,\n",
       " datetime.datetime(2022, 3, 31, 0, 0): 256220.44893554688,\n",
       " datetime.datetime(2022, 4, 7, 0, 0): 253624.40533769608,\n",
       " datetime.datetime(2022, 4, 14, 0, 0): 231304.69619272233,\n",
       " datetime.datetime(2022, 4, 21, 0, 0): 222074.4478448105,\n",
       " datetime.datetime(2022, 4, 28, 0, 0): 216195.15680994032,\n",
       " datetime.datetime(2022, 5, 5, 0, 0): 199354.63732910156,\n",
       " datetime.datetime(2022, 5, 12, 0, 0): 178099.39712625503,\n",
       " datetime.datetime(2022, 5, 19, 0, 0): 178656.21648617744,\n",
       " datetime.datetime(2022, 5, 26, 0, 0): 178637.8490070343,\n",
       " datetime.datetime(2022, 6, 2, 0, 0): 185093.19734760284,\n",
       " datetime.datetime(2022, 6, 9, 0, 0): 181747.18841530802,\n",
       " datetime.datetime(2022, 6, 16, 0, 0): 172144.10440431596,\n",
       " datetime.datetime(2022, 6, 23, 0, 0): 177049.68938546182,\n",
       " datetime.datetime(2022, 6, 30, 0, 0): 175036.22905720712,\n",
       " datetime.datetime(2022, 7, 7, 0, 0): 178809.8016006279,\n",
       " datetime.datetime(2022, 7, 14, 0, 0): 170381.95554356577,\n",
       " datetime.datetime(2022, 7, 21, 0, 0): 179136.89619904518,\n",
       " datetime.datetime(2022, 7, 28, 0, 0): 175284.43432226183,\n",
       " datetime.datetime(2022, 8, 4, 0, 0): 184316.3919563675,\n",
       " datetime.datetime(2022, 8, 11, 0, 0): 187882.52034874915,\n",
       " datetime.datetime(2022, 8, 18, 0, 0): 186229.369456501,\n",
       " datetime.datetime(2022, 8, 25, 0, 0): 180716.57353629114,\n",
       " datetime.datetime(2022, 9, 1, 0, 0): 171856.96937606813,\n",
       " datetime.datetime(2022, 9, 8, 0, 0): 173175.36751077653,\n",
       " datetime.datetime(2022, 9, 15, 0, 0): 172152.5873841095,\n",
       " datetime.datetime(2022, 9, 22, 0, 0): 169307.47418784144,\n",
       " datetime.datetime(2022, 9, 29, 0, 0): 167673.8789982605,\n",
       " datetime.datetime(2022, 10, 6, 0, 0): 171945.22850320817,\n",
       " datetime.datetime(2022, 10, 13, 0, 0): 169740.47746465684,\n",
       " datetime.datetime(2022, 10, 20, 0, 0): 169806.08432195664,\n",
       " datetime.datetime(2022, 10, 27, 0, 0): 173939.61319396974,\n",
       " datetime.datetime(2022, 11, 3, 0, 0): 169978.51041124345,\n",
       " datetime.datetime(2022, 11, 10, 0, 0): 175654.22391913415,\n",
       " datetime.datetime(2022, 11, 17, 0, 0): 173613.06947229386,\n",
       " datetime.datetime(2022, 11, 24, 0, 0): 177714.78433797837,\n",
       " datetime.datetime(2022, 12, 1, 0, 0): 178148.05471847535,\n",
       " datetime.datetime(2022, 12, 8, 0, 0): 176593.99654148103,\n",
       " datetime.datetime(2022, 12, 15, 0, 0): 173407.77967904092,\n",
       " datetime.datetime(2022, 12, 22, 0, 0): 172790.21257231713,\n",
       " datetime.datetime(2022, 12, 29, 0, 0): 173444.153930645,\n",
       " datetime.datetime(2023, 1, 5, 0, 0): 173769.5301253605,\n",
       " datetime.datetime(2023, 1, 12, 0, 0): 176598.1552808094,\n",
       " datetime.datetime(2023, 1, 19, 0, 0): 178935.0278487015,\n",
       " datetime.datetime(2023, 1, 26, 0, 0): 180556.50075076104}"
      ]
     },
     "execution_count": 19,
     "metadata": {},
     "output_type": "execute_result"
    }
   ],
   "source": [
    "# get weekly port values over the last year\n",
    "agg_values_vF = {}\n",
    "for i in range(1, (53 * 4)):\n",
    "    dt = datetime.datetime(2019, 1, 10) + datetime.timedelta(days=i*7)\n",
    "    print(dt)\n",
    "    dated_portfolio = pb.get_portfolio(up_to=dt)\n",
    "    agg_val = dated_portfolio['Value'].sum()\n",
    "    agg_values_vF[dt] = agg_val\n",
    "\n",
    "agg_values_vF"
   ]
  },
  {
   "cell_type": "code",
   "execution_count": 21,
   "metadata": {},
   "outputs": [
    {
     "data": {
      "application/vnd.plotly.v1+json": {
       "config": {
        "plotlyServerURL": "https://plot.ly"
       },
       "data": [
        {
         "mode": "lines",
         "name": "lines",
         "type": "scatter",
         "x": [
          "2019-01-17T00:00:00",
          "2019-01-24T00:00:00",
          "2019-01-31T00:00:00",
          "2019-02-07T00:00:00",
          "2019-02-14T00:00:00",
          "2019-02-21T00:00:00",
          "2019-02-28T00:00:00",
          "2019-03-07T00:00:00",
          "2019-03-14T00:00:00",
          "2019-03-21T00:00:00",
          "2019-03-28T00:00:00",
          "2019-04-04T00:00:00",
          "2019-04-11T00:00:00",
          "2019-04-18T00:00:00",
          "2019-04-25T00:00:00",
          "2019-05-02T00:00:00",
          "2019-05-09T00:00:00",
          "2019-05-16T00:00:00",
          "2019-05-23T00:00:00",
          "2019-05-30T00:00:00",
          "2019-06-06T00:00:00",
          "2019-06-13T00:00:00",
          "2019-06-20T00:00:00",
          "2019-06-27T00:00:00",
          "2019-07-04T00:00:00",
          "2019-07-11T00:00:00",
          "2019-07-18T00:00:00",
          "2019-07-25T00:00:00",
          "2019-08-01T00:00:00",
          "2019-08-08T00:00:00",
          "2019-08-15T00:00:00",
          "2019-08-22T00:00:00",
          "2019-08-29T00:00:00",
          "2019-09-05T00:00:00",
          "2019-09-12T00:00:00",
          "2019-09-19T00:00:00",
          "2019-09-26T00:00:00",
          "2019-10-03T00:00:00",
          "2019-10-10T00:00:00",
          "2019-10-17T00:00:00",
          "2019-10-24T00:00:00",
          "2019-10-31T00:00:00",
          "2019-11-07T00:00:00",
          "2019-11-14T00:00:00",
          "2019-11-21T00:00:00",
          "2019-11-28T00:00:00",
          "2019-12-05T00:00:00",
          "2019-12-12T00:00:00",
          "2019-12-19T00:00:00",
          "2019-12-26T00:00:00",
          "2020-01-02T00:00:00",
          "2020-01-09T00:00:00",
          "2020-01-16T00:00:00",
          "2020-01-23T00:00:00",
          "2020-01-30T00:00:00",
          "2020-02-06T00:00:00",
          "2020-02-13T00:00:00",
          "2020-02-20T00:00:00",
          "2020-02-27T00:00:00",
          "2020-03-05T00:00:00",
          "2020-03-12T00:00:00",
          "2020-03-19T00:00:00",
          "2020-03-26T00:00:00",
          "2020-04-02T00:00:00",
          "2020-04-09T00:00:00",
          "2020-04-16T00:00:00",
          "2020-04-23T00:00:00",
          "2020-04-30T00:00:00",
          "2020-05-07T00:00:00",
          "2020-05-14T00:00:00",
          "2020-05-21T00:00:00",
          "2020-05-28T00:00:00",
          "2020-06-04T00:00:00",
          "2020-06-11T00:00:00",
          "2020-06-18T00:00:00",
          "2020-06-25T00:00:00",
          "2020-07-02T00:00:00",
          "2020-07-09T00:00:00",
          "2020-07-16T00:00:00",
          "2020-07-23T00:00:00",
          "2020-07-30T00:00:00",
          "2020-08-06T00:00:00",
          "2020-08-13T00:00:00",
          "2020-08-20T00:00:00",
          "2020-08-27T00:00:00",
          "2020-09-03T00:00:00",
          "2020-09-10T00:00:00",
          "2020-09-17T00:00:00",
          "2020-09-24T00:00:00",
          "2020-10-01T00:00:00",
          "2020-10-08T00:00:00",
          "2020-10-15T00:00:00",
          "2020-10-22T00:00:00",
          "2020-10-29T00:00:00",
          "2020-11-05T00:00:00",
          "2020-11-12T00:00:00",
          "2020-11-19T00:00:00",
          "2020-11-26T00:00:00",
          "2020-12-03T00:00:00",
          "2020-12-10T00:00:00",
          "2020-12-17T00:00:00",
          "2020-12-24T00:00:00",
          "2020-12-31T00:00:00",
          "2021-01-07T00:00:00",
          "2021-01-14T00:00:00",
          "2021-01-21T00:00:00",
          "2021-01-28T00:00:00",
          "2021-02-04T00:00:00",
          "2021-02-11T00:00:00",
          "2021-02-18T00:00:00",
          "2021-02-25T00:00:00",
          "2021-03-04T00:00:00",
          "2021-03-11T00:00:00",
          "2021-03-18T00:00:00",
          "2021-03-25T00:00:00",
          "2021-04-01T00:00:00",
          "2021-04-08T00:00:00",
          "2021-04-15T00:00:00",
          "2021-04-22T00:00:00",
          "2021-04-29T00:00:00",
          "2021-05-06T00:00:00",
          "2021-05-13T00:00:00",
          "2021-05-20T00:00:00",
          "2021-05-27T00:00:00",
          "2021-06-03T00:00:00",
          "2021-06-10T00:00:00",
          "2021-06-17T00:00:00",
          "2021-06-24T00:00:00",
          "2021-07-01T00:00:00",
          "2021-07-08T00:00:00",
          "2021-07-15T00:00:00",
          "2021-07-22T00:00:00",
          "2021-07-29T00:00:00",
          "2021-08-05T00:00:00",
          "2021-08-12T00:00:00",
          "2021-08-19T00:00:00",
          "2021-08-26T00:00:00",
          "2021-09-02T00:00:00",
          "2021-09-09T00:00:00",
          "2021-09-16T00:00:00",
          "2021-09-23T00:00:00",
          "2021-09-30T00:00:00",
          "2021-10-07T00:00:00",
          "2021-10-14T00:00:00",
          "2021-10-21T00:00:00",
          "2021-10-28T00:00:00",
          "2021-11-04T00:00:00",
          "2021-11-11T00:00:00",
          "2021-11-18T00:00:00",
          "2021-11-25T00:00:00",
          "2021-12-02T00:00:00",
          "2021-12-09T00:00:00",
          "2021-12-16T00:00:00",
          "2021-12-23T00:00:00",
          "2021-12-30T00:00:00",
          "2022-01-06T00:00:00",
          "2022-01-13T00:00:00",
          "2022-01-20T00:00:00",
          "2022-01-27T00:00:00",
          "2022-02-03T00:00:00",
          "2022-02-10T00:00:00",
          "2022-02-17T00:00:00",
          "2022-02-24T00:00:00",
          "2022-03-03T00:00:00",
          "2022-03-10T00:00:00",
          "2022-03-17T00:00:00",
          "2022-03-24T00:00:00",
          "2022-03-31T00:00:00",
          "2022-04-07T00:00:00",
          "2022-04-14T00:00:00",
          "2022-04-21T00:00:00",
          "2022-04-28T00:00:00",
          "2022-05-05T00:00:00",
          "2022-05-12T00:00:00",
          "2022-05-19T00:00:00",
          "2022-05-26T00:00:00",
          "2022-06-02T00:00:00",
          "2022-06-09T00:00:00",
          "2022-06-16T00:00:00",
          "2022-06-23T00:00:00",
          "2022-06-30T00:00:00",
          "2022-07-07T00:00:00",
          "2022-07-14T00:00:00",
          "2022-07-21T00:00:00",
          "2022-07-28T00:00:00",
          "2022-08-04T00:00:00",
          "2022-08-11T00:00:00",
          "2022-08-18T00:00:00",
          "2022-08-25T00:00:00",
          "2022-09-01T00:00:00",
          "2022-09-08T00:00:00",
          "2022-09-15T00:00:00",
          "2022-09-22T00:00:00",
          "2022-09-29T00:00:00",
          "2022-10-06T00:00:00",
          "2022-10-13T00:00:00",
          "2022-10-20T00:00:00",
          "2022-10-27T00:00:00",
          "2022-11-03T00:00:00",
          "2022-11-10T00:00:00",
          "2022-11-17T00:00:00",
          "2022-11-24T00:00:00",
          "2022-12-01T00:00:00",
          "2022-12-08T00:00:00",
          "2022-12-15T00:00:00",
          "2022-12-22T00:00:00",
          "2022-12-29T00:00:00",
          "2023-01-05T00:00:00",
          "2023-01-12T00:00:00",
          "2023-01-19T00:00:00",
          "2023-01-26T00:00:00"
         ],
         "y": [
          199792.2236328125,
          199758.894241333,
          199913.81939697266,
          199873.5136871338,
          200029.61376953125,
          200165.16255187988,
          200193.33485412598,
          200059.63314819336,
          200050.85858154297,
          200039.7734527588,
          200040.92930603027,
          200320.56950378418,
          200417.55436706543,
          200511.0754852295,
          200328.6509399414,
          203174.13726039886,
          202871.05589862823,
          202879.40290542602,
          202791.23835273742,
          202928.62204738616,
          203256.42174907684,
          202678.17008777618,
          203253.02981563567,
          203068.4769763565,
          203425.46373458861,
          203722.0980624771,
          203622.55190654754,
          203878.81658836364,
          201844.41500183105,
          201250.77387996673,
          200985.06661697387,
          201288.00428577422,
          201302.51072784423,
          201477.79054447173,
          201624.39831062316,
          201854.73918243407,
          201153.61509319305,
          200650.6724557495,
          200368.1493787384,
          200833.9938306427,
          200822.43909164428,
          201831.68131786346,
          202844.35537963867,
          202059.87969547271,
          201004.746712265,
          201863.7240768051,
          202439.23990016937,
          203174.39773723602,
          203226.25286361694,
          204569.56416770935,
          204232.8640896988,
          203880.7043969345,
          204006.03867218018,
          203204.14390060425,
          200713.91653224945,
          200824.25967380524,
          200454.03406879425,
          199556.2523047638,
          194133.61362621307,
          194836.85315105438,
          187130.1130888176,
          187071.7884480667,
          193010.9045254898,
          190895.0467698288,
          193044.79876205444,
          193446.96899291992,
          195656.87462112427,
          196861.89949676514,
          198364.37869235993,
          197128.123673172,
          200038.6694972229,
          200982.57521507263,
          204056.59475681305,
          201420.16589996338,
          204924.30226776123,
          203751.99345371246,
          205422.54645988464,
          206921.43970558167,
          206140.84791728974,
          206622.58751556397,
          206490.17745658875,
          211174.1794154358,
          210206.23881980896,
          210603.4454858017,
          211899.6913125229,
          212324.54062721253,
          209885.69396087647,
          213455.09545585632,
          212187.38901493073,
          215786.58086845398,
          217658.5707080078,
          217092.06403324127,
          215687.05624362946,
          213190.45886585236,
          216894.41977855682,
          212342.5006148529,
          214246.37321540833,
          218572.68657180786,
          215990.92657157898,
          215732.91563674927,
          219794.60235855103,
          223384.83575698853,
          223536.4048335266,
          228569.62462684631,
          229552.71757671356,
          231904.45955059052,
          227433.16907569885,
          227657.7651040268,
          233709.1674582672,
          231341.84251472473,
          227253.24315998078,
          220799.84480163574,
          224749.15377876282,
          222620.39380714417,
          220479.38306591034,
          224911.0643698883,
          225562.65348407745,
          228010.51741605758,
          266097.6334769726,
          269863.2858147621,
          261438.14182019234,
          245383.59527373314,
          258382.4882993698,
          267331.6779572964,
          267661.3781962395,
          276136.90385222435,
          268455.4238374233,
          273303.1901125908,
          270261.17072224617,
          265984.8796069622,
          265178.8092699051,
          272586.7501540184,
          278664.60840415955,
          280240.10497522354,
          279251.54460287094,
          263508.6194882393,
          275308.8490829468,
          282628.8710298538,
          275182.6460323334,
          269123.8106241226,
          271008.7651767731,
          262900.56041431427,
          262185.5746240616,
          270747.19519615173,
          276563.12223625183,
          273051.62193870544,
          272775.6597881317,
          272044.411591053,
          270085.51183366776,
          246565.37943935394,
          239023.36643600464,
          245233.21337342262,
          239503.7695260048,
          245406.20992827415,
          258651.06562420845,
          268968.2146041775,
          263629.7100439453,
          255051.76851688387,
          241800.9509605217,
          247671.1686944771,
          258259.9465574646,
          249605.03615285872,
          247908.24490898132,
          256167.85445611953,
          250977.87515857696,
          254309.90686590195,
          258536.50717035294,
          256220.44893554688,
          253624.40533769608,
          231304.69619272233,
          222074.4478448105,
          216195.15680994032,
          199354.63732910156,
          178099.39712625503,
          178656.21648617744,
          178637.8490070343,
          185093.19734760284,
          181747.18841530802,
          172144.10440431596,
          177049.68938546182,
          175036.22905720712,
          178809.8016006279,
          170381.95554356577,
          179136.89619904518,
          175284.43432226183,
          184316.3919563675,
          187882.52034874915,
          186229.369456501,
          180716.57353629114,
          171856.96937606813,
          173175.36751077653,
          172152.5873841095,
          169307.47418784144,
          167673.8789982605,
          171945.22850320817,
          169740.47746465684,
          169806.08432195664,
          173939.61319396974,
          169978.51041124345,
          175654.22391913415,
          173613.06947229386,
          177714.78433797837,
          178148.05471847535,
          176593.99654148103,
          173407.77967904092,
          172790.21257231713,
          173444.153930645,
          173769.5301253605,
          176598.1552808094,
          178935.0278487015,
          180556.50075076104
         ]
        }
       ],
       "layout": {
        "template": {
         "data": {
          "bar": [
           {
            "error_x": {
             "color": "#2a3f5f"
            },
            "error_y": {
             "color": "#2a3f5f"
            },
            "marker": {
             "line": {
              "color": "#E5ECF6",
              "width": 0.5
             },
             "pattern": {
              "fillmode": "overlay",
              "size": 10,
              "solidity": 0.2
             }
            },
            "type": "bar"
           }
          ],
          "barpolar": [
           {
            "marker": {
             "line": {
              "color": "#E5ECF6",
              "width": 0.5
             },
             "pattern": {
              "fillmode": "overlay",
              "size": 10,
              "solidity": 0.2
             }
            },
            "type": "barpolar"
           }
          ],
          "carpet": [
           {
            "aaxis": {
             "endlinecolor": "#2a3f5f",
             "gridcolor": "white",
             "linecolor": "white",
             "minorgridcolor": "white",
             "startlinecolor": "#2a3f5f"
            },
            "baxis": {
             "endlinecolor": "#2a3f5f",
             "gridcolor": "white",
             "linecolor": "white",
             "minorgridcolor": "white",
             "startlinecolor": "#2a3f5f"
            },
            "type": "carpet"
           }
          ],
          "choropleth": [
           {
            "colorbar": {
             "outlinewidth": 0,
             "ticks": ""
            },
            "type": "choropleth"
           }
          ],
          "contour": [
           {
            "colorbar": {
             "outlinewidth": 0,
             "ticks": ""
            },
            "colorscale": [
             [
              0,
              "#0d0887"
             ],
             [
              0.1111111111111111,
              "#46039f"
             ],
             [
              0.2222222222222222,
              "#7201a8"
             ],
             [
              0.3333333333333333,
              "#9c179e"
             ],
             [
              0.4444444444444444,
              "#bd3786"
             ],
             [
              0.5555555555555556,
              "#d8576b"
             ],
             [
              0.6666666666666666,
              "#ed7953"
             ],
             [
              0.7777777777777778,
              "#fb9f3a"
             ],
             [
              0.8888888888888888,
              "#fdca26"
             ],
             [
              1,
              "#f0f921"
             ]
            ],
            "type": "contour"
           }
          ],
          "contourcarpet": [
           {
            "colorbar": {
             "outlinewidth": 0,
             "ticks": ""
            },
            "type": "contourcarpet"
           }
          ],
          "heatmap": [
           {
            "colorbar": {
             "outlinewidth": 0,
             "ticks": ""
            },
            "colorscale": [
             [
              0,
              "#0d0887"
             ],
             [
              0.1111111111111111,
              "#46039f"
             ],
             [
              0.2222222222222222,
              "#7201a8"
             ],
             [
              0.3333333333333333,
              "#9c179e"
             ],
             [
              0.4444444444444444,
              "#bd3786"
             ],
             [
              0.5555555555555556,
              "#d8576b"
             ],
             [
              0.6666666666666666,
              "#ed7953"
             ],
             [
              0.7777777777777778,
              "#fb9f3a"
             ],
             [
              0.8888888888888888,
              "#fdca26"
             ],
             [
              1,
              "#f0f921"
             ]
            ],
            "type": "heatmap"
           }
          ],
          "heatmapgl": [
           {
            "colorbar": {
             "outlinewidth": 0,
             "ticks": ""
            },
            "colorscale": [
             [
              0,
              "#0d0887"
             ],
             [
              0.1111111111111111,
              "#46039f"
             ],
             [
              0.2222222222222222,
              "#7201a8"
             ],
             [
              0.3333333333333333,
              "#9c179e"
             ],
             [
              0.4444444444444444,
              "#bd3786"
             ],
             [
              0.5555555555555556,
              "#d8576b"
             ],
             [
              0.6666666666666666,
              "#ed7953"
             ],
             [
              0.7777777777777778,
              "#fb9f3a"
             ],
             [
              0.8888888888888888,
              "#fdca26"
             ],
             [
              1,
              "#f0f921"
             ]
            ],
            "type": "heatmapgl"
           }
          ],
          "histogram": [
           {
            "marker": {
             "pattern": {
              "fillmode": "overlay",
              "size": 10,
              "solidity": 0.2
             }
            },
            "type": "histogram"
           }
          ],
          "histogram2d": [
           {
            "colorbar": {
             "outlinewidth": 0,
             "ticks": ""
            },
            "colorscale": [
             [
              0,
              "#0d0887"
             ],
             [
              0.1111111111111111,
              "#46039f"
             ],
             [
              0.2222222222222222,
              "#7201a8"
             ],
             [
              0.3333333333333333,
              "#9c179e"
             ],
             [
              0.4444444444444444,
              "#bd3786"
             ],
             [
              0.5555555555555556,
              "#d8576b"
             ],
             [
              0.6666666666666666,
              "#ed7953"
             ],
             [
              0.7777777777777778,
              "#fb9f3a"
             ],
             [
              0.8888888888888888,
              "#fdca26"
             ],
             [
              1,
              "#f0f921"
             ]
            ],
            "type": "histogram2d"
           }
          ],
          "histogram2dcontour": [
           {
            "colorbar": {
             "outlinewidth": 0,
             "ticks": ""
            },
            "colorscale": [
             [
              0,
              "#0d0887"
             ],
             [
              0.1111111111111111,
              "#46039f"
             ],
             [
              0.2222222222222222,
              "#7201a8"
             ],
             [
              0.3333333333333333,
              "#9c179e"
             ],
             [
              0.4444444444444444,
              "#bd3786"
             ],
             [
              0.5555555555555556,
              "#d8576b"
             ],
             [
              0.6666666666666666,
              "#ed7953"
             ],
             [
              0.7777777777777778,
              "#fb9f3a"
             ],
             [
              0.8888888888888888,
              "#fdca26"
             ],
             [
              1,
              "#f0f921"
             ]
            ],
            "type": "histogram2dcontour"
           }
          ],
          "mesh3d": [
           {
            "colorbar": {
             "outlinewidth": 0,
             "ticks": ""
            },
            "type": "mesh3d"
           }
          ],
          "parcoords": [
           {
            "line": {
             "colorbar": {
              "outlinewidth": 0,
              "ticks": ""
             }
            },
            "type": "parcoords"
           }
          ],
          "pie": [
           {
            "automargin": true,
            "type": "pie"
           }
          ],
          "scatter": [
           {
            "marker": {
             "colorbar": {
              "outlinewidth": 0,
              "ticks": ""
             }
            },
            "type": "scatter"
           }
          ],
          "scatter3d": [
           {
            "line": {
             "colorbar": {
              "outlinewidth": 0,
              "ticks": ""
             }
            },
            "marker": {
             "colorbar": {
              "outlinewidth": 0,
              "ticks": ""
             }
            },
            "type": "scatter3d"
           }
          ],
          "scattercarpet": [
           {
            "marker": {
             "colorbar": {
              "outlinewidth": 0,
              "ticks": ""
             }
            },
            "type": "scattercarpet"
           }
          ],
          "scattergeo": [
           {
            "marker": {
             "colorbar": {
              "outlinewidth": 0,
              "ticks": ""
             }
            },
            "type": "scattergeo"
           }
          ],
          "scattergl": [
           {
            "marker": {
             "colorbar": {
              "outlinewidth": 0,
              "ticks": ""
             }
            },
            "type": "scattergl"
           }
          ],
          "scattermapbox": [
           {
            "marker": {
             "colorbar": {
              "outlinewidth": 0,
              "ticks": ""
             }
            },
            "type": "scattermapbox"
           }
          ],
          "scatterpolar": [
           {
            "marker": {
             "colorbar": {
              "outlinewidth": 0,
              "ticks": ""
             }
            },
            "type": "scatterpolar"
           }
          ],
          "scatterpolargl": [
           {
            "marker": {
             "colorbar": {
              "outlinewidth": 0,
              "ticks": ""
             }
            },
            "type": "scatterpolargl"
           }
          ],
          "scatterternary": [
           {
            "marker": {
             "colorbar": {
              "outlinewidth": 0,
              "ticks": ""
             }
            },
            "type": "scatterternary"
           }
          ],
          "surface": [
           {
            "colorbar": {
             "outlinewidth": 0,
             "ticks": ""
            },
            "colorscale": [
             [
              0,
              "#0d0887"
             ],
             [
              0.1111111111111111,
              "#46039f"
             ],
             [
              0.2222222222222222,
              "#7201a8"
             ],
             [
              0.3333333333333333,
              "#9c179e"
             ],
             [
              0.4444444444444444,
              "#bd3786"
             ],
             [
              0.5555555555555556,
              "#d8576b"
             ],
             [
              0.6666666666666666,
              "#ed7953"
             ],
             [
              0.7777777777777778,
              "#fb9f3a"
             ],
             [
              0.8888888888888888,
              "#fdca26"
             ],
             [
              1,
              "#f0f921"
             ]
            ],
            "type": "surface"
           }
          ],
          "table": [
           {
            "cells": {
             "fill": {
              "color": "#EBF0F8"
             },
             "line": {
              "color": "white"
             }
            },
            "header": {
             "fill": {
              "color": "#C8D4E3"
             },
             "line": {
              "color": "white"
             }
            },
            "type": "table"
           }
          ]
         },
         "layout": {
          "annotationdefaults": {
           "arrowcolor": "#2a3f5f",
           "arrowhead": 0,
           "arrowwidth": 1
          },
          "autotypenumbers": "strict",
          "coloraxis": {
           "colorbar": {
            "outlinewidth": 0,
            "ticks": ""
           }
          },
          "colorscale": {
           "diverging": [
            [
             0,
             "#8e0152"
            ],
            [
             0.1,
             "#c51b7d"
            ],
            [
             0.2,
             "#de77ae"
            ],
            [
             0.3,
             "#f1b6da"
            ],
            [
             0.4,
             "#fde0ef"
            ],
            [
             0.5,
             "#f7f7f7"
            ],
            [
             0.6,
             "#e6f5d0"
            ],
            [
             0.7,
             "#b8e186"
            ],
            [
             0.8,
             "#7fbc41"
            ],
            [
             0.9,
             "#4d9221"
            ],
            [
             1,
             "#276419"
            ]
           ],
           "sequential": [
            [
             0,
             "#0d0887"
            ],
            [
             0.1111111111111111,
             "#46039f"
            ],
            [
             0.2222222222222222,
             "#7201a8"
            ],
            [
             0.3333333333333333,
             "#9c179e"
            ],
            [
             0.4444444444444444,
             "#bd3786"
            ],
            [
             0.5555555555555556,
             "#d8576b"
            ],
            [
             0.6666666666666666,
             "#ed7953"
            ],
            [
             0.7777777777777778,
             "#fb9f3a"
            ],
            [
             0.8888888888888888,
             "#fdca26"
            ],
            [
             1,
             "#f0f921"
            ]
           ],
           "sequentialminus": [
            [
             0,
             "#0d0887"
            ],
            [
             0.1111111111111111,
             "#46039f"
            ],
            [
             0.2222222222222222,
             "#7201a8"
            ],
            [
             0.3333333333333333,
             "#9c179e"
            ],
            [
             0.4444444444444444,
             "#bd3786"
            ],
            [
             0.5555555555555556,
             "#d8576b"
            ],
            [
             0.6666666666666666,
             "#ed7953"
            ],
            [
             0.7777777777777778,
             "#fb9f3a"
            ],
            [
             0.8888888888888888,
             "#fdca26"
            ],
            [
             1,
             "#f0f921"
            ]
           ]
          },
          "colorway": [
           "#636efa",
           "#EF553B",
           "#00cc96",
           "#ab63fa",
           "#FFA15A",
           "#19d3f3",
           "#FF6692",
           "#B6E880",
           "#FF97FF",
           "#FECB52"
          ],
          "font": {
           "color": "#2a3f5f"
          },
          "geo": {
           "bgcolor": "white",
           "lakecolor": "white",
           "landcolor": "#E5ECF6",
           "showlakes": true,
           "showland": true,
           "subunitcolor": "white"
          },
          "hoverlabel": {
           "align": "left"
          },
          "hovermode": "closest",
          "mapbox": {
           "style": "light"
          },
          "paper_bgcolor": "white",
          "plot_bgcolor": "#E5ECF6",
          "polar": {
           "angularaxis": {
            "gridcolor": "white",
            "linecolor": "white",
            "ticks": ""
           },
           "bgcolor": "#E5ECF6",
           "radialaxis": {
            "gridcolor": "white",
            "linecolor": "white",
            "ticks": ""
           }
          },
          "scene": {
           "xaxis": {
            "backgroundcolor": "#E5ECF6",
            "gridcolor": "white",
            "gridwidth": 2,
            "linecolor": "white",
            "showbackground": true,
            "ticks": "",
            "zerolinecolor": "white"
           },
           "yaxis": {
            "backgroundcolor": "#E5ECF6",
            "gridcolor": "white",
            "gridwidth": 2,
            "linecolor": "white",
            "showbackground": true,
            "ticks": "",
            "zerolinecolor": "white"
           },
           "zaxis": {
            "backgroundcolor": "#E5ECF6",
            "gridcolor": "white",
            "gridwidth": 2,
            "linecolor": "white",
            "showbackground": true,
            "ticks": "",
            "zerolinecolor": "white"
           }
          },
          "shapedefaults": {
           "line": {
            "color": "#2a3f5f"
           }
          },
          "ternary": {
           "aaxis": {
            "gridcolor": "white",
            "linecolor": "white",
            "ticks": ""
           },
           "baxis": {
            "gridcolor": "white",
            "linecolor": "white",
            "ticks": ""
           },
           "bgcolor": "#E5ECF6",
           "caxis": {
            "gridcolor": "white",
            "linecolor": "white",
            "ticks": ""
           }
          },
          "title": {
           "x": 0.05
          },
          "xaxis": {
           "automargin": true,
           "gridcolor": "white",
           "linecolor": "white",
           "ticks": "",
           "title": {
            "standoff": 15
           },
           "zerolinecolor": "white",
           "zerolinewidth": 2
          },
          "yaxis": {
           "automargin": true,
           "gridcolor": "white",
           "linecolor": "white",
           "ticks": "",
           "title": {
            "standoff": 15
           },
           "zerolinecolor": "white",
           "zerolinewidth": 2
          }
         }
        }
       }
      }
     },
     "metadata": {},
     "output_type": "display_data"
    }
   ],
   "source": [
    "# Plot the portfolio value over time\n",
    "fig = go.Figure()\n",
    "fig.add_trace(go.Scatter(x=list(agg_values_vF.keys()), y=list(agg_values_vF.values()),\n",
    "                    mode='lines',\n",
    "                    name='lines'))\n",
    "fig.show()"
   ]
  },
  {
   "cell_type": "code",
   "execution_count": null,
   "metadata": {},
   "outputs": [],
   "source": [
    "# Running the same thing but for the \"rational\" portfolio\n"
   ]
  },
  {
   "cell_type": "code",
   "execution_count": 43,
   "metadata": {},
   "outputs": [
    {
     "data": {
      "text/html": [
       "<div>\n",
       "<style scoped>\n",
       "    .dataframe tbody tr th:only-of-type {\n",
       "        vertical-align: middle;\n",
       "    }\n",
       "\n",
       "    .dataframe tbody tr th {\n",
       "        vertical-align: top;\n",
       "    }\n",
       "\n",
       "    .dataframe thead th {\n",
       "        text-align: right;\n",
       "    }\n",
       "</style>\n",
       "<table border=\"1\" class=\"dataframe\">\n",
       "  <thead>\n",
       "    <tr style=\"text-align: right;\">\n",
       "      <th></th>\n",
       "      <th>ticker</th>\n",
       "      <th>qty</th>\n",
       "      <th>price</th>\n",
       "      <th>date</th>\n",
       "    </tr>\n",
       "  </thead>\n",
       "  <tbody>\n",
       "    <tr>\n",
       "      <th>0</th>\n",
       "      <td>CASH</td>\n",
       "      <td>200000.00</td>\n",
       "      <td>1.00</td>\n",
       "      <td>2019-01-09</td>\n",
       "    </tr>\n",
       "    <tr>\n",
       "      <th>0</th>\n",
       "      <td>PH</td>\n",
       "      <td>25.00</td>\n",
       "      <td>157.98</td>\n",
       "      <td>2019-01-09</td>\n",
       "    </tr>\n",
       "    <tr>\n",
       "      <th>0</th>\n",
       "      <td>CASH</td>\n",
       "      <td>-3874.50</td>\n",
       "      <td>1.00</td>\n",
       "      <td>2019-01-09</td>\n",
       "    </tr>\n",
       "    <tr>\n",
       "      <th>0</th>\n",
       "      <td>NTDOY</td>\n",
       "      <td>725.00</td>\n",
       "      <td>8.61</td>\n",
       "      <td>2019-04-26</td>\n",
       "    </tr>\n",
       "    <tr>\n",
       "      <th>0</th>\n",
       "      <td>CASH</td>\n",
       "      <td>-6242.25</td>\n",
       "      <td>1.00</td>\n",
       "      <td>2019-04-26</td>\n",
       "    </tr>\n",
       "  </tbody>\n",
       "</table>\n",
       "</div>"
      ],
      "text/plain": [
       "  ticker        qty   price       date\n",
       "0   CASH  200000.00    1.00 2019-01-09\n",
       "0     PH      25.00  157.98 2019-01-09\n",
       "0   CASH   -3874.50    1.00 2019-01-09\n",
       "0  NTDOY     725.00    8.61 2019-04-26\n",
       "0   CASH   -6242.25    1.00 2019-04-26"
      ]
     },
     "execution_count": 43,
     "metadata": {},
     "output_type": "execute_result"
    }
   ],
   "source": [
    "transactions_rational = pd.read_excel('../data/Investment_Transaction_Detail (1) copy2.xlsx')\n",
    "transactions_rational.head()\n",
    "\n",
    "trades_rational = []\n",
    "for i in range(len(transactions_rational)):\n",
    "    trade = Trade(ticker=transactions_rational['Ticker'][i],\n",
    "                  date=transactions_rational['Date'][i],\n",
    "                  qty=transactions_rational['Quantity'][i],\n",
    "                  price=transactions_rational['Value'][i] / transactions_rational['Quantity'][i])\n",
    "    trades_rational.append(trade)\n",
    "\n",
    "pb_rational = PortfolioBuilder(trades_rational, backup_price_data=backup_data)\n",
    "transactions_rational = pb_rational.get_transactions()\n",
    "transactions_rational.head()"
   ]
  },
  {
   "cell_type": "code",
   "execution_count": 44,
   "metadata": {},
   "outputs": [
    {
     "name": "stdout",
     "output_type": "stream",
     "text": [
      "2019-01-17 00:00:00\n",
      "2019-01-24 00:00:00\n",
      "2019-01-31 00:00:00\n",
      "2019-02-07 00:00:00\n",
      "2019-02-14 00:00:00\n",
      "2019-02-21 00:00:00\n",
      "2019-02-28 00:00:00\n",
      "2019-03-07 00:00:00\n",
      "2019-03-14 00:00:00\n",
      "2019-03-21 00:00:00\n",
      "2019-03-28 00:00:00\n",
      "2019-04-04 00:00:00\n",
      "2019-04-11 00:00:00\n",
      "2019-04-18 00:00:00\n",
      "2019-04-25 00:00:00\n",
      "2019-05-02 00:00:00\n",
      "2019-05-09 00:00:00\n",
      "2019-05-16 00:00:00\n",
      "2019-05-23 00:00:00\n",
      "2019-05-30 00:00:00\n",
      "2019-06-06 00:00:00\n",
      "2019-06-13 00:00:00\n",
      "2019-06-20 00:00:00\n",
      "2019-06-27 00:00:00\n",
      "2019-07-04 00:00:00\n",
      "2019-07-11 00:00:00\n",
      "2019-07-18 00:00:00\n",
      "2019-07-25 00:00:00\n",
      "2019-08-01 00:00:00\n",
      "2019-08-08 00:00:00\n",
      "2019-08-15 00:00:00\n",
      "2019-08-22 00:00:00\n",
      "2019-08-29 00:00:00\n",
      "2019-09-05 00:00:00\n",
      "2019-09-12 00:00:00\n",
      "2019-09-19 00:00:00\n",
      "2019-09-26 00:00:00\n",
      "2019-10-03 00:00:00\n",
      "2019-10-10 00:00:00\n",
      "2019-10-17 00:00:00\n",
      "2019-10-24 00:00:00\n",
      "2019-10-31 00:00:00\n",
      "2019-11-07 00:00:00\n",
      "2019-11-14 00:00:00\n",
      "2019-11-21 00:00:00\n",
      "2019-11-28 00:00:00\n",
      "2019-12-05 00:00:00\n",
      "2019-12-12 00:00:00\n",
      "2019-12-19 00:00:00\n",
      "2019-12-26 00:00:00\n",
      "2020-01-02 00:00:00\n",
      "2020-01-09 00:00:00\n",
      "2020-01-16 00:00:00\n",
      "2020-01-23 00:00:00\n",
      "2020-01-30 00:00:00\n",
      "2020-02-06 00:00:00\n",
      "2020-02-13 00:00:00\n",
      "2020-02-20 00:00:00\n",
      "2020-02-27 00:00:00\n",
      "2020-03-05 00:00:00\n",
      "2020-03-12 00:00:00\n",
      "2020-03-19 00:00:00\n",
      "2020-03-26 00:00:00\n",
      "2020-04-02 00:00:00\n",
      "2020-04-09 00:00:00\n",
      "2020-04-16 00:00:00\n",
      "2020-04-23 00:00:00\n",
      "2020-04-30 00:00:00\n",
      "2020-05-07 00:00:00\n",
      "2020-05-14 00:00:00\n",
      "2020-05-21 00:00:00\n",
      "2020-05-28 00:00:00\n",
      "2020-06-04 00:00:00\n",
      "2020-06-11 00:00:00\n",
      "2020-06-18 00:00:00\n",
      "2020-06-25 00:00:00\n",
      "2020-07-02 00:00:00\n",
      "2020-07-09 00:00:00\n",
      "2020-07-16 00:00:00\n",
      "2020-07-23 00:00:00\n",
      "2020-07-30 00:00:00\n",
      "2020-08-06 00:00:00\n",
      "2020-08-13 00:00:00\n",
      "2020-08-20 00:00:00\n",
      "2020-08-27 00:00:00\n",
      "2020-09-03 00:00:00\n",
      "2020-09-10 00:00:00\n",
      "2020-09-17 00:00:00\n",
      "2020-09-24 00:00:00\n",
      "2020-10-01 00:00:00\n",
      "2020-10-08 00:00:00\n",
      "2020-10-15 00:00:00\n",
      "2020-10-22 00:00:00\n",
      "2020-10-29 00:00:00\n",
      "2020-11-05 00:00:00\n",
      "2020-11-12 00:00:00\n",
      "2020-11-19 00:00:00\n",
      "2020-11-26 00:00:00\n",
      "2020-12-03 00:00:00\n",
      "2020-12-10 00:00:00\n",
      "2020-12-17 00:00:00\n",
      "2020-12-24 00:00:00\n",
      "2020-12-31 00:00:00\n",
      "2021-01-07 00:00:00\n",
      "2021-01-14 00:00:00\n",
      "2021-01-21 00:00:00\n",
      "2021-01-28 00:00:00\n",
      "2021-02-04 00:00:00\n",
      "2021-02-11 00:00:00\n",
      "2021-02-18 00:00:00\n",
      "2021-02-25 00:00:00\n",
      "2021-03-04 00:00:00\n",
      "2021-03-11 00:00:00\n",
      "2021-03-18 00:00:00\n",
      "2021-03-25 00:00:00\n",
      "2021-04-01 00:00:00\n",
      "2021-04-08 00:00:00\n",
      "2021-04-15 00:00:00\n",
      "2021-04-22 00:00:00\n",
      "2021-04-29 00:00:00\n",
      "2021-05-06 00:00:00\n",
      "2021-05-13 00:00:00\n",
      "2021-05-20 00:00:00\n",
      "2021-05-27 00:00:00\n",
      "2021-06-03 00:00:00\n",
      "2021-06-10 00:00:00\n",
      "2021-06-17 00:00:00\n",
      "2021-06-24 00:00:00\n",
      "2021-07-01 00:00:00\n",
      "2021-07-08 00:00:00\n",
      "2021-07-15 00:00:00\n",
      "2021-07-22 00:00:00\n",
      "2021-07-29 00:00:00\n",
      "2021-08-05 00:00:00\n",
      "2021-08-12 00:00:00\n",
      "2021-08-19 00:00:00\n",
      "2021-08-26 00:00:00\n",
      "2021-09-02 00:00:00\n",
      "2021-09-09 00:00:00\n",
      "2021-09-16 00:00:00\n",
      "2021-09-23 00:00:00\n",
      "2021-09-30 00:00:00\n",
      "2021-10-07 00:00:00\n",
      "2021-10-14 00:00:00\n",
      "2021-10-21 00:00:00\n",
      "2021-10-28 00:00:00\n",
      "2021-11-04 00:00:00\n",
      "2021-11-11 00:00:00\n",
      "2021-11-18 00:00:00\n",
      "2021-11-25 00:00:00\n",
      "2021-12-02 00:00:00\n",
      "2021-12-09 00:00:00\n",
      "2021-12-16 00:00:00\n",
      "2021-12-23 00:00:00\n",
      "2021-12-30 00:00:00\n",
      "Got error from yahoo api for ticker ECOM, Error: {'code': 'Not Found', 'description': 'No data found, symbol may be delisted'}\n",
      "- ECOM: No timezone found, symbol may be delisted\n",
      "MAXR: No data found, symbol may be delisted\n",
      "2022-01-06 00:00:00\n",
      "Got error from yahoo api for ticker ECOM, Error: {'code': 'Not Found', 'description': 'No data found, symbol may be delisted'}\n",
      "- ECOM: No timezone found, symbol may be delisted\n",
      "MAXR: No data found, symbol may be delisted\n",
      "2022-01-13 00:00:00\n",
      "Got error from yahoo api for ticker ECOM, Error: {'code': 'Not Found', 'description': 'No data found, symbol may be delisted'}\n",
      "- ECOM: No timezone found, symbol may be delisted\n",
      "MAXR: No data found, symbol may be delisted\n",
      "2022-01-20 00:00:00\n",
      "Got error from yahoo api for ticker ECOM, Error: {'code': 'Not Found', 'description': 'No data found, symbol may be delisted'}\n",
      "- ECOM: No timezone found, symbol may be delisted\n",
      "MAXR: No data found, symbol may be delisted\n",
      "2022-01-27 00:00:00\n",
      "Got error from yahoo api for ticker ECOM, Error: {'code': 'Not Found', 'description': 'No data found, symbol may be delisted'}\n",
      "- ECOM: No timezone found, symbol may be delisted\n",
      "MAXR: No data found, symbol may be delisted\n",
      "2022-02-03 00:00:00\n",
      "Got error from yahoo api for ticker ECOM, Error: {'code': 'Not Found', 'description': 'No data found, symbol may be delisted'}\n",
      "- ECOM: No timezone found, symbol may be delisted\n",
      "MAXR: No data found, symbol may be delisted\n",
      "2022-02-10 00:00:00\n",
      "Got error from yahoo api for ticker ECOM, Error: {'code': 'Not Found', 'description': 'No data found, symbol may be delisted'}\n",
      "- ECOM: No timezone found, symbol may be delisted\n",
      "MAXR: No data found, symbol may be delisted\n",
      "2022-02-17 00:00:00\n",
      "Got error from yahoo api for ticker ECOM, Error: {'code': 'Not Found', 'description': 'No data found, symbol may be delisted'}\n",
      "- ECOM: No timezone found, symbol may be delisted\n",
      "MAXR: No data found, symbol may be delisted\n",
      "2022-02-24 00:00:00\n",
      "Got error from yahoo api for ticker ECOM, Error: {'code': 'Not Found', 'description': 'No data found, symbol may be delisted'}\n",
      "- ECOM: No timezone found, symbol may be delisted\n",
      "MAXR: No data found, symbol may be delisted\n",
      "2022-03-03 00:00:00\n",
      "Got error from yahoo api for ticker ECOM, Error: {'code': 'Not Found', 'description': 'No data found, symbol may be delisted'}\n",
      "- ECOM: No timezone found, symbol may be delisted\n",
      "MAXR: No data found, symbol may be delisted\n",
      "2022-03-10 00:00:00\n",
      "Got error from yahoo api for ticker ECOM, Error: {'code': 'Not Found', 'description': 'No data found, symbol may be delisted'}\n",
      "- ECOM: No timezone found, symbol may be delisted\n",
      "MAXR: No data found, symbol may be delisted\n",
      "2022-03-17 00:00:00\n",
      "Got error from yahoo api for ticker ECOM, Error: {'code': 'Not Found', 'description': 'No data found, symbol may be delisted'}\n",
      "- ECOM: No timezone found, symbol may be delisted\n",
      "MAXR: No data found, symbol may be delisted\n",
      "2022-03-24 00:00:00\n",
      "Got error from yahoo api for ticker ECOM, Error: {'code': 'Not Found', 'description': 'No data found, symbol may be delisted'}\n",
      "- ECOM: No timezone found, symbol may be delisted\n",
      "MAXR: No data found, symbol may be delisted\n",
      "2022-03-31 00:00:00\n",
      "Got error from yahoo api for ticker ECOM, Error: {'code': 'Not Found', 'description': 'No data found, symbol may be delisted'}\n",
      "- ECOM: No timezone found, symbol may be delisted\n",
      "MAXR: No data found, symbol may be delisted\n",
      "2022-04-07 00:00:00\n",
      "Got error from yahoo api for ticker ECOM, Error: {'code': 'Not Found', 'description': 'No data found, symbol may be delisted'}\n",
      "- ECOM: No timezone found, symbol may be delisted\n",
      "MAXR: No data found, symbol may be delisted\n",
      "2022-04-14 00:00:00\n",
      "Got error from yahoo api for ticker ECOM, Error: {'code': 'Not Found', 'description': 'No data found, symbol may be delisted'}\n",
      "- ECOM: No timezone found, symbol may be delisted\n",
      "MAXR: No data found, symbol may be delisted\n",
      "2022-04-21 00:00:00\n",
      "Got error from yahoo api for ticker ECOM, Error: {'code': 'Not Found', 'description': 'No data found, symbol may be delisted'}\n",
      "- ECOM: No timezone found, symbol may be delisted\n",
      "MAXR: No data found, symbol may be delisted\n",
      "2022-04-28 00:00:00\n",
      "Got error from yahoo api for ticker ECOM, Error: {'code': 'Not Found', 'description': 'No data found, symbol may be delisted'}\n",
      "- ECOM: No timezone found, symbol may be delisted\n",
      "MAXR: No data found, symbol may be delisted\n",
      "2022-05-05 00:00:00\n",
      "Got error from yahoo api for ticker ECOM, Error: {'code': 'Not Found', 'description': 'No data found, symbol may be delisted'}\n",
      "- ECOM: No timezone found, symbol may be delisted\n",
      "MAXR: No data found, symbol may be delisted\n",
      "2022-05-12 00:00:00\n",
      "Got error from yahoo api for ticker ECOM, Error: {'code': 'Not Found', 'description': 'No data found, symbol may be delisted'}\n",
      "- ECOM: No timezone found, symbol may be delisted\n",
      "MAXR: No data found, symbol may be delisted\n",
      "2022-05-19 00:00:00\n",
      "Got error from yahoo api for ticker ECOM, Error: {'code': 'Not Found', 'description': 'No data found, symbol may be delisted'}\n",
      "- ECOM: No timezone found, symbol may be delisted\n",
      "MAXR: No data found, symbol may be delisted\n",
      "2022-05-26 00:00:00\n",
      "Got error from yahoo api for ticker ECOM, Error: {'code': 'Not Found', 'description': 'No data found, symbol may be delisted'}\n",
      "- ECOM: No timezone found, symbol may be delisted\n",
      "MAXR: No data found, symbol may be delisted\n",
      "2022-06-02 00:00:00\n",
      "Got error from yahoo api for ticker ECOM, Error: {'code': 'Not Found', 'description': 'No data found, symbol may be delisted'}\n",
      "- ECOM: No timezone found, symbol may be delisted\n",
      "MAXR: No data found, symbol may be delisted\n",
      "2022-06-09 00:00:00\n",
      "Got error from yahoo api for ticker ECOM, Error: {'code': 'Not Found', 'description': 'No data found, symbol may be delisted'}\n",
      "- ECOM: No timezone found, symbol may be delisted\n",
      "MAXR: No data found, symbol may be delisted\n",
      "2022-06-16 00:00:00\n",
      "Got error from yahoo api for ticker ECOM, Error: {'code': 'Not Found', 'description': 'No data found, symbol may be delisted'}\n",
      "- ECOM: No timezone found, symbol may be delisted\n",
      "MAXR: No data found, symbol may be delisted\n",
      "2022-06-23 00:00:00\n",
      "Got error from yahoo api for ticker ECOM, Error: {'code': 'Not Found', 'description': 'No data found, symbol may be delisted'}\n",
      "- ECOM: No timezone found, symbol may be delisted\n",
      "MAXR: No data found, symbol may be delisted\n",
      "2022-06-30 00:00:00\n",
      "Got error from yahoo api for ticker ECOM, Error: {'code': 'Not Found', 'description': 'No data found, symbol may be delisted'}\n",
      "- ECOM: No timezone found, symbol may be delisted\n",
      "MAXR: No data found, symbol may be delisted\n",
      "2022-07-07 00:00:00\n",
      "Got error from yahoo api for ticker ECOM, Error: {'code': 'Not Found', 'description': 'No data found, symbol may be delisted'}\n",
      "- ECOM: No timezone found, symbol may be delisted\n",
      "MAXR: No data found, symbol may be delisted\n",
      "2022-07-14 00:00:00\n",
      "Got error from yahoo api for ticker ECOM, Error: {'code': 'Not Found', 'description': 'No data found, symbol may be delisted'}\n",
      "- ECOM: No timezone found, symbol may be delisted\n",
      "MAXR: No data found, symbol may be delisted\n",
      "2022-07-21 00:00:00\n",
      "Got error from yahoo api for ticker ECOM, Error: {'code': 'Not Found', 'description': 'No data found, symbol may be delisted'}\n",
      "- ECOM: No timezone found, symbol may be delisted\n",
      "MAXR: No data found, symbol may be delisted\n",
      "2022-07-28 00:00:00\n",
      "Got error from yahoo api for ticker ECOM, Error: {'code': 'Not Found', 'description': 'No data found, symbol may be delisted'}\n",
      "- ECOM: No timezone found, symbol may be delisted\n",
      "MAXR: No data found, symbol may be delisted\n",
      "2022-08-04 00:00:00\n",
      "Got error from yahoo api for ticker ECOM, Error: {'code': 'Not Found', 'description': 'No data found, symbol may be delisted'}\n",
      "- ECOM: No timezone found, symbol may be delisted\n",
      "MAXR: No data found, symbol may be delisted\n",
      "2022-08-11 00:00:00\n",
      "Got error from yahoo api for ticker ECOM, Error: {'code': 'Not Found', 'description': 'No data found, symbol may be delisted'}\n",
      "- ECOM: No timezone found, symbol may be delisted\n",
      "MAXR: No data found, symbol may be delisted\n",
      "2022-08-18 00:00:00\n",
      "Got error from yahoo api for ticker ECOM, Error: {'code': 'Not Found', 'description': 'No data found, symbol may be delisted'}\n",
      "- ECOM: No timezone found, symbol may be delisted\n",
      "MAXR: No data found, symbol may be delisted\n",
      "2022-08-25 00:00:00\n",
      "Got error from yahoo api for ticker ECOM, Error: {'code': 'Not Found', 'description': 'No data found, symbol may be delisted'}\n",
      "- ECOM: No timezone found, symbol may be delisted\n",
      "MAXR: No data found, symbol may be delisted\n",
      "2022-09-01 00:00:00\n",
      "Got error from yahoo api for ticker ECOM, Error: {'code': 'Not Found', 'description': 'No data found, symbol may be delisted'}\n",
      "- ECOM: No timezone found, symbol may be delisted\n",
      "MAXR: No data found, symbol may be delisted\n",
      "2022-09-08 00:00:00\n",
      "Got error from yahoo api for ticker ECOM, Error: {'code': 'Not Found', 'description': 'No data found, symbol may be delisted'}\n",
      "- ECOM: No timezone found, symbol may be delisted\n",
      "MAXR: No data found, symbol may be delisted\n",
      "2022-09-15 00:00:00\n",
      "NTDOY: No data found for this date range, symbol may be delisted\n",
      "Got error from yahoo api for ticker ECOM, Error: {'code': 'Not Found', 'description': 'No data found, symbol may be delisted'}\n",
      "- ECOM: No timezone found, symbol may be delisted\n",
      "MAXR: No data found, symbol may be delisted\n",
      "2022-09-22 00:00:00\n",
      "Got error from yahoo api for ticker ECOM, Error: {'code': 'Not Found', 'description': 'No data found, symbol may be delisted'}\n",
      "- ECOM: No timezone found, symbol may be delisted\n",
      "MAXR: No data found, symbol may be delisted\n",
      "2022-09-29 00:00:00\n",
      "MAXR: No data found, symbol may be delisted\n",
      "2022-10-06 00:00:00\n",
      "MAXR: No data found, symbol may be delisted\n",
      "2022-10-13 00:00:00\n",
      "MAXR: No data found, symbol may be delisted\n",
      "2022-10-20 00:00:00\n",
      "MAXR: No data found, symbol may be delisted\n",
      "2022-10-27 00:00:00\n",
      "MAXR: No data found, symbol may be delisted\n",
      "2022-11-03 00:00:00\n",
      "MAXR: No data found, symbol may be delisted\n",
      "2022-11-10 00:00:00\n",
      "MAXR: No data found, symbol may be delisted\n",
      "2022-11-17 00:00:00\n",
      "MAXR: No data found, symbol may be delisted\n",
      "2022-11-24 00:00:00\n",
      "MAXR: No data found, symbol may be delisted\n",
      "2022-12-01 00:00:00\n",
      "MAXR: No data found, symbol may be delisted\n",
      "2022-12-08 00:00:00\n",
      "MAXR: No data found, symbol may be delisted\n",
      "2022-12-15 00:00:00\n",
      "MAXR: No data found, symbol may be delisted\n",
      "2022-12-22 00:00:00\n",
      "MAXR: No data found, symbol may be delisted\n",
      "2022-12-29 00:00:00\n",
      "MAXR: No data found, symbol may be delisted\n",
      "2023-01-05 00:00:00\n",
      "MAXR: No data found, symbol may be delisted\n",
      "2023-01-12 00:00:00\n",
      "MAXR: No data found, symbol may be delisted\n",
      "2023-01-19 00:00:00\n",
      "MAXR: No data found, symbol may be delisted\n",
      "2023-01-26 00:00:00\n",
      "MAXR: No data found, symbol may be delisted\n"
     ]
    },
    {
     "data": {
      "text/plain": [
       "{datetime.datetime(2019, 1, 17, 0, 0): 199792.2236328125,\n",
       " datetime.datetime(2019, 1, 24, 0, 0): 199758.89385986328,\n",
       " datetime.datetime(2019, 1, 31, 0, 0): 199913.8201599121,\n",
       " datetime.datetime(2019, 2, 7, 0, 0): 199873.51445007324,\n",
       " datetime.datetime(2019, 2, 14, 0, 0): 200029.61376953125,\n",
       " datetime.datetime(2019, 2, 21, 0, 0): 200165.16217041016,\n",
       " datetime.datetime(2019, 2, 28, 0, 0): 200193.33294677734,\n",
       " datetime.datetime(2019, 3, 7, 0, 0): 200059.63314819336,\n",
       " datetime.datetime(2019, 3, 14, 0, 0): 200050.8589630127,\n",
       " datetime.datetime(2019, 3, 21, 0, 0): 200039.77459716797,\n",
       " datetime.datetime(2019, 3, 28, 0, 0): 200040.92892456055,\n",
       " datetime.datetime(2019, 4, 4, 0, 0): 200320.56950378418,\n",
       " datetime.datetime(2019, 4, 11, 0, 0): 200417.55436706543,\n",
       " datetime.datetime(2019, 4, 18, 0, 0): 200511.07624816895,\n",
       " datetime.datetime(2019, 4, 25, 0, 0): 200328.65055847168,\n",
       " datetime.datetime(2019, 5, 2, 0, 0): 204710.5064974594,\n",
       " datetime.datetime(2019, 5, 9, 0, 0): 204407.42628009795,\n",
       " datetime.datetime(2019, 5, 16, 0, 0): 204415.77328689574,\n",
       " datetime.datetime(2019, 5, 23, 0, 0): 204327.6068268585,\n",
       " datetime.datetime(2019, 5, 30, 0, 0): 204464.99204738616,\n",
       " datetime.datetime(2019, 6, 6, 0, 0): 204792.7913676071,\n",
       " datetime.datetime(2019, 6, 13, 0, 0): 204214.53856189727,\n",
       " datetime.datetime(2019, 6, 20, 0, 0): 204789.39905269622,\n",
       " datetime.datetime(2019, 6, 27, 0, 0): 204604.84621341704,\n",
       " datetime.datetime(2019, 7, 4, 0, 0): 204961.8337345886,\n",
       " datetime.datetime(2019, 7, 11, 0, 0): 205258.46768100737,\n",
       " datetime.datetime(2019, 7, 18, 0, 0): 205158.92228801726,\n",
       " datetime.datetime(2019, 7, 25, 0, 0): 205415.18658836363,\n",
       " datetime.datetime(2019, 8, 1, 0, 0): 203380.78500183104,\n",
       " datetime.datetime(2019, 8, 8, 0, 0): 202787.143498497,\n",
       " datetime.datetime(2019, 8, 15, 0, 0): 202521.4369984436,\n",
       " datetime.datetime(2019, 8, 22, 0, 0): 202824.37466724394,\n",
       " datetime.datetime(2019, 8, 29, 0, 0): 202838.88110931395,\n",
       " datetime.datetime(2019, 9, 5, 0, 0): 203014.16207035063,\n",
       " datetime.datetime(2019, 9, 12, 0, 0): 203160.76869209288,\n",
       " datetime.datetime(2019, 9, 19, 0, 0): 203391.10918243407,\n",
       " datetime.datetime(2019, 9, 26, 0, 0): 202689.98509319304,\n",
       " datetime.datetime(2019, 10, 3, 0, 0): 202118.64172760007,\n",
       " datetime.datetime(2019, 10, 10, 0, 0): 201758.5992147064,\n",
       " datetime.datetime(2019, 10, 17, 0, 0): 202003.2837697601,\n",
       " datetime.datetime(2019, 10, 24, 0, 0): 201851.508865509,\n",
       " datetime.datetime(2019, 10, 31, 0, 0): 203302.3108798599,\n",
       " datetime.datetime(2019, 11, 7, 0, 0): 204501.94536224363,\n",
       " datetime.datetime(2019, 11, 14, 0, 0): 203710.63039318082,\n",
       " datetime.datetime(2019, 11, 21, 0, 0): 202721.61712852475,\n",
       " datetime.datetime(2019, 11, 28, 0, 0): 203547.53433338163,\n",
       " datetime.datetime(2019, 12, 5, 0, 0): 204305.44960132596,\n",
       " datetime.datetime(2019, 12, 12, 0, 0): 205446.03697429656,\n",
       " datetime.datetime(2019, 12, 19, 0, 0): 205497.8924821472,\n",
       " datetime.datetime(2019, 12, 26, 0, 0): 206841.2049306488,\n",
       " datetime.datetime(2020, 1, 2, 0, 0): 206504.50408969878,\n",
       " datetime.datetime(2020, 1, 9, 0, 0): 206152.34363399504,\n",
       " datetime.datetime(2020, 1, 16, 0, 0): 206277.6790536499,\n",
       " datetime.datetime(2020, 1, 23, 0, 0): 205475.78275619505,\n",
       " datetime.datetime(2020, 1, 30, 0, 0): 202985.55576930998,\n",
       " datetime.datetime(2020, 2, 6, 0, 0): 203095.89967380522,\n",
       " datetime.datetime(2020, 2, 13, 0, 0): 202725.6748317337,\n",
       " datetime.datetime(2020, 2, 20, 0, 0): 201827.8926862335,\n",
       " datetime.datetime(2020, 2, 27, 0, 0): 196405.2540076828,\n",
       " datetime.datetime(2020, 3, 5, 0, 0): 197108.49238811492,\n",
       " datetime.datetime(2020, 3, 12, 0, 0): 189401.7534702873,\n",
       " datetime.datetime(2020, 3, 19, 0, 0): 189343.42863880156,\n",
       " datetime.datetime(2020, 3, 26, 0, 0): 195282.54471622466,\n",
       " datetime.datetime(2020, 4, 2, 0, 0): 193166.68696056365,\n",
       " datetime.datetime(2020, 4, 9, 0, 0): 195316.43799911498,\n",
       " datetime.datetime(2020, 4, 16, 0, 0): 195718.60937438963,\n",
       " datetime.datetime(2020, 4, 23, 0, 0): 197928.5153840637,\n",
       " datetime.datetime(2020, 4, 30, 0, 0): 199133.5391152954,\n",
       " datetime.datetime(2020, 5, 7, 0, 0): 200636.0186923599,\n",
       " datetime.datetime(2020, 5, 14, 0, 0): 199399.7640546417,\n",
       " datetime.datetime(2020, 5, 21, 0, 0): 202310.3098786926,\n",
       " datetime.datetime(2020, 5, 28, 0, 0): 203254.21521507262,\n",
       " datetime.datetime(2020, 6, 4, 0, 0): 206328.23513828276,\n",
       " datetime.datetime(2020, 6, 11, 0, 0): 203691.80589996336,\n",
       " datetime.datetime(2020, 6, 18, 0, 0): 207195.9418862915,\n",
       " datetime.datetime(2020, 6, 25, 0, 0): 206023.632690773,\n",
       " datetime.datetime(2020, 7, 2, 0, 0): 207694.1860784149,\n",
       " datetime.datetime(2020, 7, 9, 0, 0): 209193.08008705138,\n",
       " datetime.datetime(2020, 7, 16, 0, 0): 208412.4890616989,\n",
       " datetime.datetime(2020, 7, 23, 0, 0): 208894.22865997313,\n",
       " datetime.datetime(2020, 7, 30, 0, 0): 208761.81745658873,\n",
       " datetime.datetime(2020, 8, 6, 0, 0): 213445.81865249632,\n",
       " datetime.datetime(2020, 8, 13, 0, 0): 212477.87881980895,\n",
       " datetime.datetime(2020, 8, 20, 0, 0): 212875.08510433196,\n",
       " datetime.datetime(2020, 8, 27, 0, 0): 214171.33054958342,\n",
       " datetime.datetime(2020, 9, 3, 0, 0): 214596.1806272125,\n",
       " datetime.datetime(2020, 9, 10, 0, 0): 212157.33396087645,\n",
       " datetime.datetime(2020, 9, 17, 0, 0): 215726.7354558563,\n",
       " datetime.datetime(2020, 9, 24, 0, 0): 214459.02863346098,\n",
       " datetime.datetime(2020, 10, 1, 0, 0): 218058.22086845397,\n",
       " datetime.datetime(2020, 10, 8, 0, 0): 219930.21108947753,\n",
       " datetime.datetime(2020, 10, 15, 0, 0): 219363.7047961807,\n",
       " datetime.datetime(2020, 10, 22, 0, 0): 217958.69586215972,\n",
       " datetime.datetime(2020, 10, 29, 0, 0): 215462.09848438262,\n",
       " datetime.datetime(2020, 11, 5, 0, 0): 219166.0597785568,\n",
       " datetime.datetime(2020, 11, 12, 0, 0): 214614.13985191344,\n",
       " datetime.datetime(2020, 11, 19, 0, 0): 216518.01245246886,\n",
       " datetime.datetime(2020, 11, 26, 0, 0): 220844.32657180785,\n",
       " datetime.datetime(2020, 12, 3, 0, 0): 218262.56657157897,\n",
       " datetime.datetime(2020, 12, 10, 0, 0): 218004.55563674925,\n",
       " datetime.datetime(2020, 12, 17, 0, 0): 222066.242358551,\n",
       " datetime.datetime(2020, 12, 24, 0, 0): 225656.47499404906,\n",
       " datetime.datetime(2020, 12, 31, 0, 0): 225808.04407058714,\n",
       " datetime.datetime(2021, 1, 7, 0, 0): 230841.26386390685,\n",
       " datetime.datetime(2021, 1, 14, 0, 0): 231824.3552878952,\n",
       " datetime.datetime(2021, 1, 21, 0, 0): 234176.09878765105,\n",
       " datetime.datetime(2021, 1, 28, 0, 0): 229704.80945716857,\n",
       " datetime.datetime(2021, 2, 4, 0, 0): 229929.40586696623,\n",
       " datetime.datetime(2021, 2, 11, 0, 0): 235980.8059323883,\n",
       " datetime.datetime(2021, 2, 18, 0, 0): 233613.4809888458,\n",
       " datetime.datetime(2021, 2, 25, 0, 0): 229524.88315998076,\n",
       " datetime.datetime(2021, 3, 4, 0, 0): 223071.48632751463,\n",
       " datetime.datetime(2021, 3, 11, 0, 0): 227020.79301582335,\n",
       " datetime.datetime(2021, 3, 18, 0, 0): 224892.0330442047,\n",
       " datetime.datetime(2021, 3, 25, 0, 0): 222751.02154003142,\n",
       " datetime.datetime(2021, 4, 1, 0, 0): 227182.70284400939,\n",
       " datetime.datetime(2021, 4, 8, 0, 0): 227834.29195819853,\n",
       " datetime.datetime(2021, 4, 15, 0, 0): 222411.99222806928,\n",
       " datetime.datetime(2021, 4, 22, 0, 0): 266097.63423991203,\n",
       " datetime.datetime(2021, 4, 29, 0, 0): 269863.287340641,\n",
       " datetime.datetime(2021, 5, 6, 0, 0): 261438.14105725288,\n",
       " datetime.datetime(2021, 5, 13, 0, 0): 245383.59237456322,\n",
       " datetime.datetime(2021, 5, 20, 0, 0): 258382.48753643036,\n",
       " datetime.datetime(2021, 5, 27, 0, 0): 267331.6771943569,\n",
       " datetime.datetime(2021, 6, 3, 0, 0): 267661.3789591789,\n",
       " datetime.datetime(2021, 6, 10, 0, 0): 276136.9061410427,\n",
       " datetime.datetime(2021, 6, 17, 0, 0): 268455.4238374233,\n",
       " datetime.datetime(2021, 6, 24, 0, 0): 273303.1916384697,\n",
       " datetime.datetime(2021, 7, 1, 0, 0): 270261.17072224617,\n",
       " datetime.datetime(2021, 7, 8, 0, 0): 265984.8796069622,\n",
       " datetime.datetime(2021, 7, 15, 0, 0): 265178.80850696564,\n",
       " datetime.datetime(2021, 7, 22, 0, 0): 272586.7516798973,\n",
       " datetime.datetime(2021, 7, 29, 0, 0): 278664.60993003845,\n",
       " datetime.datetime(2021, 8, 5, 0, 0): 280240.105738163,\n",
       " datetime.datetime(2021, 8, 12, 0, 0): 279251.54460287094,\n",
       " datetime.datetime(2021, 8, 19, 0, 0): 263508.6173520088,\n",
       " datetime.datetime(2021, 8, 26, 0, 0): 275308.8490829468,\n",
       " datetime.datetime(2021, 9, 2, 0, 0): 282628.8695039749,\n",
       " datetime.datetime(2021, 9, 9, 0, 0): 275182.6438961029,\n",
       " datetime.datetime(2021, 9, 16, 0, 0): 269123.8106241226,\n",
       " datetime.datetime(2021, 9, 23, 0, 0): 271008.7651767731,\n",
       " datetime.datetime(2021, 9, 30, 0, 0): 262900.5596513748,\n",
       " datetime.datetime(2021, 10, 7, 0, 0): 244086.62249164583,\n",
       " datetime.datetime(2021, 10, 14, 0, 0): 247929.64868335726,\n",
       " datetime.datetime(2021, 10, 21, 0, 0): 253445.46700553896,\n",
       " datetime.datetime(2021, 10, 28, 0, 0): 250724.17428188326,\n",
       " datetime.datetime(2021, 11, 4, 0, 0): 251128.0532682419,\n",
       " datetime.datetime(2021, 11, 11, 0, 0): 249909.16317300798,\n",
       " datetime.datetime(2021, 11, 18, 0, 0): 248844.14536123278,\n",
       " datetime.datetime(2021, 11, 25, 0, 0): 231978.08435420992,\n",
       " datetime.datetime(2021, 12, 2, 0, 0): 227515.72138385774,\n",
       " datetime.datetime(2021, 12, 9, 0, 0): 232656.92964463236,\n",
       " datetime.datetime(2021, 12, 16, 0, 0): 230092.15445642473,\n",
       " datetime.datetime(2021, 12, 23, 0, 0): 235774.61373763086,\n",
       " datetime.datetime(2021, 12, 30, 0, 0): 274317.9851264667,\n",
       " datetime.datetime(2022, 1, 6, 0, 0): 268968.2172744656,\n",
       " datetime.datetime(2022, 1, 13, 0, 0): 263629.7100439453,\n",
       " datetime.datetime(2022, 1, 20, 0, 0): 255051.76851688387,\n",
       " datetime.datetime(2022, 1, 27, 0, 0): 241800.9509605217,\n",
       " datetime.datetime(2022, 2, 3, 0, 0): 227351.21086791993,\n",
       " datetime.datetime(2022, 2, 10, 0, 0): 228112.95219135284,\n",
       " datetime.datetime(2022, 2, 17, 0, 0): 224217.20982749938,\n",
       " datetime.datetime(2022, 2, 24, 0, 0): 226368.06798480987,\n",
       " datetime.datetime(2022, 3, 3, 0, 0): 232193.45996879577,\n",
       " datetime.datetime(2022, 3, 10, 0, 0): 229913.79099449157,\n",
       " datetime.datetime(2022, 3, 17, 0, 0): 233411.89245689393,\n",
       " datetime.datetime(2022, 3, 24, 0, 0): 234007.6632668686,\n",
       " datetime.datetime(2022, 3, 31, 0, 0): 231965.99202594758,\n",
       " datetime.datetime(2022, 4, 7, 0, 0): 232009.66069263458,\n",
       " datetime.datetime(2022, 4, 14, 0, 0): 228289.29084403993,\n",
       " datetime.datetime(2022, 4, 21, 0, 0): 226671.1412934494,\n",
       " datetime.datetime(2022, 4, 28, 0, 0): 226334.09361862182,\n",
       " datetime.datetime(2022, 5, 5, 0, 0): 223984.763564682,\n",
       " datetime.datetime(2022, 5, 12, 0, 0): 219913.28237255095,\n",
       " datetime.datetime(2022, 5, 19, 0, 0): 222603.54218338014,\n",
       " datetime.datetime(2022, 5, 26, 0, 0): 223214.29378787993,\n",
       " datetime.datetime(2022, 6, 2, 0, 0): 226780.02201030732,\n",
       " datetime.datetime(2022, 6, 9, 0, 0): 224840.04332164765,\n",
       " datetime.datetime(2022, 6, 16, 0, 0): 218631.6190947342,\n",
       " datetime.datetime(2022, 6, 23, 0, 0): 221087.82425052644,\n",
       " datetime.datetime(2022, 6, 30, 0, 0): 220832.22449890137,\n",
       " datetime.datetime(2022, 7, 7, 0, 0): 222066.7754919052,\n",
       " datetime.datetime(2022, 7, 14, 0, 0): 218116.49112255097,\n",
       " datetime.datetime(2022, 7, 21, 0, 0): 222186.45099933623,\n",
       " datetime.datetime(2022, 7, 28, 0, 0): 220702.22813884733,\n",
       " datetime.datetime(2022, 8, 4, 0, 0): 221527.9865089035,\n",
       " datetime.datetime(2022, 8, 11, 0, 0): 222282.87594841004,\n",
       " datetime.datetime(2022, 8, 18, 0, 0): 223352.47425674438,\n",
       " datetime.datetime(2022, 8, 25, 0, 0): 220515.31812969208,\n",
       " datetime.datetime(2022, 9, 1, 0, 0): 215328.54424858093,\n",
       " datetime.datetime(2022, 9, 8, 0, 0): 220317.04199504852,\n",
       " datetime.datetime(2022, 9, 15, 0, 0): 203242.94667663574,\n",
       " datetime.datetime(2022, 9, 22, 0, 0): 219395.03929878236,\n",
       " datetime.datetime(2022, 9, 29, 0, 0): 221783.39382934567,\n",
       " datetime.datetime(2022, 10, 6, 0, 0): 223628.03367614743,\n",
       " datetime.datetime(2022, 10, 13, 0, 0): 223152.88334751126,\n",
       " datetime.datetime(2022, 10, 20, 0, 0): 223799.56955242154,\n",
       " datetime.datetime(2022, 10, 27, 0, 0): 227467.07790374753,\n",
       " datetime.datetime(2022, 11, 3, 0, 0): 227760.52480125424,\n",
       " datetime.datetime(2022, 11, 10, 0, 0): 230991.02978706357,\n",
       " datetime.datetime(2022, 11, 17, 0, 0): 230119.31472015378,\n",
       " datetime.datetime(2022, 11, 24, 0, 0): 232467.538567543,\n",
       " datetime.datetime(2022, 12, 1, 0, 0): 233515.58941841123,\n",
       " datetime.datetime(2022, 12, 8, 0, 0): 231808.87070369718,\n",
       " datetime.datetime(2022, 12, 15, 0, 0): 229754.0946140289,\n",
       " datetime.datetime(2022, 12, 22, 0, 0): 229045.1070891571,\n",
       " datetime.datetime(2022, 12, 29, 0, 0): 231443.50825511932,\n",
       " datetime.datetime(2023, 1, 5, 0, 0): 233084.79292308807,\n",
       " datetime.datetime(2023, 1, 12, 0, 0): 236228.11169445037,\n",
       " datetime.datetime(2023, 1, 19, 0, 0): 237439.8234549713,\n",
       " datetime.datetime(2023, 1, 26, 0, 0): 241851.63550102233}"
      ]
     },
     "execution_count": 44,
     "metadata": {},
     "output_type": "execute_result"
    }
   ],
   "source": [
    "# get weekly port values over the last year\n",
    "agg_values_vF_rational = {}\n",
    "for i in range(1, (53 * 4)):\n",
    "    dt = datetime.datetime(2019, 1, 10) + datetime.timedelta(days=i*7)\n",
    "    print(dt)\n",
    "    dated_portfolio = pb_rational.get_portfolio(up_to=dt)\n",
    "    agg_val = dated_portfolio['Value'].sum()\n",
    "    agg_values_vF_rational[dt] = agg_val\n",
    "\n",
    "agg_values_vF_rational"
   ]
  },
  {
   "cell_type": "code",
   "execution_count": 45,
   "metadata": {},
   "outputs": [
    {
     "data": {
      "application/vnd.plotly.v1+json": {
       "config": {
        "plotlyServerURL": "https://plot.ly"
       },
       "data": [
        {
         "mode": "lines",
         "name": "lines",
         "type": "scatter",
         "x": [
          "2019-01-17T00:00:00",
          "2019-01-24T00:00:00",
          "2019-01-31T00:00:00",
          "2019-02-07T00:00:00",
          "2019-02-14T00:00:00",
          "2019-02-21T00:00:00",
          "2019-02-28T00:00:00",
          "2019-03-07T00:00:00",
          "2019-03-14T00:00:00",
          "2019-03-21T00:00:00",
          "2019-03-28T00:00:00",
          "2019-04-04T00:00:00",
          "2019-04-11T00:00:00",
          "2019-04-18T00:00:00",
          "2019-04-25T00:00:00",
          "2019-05-02T00:00:00",
          "2019-05-09T00:00:00",
          "2019-05-16T00:00:00",
          "2019-05-23T00:00:00",
          "2019-05-30T00:00:00",
          "2019-06-06T00:00:00",
          "2019-06-13T00:00:00",
          "2019-06-20T00:00:00",
          "2019-06-27T00:00:00",
          "2019-07-04T00:00:00",
          "2019-07-11T00:00:00",
          "2019-07-18T00:00:00",
          "2019-07-25T00:00:00",
          "2019-08-01T00:00:00",
          "2019-08-08T00:00:00",
          "2019-08-15T00:00:00",
          "2019-08-22T00:00:00",
          "2019-08-29T00:00:00",
          "2019-09-05T00:00:00",
          "2019-09-12T00:00:00",
          "2019-09-19T00:00:00",
          "2019-09-26T00:00:00",
          "2019-10-03T00:00:00",
          "2019-10-10T00:00:00",
          "2019-10-17T00:00:00",
          "2019-10-24T00:00:00",
          "2019-10-31T00:00:00",
          "2019-11-07T00:00:00",
          "2019-11-14T00:00:00",
          "2019-11-21T00:00:00",
          "2019-11-28T00:00:00",
          "2019-12-05T00:00:00",
          "2019-12-12T00:00:00",
          "2019-12-19T00:00:00",
          "2019-12-26T00:00:00",
          "2020-01-02T00:00:00",
          "2020-01-09T00:00:00",
          "2020-01-16T00:00:00",
          "2020-01-23T00:00:00",
          "2020-01-30T00:00:00",
          "2020-02-06T00:00:00",
          "2020-02-13T00:00:00",
          "2020-02-20T00:00:00",
          "2020-02-27T00:00:00",
          "2020-03-05T00:00:00",
          "2020-03-12T00:00:00",
          "2020-03-19T00:00:00",
          "2020-03-26T00:00:00",
          "2020-04-02T00:00:00",
          "2020-04-09T00:00:00",
          "2020-04-16T00:00:00",
          "2020-04-23T00:00:00",
          "2020-04-30T00:00:00",
          "2020-05-07T00:00:00",
          "2020-05-14T00:00:00",
          "2020-05-21T00:00:00",
          "2020-05-28T00:00:00",
          "2020-06-04T00:00:00",
          "2020-06-11T00:00:00",
          "2020-06-18T00:00:00",
          "2020-06-25T00:00:00",
          "2020-07-02T00:00:00",
          "2020-07-09T00:00:00",
          "2020-07-16T00:00:00",
          "2020-07-23T00:00:00",
          "2020-07-30T00:00:00",
          "2020-08-06T00:00:00",
          "2020-08-13T00:00:00",
          "2020-08-20T00:00:00",
          "2020-08-27T00:00:00",
          "2020-09-03T00:00:00",
          "2020-09-10T00:00:00",
          "2020-09-17T00:00:00",
          "2020-09-24T00:00:00",
          "2020-10-01T00:00:00",
          "2020-10-08T00:00:00",
          "2020-10-15T00:00:00",
          "2020-10-22T00:00:00",
          "2020-10-29T00:00:00",
          "2020-11-05T00:00:00",
          "2020-11-12T00:00:00",
          "2020-11-19T00:00:00",
          "2020-11-26T00:00:00",
          "2020-12-03T00:00:00",
          "2020-12-10T00:00:00",
          "2020-12-17T00:00:00",
          "2020-12-24T00:00:00",
          "2020-12-31T00:00:00",
          "2021-01-07T00:00:00",
          "2021-01-14T00:00:00",
          "2021-01-21T00:00:00",
          "2021-01-28T00:00:00",
          "2021-02-04T00:00:00",
          "2021-02-11T00:00:00",
          "2021-02-18T00:00:00",
          "2021-02-25T00:00:00",
          "2021-03-04T00:00:00",
          "2021-03-11T00:00:00",
          "2021-03-18T00:00:00",
          "2021-03-25T00:00:00",
          "2021-04-01T00:00:00",
          "2021-04-08T00:00:00",
          "2021-04-15T00:00:00",
          "2021-04-22T00:00:00",
          "2021-04-29T00:00:00",
          "2021-05-06T00:00:00",
          "2021-05-13T00:00:00",
          "2021-05-20T00:00:00",
          "2021-05-27T00:00:00",
          "2021-06-03T00:00:00",
          "2021-06-10T00:00:00",
          "2021-06-17T00:00:00",
          "2021-06-24T00:00:00",
          "2021-07-01T00:00:00",
          "2021-07-08T00:00:00",
          "2021-07-15T00:00:00",
          "2021-07-22T00:00:00",
          "2021-07-29T00:00:00",
          "2021-08-05T00:00:00",
          "2021-08-12T00:00:00",
          "2021-08-19T00:00:00",
          "2021-08-26T00:00:00",
          "2021-09-02T00:00:00",
          "2021-09-09T00:00:00",
          "2021-09-16T00:00:00",
          "2021-09-23T00:00:00",
          "2021-09-30T00:00:00",
          "2021-10-07T00:00:00",
          "2021-10-14T00:00:00",
          "2021-10-21T00:00:00",
          "2021-10-28T00:00:00",
          "2021-11-04T00:00:00",
          "2021-11-11T00:00:00",
          "2021-11-18T00:00:00",
          "2021-11-25T00:00:00",
          "2021-12-02T00:00:00",
          "2021-12-09T00:00:00",
          "2021-12-16T00:00:00",
          "2021-12-23T00:00:00",
          "2021-12-30T00:00:00",
          "2022-01-06T00:00:00",
          "2022-01-13T00:00:00",
          "2022-01-20T00:00:00",
          "2022-01-27T00:00:00",
          "2022-02-03T00:00:00",
          "2022-02-10T00:00:00",
          "2022-02-17T00:00:00",
          "2022-02-24T00:00:00",
          "2022-03-03T00:00:00",
          "2022-03-10T00:00:00",
          "2022-03-17T00:00:00",
          "2022-03-24T00:00:00",
          "2022-03-31T00:00:00",
          "2022-04-07T00:00:00",
          "2022-04-14T00:00:00",
          "2022-04-21T00:00:00",
          "2022-04-28T00:00:00",
          "2022-05-05T00:00:00",
          "2022-05-12T00:00:00",
          "2022-05-19T00:00:00",
          "2022-05-26T00:00:00",
          "2022-06-02T00:00:00",
          "2022-06-09T00:00:00",
          "2022-06-16T00:00:00",
          "2022-06-23T00:00:00",
          "2022-06-30T00:00:00",
          "2022-07-07T00:00:00",
          "2022-07-14T00:00:00",
          "2022-07-21T00:00:00",
          "2022-07-28T00:00:00",
          "2022-08-04T00:00:00",
          "2022-08-11T00:00:00",
          "2022-08-18T00:00:00",
          "2022-08-25T00:00:00",
          "2022-09-01T00:00:00",
          "2022-09-08T00:00:00",
          "2022-09-15T00:00:00",
          "2022-09-22T00:00:00",
          "2022-09-29T00:00:00",
          "2022-10-06T00:00:00",
          "2022-10-13T00:00:00",
          "2022-10-20T00:00:00",
          "2022-10-27T00:00:00",
          "2022-11-03T00:00:00",
          "2022-11-10T00:00:00",
          "2022-11-17T00:00:00",
          "2022-11-24T00:00:00",
          "2022-12-01T00:00:00",
          "2022-12-08T00:00:00",
          "2022-12-15T00:00:00",
          "2022-12-22T00:00:00",
          "2022-12-29T00:00:00",
          "2023-01-05T00:00:00",
          "2023-01-12T00:00:00",
          "2023-01-19T00:00:00",
          "2023-01-26T00:00:00"
         ],
         "y": [
          199792.2236328125,
          199758.89385986328,
          199913.8201599121,
          199873.51445007324,
          200029.61376953125,
          200165.16217041016,
          200193.33294677734,
          200059.63314819336,
          200050.8589630127,
          200039.77459716797,
          200040.92892456055,
          200320.56950378418,
          200417.55436706543,
          200511.07624816895,
          200328.65055847168,
          204710.5064974594,
          204407.42628009795,
          204415.77328689574,
          204327.6068268585,
          204464.99204738616,
          204792.7913676071,
          204214.53856189727,
          204789.39905269622,
          204604.84621341704,
          204961.8337345886,
          205258.46768100737,
          205158.92228801726,
          205415.18658836363,
          203380.78500183104,
          202787.143498497,
          202521.4369984436,
          202824.37466724394,
          202838.88110931395,
          203014.16207035063,
          203160.76869209288,
          203391.10918243407,
          202689.98509319304,
          202118.64172760007,
          201758.5992147064,
          202003.2837697601,
          201851.508865509,
          203302.3108798599,
          204501.94536224363,
          203710.63039318082,
          202721.61712852475,
          203547.53433338163,
          204305.44960132596,
          205446.03697429656,
          205497.8924821472,
          206841.2049306488,
          206504.50408969878,
          206152.34363399504,
          206277.6790536499,
          205475.78275619505,
          202985.55576930998,
          203095.89967380522,
          202725.6748317337,
          201827.8926862335,
          196405.2540076828,
          197108.49238811492,
          189401.7534702873,
          189343.42863880156,
          195282.54471622466,
          193166.68696056365,
          195316.43799911498,
          195718.60937438963,
          197928.5153840637,
          199133.5391152954,
          200636.0186923599,
          199399.7640546417,
          202310.3098786926,
          203254.21521507262,
          206328.23513828276,
          203691.80589996336,
          207195.9418862915,
          206023.632690773,
          207694.1860784149,
          209193.08008705138,
          208412.4890616989,
          208894.22865997313,
          208761.81745658873,
          213445.81865249632,
          212477.87881980895,
          212875.08510433196,
          214171.33054958342,
          214596.1806272125,
          212157.33396087645,
          215726.7354558563,
          214459.02863346098,
          218058.22086845397,
          219930.21108947753,
          219363.7047961807,
          217958.69586215972,
          215462.09848438262,
          219166.0597785568,
          214614.13985191344,
          216518.01245246886,
          220844.32657180785,
          218262.56657157897,
          218004.55563674925,
          222066.242358551,
          225656.47499404906,
          225808.04407058714,
          230841.26386390685,
          231824.3552878952,
          234176.09878765105,
          229704.80945716857,
          229929.40586696623,
          235980.8059323883,
          233613.4809888458,
          229524.88315998076,
          223071.48632751463,
          227020.79301582335,
          224892.0330442047,
          222751.02154003142,
          227182.70284400939,
          227834.29195819853,
          222411.99222806928,
          266097.63423991203,
          269863.287340641,
          261438.14105725288,
          245383.59237456322,
          258382.48753643036,
          267331.6771943569,
          267661.3789591789,
          276136.9061410427,
          268455.4238374233,
          273303.1916384697,
          270261.17072224617,
          265984.8796069622,
          265178.80850696564,
          272586.7516798973,
          278664.60993003845,
          280240.105738163,
          279251.54460287094,
          263508.6173520088,
          275308.8490829468,
          282628.8695039749,
          275182.6438961029,
          269123.8106241226,
          271008.7651767731,
          262900.5596513748,
          244086.62249164583,
          247929.64868335726,
          253445.46700553896,
          250724.17428188326,
          251128.0532682419,
          249909.16317300798,
          248844.14536123278,
          231978.08435420992,
          227515.72138385774,
          232656.92964463236,
          230092.15445642473,
          235774.61373763086,
          274317.9851264667,
          268968.2172744656,
          263629.7100439453,
          255051.76851688387,
          241800.9509605217,
          227351.21086791993,
          228112.95219135284,
          224217.20982749938,
          226368.06798480987,
          232193.45996879577,
          229913.79099449157,
          233411.89245689393,
          234007.6632668686,
          231965.99202594758,
          232009.66069263458,
          228289.29084403993,
          226671.1412934494,
          226334.09361862182,
          223984.763564682,
          219913.28237255095,
          222603.54218338014,
          223214.29378787993,
          226780.02201030732,
          224840.04332164765,
          218631.6190947342,
          221087.82425052644,
          220832.22449890137,
          222066.7754919052,
          218116.49112255097,
          222186.45099933623,
          220702.22813884733,
          221527.9865089035,
          222282.87594841004,
          223352.47425674438,
          220515.31812969208,
          215328.54424858093,
          220317.04199504852,
          203242.94667663574,
          219395.03929878236,
          221783.39382934567,
          223628.03367614743,
          223152.88334751126,
          223799.56955242154,
          227467.07790374753,
          227760.52480125424,
          230991.02978706357,
          230119.31472015378,
          232467.538567543,
          233515.58941841123,
          231808.87070369718,
          229754.0946140289,
          229045.1070891571,
          231443.50825511932,
          233084.79292308807,
          236228.11169445037,
          237439.8234549713,
          241851.63550102233
         ]
        }
       ],
       "layout": {
        "template": {
         "data": {
          "bar": [
           {
            "error_x": {
             "color": "#2a3f5f"
            },
            "error_y": {
             "color": "#2a3f5f"
            },
            "marker": {
             "line": {
              "color": "#E5ECF6",
              "width": 0.5
             },
             "pattern": {
              "fillmode": "overlay",
              "size": 10,
              "solidity": 0.2
             }
            },
            "type": "bar"
           }
          ],
          "barpolar": [
           {
            "marker": {
             "line": {
              "color": "#E5ECF6",
              "width": 0.5
             },
             "pattern": {
              "fillmode": "overlay",
              "size": 10,
              "solidity": 0.2
             }
            },
            "type": "barpolar"
           }
          ],
          "carpet": [
           {
            "aaxis": {
             "endlinecolor": "#2a3f5f",
             "gridcolor": "white",
             "linecolor": "white",
             "minorgridcolor": "white",
             "startlinecolor": "#2a3f5f"
            },
            "baxis": {
             "endlinecolor": "#2a3f5f",
             "gridcolor": "white",
             "linecolor": "white",
             "minorgridcolor": "white",
             "startlinecolor": "#2a3f5f"
            },
            "type": "carpet"
           }
          ],
          "choropleth": [
           {
            "colorbar": {
             "outlinewidth": 0,
             "ticks": ""
            },
            "type": "choropleth"
           }
          ],
          "contour": [
           {
            "colorbar": {
             "outlinewidth": 0,
             "ticks": ""
            },
            "colorscale": [
             [
              0,
              "#0d0887"
             ],
             [
              0.1111111111111111,
              "#46039f"
             ],
             [
              0.2222222222222222,
              "#7201a8"
             ],
             [
              0.3333333333333333,
              "#9c179e"
             ],
             [
              0.4444444444444444,
              "#bd3786"
             ],
             [
              0.5555555555555556,
              "#d8576b"
             ],
             [
              0.6666666666666666,
              "#ed7953"
             ],
             [
              0.7777777777777778,
              "#fb9f3a"
             ],
             [
              0.8888888888888888,
              "#fdca26"
             ],
             [
              1,
              "#f0f921"
             ]
            ],
            "type": "contour"
           }
          ],
          "contourcarpet": [
           {
            "colorbar": {
             "outlinewidth": 0,
             "ticks": ""
            },
            "type": "contourcarpet"
           }
          ],
          "heatmap": [
           {
            "colorbar": {
             "outlinewidth": 0,
             "ticks": ""
            },
            "colorscale": [
             [
              0,
              "#0d0887"
             ],
             [
              0.1111111111111111,
              "#46039f"
             ],
             [
              0.2222222222222222,
              "#7201a8"
             ],
             [
              0.3333333333333333,
              "#9c179e"
             ],
             [
              0.4444444444444444,
              "#bd3786"
             ],
             [
              0.5555555555555556,
              "#d8576b"
             ],
             [
              0.6666666666666666,
              "#ed7953"
             ],
             [
              0.7777777777777778,
              "#fb9f3a"
             ],
             [
              0.8888888888888888,
              "#fdca26"
             ],
             [
              1,
              "#f0f921"
             ]
            ],
            "type": "heatmap"
           }
          ],
          "heatmapgl": [
           {
            "colorbar": {
             "outlinewidth": 0,
             "ticks": ""
            },
            "colorscale": [
             [
              0,
              "#0d0887"
             ],
             [
              0.1111111111111111,
              "#46039f"
             ],
             [
              0.2222222222222222,
              "#7201a8"
             ],
             [
              0.3333333333333333,
              "#9c179e"
             ],
             [
              0.4444444444444444,
              "#bd3786"
             ],
             [
              0.5555555555555556,
              "#d8576b"
             ],
             [
              0.6666666666666666,
              "#ed7953"
             ],
             [
              0.7777777777777778,
              "#fb9f3a"
             ],
             [
              0.8888888888888888,
              "#fdca26"
             ],
             [
              1,
              "#f0f921"
             ]
            ],
            "type": "heatmapgl"
           }
          ],
          "histogram": [
           {
            "marker": {
             "pattern": {
              "fillmode": "overlay",
              "size": 10,
              "solidity": 0.2
             }
            },
            "type": "histogram"
           }
          ],
          "histogram2d": [
           {
            "colorbar": {
             "outlinewidth": 0,
             "ticks": ""
            },
            "colorscale": [
             [
              0,
              "#0d0887"
             ],
             [
              0.1111111111111111,
              "#46039f"
             ],
             [
              0.2222222222222222,
              "#7201a8"
             ],
             [
              0.3333333333333333,
              "#9c179e"
             ],
             [
              0.4444444444444444,
              "#bd3786"
             ],
             [
              0.5555555555555556,
              "#d8576b"
             ],
             [
              0.6666666666666666,
              "#ed7953"
             ],
             [
              0.7777777777777778,
              "#fb9f3a"
             ],
             [
              0.8888888888888888,
              "#fdca26"
             ],
             [
              1,
              "#f0f921"
             ]
            ],
            "type": "histogram2d"
           }
          ],
          "histogram2dcontour": [
           {
            "colorbar": {
             "outlinewidth": 0,
             "ticks": ""
            },
            "colorscale": [
             [
              0,
              "#0d0887"
             ],
             [
              0.1111111111111111,
              "#46039f"
             ],
             [
              0.2222222222222222,
              "#7201a8"
             ],
             [
              0.3333333333333333,
              "#9c179e"
             ],
             [
              0.4444444444444444,
              "#bd3786"
             ],
             [
              0.5555555555555556,
              "#d8576b"
             ],
             [
              0.6666666666666666,
              "#ed7953"
             ],
             [
              0.7777777777777778,
              "#fb9f3a"
             ],
             [
              0.8888888888888888,
              "#fdca26"
             ],
             [
              1,
              "#f0f921"
             ]
            ],
            "type": "histogram2dcontour"
           }
          ],
          "mesh3d": [
           {
            "colorbar": {
             "outlinewidth": 0,
             "ticks": ""
            },
            "type": "mesh3d"
           }
          ],
          "parcoords": [
           {
            "line": {
             "colorbar": {
              "outlinewidth": 0,
              "ticks": ""
             }
            },
            "type": "parcoords"
           }
          ],
          "pie": [
           {
            "automargin": true,
            "type": "pie"
           }
          ],
          "scatter": [
           {
            "marker": {
             "colorbar": {
              "outlinewidth": 0,
              "ticks": ""
             }
            },
            "type": "scatter"
           }
          ],
          "scatter3d": [
           {
            "line": {
             "colorbar": {
              "outlinewidth": 0,
              "ticks": ""
             }
            },
            "marker": {
             "colorbar": {
              "outlinewidth": 0,
              "ticks": ""
             }
            },
            "type": "scatter3d"
           }
          ],
          "scattercarpet": [
           {
            "marker": {
             "colorbar": {
              "outlinewidth": 0,
              "ticks": ""
             }
            },
            "type": "scattercarpet"
           }
          ],
          "scattergeo": [
           {
            "marker": {
             "colorbar": {
              "outlinewidth": 0,
              "ticks": ""
             }
            },
            "type": "scattergeo"
           }
          ],
          "scattergl": [
           {
            "marker": {
             "colorbar": {
              "outlinewidth": 0,
              "ticks": ""
             }
            },
            "type": "scattergl"
           }
          ],
          "scattermapbox": [
           {
            "marker": {
             "colorbar": {
              "outlinewidth": 0,
              "ticks": ""
             }
            },
            "type": "scattermapbox"
           }
          ],
          "scatterpolar": [
           {
            "marker": {
             "colorbar": {
              "outlinewidth": 0,
              "ticks": ""
             }
            },
            "type": "scatterpolar"
           }
          ],
          "scatterpolargl": [
           {
            "marker": {
             "colorbar": {
              "outlinewidth": 0,
              "ticks": ""
             }
            },
            "type": "scatterpolargl"
           }
          ],
          "scatterternary": [
           {
            "marker": {
             "colorbar": {
              "outlinewidth": 0,
              "ticks": ""
             }
            },
            "type": "scatterternary"
           }
          ],
          "surface": [
           {
            "colorbar": {
             "outlinewidth": 0,
             "ticks": ""
            },
            "colorscale": [
             [
              0,
              "#0d0887"
             ],
             [
              0.1111111111111111,
              "#46039f"
             ],
             [
              0.2222222222222222,
              "#7201a8"
             ],
             [
              0.3333333333333333,
              "#9c179e"
             ],
             [
              0.4444444444444444,
              "#bd3786"
             ],
             [
              0.5555555555555556,
              "#d8576b"
             ],
             [
              0.6666666666666666,
              "#ed7953"
             ],
             [
              0.7777777777777778,
              "#fb9f3a"
             ],
             [
              0.8888888888888888,
              "#fdca26"
             ],
             [
              1,
              "#f0f921"
             ]
            ],
            "type": "surface"
           }
          ],
          "table": [
           {
            "cells": {
             "fill": {
              "color": "#EBF0F8"
             },
             "line": {
              "color": "white"
             }
            },
            "header": {
             "fill": {
              "color": "#C8D4E3"
             },
             "line": {
              "color": "white"
             }
            },
            "type": "table"
           }
          ]
         },
         "layout": {
          "annotationdefaults": {
           "arrowcolor": "#2a3f5f",
           "arrowhead": 0,
           "arrowwidth": 1
          },
          "autotypenumbers": "strict",
          "coloraxis": {
           "colorbar": {
            "outlinewidth": 0,
            "ticks": ""
           }
          },
          "colorscale": {
           "diverging": [
            [
             0,
             "#8e0152"
            ],
            [
             0.1,
             "#c51b7d"
            ],
            [
             0.2,
             "#de77ae"
            ],
            [
             0.3,
             "#f1b6da"
            ],
            [
             0.4,
             "#fde0ef"
            ],
            [
             0.5,
             "#f7f7f7"
            ],
            [
             0.6,
             "#e6f5d0"
            ],
            [
             0.7,
             "#b8e186"
            ],
            [
             0.8,
             "#7fbc41"
            ],
            [
             0.9,
             "#4d9221"
            ],
            [
             1,
             "#276419"
            ]
           ],
           "sequential": [
            [
             0,
             "#0d0887"
            ],
            [
             0.1111111111111111,
             "#46039f"
            ],
            [
             0.2222222222222222,
             "#7201a8"
            ],
            [
             0.3333333333333333,
             "#9c179e"
            ],
            [
             0.4444444444444444,
             "#bd3786"
            ],
            [
             0.5555555555555556,
             "#d8576b"
            ],
            [
             0.6666666666666666,
             "#ed7953"
            ],
            [
             0.7777777777777778,
             "#fb9f3a"
            ],
            [
             0.8888888888888888,
             "#fdca26"
            ],
            [
             1,
             "#f0f921"
            ]
           ],
           "sequentialminus": [
            [
             0,
             "#0d0887"
            ],
            [
             0.1111111111111111,
             "#46039f"
            ],
            [
             0.2222222222222222,
             "#7201a8"
            ],
            [
             0.3333333333333333,
             "#9c179e"
            ],
            [
             0.4444444444444444,
             "#bd3786"
            ],
            [
             0.5555555555555556,
             "#d8576b"
            ],
            [
             0.6666666666666666,
             "#ed7953"
            ],
            [
             0.7777777777777778,
             "#fb9f3a"
            ],
            [
             0.8888888888888888,
             "#fdca26"
            ],
            [
             1,
             "#f0f921"
            ]
           ]
          },
          "colorway": [
           "#636efa",
           "#EF553B",
           "#00cc96",
           "#ab63fa",
           "#FFA15A",
           "#19d3f3",
           "#FF6692",
           "#B6E880",
           "#FF97FF",
           "#FECB52"
          ],
          "font": {
           "color": "#2a3f5f"
          },
          "geo": {
           "bgcolor": "white",
           "lakecolor": "white",
           "landcolor": "#E5ECF6",
           "showlakes": true,
           "showland": true,
           "subunitcolor": "white"
          },
          "hoverlabel": {
           "align": "left"
          },
          "hovermode": "closest",
          "mapbox": {
           "style": "light"
          },
          "paper_bgcolor": "white",
          "plot_bgcolor": "#E5ECF6",
          "polar": {
           "angularaxis": {
            "gridcolor": "white",
            "linecolor": "white",
            "ticks": ""
           },
           "bgcolor": "#E5ECF6",
           "radialaxis": {
            "gridcolor": "white",
            "linecolor": "white",
            "ticks": ""
           }
          },
          "scene": {
           "xaxis": {
            "backgroundcolor": "#E5ECF6",
            "gridcolor": "white",
            "gridwidth": 2,
            "linecolor": "white",
            "showbackground": true,
            "ticks": "",
            "zerolinecolor": "white"
           },
           "yaxis": {
            "backgroundcolor": "#E5ECF6",
            "gridcolor": "white",
            "gridwidth": 2,
            "linecolor": "white",
            "showbackground": true,
            "ticks": "",
            "zerolinecolor": "white"
           },
           "zaxis": {
            "backgroundcolor": "#E5ECF6",
            "gridcolor": "white",
            "gridwidth": 2,
            "linecolor": "white",
            "showbackground": true,
            "ticks": "",
            "zerolinecolor": "white"
           }
          },
          "shapedefaults": {
           "line": {
            "color": "#2a3f5f"
           }
          },
          "ternary": {
           "aaxis": {
            "gridcolor": "white",
            "linecolor": "white",
            "ticks": ""
           },
           "baxis": {
            "gridcolor": "white",
            "linecolor": "white",
            "ticks": ""
           },
           "bgcolor": "#E5ECF6",
           "caxis": {
            "gridcolor": "white",
            "linecolor": "white",
            "ticks": ""
           }
          },
          "title": {
           "x": 0.05
          },
          "xaxis": {
           "automargin": true,
           "gridcolor": "white",
           "linecolor": "white",
           "ticks": "",
           "title": {
            "standoff": 15
           },
           "zerolinecolor": "white",
           "zerolinewidth": 2
          },
          "yaxis": {
           "automargin": true,
           "gridcolor": "white",
           "linecolor": "white",
           "ticks": "",
           "title": {
            "standoff": 15
           },
           "zerolinecolor": "white",
           "zerolinewidth": 2
          }
         }
        }
       }
      }
     },
     "metadata": {},
     "output_type": "display_data"
    }
   ],
   "source": [
    "# Plot the portfolio value over time\n",
    "fig = go.Figure()\n",
    "fig.add_trace(go.Scatter(x=list(agg_values_vF_rational.keys()), y=list(agg_values_vF_rational.values()),\n",
    "                    mode='lines',\n",
    "                    name='lines'))\n",
    "fig.show()"
   ]
  },
  {
   "cell_type": "code",
   "execution_count": 46,
   "metadata": {},
   "outputs": [
    {
     "data": {
      "application/vnd.plotly.v1+json": {
       "config": {
        "plotlyServerURL": "https://plot.ly"
       },
       "data": [
        {
         "mode": "lines",
         "name": "Actual",
         "type": "scatter",
         "x": [
          "2019-01-17T00:00:00",
          "2019-01-24T00:00:00",
          "2019-01-31T00:00:00",
          "2019-02-07T00:00:00",
          "2019-02-14T00:00:00",
          "2019-02-21T00:00:00",
          "2019-02-28T00:00:00",
          "2019-03-07T00:00:00",
          "2019-03-14T00:00:00",
          "2019-03-21T00:00:00",
          "2019-03-28T00:00:00",
          "2019-04-04T00:00:00",
          "2019-04-11T00:00:00",
          "2019-04-18T00:00:00",
          "2019-04-25T00:00:00",
          "2019-05-02T00:00:00",
          "2019-05-09T00:00:00",
          "2019-05-16T00:00:00",
          "2019-05-23T00:00:00",
          "2019-05-30T00:00:00",
          "2019-06-06T00:00:00",
          "2019-06-13T00:00:00",
          "2019-06-20T00:00:00",
          "2019-06-27T00:00:00",
          "2019-07-04T00:00:00",
          "2019-07-11T00:00:00",
          "2019-07-18T00:00:00",
          "2019-07-25T00:00:00",
          "2019-08-01T00:00:00",
          "2019-08-08T00:00:00",
          "2019-08-15T00:00:00",
          "2019-08-22T00:00:00",
          "2019-08-29T00:00:00",
          "2019-09-05T00:00:00",
          "2019-09-12T00:00:00",
          "2019-09-19T00:00:00",
          "2019-09-26T00:00:00",
          "2019-10-03T00:00:00",
          "2019-10-10T00:00:00",
          "2019-10-17T00:00:00",
          "2019-10-24T00:00:00",
          "2019-10-31T00:00:00",
          "2019-11-07T00:00:00",
          "2019-11-14T00:00:00",
          "2019-11-21T00:00:00",
          "2019-11-28T00:00:00",
          "2019-12-05T00:00:00",
          "2019-12-12T00:00:00",
          "2019-12-19T00:00:00",
          "2019-12-26T00:00:00",
          "2020-01-02T00:00:00",
          "2020-01-09T00:00:00",
          "2020-01-16T00:00:00",
          "2020-01-23T00:00:00",
          "2020-01-30T00:00:00",
          "2020-02-06T00:00:00",
          "2020-02-13T00:00:00",
          "2020-02-20T00:00:00",
          "2020-02-27T00:00:00",
          "2020-03-05T00:00:00",
          "2020-03-12T00:00:00",
          "2020-03-19T00:00:00",
          "2020-03-26T00:00:00",
          "2020-04-02T00:00:00",
          "2020-04-09T00:00:00",
          "2020-04-16T00:00:00",
          "2020-04-23T00:00:00",
          "2020-04-30T00:00:00",
          "2020-05-07T00:00:00",
          "2020-05-14T00:00:00",
          "2020-05-21T00:00:00",
          "2020-05-28T00:00:00",
          "2020-06-04T00:00:00",
          "2020-06-11T00:00:00",
          "2020-06-18T00:00:00",
          "2020-06-25T00:00:00",
          "2020-07-02T00:00:00",
          "2020-07-09T00:00:00",
          "2020-07-16T00:00:00",
          "2020-07-23T00:00:00",
          "2020-07-30T00:00:00",
          "2020-08-06T00:00:00",
          "2020-08-13T00:00:00",
          "2020-08-20T00:00:00",
          "2020-08-27T00:00:00",
          "2020-09-03T00:00:00",
          "2020-09-10T00:00:00",
          "2020-09-17T00:00:00",
          "2020-09-24T00:00:00",
          "2020-10-01T00:00:00",
          "2020-10-08T00:00:00",
          "2020-10-15T00:00:00",
          "2020-10-22T00:00:00",
          "2020-10-29T00:00:00",
          "2020-11-05T00:00:00",
          "2020-11-12T00:00:00",
          "2020-11-19T00:00:00",
          "2020-11-26T00:00:00",
          "2020-12-03T00:00:00",
          "2020-12-10T00:00:00",
          "2020-12-17T00:00:00",
          "2020-12-24T00:00:00",
          "2020-12-31T00:00:00",
          "2021-01-07T00:00:00",
          "2021-01-14T00:00:00",
          "2021-01-21T00:00:00",
          "2021-01-28T00:00:00",
          "2021-02-04T00:00:00",
          "2021-02-11T00:00:00",
          "2021-02-18T00:00:00",
          "2021-02-25T00:00:00",
          "2021-03-04T00:00:00",
          "2021-03-11T00:00:00",
          "2021-03-18T00:00:00",
          "2021-03-25T00:00:00",
          "2021-04-01T00:00:00",
          "2021-04-08T00:00:00",
          "2021-04-15T00:00:00",
          "2021-04-22T00:00:00",
          "2021-04-29T00:00:00",
          "2021-05-06T00:00:00",
          "2021-05-13T00:00:00",
          "2021-05-20T00:00:00",
          "2021-05-27T00:00:00",
          "2021-06-03T00:00:00",
          "2021-06-10T00:00:00",
          "2021-06-17T00:00:00",
          "2021-06-24T00:00:00",
          "2021-07-01T00:00:00",
          "2021-07-08T00:00:00",
          "2021-07-15T00:00:00",
          "2021-07-22T00:00:00",
          "2021-07-29T00:00:00",
          "2021-08-05T00:00:00",
          "2021-08-12T00:00:00",
          "2021-08-19T00:00:00",
          "2021-08-26T00:00:00",
          "2021-09-02T00:00:00",
          "2021-09-09T00:00:00",
          "2021-09-16T00:00:00",
          "2021-09-23T00:00:00",
          "2021-09-30T00:00:00",
          "2021-10-07T00:00:00",
          "2021-10-14T00:00:00",
          "2021-10-21T00:00:00",
          "2021-10-28T00:00:00",
          "2021-11-04T00:00:00",
          "2021-11-11T00:00:00",
          "2021-11-18T00:00:00",
          "2021-11-25T00:00:00",
          "2021-12-02T00:00:00",
          "2021-12-09T00:00:00",
          "2021-12-16T00:00:00",
          "2021-12-23T00:00:00",
          "2021-12-30T00:00:00",
          "2022-01-06T00:00:00",
          "2022-01-13T00:00:00",
          "2022-01-20T00:00:00",
          "2022-01-27T00:00:00",
          "2022-02-03T00:00:00",
          "2022-02-10T00:00:00",
          "2022-02-17T00:00:00",
          "2022-02-24T00:00:00",
          "2022-03-03T00:00:00",
          "2022-03-10T00:00:00",
          "2022-03-17T00:00:00",
          "2022-03-24T00:00:00",
          "2022-03-31T00:00:00",
          "2022-04-07T00:00:00",
          "2022-04-14T00:00:00",
          "2022-04-21T00:00:00",
          "2022-04-28T00:00:00",
          "2022-05-05T00:00:00",
          "2022-05-12T00:00:00",
          "2022-05-19T00:00:00",
          "2022-05-26T00:00:00",
          "2022-06-02T00:00:00",
          "2022-06-09T00:00:00",
          "2022-06-16T00:00:00",
          "2022-06-23T00:00:00",
          "2022-06-30T00:00:00",
          "2022-07-07T00:00:00",
          "2022-07-14T00:00:00",
          "2022-07-21T00:00:00",
          "2022-07-28T00:00:00",
          "2022-08-04T00:00:00",
          "2022-08-11T00:00:00",
          "2022-08-18T00:00:00",
          "2022-08-25T00:00:00",
          "2022-09-01T00:00:00",
          "2022-09-08T00:00:00",
          "2022-09-15T00:00:00",
          "2022-09-22T00:00:00",
          "2022-09-29T00:00:00",
          "2022-10-06T00:00:00",
          "2022-10-13T00:00:00",
          "2022-10-20T00:00:00",
          "2022-10-27T00:00:00",
          "2022-11-03T00:00:00",
          "2022-11-10T00:00:00",
          "2022-11-17T00:00:00",
          "2022-11-24T00:00:00",
          "2022-12-01T00:00:00",
          "2022-12-08T00:00:00",
          "2022-12-15T00:00:00",
          "2022-12-22T00:00:00",
          "2022-12-29T00:00:00",
          "2023-01-05T00:00:00",
          "2023-01-12T00:00:00",
          "2023-01-19T00:00:00",
          "2023-01-26T00:00:00"
         ],
         "y": [
          199792.2236328125,
          199758.894241333,
          199913.81939697266,
          199873.5136871338,
          200029.61376953125,
          200165.16255187988,
          200193.33485412598,
          200059.63314819336,
          200050.85858154297,
          200039.7734527588,
          200040.92930603027,
          200320.56950378418,
          200417.55436706543,
          200511.0754852295,
          200328.6509399414,
          203174.13726039886,
          202871.05589862823,
          202879.40290542602,
          202791.23835273742,
          202928.62204738616,
          203256.42174907684,
          202678.17008777618,
          203253.02981563567,
          203068.4769763565,
          203425.46373458861,
          203722.0980624771,
          203622.55190654754,
          203878.81658836364,
          201844.41500183105,
          201250.77387996673,
          200985.06661697387,
          201288.00428577422,
          201302.51072784423,
          201477.79054447173,
          201624.39831062316,
          201854.73918243407,
          201153.61509319305,
          200650.6724557495,
          200368.1493787384,
          200833.9938306427,
          200822.43909164428,
          201831.68131786346,
          202844.35537963867,
          202059.87969547271,
          201004.746712265,
          201863.7240768051,
          202439.23990016937,
          203174.39773723602,
          203226.25286361694,
          204569.56416770935,
          204232.8640896988,
          203880.7043969345,
          204006.03867218018,
          203204.14390060425,
          200713.91653224945,
          200824.25967380524,
          200454.03406879425,
          199556.2523047638,
          194133.61362621307,
          194836.85315105438,
          187130.1130888176,
          187071.7884480667,
          193010.9045254898,
          190895.0467698288,
          193044.79876205444,
          193446.96899291992,
          195656.87462112427,
          196861.89949676514,
          198364.37869235993,
          197128.123673172,
          200038.6694972229,
          200982.57521507263,
          204056.59475681305,
          201420.16589996338,
          204924.30226776123,
          203751.99345371246,
          205422.54645988464,
          206921.43970558167,
          206140.84791728974,
          206622.58751556397,
          206490.17745658875,
          211174.1794154358,
          210206.23881980896,
          210603.4454858017,
          211899.6913125229,
          212324.54062721253,
          209885.69396087647,
          213455.09545585632,
          212187.38901493073,
          215786.58086845398,
          217658.5707080078,
          217092.06403324127,
          215687.05624362946,
          213190.45886585236,
          216894.41977855682,
          212342.5006148529,
          214246.37321540833,
          218572.68657180786,
          215990.92657157898,
          215732.91563674927,
          219794.60235855103,
          223384.83575698853,
          223536.4048335266,
          228569.62462684631,
          229552.71757671356,
          231904.45955059052,
          227433.16907569885,
          227657.7651040268,
          233709.1674582672,
          231341.84251472473,
          227253.24315998078,
          220799.84480163574,
          224749.15377876282,
          222620.39380714417,
          220479.38306591034,
          224911.0643698883,
          225562.65348407745,
          228010.51741605758,
          266097.6334769726,
          269863.2858147621,
          261438.14182019234,
          245383.59527373314,
          258382.4882993698,
          267331.6779572964,
          267661.3781962395,
          276136.90385222435,
          268455.4238374233,
          273303.1901125908,
          270261.17072224617,
          265984.8796069622,
          265178.8092699051,
          272586.7501540184,
          278664.60840415955,
          280240.10497522354,
          279251.54460287094,
          263508.6194882393,
          275308.8490829468,
          282628.8710298538,
          275182.6460323334,
          269123.8106241226,
          271008.7651767731,
          262900.56041431427,
          262185.5746240616,
          270747.19519615173,
          276563.12223625183,
          273051.62193870544,
          272775.6597881317,
          272044.411591053,
          270085.51183366776,
          246565.37943935394,
          239023.36643600464,
          245233.21337342262,
          239503.7695260048,
          245406.20992827415,
          258651.06562420845,
          268968.2146041775,
          263629.7100439453,
          255051.76851688387,
          241800.9509605217,
          247671.1686944771,
          258259.9465574646,
          249605.03615285872,
          247908.24490898132,
          256167.85445611953,
          250977.87515857696,
          254309.90686590195,
          258536.50717035294,
          256220.44893554688,
          253624.40533769608,
          231304.69619272233,
          222074.4478448105,
          216195.15680994032,
          199354.63732910156,
          178099.39712625503,
          178656.21648617744,
          178637.8490070343,
          185093.19734760284,
          181747.18841530802,
          172144.10440431596,
          177049.68938546182,
          175036.22905720712,
          178809.8016006279,
          170381.95554356577,
          179136.89619904518,
          175284.43432226183,
          184316.3919563675,
          187882.52034874915,
          186229.369456501,
          180716.57353629114,
          171856.96937606813,
          173175.36751077653,
          172152.5873841095,
          169307.47418784144,
          167673.8789982605,
          171945.22850320817,
          169740.47746465684,
          169806.08432195664,
          173939.61319396974,
          169978.51041124345,
          175654.22391913415,
          173613.06947229386,
          177714.78433797837,
          178148.05471847535,
          176593.99654148103,
          173407.77967904092,
          172790.21257231713,
          173444.153930645,
          173769.5301253605,
          176598.1552808094,
          178935.0278487015,
          180556.50075076104
         ]
        },
        {
         "mode": "lines",
         "name": "Rational Execution Times",
         "type": "scatter",
         "x": [
          "2019-01-17T00:00:00",
          "2019-01-24T00:00:00",
          "2019-01-31T00:00:00",
          "2019-02-07T00:00:00",
          "2019-02-14T00:00:00",
          "2019-02-21T00:00:00",
          "2019-02-28T00:00:00",
          "2019-03-07T00:00:00",
          "2019-03-14T00:00:00",
          "2019-03-21T00:00:00",
          "2019-03-28T00:00:00",
          "2019-04-04T00:00:00",
          "2019-04-11T00:00:00",
          "2019-04-18T00:00:00",
          "2019-04-25T00:00:00",
          "2019-05-02T00:00:00",
          "2019-05-09T00:00:00",
          "2019-05-16T00:00:00",
          "2019-05-23T00:00:00",
          "2019-05-30T00:00:00",
          "2019-06-06T00:00:00",
          "2019-06-13T00:00:00",
          "2019-06-20T00:00:00",
          "2019-06-27T00:00:00",
          "2019-07-04T00:00:00",
          "2019-07-11T00:00:00",
          "2019-07-18T00:00:00",
          "2019-07-25T00:00:00",
          "2019-08-01T00:00:00",
          "2019-08-08T00:00:00",
          "2019-08-15T00:00:00",
          "2019-08-22T00:00:00",
          "2019-08-29T00:00:00",
          "2019-09-05T00:00:00",
          "2019-09-12T00:00:00",
          "2019-09-19T00:00:00",
          "2019-09-26T00:00:00",
          "2019-10-03T00:00:00",
          "2019-10-10T00:00:00",
          "2019-10-17T00:00:00",
          "2019-10-24T00:00:00",
          "2019-10-31T00:00:00",
          "2019-11-07T00:00:00",
          "2019-11-14T00:00:00",
          "2019-11-21T00:00:00",
          "2019-11-28T00:00:00",
          "2019-12-05T00:00:00",
          "2019-12-12T00:00:00",
          "2019-12-19T00:00:00",
          "2019-12-26T00:00:00",
          "2020-01-02T00:00:00",
          "2020-01-09T00:00:00",
          "2020-01-16T00:00:00",
          "2020-01-23T00:00:00",
          "2020-01-30T00:00:00",
          "2020-02-06T00:00:00",
          "2020-02-13T00:00:00",
          "2020-02-20T00:00:00",
          "2020-02-27T00:00:00",
          "2020-03-05T00:00:00",
          "2020-03-12T00:00:00",
          "2020-03-19T00:00:00",
          "2020-03-26T00:00:00",
          "2020-04-02T00:00:00",
          "2020-04-09T00:00:00",
          "2020-04-16T00:00:00",
          "2020-04-23T00:00:00",
          "2020-04-30T00:00:00",
          "2020-05-07T00:00:00",
          "2020-05-14T00:00:00",
          "2020-05-21T00:00:00",
          "2020-05-28T00:00:00",
          "2020-06-04T00:00:00",
          "2020-06-11T00:00:00",
          "2020-06-18T00:00:00",
          "2020-06-25T00:00:00",
          "2020-07-02T00:00:00",
          "2020-07-09T00:00:00",
          "2020-07-16T00:00:00",
          "2020-07-23T00:00:00",
          "2020-07-30T00:00:00",
          "2020-08-06T00:00:00",
          "2020-08-13T00:00:00",
          "2020-08-20T00:00:00",
          "2020-08-27T00:00:00",
          "2020-09-03T00:00:00",
          "2020-09-10T00:00:00",
          "2020-09-17T00:00:00",
          "2020-09-24T00:00:00",
          "2020-10-01T00:00:00",
          "2020-10-08T00:00:00",
          "2020-10-15T00:00:00",
          "2020-10-22T00:00:00",
          "2020-10-29T00:00:00",
          "2020-11-05T00:00:00",
          "2020-11-12T00:00:00",
          "2020-11-19T00:00:00",
          "2020-11-26T00:00:00",
          "2020-12-03T00:00:00",
          "2020-12-10T00:00:00",
          "2020-12-17T00:00:00",
          "2020-12-24T00:00:00",
          "2020-12-31T00:00:00",
          "2021-01-07T00:00:00",
          "2021-01-14T00:00:00",
          "2021-01-21T00:00:00",
          "2021-01-28T00:00:00",
          "2021-02-04T00:00:00",
          "2021-02-11T00:00:00",
          "2021-02-18T00:00:00",
          "2021-02-25T00:00:00",
          "2021-03-04T00:00:00",
          "2021-03-11T00:00:00",
          "2021-03-18T00:00:00",
          "2021-03-25T00:00:00",
          "2021-04-01T00:00:00",
          "2021-04-08T00:00:00",
          "2021-04-15T00:00:00",
          "2021-04-22T00:00:00",
          "2021-04-29T00:00:00",
          "2021-05-06T00:00:00",
          "2021-05-13T00:00:00",
          "2021-05-20T00:00:00",
          "2021-05-27T00:00:00",
          "2021-06-03T00:00:00",
          "2021-06-10T00:00:00",
          "2021-06-17T00:00:00",
          "2021-06-24T00:00:00",
          "2021-07-01T00:00:00",
          "2021-07-08T00:00:00",
          "2021-07-15T00:00:00",
          "2021-07-22T00:00:00",
          "2021-07-29T00:00:00",
          "2021-08-05T00:00:00",
          "2021-08-12T00:00:00",
          "2021-08-19T00:00:00",
          "2021-08-26T00:00:00",
          "2021-09-02T00:00:00",
          "2021-09-09T00:00:00",
          "2021-09-16T00:00:00",
          "2021-09-23T00:00:00",
          "2021-09-30T00:00:00",
          "2021-10-07T00:00:00",
          "2021-10-14T00:00:00",
          "2021-10-21T00:00:00",
          "2021-10-28T00:00:00",
          "2021-11-04T00:00:00",
          "2021-11-11T00:00:00",
          "2021-11-18T00:00:00",
          "2021-11-25T00:00:00",
          "2021-12-02T00:00:00",
          "2021-12-09T00:00:00",
          "2021-12-16T00:00:00",
          "2021-12-23T00:00:00",
          "2021-12-30T00:00:00",
          "2022-01-06T00:00:00",
          "2022-01-13T00:00:00",
          "2022-01-20T00:00:00",
          "2022-01-27T00:00:00",
          "2022-02-03T00:00:00",
          "2022-02-10T00:00:00",
          "2022-02-17T00:00:00",
          "2022-02-24T00:00:00",
          "2022-03-03T00:00:00",
          "2022-03-10T00:00:00",
          "2022-03-17T00:00:00",
          "2022-03-24T00:00:00",
          "2022-03-31T00:00:00",
          "2022-04-07T00:00:00",
          "2022-04-14T00:00:00",
          "2022-04-21T00:00:00",
          "2022-04-28T00:00:00",
          "2022-05-05T00:00:00",
          "2022-05-12T00:00:00",
          "2022-05-19T00:00:00",
          "2022-05-26T00:00:00",
          "2022-06-02T00:00:00",
          "2022-06-09T00:00:00",
          "2022-06-16T00:00:00",
          "2022-06-23T00:00:00",
          "2022-06-30T00:00:00",
          "2022-07-07T00:00:00",
          "2022-07-14T00:00:00",
          "2022-07-21T00:00:00",
          "2022-07-28T00:00:00",
          "2022-08-04T00:00:00",
          "2022-08-11T00:00:00",
          "2022-08-18T00:00:00",
          "2022-08-25T00:00:00",
          "2022-09-01T00:00:00",
          "2022-09-08T00:00:00",
          "2022-09-15T00:00:00",
          "2022-09-22T00:00:00",
          "2022-09-29T00:00:00",
          "2022-10-06T00:00:00",
          "2022-10-13T00:00:00",
          "2022-10-20T00:00:00",
          "2022-10-27T00:00:00",
          "2022-11-03T00:00:00",
          "2022-11-10T00:00:00",
          "2022-11-17T00:00:00",
          "2022-11-24T00:00:00",
          "2022-12-01T00:00:00",
          "2022-12-08T00:00:00",
          "2022-12-15T00:00:00",
          "2022-12-22T00:00:00",
          "2022-12-29T00:00:00",
          "2023-01-05T00:00:00",
          "2023-01-12T00:00:00",
          "2023-01-19T00:00:00",
          "2023-01-26T00:00:00"
         ],
         "y": [
          199792.2236328125,
          199758.89385986328,
          199913.8201599121,
          199873.51445007324,
          200029.61376953125,
          200165.16217041016,
          200193.33294677734,
          200059.63314819336,
          200050.8589630127,
          200039.77459716797,
          200040.92892456055,
          200320.56950378418,
          200417.55436706543,
          200511.07624816895,
          200328.65055847168,
          204710.5064974594,
          204407.42628009795,
          204415.77328689574,
          204327.6068268585,
          204464.99204738616,
          204792.7913676071,
          204214.53856189727,
          204789.39905269622,
          204604.84621341704,
          204961.8337345886,
          205258.46768100737,
          205158.92228801726,
          205415.18658836363,
          203380.78500183104,
          202787.143498497,
          202521.4369984436,
          202824.37466724394,
          202838.88110931395,
          203014.16207035063,
          203160.76869209288,
          203391.10918243407,
          202689.98509319304,
          202118.64172760007,
          201758.5992147064,
          202003.2837697601,
          201851.508865509,
          203302.3108798599,
          204501.94536224363,
          203710.63039318082,
          202721.61712852475,
          203547.53433338163,
          204305.44960132596,
          205446.03697429656,
          205497.8924821472,
          206841.2049306488,
          206504.50408969878,
          206152.34363399504,
          206277.6790536499,
          205475.78275619505,
          202985.55576930998,
          203095.89967380522,
          202725.6748317337,
          201827.8926862335,
          196405.2540076828,
          197108.49238811492,
          189401.7534702873,
          189343.42863880156,
          195282.54471622466,
          193166.68696056365,
          195316.43799911498,
          195718.60937438963,
          197928.5153840637,
          199133.5391152954,
          200636.0186923599,
          199399.7640546417,
          202310.3098786926,
          203254.21521507262,
          206328.23513828276,
          203691.80589996336,
          207195.9418862915,
          206023.632690773,
          207694.1860784149,
          209193.08008705138,
          208412.4890616989,
          208894.22865997313,
          208761.81745658873,
          213445.81865249632,
          212477.87881980895,
          212875.08510433196,
          214171.33054958342,
          214596.1806272125,
          212157.33396087645,
          215726.7354558563,
          214459.02863346098,
          218058.22086845397,
          219930.21108947753,
          219363.7047961807,
          217958.69586215972,
          215462.09848438262,
          219166.0597785568,
          214614.13985191344,
          216518.01245246886,
          220844.32657180785,
          218262.56657157897,
          218004.55563674925,
          222066.242358551,
          225656.47499404906,
          225808.04407058714,
          230841.26386390685,
          231824.3552878952,
          234176.09878765105,
          229704.80945716857,
          229929.40586696623,
          235980.8059323883,
          233613.4809888458,
          229524.88315998076,
          223071.48632751463,
          227020.79301582335,
          224892.0330442047,
          222751.02154003142,
          227182.70284400939,
          227834.29195819853,
          222411.99222806928,
          266097.63423991203,
          269863.287340641,
          261438.14105725288,
          245383.59237456322,
          258382.48753643036,
          267331.6771943569,
          267661.3789591789,
          276136.9061410427,
          268455.4238374233,
          273303.1916384697,
          270261.17072224617,
          265984.8796069622,
          265178.80850696564,
          272586.7516798973,
          278664.60993003845,
          280240.105738163,
          279251.54460287094,
          263508.6173520088,
          275308.8490829468,
          282628.8695039749,
          275182.6438961029,
          269123.8106241226,
          271008.7651767731,
          262900.5596513748,
          244086.62249164583,
          247929.64868335726,
          253445.46700553896,
          250724.17428188326,
          251128.0532682419,
          249909.16317300798,
          248844.14536123278,
          231978.08435420992,
          227515.72138385774,
          232656.92964463236,
          230092.15445642473,
          235774.61373763086,
          274317.9851264667,
          268968.2172744656,
          263629.7100439453,
          255051.76851688387,
          241800.9509605217,
          227351.21086791993,
          228112.95219135284,
          224217.20982749938,
          226368.06798480987,
          232193.45996879577,
          229913.79099449157,
          233411.89245689393,
          234007.6632668686,
          231965.99202594758,
          232009.66069263458,
          228289.29084403993,
          226671.1412934494,
          226334.09361862182,
          223984.763564682,
          219913.28237255095,
          222603.54218338014,
          223214.29378787993,
          226780.02201030732,
          224840.04332164765,
          218631.6190947342,
          221087.82425052644,
          220832.22449890137,
          222066.7754919052,
          218116.49112255097,
          222186.45099933623,
          220702.22813884733,
          221527.9865089035,
          222282.87594841004,
          223352.47425674438,
          220515.31812969208,
          215328.54424858093,
          220317.04199504852,
          203242.94667663574,
          219395.03929878236,
          221783.39382934567,
          223628.03367614743,
          223152.88334751126,
          223799.56955242154,
          227467.07790374753,
          227760.52480125424,
          230991.02978706357,
          230119.31472015378,
          232467.538567543,
          233515.58941841123,
          231808.87070369718,
          229754.0946140289,
          229045.1070891571,
          231443.50825511932,
          233084.79292308807,
          236228.11169445037,
          237439.8234549713,
          241851.63550102233
         ]
        }
       ],
       "layout": {
        "template": {
         "data": {
          "bar": [
           {
            "error_x": {
             "color": "#2a3f5f"
            },
            "error_y": {
             "color": "#2a3f5f"
            },
            "marker": {
             "line": {
              "color": "#E5ECF6",
              "width": 0.5
             },
             "pattern": {
              "fillmode": "overlay",
              "size": 10,
              "solidity": 0.2
             }
            },
            "type": "bar"
           }
          ],
          "barpolar": [
           {
            "marker": {
             "line": {
              "color": "#E5ECF6",
              "width": 0.5
             },
             "pattern": {
              "fillmode": "overlay",
              "size": 10,
              "solidity": 0.2
             }
            },
            "type": "barpolar"
           }
          ],
          "carpet": [
           {
            "aaxis": {
             "endlinecolor": "#2a3f5f",
             "gridcolor": "white",
             "linecolor": "white",
             "minorgridcolor": "white",
             "startlinecolor": "#2a3f5f"
            },
            "baxis": {
             "endlinecolor": "#2a3f5f",
             "gridcolor": "white",
             "linecolor": "white",
             "minorgridcolor": "white",
             "startlinecolor": "#2a3f5f"
            },
            "type": "carpet"
           }
          ],
          "choropleth": [
           {
            "colorbar": {
             "outlinewidth": 0,
             "ticks": ""
            },
            "type": "choropleth"
           }
          ],
          "contour": [
           {
            "colorbar": {
             "outlinewidth": 0,
             "ticks": ""
            },
            "colorscale": [
             [
              0,
              "#0d0887"
             ],
             [
              0.1111111111111111,
              "#46039f"
             ],
             [
              0.2222222222222222,
              "#7201a8"
             ],
             [
              0.3333333333333333,
              "#9c179e"
             ],
             [
              0.4444444444444444,
              "#bd3786"
             ],
             [
              0.5555555555555556,
              "#d8576b"
             ],
             [
              0.6666666666666666,
              "#ed7953"
             ],
             [
              0.7777777777777778,
              "#fb9f3a"
             ],
             [
              0.8888888888888888,
              "#fdca26"
             ],
             [
              1,
              "#f0f921"
             ]
            ],
            "type": "contour"
           }
          ],
          "contourcarpet": [
           {
            "colorbar": {
             "outlinewidth": 0,
             "ticks": ""
            },
            "type": "contourcarpet"
           }
          ],
          "heatmap": [
           {
            "colorbar": {
             "outlinewidth": 0,
             "ticks": ""
            },
            "colorscale": [
             [
              0,
              "#0d0887"
             ],
             [
              0.1111111111111111,
              "#46039f"
             ],
             [
              0.2222222222222222,
              "#7201a8"
             ],
             [
              0.3333333333333333,
              "#9c179e"
             ],
             [
              0.4444444444444444,
              "#bd3786"
             ],
             [
              0.5555555555555556,
              "#d8576b"
             ],
             [
              0.6666666666666666,
              "#ed7953"
             ],
             [
              0.7777777777777778,
              "#fb9f3a"
             ],
             [
              0.8888888888888888,
              "#fdca26"
             ],
             [
              1,
              "#f0f921"
             ]
            ],
            "type": "heatmap"
           }
          ],
          "heatmapgl": [
           {
            "colorbar": {
             "outlinewidth": 0,
             "ticks": ""
            },
            "colorscale": [
             [
              0,
              "#0d0887"
             ],
             [
              0.1111111111111111,
              "#46039f"
             ],
             [
              0.2222222222222222,
              "#7201a8"
             ],
             [
              0.3333333333333333,
              "#9c179e"
             ],
             [
              0.4444444444444444,
              "#bd3786"
             ],
             [
              0.5555555555555556,
              "#d8576b"
             ],
             [
              0.6666666666666666,
              "#ed7953"
             ],
             [
              0.7777777777777778,
              "#fb9f3a"
             ],
             [
              0.8888888888888888,
              "#fdca26"
             ],
             [
              1,
              "#f0f921"
             ]
            ],
            "type": "heatmapgl"
           }
          ],
          "histogram": [
           {
            "marker": {
             "pattern": {
              "fillmode": "overlay",
              "size": 10,
              "solidity": 0.2
             }
            },
            "type": "histogram"
           }
          ],
          "histogram2d": [
           {
            "colorbar": {
             "outlinewidth": 0,
             "ticks": ""
            },
            "colorscale": [
             [
              0,
              "#0d0887"
             ],
             [
              0.1111111111111111,
              "#46039f"
             ],
             [
              0.2222222222222222,
              "#7201a8"
             ],
             [
              0.3333333333333333,
              "#9c179e"
             ],
             [
              0.4444444444444444,
              "#bd3786"
             ],
             [
              0.5555555555555556,
              "#d8576b"
             ],
             [
              0.6666666666666666,
              "#ed7953"
             ],
             [
              0.7777777777777778,
              "#fb9f3a"
             ],
             [
              0.8888888888888888,
              "#fdca26"
             ],
             [
              1,
              "#f0f921"
             ]
            ],
            "type": "histogram2d"
           }
          ],
          "histogram2dcontour": [
           {
            "colorbar": {
             "outlinewidth": 0,
             "ticks": ""
            },
            "colorscale": [
             [
              0,
              "#0d0887"
             ],
             [
              0.1111111111111111,
              "#46039f"
             ],
             [
              0.2222222222222222,
              "#7201a8"
             ],
             [
              0.3333333333333333,
              "#9c179e"
             ],
             [
              0.4444444444444444,
              "#bd3786"
             ],
             [
              0.5555555555555556,
              "#d8576b"
             ],
             [
              0.6666666666666666,
              "#ed7953"
             ],
             [
              0.7777777777777778,
              "#fb9f3a"
             ],
             [
              0.8888888888888888,
              "#fdca26"
             ],
             [
              1,
              "#f0f921"
             ]
            ],
            "type": "histogram2dcontour"
           }
          ],
          "mesh3d": [
           {
            "colorbar": {
             "outlinewidth": 0,
             "ticks": ""
            },
            "type": "mesh3d"
           }
          ],
          "parcoords": [
           {
            "line": {
             "colorbar": {
              "outlinewidth": 0,
              "ticks": ""
             }
            },
            "type": "parcoords"
           }
          ],
          "pie": [
           {
            "automargin": true,
            "type": "pie"
           }
          ],
          "scatter": [
           {
            "marker": {
             "colorbar": {
              "outlinewidth": 0,
              "ticks": ""
             }
            },
            "type": "scatter"
           }
          ],
          "scatter3d": [
           {
            "line": {
             "colorbar": {
              "outlinewidth": 0,
              "ticks": ""
             }
            },
            "marker": {
             "colorbar": {
              "outlinewidth": 0,
              "ticks": ""
             }
            },
            "type": "scatter3d"
           }
          ],
          "scattercarpet": [
           {
            "marker": {
             "colorbar": {
              "outlinewidth": 0,
              "ticks": ""
             }
            },
            "type": "scattercarpet"
           }
          ],
          "scattergeo": [
           {
            "marker": {
             "colorbar": {
              "outlinewidth": 0,
              "ticks": ""
             }
            },
            "type": "scattergeo"
           }
          ],
          "scattergl": [
           {
            "marker": {
             "colorbar": {
              "outlinewidth": 0,
              "ticks": ""
             }
            },
            "type": "scattergl"
           }
          ],
          "scattermapbox": [
           {
            "marker": {
             "colorbar": {
              "outlinewidth": 0,
              "ticks": ""
             }
            },
            "type": "scattermapbox"
           }
          ],
          "scatterpolar": [
           {
            "marker": {
             "colorbar": {
              "outlinewidth": 0,
              "ticks": ""
             }
            },
            "type": "scatterpolar"
           }
          ],
          "scatterpolargl": [
           {
            "marker": {
             "colorbar": {
              "outlinewidth": 0,
              "ticks": ""
             }
            },
            "type": "scatterpolargl"
           }
          ],
          "scatterternary": [
           {
            "marker": {
             "colorbar": {
              "outlinewidth": 0,
              "ticks": ""
             }
            },
            "type": "scatterternary"
           }
          ],
          "surface": [
           {
            "colorbar": {
             "outlinewidth": 0,
             "ticks": ""
            },
            "colorscale": [
             [
              0,
              "#0d0887"
             ],
             [
              0.1111111111111111,
              "#46039f"
             ],
             [
              0.2222222222222222,
              "#7201a8"
             ],
             [
              0.3333333333333333,
              "#9c179e"
             ],
             [
              0.4444444444444444,
              "#bd3786"
             ],
             [
              0.5555555555555556,
              "#d8576b"
             ],
             [
              0.6666666666666666,
              "#ed7953"
             ],
             [
              0.7777777777777778,
              "#fb9f3a"
             ],
             [
              0.8888888888888888,
              "#fdca26"
             ],
             [
              1,
              "#f0f921"
             ]
            ],
            "type": "surface"
           }
          ],
          "table": [
           {
            "cells": {
             "fill": {
              "color": "#EBF0F8"
             },
             "line": {
              "color": "white"
             }
            },
            "header": {
             "fill": {
              "color": "#C8D4E3"
             },
             "line": {
              "color": "white"
             }
            },
            "type": "table"
           }
          ]
         },
         "layout": {
          "annotationdefaults": {
           "arrowcolor": "#2a3f5f",
           "arrowhead": 0,
           "arrowwidth": 1
          },
          "autotypenumbers": "strict",
          "coloraxis": {
           "colorbar": {
            "outlinewidth": 0,
            "ticks": ""
           }
          },
          "colorscale": {
           "diverging": [
            [
             0,
             "#8e0152"
            ],
            [
             0.1,
             "#c51b7d"
            ],
            [
             0.2,
             "#de77ae"
            ],
            [
             0.3,
             "#f1b6da"
            ],
            [
             0.4,
             "#fde0ef"
            ],
            [
             0.5,
             "#f7f7f7"
            ],
            [
             0.6,
             "#e6f5d0"
            ],
            [
             0.7,
             "#b8e186"
            ],
            [
             0.8,
             "#7fbc41"
            ],
            [
             0.9,
             "#4d9221"
            ],
            [
             1,
             "#276419"
            ]
           ],
           "sequential": [
            [
             0,
             "#0d0887"
            ],
            [
             0.1111111111111111,
             "#46039f"
            ],
            [
             0.2222222222222222,
             "#7201a8"
            ],
            [
             0.3333333333333333,
             "#9c179e"
            ],
            [
             0.4444444444444444,
             "#bd3786"
            ],
            [
             0.5555555555555556,
             "#d8576b"
            ],
            [
             0.6666666666666666,
             "#ed7953"
            ],
            [
             0.7777777777777778,
             "#fb9f3a"
            ],
            [
             0.8888888888888888,
             "#fdca26"
            ],
            [
             1,
             "#f0f921"
            ]
           ],
           "sequentialminus": [
            [
             0,
             "#0d0887"
            ],
            [
             0.1111111111111111,
             "#46039f"
            ],
            [
             0.2222222222222222,
             "#7201a8"
            ],
            [
             0.3333333333333333,
             "#9c179e"
            ],
            [
             0.4444444444444444,
             "#bd3786"
            ],
            [
             0.5555555555555556,
             "#d8576b"
            ],
            [
             0.6666666666666666,
             "#ed7953"
            ],
            [
             0.7777777777777778,
             "#fb9f3a"
            ],
            [
             0.8888888888888888,
             "#fdca26"
            ],
            [
             1,
             "#f0f921"
            ]
           ]
          },
          "colorway": [
           "#636efa",
           "#EF553B",
           "#00cc96",
           "#ab63fa",
           "#FFA15A",
           "#19d3f3",
           "#FF6692",
           "#B6E880",
           "#FF97FF",
           "#FECB52"
          ],
          "font": {
           "color": "#2a3f5f"
          },
          "geo": {
           "bgcolor": "white",
           "lakecolor": "white",
           "landcolor": "#E5ECF6",
           "showlakes": true,
           "showland": true,
           "subunitcolor": "white"
          },
          "hoverlabel": {
           "align": "left"
          },
          "hovermode": "closest",
          "mapbox": {
           "style": "light"
          },
          "paper_bgcolor": "white",
          "plot_bgcolor": "#E5ECF6",
          "polar": {
           "angularaxis": {
            "gridcolor": "white",
            "linecolor": "white",
            "ticks": ""
           },
           "bgcolor": "#E5ECF6",
           "radialaxis": {
            "gridcolor": "white",
            "linecolor": "white",
            "ticks": ""
           }
          },
          "scene": {
           "xaxis": {
            "backgroundcolor": "#E5ECF6",
            "gridcolor": "white",
            "gridwidth": 2,
            "linecolor": "white",
            "showbackground": true,
            "ticks": "",
            "zerolinecolor": "white"
           },
           "yaxis": {
            "backgroundcolor": "#E5ECF6",
            "gridcolor": "white",
            "gridwidth": 2,
            "linecolor": "white",
            "showbackground": true,
            "ticks": "",
            "zerolinecolor": "white"
           },
           "zaxis": {
            "backgroundcolor": "#E5ECF6",
            "gridcolor": "white",
            "gridwidth": 2,
            "linecolor": "white",
            "showbackground": true,
            "ticks": "",
            "zerolinecolor": "white"
           }
          },
          "shapedefaults": {
           "line": {
            "color": "#2a3f5f"
           }
          },
          "ternary": {
           "aaxis": {
            "gridcolor": "white",
            "linecolor": "white",
            "ticks": ""
           },
           "baxis": {
            "gridcolor": "white",
            "linecolor": "white",
            "ticks": ""
           },
           "bgcolor": "#E5ECF6",
           "caxis": {
            "gridcolor": "white",
            "linecolor": "white",
            "ticks": ""
           }
          },
          "title": {
           "x": 0.05
          },
          "xaxis": {
           "automargin": true,
           "gridcolor": "white",
           "linecolor": "white",
           "ticks": "",
           "title": {
            "standoff": 15
           },
           "zerolinecolor": "white",
           "zerolinewidth": 2
          },
          "yaxis": {
           "automargin": true,
           "gridcolor": "white",
           "linecolor": "white",
           "ticks": "",
           "title": {
            "standoff": 15
           },
           "zerolinecolor": "white",
           "zerolinewidth": 2
          }
         }
        }
       }
      }
     },
     "metadata": {},
     "output_type": "display_data"
    }
   ],
   "source": [
    "# Plot the rational vs regular portfolios over time\n",
    "fig = go.Figure()\n",
    "fig.add_trace(go.Scatter(x=list(agg_values_vF.keys()), y=list(agg_values_vF.values()),\n",
    "                    mode='lines',\n",
    "                    name='Actual'))\n",
    "fig.add_trace(go.Scatter(x=list(agg_values_vF_rational.keys()), y=list(agg_values_vF_rational.values()),\n",
    "                    mode='lines',\n",
    "                    name='Rational Execution Times'))\n",
    "fig.show()"
   ]
  },
  {
   "cell_type": "code",
   "execution_count": 47,
   "metadata": {},
   "outputs": [
    {
     "data": {
      "text/html": [
       "<div>\n",
       "<style scoped>\n",
       "    .dataframe tbody tr th:only-of-type {\n",
       "        vertical-align: middle;\n",
       "    }\n",
       "\n",
       "    .dataframe tbody tr th {\n",
       "        vertical-align: top;\n",
       "    }\n",
       "\n",
       "    .dataframe thead th {\n",
       "        text-align: right;\n",
       "    }\n",
       "</style>\n",
       "<table border=\"1\" class=\"dataframe\">\n",
       "  <thead>\n",
       "    <tr style=\"text-align: right;\">\n",
       "      <th></th>\n",
       "      <th>ticker</th>\n",
       "      <th>qty</th>\n",
       "      <th>price</th>\n",
       "      <th>date</th>\n",
       "    </tr>\n",
       "  </thead>\n",
       "  <tbody>\n",
       "    <tr>\n",
       "      <th>0</th>\n",
       "      <td>CASH</td>\n",
       "      <td>200000.00</td>\n",
       "      <td>1.00</td>\n",
       "      <td>2019-01-09</td>\n",
       "    </tr>\n",
       "    <tr>\n",
       "      <th>0</th>\n",
       "      <td>PH</td>\n",
       "      <td>25.00</td>\n",
       "      <td>157.98</td>\n",
       "      <td>2019-01-09</td>\n",
       "    </tr>\n",
       "    <tr>\n",
       "      <th>0</th>\n",
       "      <td>CASH</td>\n",
       "      <td>-3874.50</td>\n",
       "      <td>1.00</td>\n",
       "      <td>2019-01-09</td>\n",
       "    </tr>\n",
       "    <tr>\n",
       "      <th>0</th>\n",
       "      <td>NTDOY</td>\n",
       "      <td>725.00</td>\n",
       "      <td>8.61</td>\n",
       "      <td>2019-04-26</td>\n",
       "    </tr>\n",
       "    <tr>\n",
       "      <th>0</th>\n",
       "      <td>CASH</td>\n",
       "      <td>-6242.25</td>\n",
       "      <td>1.00</td>\n",
       "      <td>2019-04-26</td>\n",
       "    </tr>\n",
       "  </tbody>\n",
       "</table>\n",
       "</div>"
      ],
      "text/plain": [
       "  ticker        qty   price       date\n",
       "0   CASH  200000.00    1.00 2019-01-09\n",
       "0     PH      25.00  157.98 2019-01-09\n",
       "0   CASH   -3874.50    1.00 2019-01-09\n",
       "0  NTDOY     725.00    8.61 2019-04-26\n",
       "0   CASH   -6242.25    1.00 2019-04-26"
      ]
     },
     "execution_count": 47,
     "metadata": {},
     "output_type": "execute_result"
    }
   ],
   "source": [
    "transactions_rational_2 = pd.read_excel('../data/Investment_Transaction_Detail (1) copy3.xlsx')\n",
    "transactions_rational_2.head()\n",
    "\n",
    "trades_rational2 = []\n",
    "for i in range(len(transactions_rational_2)):\n",
    "    trade = Trade(ticker=transactions_rational_2['Ticker'][i],\n",
    "                  date=transactions_rational_2['Date'][i],\n",
    "                  qty=transactions_rational_2['Quantity'][i],\n",
    "                  price=transactions_rational_2['Value'][i] / transactions_rational_2['Quantity'][i])\n",
    "    trades_rational2.append(trade)\n",
    "\n",
    "pb_rational2 = PortfolioBuilder(trades_rational2, backup_price_data=backup_data)\n",
    "transactions_rational_2 = pb_rational2.get_transactions()\n",
    "transactions_rational_2.head()"
   ]
  },
  {
   "cell_type": "code",
   "execution_count": 48,
   "metadata": {},
   "outputs": [
    {
     "name": "stdout",
     "output_type": "stream",
     "text": [
      "2019-01-17 00:00:00\n",
      "2019-01-24 00:00:00\n",
      "2019-01-31 00:00:00\n",
      "2019-02-07 00:00:00\n",
      "2019-02-14 00:00:00\n",
      "2019-02-21 00:00:00\n",
      "2019-02-28 00:00:00\n",
      "2019-03-07 00:00:00\n",
      "2019-03-14 00:00:00\n",
      "2019-03-21 00:00:00\n",
      "2019-03-28 00:00:00\n",
      "2019-04-04 00:00:00\n",
      "2019-04-11 00:00:00\n",
      "2019-04-18 00:00:00\n",
      "2019-04-25 00:00:00\n",
      "2019-05-02 00:00:00\n",
      "2019-05-09 00:00:00\n",
      "2019-05-16 00:00:00\n",
      "2019-05-23 00:00:00\n",
      "2019-05-30 00:00:00\n",
      "2019-06-06 00:00:00\n",
      "2019-06-13 00:00:00\n",
      "2019-06-20 00:00:00\n",
      "2019-06-27 00:00:00\n",
      "2019-07-04 00:00:00\n",
      "2019-07-11 00:00:00\n",
      "2019-07-18 00:00:00\n",
      "2019-07-25 00:00:00\n",
      "2019-08-01 00:00:00\n",
      "2019-08-08 00:00:00\n",
      "2019-08-15 00:00:00\n",
      "2019-08-22 00:00:00\n",
      "2019-08-29 00:00:00\n",
      "2019-09-05 00:00:00\n",
      "2019-09-12 00:00:00\n",
      "2019-09-19 00:00:00\n",
      "2019-09-26 00:00:00\n",
      "2019-10-03 00:00:00\n",
      "2019-10-10 00:00:00\n",
      "2019-10-17 00:00:00\n",
      "2019-10-24 00:00:00\n",
      "2019-10-31 00:00:00\n",
      "2019-11-07 00:00:00\n",
      "2019-11-14 00:00:00\n",
      "2019-11-21 00:00:00\n",
      "2019-11-28 00:00:00\n",
      "2019-12-05 00:00:00\n",
      "2019-12-12 00:00:00\n",
      "2019-12-19 00:00:00\n",
      "2019-12-26 00:00:00\n",
      "2020-01-02 00:00:00\n",
      "2020-01-09 00:00:00\n",
      "2020-01-16 00:00:00\n",
      "2020-01-23 00:00:00\n",
      "2020-01-30 00:00:00\n",
      "2020-02-06 00:00:00\n",
      "2020-02-13 00:00:00\n",
      "2020-02-20 00:00:00\n",
      "2020-02-27 00:00:00\n",
      "2020-03-05 00:00:00\n",
      "2020-03-12 00:00:00\n",
      "2020-03-19 00:00:00\n",
      "2020-03-26 00:00:00\n",
      "2020-04-02 00:00:00\n",
      "2020-04-09 00:00:00\n",
      "2020-04-16 00:00:00\n",
      "2020-04-23 00:00:00\n",
      "2020-04-30 00:00:00\n",
      "2020-05-07 00:00:00\n",
      "2020-05-14 00:00:00\n",
      "2020-05-21 00:00:00\n",
      "2020-05-28 00:00:00\n",
      "2020-06-04 00:00:00\n",
      "2020-06-11 00:00:00\n",
      "2020-06-18 00:00:00\n",
      "2020-06-25 00:00:00\n",
      "2020-07-02 00:00:00\n",
      "2020-07-09 00:00:00\n",
      "2020-07-16 00:00:00\n",
      "2020-07-23 00:00:00\n",
      "2020-07-30 00:00:00\n",
      "2020-08-06 00:00:00\n",
      "2020-08-13 00:00:00\n",
      "2020-08-20 00:00:00\n",
      "2020-08-27 00:00:00\n",
      "2020-09-03 00:00:00\n",
      "2020-09-10 00:00:00\n",
      "2020-09-17 00:00:00\n",
      "2020-09-24 00:00:00\n",
      "2020-10-01 00:00:00\n",
      "2020-10-08 00:00:00\n",
      "2020-10-15 00:00:00\n",
      "2020-10-22 00:00:00\n",
      "2020-10-29 00:00:00\n",
      "2020-11-05 00:00:00\n",
      "2020-11-12 00:00:00\n",
      "2020-11-19 00:00:00\n",
      "2020-11-26 00:00:00\n",
      "2020-12-03 00:00:00\n",
      "2020-12-10 00:00:00\n",
      "2020-12-17 00:00:00\n",
      "2020-12-24 00:00:00\n",
      "2020-12-31 00:00:00\n",
      "2021-01-07 00:00:00\n",
      "2021-01-14 00:00:00\n",
      "2021-01-21 00:00:00\n",
      "2021-01-28 00:00:00\n",
      "2021-02-04 00:00:00\n",
      "2021-02-11 00:00:00\n",
      "2021-02-18 00:00:00\n",
      "2021-02-25 00:00:00\n",
      "2021-03-04 00:00:00\n",
      "2021-03-11 00:00:00\n",
      "2021-03-18 00:00:00\n",
      "2021-03-25 00:00:00\n",
      "2021-04-01 00:00:00\n",
      "2021-04-08 00:00:00\n",
      "2021-04-15 00:00:00\n",
      "2021-04-22 00:00:00\n",
      "2021-04-29 00:00:00\n",
      "2021-05-06 00:00:00\n",
      "2021-05-13 00:00:00\n",
      "2021-05-20 00:00:00\n",
      "2021-05-27 00:00:00\n",
      "2021-06-03 00:00:00\n",
      "2021-06-10 00:00:00\n",
      "2021-06-17 00:00:00\n",
      "2021-06-24 00:00:00\n",
      "2021-07-01 00:00:00\n",
      "2021-07-08 00:00:00\n",
      "2021-07-15 00:00:00\n",
      "2021-07-22 00:00:00\n",
      "2021-07-29 00:00:00\n",
      "2021-08-05 00:00:00\n",
      "2021-08-12 00:00:00\n",
      "2021-08-19 00:00:00\n",
      "2021-08-26 00:00:00\n",
      "2021-09-02 00:00:00\n",
      "2021-09-09 00:00:00\n",
      "2021-09-16 00:00:00\n",
      "2021-09-23 00:00:00\n",
      "2021-09-30 00:00:00\n",
      "2021-10-07 00:00:00\n",
      "2021-10-14 00:00:00\n",
      "2021-10-21 00:00:00\n",
      "2021-10-28 00:00:00\n",
      "2021-11-04 00:00:00\n",
      "2021-11-11 00:00:00\n",
      "2021-11-18 00:00:00\n",
      "2021-11-25 00:00:00\n",
      "2021-12-02 00:00:00\n",
      "2021-12-09 00:00:00\n",
      "2021-12-16 00:00:00\n",
      "2021-12-23 00:00:00\n",
      "2021-12-30 00:00:00\n",
      "Got error from yahoo api for ticker ECOM, Error: {'code': 'Not Found', 'description': 'No data found, symbol may be delisted'}\n",
      "- ECOM: No timezone found, symbol may be delisted\n",
      "MAXR: No data found, symbol may be delisted\n",
      "2022-01-06 00:00:00\n",
      "Got error from yahoo api for ticker ECOM, Error: {'code': 'Not Found', 'description': 'No data found, symbol may be delisted'}\n",
      "- ECOM: No timezone found, symbol may be delisted\n",
      "MAXR: No data found, symbol may be delisted\n",
      "2022-01-13 00:00:00\n",
      "Got error from yahoo api for ticker ECOM, Error: {'code': 'Not Found', 'description': 'No data found, symbol may be delisted'}\n",
      "- ECOM: No timezone found, symbol may be delisted\n",
      "MAXR: No data found, symbol may be delisted\n",
      "2022-01-20 00:00:00\n",
      "Got error from yahoo api for ticker ECOM, Error: {'code': 'Not Found', 'description': 'No data found, symbol may be delisted'}\n",
      "- ECOM: No timezone found, symbol may be delisted\n",
      "MAXR: No data found, symbol may be delisted\n",
      "2022-01-27 00:00:00\n",
      "Got error from yahoo api for ticker ECOM, Error: {'code': 'Not Found', 'description': 'No data found, symbol may be delisted'}\n",
      "- ECOM: No timezone found, symbol may be delisted\n",
      "MAXR: No data found, symbol may be delisted\n",
      "2022-02-03 00:00:00\n",
      "Got error from yahoo api for ticker ECOM, Error: {'code': 'Not Found', 'description': 'No data found, symbol may be delisted'}\n",
      "- ECOM: No timezone found, symbol may be delisted\n",
      "MAXR: No data found, symbol may be delisted\n",
      "2022-02-10 00:00:00\n",
      "Got error from yahoo api for ticker ECOM, Error: {'code': 'Not Found', 'description': 'No data found, symbol may be delisted'}\n",
      "- ECOM: No timezone found, symbol may be delisted\n",
      "MAXR: No data found, symbol may be delisted\n",
      "2022-02-17 00:00:00\n",
      "Got error from yahoo api for ticker ECOM, Error: {'code': 'Not Found', 'description': 'No data found, symbol may be delisted'}\n",
      "- ECOM: No timezone found, symbol may be delisted\n",
      "MAXR: No data found, symbol may be delisted\n",
      "2022-02-24 00:00:00\n",
      "Got error from yahoo api for ticker ECOM, Error: {'code': 'Not Found', 'description': 'No data found, symbol may be delisted'}\n",
      "- ECOM: No timezone found, symbol may be delisted\n",
      "MAXR: No data found, symbol may be delisted\n",
      "2022-03-03 00:00:00\n",
      "Got error from yahoo api for ticker ECOM, Error: {'code': 'Not Found', 'description': 'No data found, symbol may be delisted'}\n",
      "- ECOM: No timezone found, symbol may be delisted\n",
      "MAXR: No data found, symbol may be delisted\n",
      "2022-03-10 00:00:00\n",
      "Got error from yahoo api for ticker ECOM, Error: {'code': 'Not Found', 'description': 'No data found, symbol may be delisted'}\n",
      "- ECOM: No timezone found, symbol may be delisted\n",
      "MAXR: No data found, symbol may be delisted\n",
      "2022-03-17 00:00:00\n",
      "Got error from yahoo api for ticker ECOM, Error: {'code': 'Not Found', 'description': 'No data found, symbol may be delisted'}\n",
      "- ECOM: No timezone found, symbol may be delisted\n",
      "MAXR: No data found, symbol may be delisted\n",
      "2022-03-24 00:00:00\n",
      "Got error from yahoo api for ticker ECOM, Error: {'code': 'Not Found', 'description': 'No data found, symbol may be delisted'}\n",
      "- ECOM: No timezone found, symbol may be delisted\n",
      "MAXR: No data found, symbol may be delisted\n",
      "2022-03-31 00:00:00\n",
      "Got error from yahoo api for ticker ECOM, Error: {'code': 'Not Found', 'description': 'No data found, symbol may be delisted'}\n",
      "- ECOM: No timezone found, symbol may be delisted\n",
      "MAXR: No data found, symbol may be delisted\n",
      "2022-04-07 00:00:00\n",
      "Got error from yahoo api for ticker ECOM, Error: {'code': 'Not Found', 'description': 'No data found, symbol may be delisted'}\n",
      "- ECOM: No timezone found, symbol may be delisted\n",
      "MAXR: No data found, symbol may be delisted\n",
      "2022-04-14 00:00:00\n",
      "Got error from yahoo api for ticker ECOM, Error: {'code': 'Not Found', 'description': 'No data found, symbol may be delisted'}\n",
      "- ECOM: No timezone found, symbol may be delisted\n",
      "MAXR: No data found, symbol may be delisted\n",
      "2022-04-21 00:00:00\n",
      "Got error from yahoo api for ticker ECOM, Error: {'code': 'Not Found', 'description': 'No data found, symbol may be delisted'}\n",
      "- ECOM: No timezone found, symbol may be delisted\n",
      "MAXR: No data found, symbol may be delisted\n",
      "2022-04-28 00:00:00\n",
      "Got error from yahoo api for ticker ECOM, Error: {'code': 'Not Found', 'description': 'No data found, symbol may be delisted'}\n",
      "- ECOM: No timezone found, symbol may be delisted\n",
      "MAXR: No data found, symbol may be delisted\n",
      "2022-05-05 00:00:00\n",
      "Got error from yahoo api for ticker ECOM, Error: {'code': 'Not Found', 'description': 'No data found, symbol may be delisted'}\n",
      "- ECOM: No timezone found, symbol may be delisted\n",
      "MAXR: No data found, symbol may be delisted\n",
      "2022-05-12 00:00:00\n",
      "Got error from yahoo api for ticker ECOM, Error: {'code': 'Not Found', 'description': 'No data found, symbol may be delisted'}\n",
      "- ECOM: No timezone found, symbol may be delisted\n",
      "MAXR: No data found, symbol may be delisted\n",
      "2022-05-19 00:00:00\n",
      "Got error from yahoo api for ticker ECOM, Error: {'code': 'Not Found', 'description': 'No data found, symbol may be delisted'}\n",
      "- ECOM: No timezone found, symbol may be delisted\n",
      "MAXR: No data found, symbol may be delisted\n",
      "2022-05-26 00:00:00\n",
      "Got error from yahoo api for ticker ECOM, Error: {'code': 'Not Found', 'description': 'No data found, symbol may be delisted'}\n",
      "- ECOM: No timezone found, symbol may be delisted\n",
      "MAXR: No data found, symbol may be delisted\n",
      "2022-06-02 00:00:00\n",
      "Got error from yahoo api for ticker ECOM, Error: {'code': 'Not Found', 'description': 'No data found, symbol may be delisted'}\n",
      "- ECOM: No timezone found, symbol may be delisted\n",
      "MAXR: No data found, symbol may be delisted\n",
      "2022-06-09 00:00:00\n",
      "Got error from yahoo api for ticker ECOM, Error: {'code': 'Not Found', 'description': 'No data found, symbol may be delisted'}\n",
      "- ECOM: No timezone found, symbol may be delisted\n",
      "MAXR: No data found, symbol may be delisted\n",
      "2022-06-16 00:00:00\n",
      "Got error from yahoo api for ticker ECOM, Error: {'code': 'Not Found', 'description': 'No data found, symbol may be delisted'}\n",
      "- ECOM: No timezone found, symbol may be delisted\n",
      "MAXR: No data found, symbol may be delisted\n",
      "2022-06-23 00:00:00\n",
      "Got error from yahoo api for ticker ECOM, Error: {'code': 'Not Found', 'description': 'No data found, symbol may be delisted'}\n",
      "- ECOM: No timezone found, symbol may be delisted\n",
      "MAXR: No data found, symbol may be delisted\n",
      "2022-06-30 00:00:00\n",
      "Got error from yahoo api for ticker ECOM, Error: {'code': 'Not Found', 'description': 'No data found, symbol may be delisted'}\n",
      "- ECOM: No timezone found, symbol may be delisted\n",
      "MAXR: No data found, symbol may be delisted\n",
      "2022-07-07 00:00:00\n",
      "Got error from yahoo api for ticker ECOM, Error: {'code': 'Not Found', 'description': 'No data found, symbol may be delisted'}\n",
      "- ECOM: No timezone found, symbol may be delisted\n",
      "MAXR: No data found, symbol may be delisted\n",
      "2022-07-14 00:00:00\n",
      "Got error from yahoo api for ticker ECOM, Error: {'code': 'Not Found', 'description': 'No data found, symbol may be delisted'}\n",
      "- ECOM: No timezone found, symbol may be delisted\n",
      "MAXR: No data found, symbol may be delisted\n",
      "2022-07-21 00:00:00\n",
      "Got error from yahoo api for ticker ECOM, Error: {'code': 'Not Found', 'description': 'No data found, symbol may be delisted'}\n",
      "- ECOM: No timezone found, symbol may be delisted\n",
      "MAXR: No data found, symbol may be delisted\n",
      "2022-07-28 00:00:00\n",
      "Got error from yahoo api for ticker ECOM, Error: {'code': 'Not Found', 'description': 'No data found, symbol may be delisted'}\n",
      "- ECOM: No timezone found, symbol may be delisted\n",
      "MAXR: No data found, symbol may be delisted\n",
      "2022-08-04 00:00:00\n",
      "Got error from yahoo api for ticker ECOM, Error: {'code': 'Not Found', 'description': 'No data found, symbol may be delisted'}\n",
      "- ECOM: No timezone found, symbol may be delisted\n",
      "MAXR: No data found, symbol may be delisted\n",
      "2022-08-11 00:00:00\n",
      "Got error from yahoo api for ticker ECOM, Error: {'code': 'Not Found', 'description': 'No data found, symbol may be delisted'}\n",
      "- ECOM: No timezone found, symbol may be delisted\n",
      "MAXR: No data found, symbol may be delisted\n",
      "2022-08-18 00:00:00\n",
      "Got error from yahoo api for ticker ECOM, Error: {'code': 'Not Found', 'description': 'No data found, symbol may be delisted'}\n",
      "- ECOM: No timezone found, symbol may be delisted\n",
      "MAXR: No data found, symbol may be delisted\n",
      "2022-08-25 00:00:00\n",
      "Got error from yahoo api for ticker ECOM, Error: {'code': 'Not Found', 'description': 'No data found, symbol may be delisted'}\n",
      "- ECOM: No timezone found, symbol may be delisted\n",
      "MAXR: No data found, symbol may be delisted\n",
      "2022-09-01 00:00:00\n",
      "Got error from yahoo api for ticker ECOM, Error: {'code': 'Not Found', 'description': 'No data found, symbol may be delisted'}\n",
      "- ECOM: No timezone found, symbol may be delisted\n",
      "MAXR: No data found, symbol may be delisted\n",
      "2022-09-08 00:00:00\n",
      "Got error from yahoo api for ticker ECOM, Error: {'code': 'Not Found', 'description': 'No data found, symbol may be delisted'}\n",
      "- ECOM: No timezone found, symbol may be delisted\n",
      "MAXR: No data found, symbol may be delisted\n",
      "2022-09-15 00:00:00\n",
      "Got error from yahoo api for ticker ECOM, Error: {'code': 'Not Found', 'description': 'No data found, symbol may be delisted'}\n",
      "- ECOM: No timezone found, symbol may be delisted\n",
      "MAXR: No data found, symbol may be delisted\n",
      "2022-09-22 00:00:00\n",
      "Got error from yahoo api for ticker ECOM, Error: {'code': 'Not Found', 'description': 'No data found, symbol may be delisted'}\n",
      "- ECOM: No timezone found, symbol may be delisted\n",
      "MAXR: No data found, symbol may be delisted\n",
      "2022-09-29 00:00:00\n",
      "MAXR: No data found, symbol may be delisted\n",
      "2022-10-06 00:00:00\n",
      "MAXR: No data found, symbol may be delisted\n",
      "2022-10-13 00:00:00\n",
      "MAXR: No data found, symbol may be delisted\n",
      "2022-10-20 00:00:00\n",
      "MAXR: No data found, symbol may be delisted\n",
      "2022-10-27 00:00:00\n",
      "MAXR: No data found, symbol may be delisted\n",
      "2022-11-03 00:00:00\n",
      "MAXR: No data found, symbol may be delisted\n",
      "2022-11-10 00:00:00\n",
      "MAXR: No data found, symbol may be delisted\n",
      "2022-11-17 00:00:00\n",
      "MAXR: No data found, symbol may be delisted\n",
      "2022-11-24 00:00:00\n",
      "MAXR: No data found, symbol may be delisted\n",
      "2022-12-01 00:00:00\n",
      "MAXR: No data found, symbol may be delisted\n",
      "2022-12-08 00:00:00\n",
      "MAXR: No data found, symbol may be delisted\n",
      "2022-12-15 00:00:00\n",
      "MAXR: No data found, symbol may be delisted\n",
      "2022-12-22 00:00:00\n",
      "MAXR: No data found, symbol may be delisted\n",
      "2022-12-29 00:00:00\n",
      "MAXR: No data found, symbol may be delisted\n",
      "2023-01-05 00:00:00\n",
      "MAXR: No data found, symbol may be delisted\n",
      "2023-01-12 00:00:00\n",
      "MAXR: No data found, symbol may be delisted\n",
      "2023-01-19 00:00:00\n",
      "MAXR: No data found, symbol may be delisted\n",
      "2023-01-26 00:00:00\n",
      "MAXR: No data found, symbol may be delisted\n"
     ]
    },
    {
     "data": {
      "text/plain": [
       "{datetime.datetime(2019, 1, 17, 0, 0): 199792.22439575195,\n",
       " datetime.datetime(2019, 1, 24, 0, 0): 199758.894241333,\n",
       " datetime.datetime(2019, 1, 31, 0, 0): 199913.81939697266,\n",
       " datetime.datetime(2019, 2, 7, 0, 0): 199873.5136871338,\n",
       " datetime.datetime(2019, 2, 14, 0, 0): 200029.6145324707,\n",
       " datetime.datetime(2019, 2, 21, 0, 0): 200165.16217041016,\n",
       " datetime.datetime(2019, 2, 28, 0, 0): 200193.33409118652,\n",
       " datetime.datetime(2019, 3, 7, 0, 0): 200059.63314819336,\n",
       " datetime.datetime(2019, 3, 14, 0, 0): 200050.85858154297,\n",
       " datetime.datetime(2019, 3, 21, 0, 0): 200039.77459716797,\n",
       " datetime.datetime(2019, 3, 28, 0, 0): 200040.92930603027,\n",
       " datetime.datetime(2019, 4, 4, 0, 0): 200320.56874084473,\n",
       " datetime.datetime(2019, 4, 11, 0, 0): 200417.55474853516,\n",
       " datetime.datetime(2019, 4, 18, 0, 0): 200511.07586669922,\n",
       " datetime.datetime(2019, 4, 25, 0, 0): 200328.65132141113,\n",
       " datetime.datetime(2019, 5, 2, 0, 0): 204710.5064974594,\n",
       " datetime.datetime(2019, 5, 9, 0, 0): 204407.42589862822,\n",
       " datetime.datetime(2019, 5, 16, 0, 0): 204415.77328689574,\n",
       " datetime.datetime(2019, 5, 23, 0, 0): 204327.60873420714,\n",
       " datetime.datetime(2019, 5, 30, 0, 0): 204464.99204738616,\n",
       " datetime.datetime(2019, 6, 6, 0, 0): 204792.79098613738,\n",
       " datetime.datetime(2019, 6, 13, 0, 0): 204214.53932483672,\n",
       " datetime.datetime(2019, 6, 20, 0, 0): 204789.40096004485,\n",
       " datetime.datetime(2019, 6, 27, 0, 0): 204604.84621341704,\n",
       " datetime.datetime(2019, 7, 4, 0, 0): 204961.83335311888,\n",
       " datetime.datetime(2019, 7, 11, 0, 0): 205258.4680624771,\n",
       " datetime.datetime(2019, 7, 18, 0, 0): 205158.92228801726,\n",
       " datetime.datetime(2019, 7, 25, 0, 0): 205415.1862068939,\n",
       " datetime.datetime(2019, 8, 1, 0, 0): 203380.78462036132,\n",
       " datetime.datetime(2019, 8, 8, 0, 0): 202787.14426143645,\n",
       " datetime.datetime(2019, 8, 15, 0, 0): 202521.4369984436,\n",
       " datetime.datetime(2019, 8, 22, 0, 0): 202824.37428577422,\n",
       " datetime.datetime(2019, 8, 29, 0, 0): 202838.88149078368,\n",
       " datetime.datetime(2019, 9, 5, 0, 0): 203014.1616888809,\n",
       " datetime.datetime(2019, 9, 12, 0, 0): 203160.76831062316,\n",
       " datetime.datetime(2019, 9, 19, 0, 0): 203391.10918243407,\n",
       " datetime.datetime(2019, 9, 26, 0, 0): 202689.98547466277,\n",
       " datetime.datetime(2019, 10, 3, 0, 0): 202118.64134613035,\n",
       " datetime.datetime(2019, 10, 10, 0, 0): 201758.59959617612,\n",
       " datetime.datetime(2019, 10, 17, 0, 0): 202003.28338829038,\n",
       " datetime.datetime(2019, 10, 24, 0, 0): 201851.508865509,\n",
       " datetime.datetime(2019, 10, 31, 0, 0): 203302.31164279935,\n",
       " datetime.datetime(2019, 11, 7, 0, 0): 204501.94536224363,\n",
       " datetime.datetime(2019, 11, 14, 0, 0): 203710.62963024137,\n",
       " datetime.datetime(2019, 11, 21, 0, 0): 202721.61674705503,\n",
       " datetime.datetime(2019, 11, 28, 0, 0): 203547.53471485135,\n",
       " datetime.datetime(2019, 12, 5, 0, 0): 204305.4499827957,\n",
       " datetime.datetime(2019, 12, 12, 0, 0): 205446.037737236,\n",
       " datetime.datetime(2019, 12, 19, 0, 0): 205497.89362655638,\n",
       " datetime.datetime(2019, 12, 26, 0, 0): 206841.2049306488,\n",
       " datetime.datetime(2020, 1, 2, 0, 0): 206504.50523410796,\n",
       " datetime.datetime(2020, 1, 9, 0, 0): 206152.34401546477,\n",
       " datetime.datetime(2020, 1, 16, 0, 0): 206277.67867218016,\n",
       " datetime.datetime(2020, 1, 23, 0, 0): 205475.78237472533,\n",
       " datetime.datetime(2020, 1, 30, 0, 0): 202985.5561507797,\n",
       " datetime.datetime(2020, 2, 6, 0, 0): 203095.89967380522,\n",
       " datetime.datetime(2020, 2, 13, 0, 0): 202725.67445026396,\n",
       " datetime.datetime(2020, 2, 20, 0, 0): 201827.89306770323,\n",
       " datetime.datetime(2020, 2, 27, 0, 0): 196405.2540076828,\n",
       " datetime.datetime(2020, 3, 5, 0, 0): 197108.4920066452,\n",
       " datetime.datetime(2020, 3, 12, 0, 0): 189401.75327955245,\n",
       " datetime.datetime(2020, 3, 19, 0, 0): 189343.42825733183,\n",
       " datetime.datetime(2020, 3, 26, 0, 0): 195282.54509769438,\n",
       " datetime.datetime(2020, 4, 2, 0, 0): 193166.68696056365,\n",
       " datetime.datetime(2020, 4, 9, 0, 0): 195316.4383805847,\n",
       " datetime.datetime(2020, 4, 16, 0, 0): 195718.6089929199,\n",
       " datetime.datetime(2020, 4, 23, 0, 0): 197928.51500259398,\n",
       " datetime.datetime(2020, 4, 30, 0, 0): 199133.53949676512,\n",
       " datetime.datetime(2020, 5, 7, 0, 0): 200636.01907382964,\n",
       " datetime.datetime(2020, 5, 14, 0, 0): 199399.7640546417,\n",
       " datetime.datetime(2020, 5, 21, 0, 0): 202310.31026016234,\n",
       " datetime.datetime(2020, 5, 28, 0, 0): 203254.21521507262,\n",
       " datetime.datetime(2020, 6, 4, 0, 0): 206328.23513828276,\n",
       " datetime.datetime(2020, 6, 11, 0, 0): 203691.80475555419,\n",
       " datetime.datetime(2020, 6, 18, 0, 0): 207195.94112335204,\n",
       " datetime.datetime(2020, 6, 25, 0, 0): 206023.63307224272,\n",
       " datetime.datetime(2020, 7, 2, 0, 0): 207694.1860784149,\n",
       " datetime.datetime(2020, 7, 9, 0, 0): 209193.0804685211,\n",
       " datetime.datetime(2020, 7, 16, 0, 0): 208412.48829875945,\n",
       " datetime.datetime(2020, 7, 23, 0, 0): 208894.22865997313,\n",
       " datetime.datetime(2020, 7, 30, 0, 0): 208761.81783805846,\n",
       " datetime.datetime(2020, 8, 6, 0, 0): 213445.81941543578,\n",
       " datetime.datetime(2020, 8, 13, 0, 0): 212477.87843833922,\n",
       " datetime.datetime(2020, 8, 20, 0, 0): 212875.0843413925,\n",
       " datetime.datetime(2020, 8, 27, 0, 0): 214171.33093105315,\n",
       " datetime.datetime(2020, 9, 3, 0, 0): 214596.1817716217,\n",
       " datetime.datetime(2020, 9, 10, 0, 0): 212157.33357940672,\n",
       " datetime.datetime(2020, 9, 17, 0, 0): 215726.73507438658,\n",
       " datetime.datetime(2020, 9, 24, 0, 0): 214459.02939640044,\n",
       " datetime.datetime(2020, 10, 1, 0, 0): 218058.2212499237,\n",
       " datetime.datetime(2020, 10, 8, 0, 0): 219930.2107080078,\n",
       " datetime.datetime(2020, 10, 15, 0, 0): 219363.70441471098,\n",
       " datetime.datetime(2020, 10, 22, 0, 0): 217958.69624362944,\n",
       " datetime.datetime(2020, 10, 29, 0, 0): 215462.09886585234,\n",
       " datetime.datetime(2020, 11, 5, 0, 0): 219166.05901561736,\n",
       " datetime.datetime(2020, 11, 12, 0, 0): 214614.14023338316,\n",
       " datetime.datetime(2020, 11, 19, 0, 0): 216518.01245246886,\n",
       " datetime.datetime(2020, 11, 26, 0, 0): 220844.3258088684,\n",
       " datetime.datetime(2020, 12, 3, 0, 0): 218262.56809745787,\n",
       " datetime.datetime(2020, 12, 10, 0, 0): 218004.55563674925,\n",
       " datetime.datetime(2020, 12, 17, 0, 0): 222066.24006973265,\n",
       " datetime.datetime(2020, 12, 24, 0, 0): 225656.47499404906,\n",
       " datetime.datetime(2020, 12, 31, 0, 0): 225808.04559646605,\n",
       " datetime.datetime(2021, 1, 7, 0, 0): 230841.26538978575,\n",
       " datetime.datetime(2021, 1, 14, 0, 0): 231824.35605083464,\n",
       " datetime.datetime(2021, 1, 21, 0, 0): 234176.0980247116,\n",
       " datetime.datetime(2021, 1, 28, 0, 0): 229704.80945716857,\n",
       " datetime.datetime(2021, 2, 4, 0, 0): 229929.4066299057,\n",
       " datetime.datetime(2021, 2, 11, 0, 0): 235980.8059323883,\n",
       " datetime.datetime(2021, 2, 18, 0, 0): 233613.48327766417,\n",
       " datetime.datetime(2021, 2, 25, 0, 0): 229524.88315998076,\n",
       " datetime.datetime(2021, 3, 4, 0, 0): 223071.48556457518,\n",
       " datetime.datetime(2021, 3, 11, 0, 0): 227020.7937787628,\n",
       " datetime.datetime(2021, 3, 18, 0, 0): 224892.0330442047,\n",
       " datetime.datetime(2021, 3, 25, 0, 0): 222751.02230297087,\n",
       " datetime.datetime(2021, 4, 1, 0, 0): 227182.70284400939,\n",
       " datetime.datetime(2021, 4, 8, 0, 0): 227834.292721138,\n",
       " datetime.datetime(2021, 4, 15, 0, 0): 223181.0774331474,\n",
       " datetime.datetime(2021, 4, 22, 0, 0): 235446.43489909172,\n",
       " datetime.datetime(2021, 4, 29, 0, 0): 233155.89308404922,\n",
       " datetime.datetime(2021, 5, 6, 0, 0): 226382.9388782978,\n",
       " datetime.datetime(2021, 5, 13, 0, 0): 213794.8638894558,\n",
       " datetime.datetime(2021, 5, 20, 0, 0): 226591.14689922333,\n",
       " datetime.datetime(2021, 5, 27, 0, 0): 232371.33509230614,\n",
       " datetime.datetime(2021, 6, 3, 0, 0): 233324.5207438469,\n",
       " datetime.datetime(2021, 6, 10, 0, 0): 240987.7656686306,\n",
       " datetime.datetime(2021, 6, 17, 0, 0): 237345.59107375145,\n",
       " datetime.datetime(2021, 6, 24, 0, 0): 241051.37584257126,\n",
       " datetime.datetime(2021, 7, 1, 0, 0): 240501.4552986622,\n",
       " datetime.datetime(2021, 7, 8, 0, 0): 235989.40078616142,\n",
       " datetime.datetime(2021, 7, 15, 0, 0): 235851.9420518875,\n",
       " datetime.datetime(2021, 7, 22, 0, 0): 242182.36813497543,\n",
       " datetime.datetime(2021, 7, 29, 0, 0): 245250.5465145111,\n",
       " datetime.datetime(2021, 8, 5, 0, 0): 250174.63439416885,\n",
       " datetime.datetime(2021, 8, 12, 0, 0): 249843.63475179672,\n",
       " datetime.datetime(2021, 8, 19, 0, 0): 234450.67210054398,\n",
       " datetime.datetime(2021, 8, 26, 0, 0): 244276.37410736084,\n",
       " datetime.datetime(2021, 9, 2, 0, 0): 250421.2573518753,\n",
       " datetime.datetime(2021, 9, 9, 0, 0): 243656.538854599,\n",
       " datetime.datetime(2021, 9, 16, 0, 0): 237651.12431430817,\n",
       " datetime.datetime(2021, 9, 23, 0, 0): 238425.4068698883,\n",
       " datetime.datetime(2021, 9, 30, 0, 0): 234859.34459400177,\n",
       " datetime.datetime(2021, 10, 7, 0, 0): 248516.5483522415,\n",
       " datetime.datetime(2021, 10, 14, 0, 0): 250542.62775135037,\n",
       " datetime.datetime(2021, 10, 21, 0, 0): 252921.62928581235,\n",
       " datetime.datetime(2021, 10, 28, 0, 0): 251739.0580282211,\n",
       " datetime.datetime(2021, 11, 4, 0, 0): 252550.09453105924,\n",
       " datetime.datetime(2021, 11, 11, 0, 0): 252165.03126382825,\n",
       " datetime.datetime(2021, 11, 18, 0, 0): 250269.58056020734,\n",
       " datetime.datetime(2021, 11, 25, 0, 0): 243334.79892635343,\n",
       " datetime.datetime(2021, 12, 2, 0, 0): 240438.29956531522,\n",
       " datetime.datetime(2021, 12, 9, 0, 0): 241272.10883927342,\n",
       " datetime.datetime(2021, 12, 16, 0, 0): 238259.4582467079,\n",
       " datetime.datetime(2021, 12, 23, 0, 0): 242530.4326188564,\n",
       " datetime.datetime(2021, 12, 30, 0, 0): 250283.73012108804,\n",
       " datetime.datetime(2022, 1, 6, 0, 0): 247838.8902399731,\n",
       " datetime.datetime(2022, 1, 13, 0, 0): 244476.90200092318,\n",
       " datetime.datetime(2022, 1, 20, 0, 0): 239236.59087165835,\n",
       " datetime.datetime(2022, 1, 27, 0, 0): 231699.0926607704,\n",
       " datetime.datetime(2022, 2, 3, 0, 0): 241398.65960937503,\n",
       " datetime.datetime(2022, 2, 10, 0, 0): 242557.38064624788,\n",
       " datetime.datetime(2022, 2, 17, 0, 0): 239662.56906852723,\n",
       " datetime.datetime(2022, 2, 24, 0, 0): 242112.010828743,\n",
       " datetime.datetime(2022, 3, 3, 0, 0): 249357.3698918915,\n",
       " datetime.datetime(2022, 3, 10, 0, 0): 247320.2992604828,\n",
       " datetime.datetime(2022, 3, 17, 0, 0): 248931.89826622012,\n",
       " datetime.datetime(2022, 3, 24, 0, 0): 249342.7516262436,\n",
       " datetime.datetime(2022, 3, 31, 0, 0): 248883.90966999056,\n",
       " datetime.datetime(2022, 4, 7, 0, 0): 247222.60072895052,\n",
       " datetime.datetime(2022, 4, 14, 0, 0): 245042.48909721378,\n",
       " datetime.datetime(2022, 4, 21, 0, 0): 244512.59008831024,\n",
       " datetime.datetime(2022, 4, 28, 0, 0): 242736.02081466676,\n",
       " datetime.datetime(2022, 5, 5, 0, 0): 240808.56022941592,\n",
       " datetime.datetime(2022, 5, 12, 0, 0): 238779.2699705124,\n",
       " datetime.datetime(2022, 5, 19, 0, 0): 240166.04066848758,\n",
       " datetime.datetime(2022, 5, 26, 0, 0): 240702.74918979645,\n",
       " datetime.datetime(2022, 6, 2, 0, 0): 242741.13938426974,\n",
       " datetime.datetime(2022, 6, 9, 0, 0): 241727.55038982394,\n",
       " datetime.datetime(2022, 6, 16, 0, 0): 237599.20047321322,\n",
       " datetime.datetime(2022, 6, 23, 0, 0): 239088.5503891373,\n",
       " datetime.datetime(2022, 6, 30, 0, 0): 239434.76013916018,\n",
       " datetime.datetime(2022, 7, 7, 0, 0): 240848.38999721527,\n",
       " datetime.datetime(2022, 7, 14, 0, 0): 237666.08048137667,\n",
       " datetime.datetime(2022, 7, 21, 0, 0): 241259.06949481965,\n",
       " datetime.datetime(2022, 7, 28, 0, 0): 238841.5689319992,\n",
       " datetime.datetime(2022, 8, 4, 0, 0): 239225.99944408418,\n",
       " datetime.datetime(2022, 8, 11, 0, 0): 239805.7700557709,\n",
       " datetime.datetime(2022, 8, 18, 0, 0): 241533.14042831422,\n",
       " datetime.datetime(2022, 8, 25, 0, 0): 239806.61986797335,\n",
       " datetime.datetime(2022, 9, 1, 0, 0): 236295.27018119814,\n",
       " datetime.datetime(2022, 9, 8, 0, 0): 240367.70957805635,\n",
       " datetime.datetime(2022, 9, 15, 0, 0): 241034.81057254793,\n",
       " datetime.datetime(2022, 9, 22, 0, 0): 241146.95943763736,\n",
       " datetime.datetime(2022, 9, 29, 0, 0): 242443.62009002684,\n",
       " datetime.datetime(2022, 10, 6, 0, 0): 243795.79072143554,\n",
       " datetime.datetime(2022, 10, 13, 0, 0): 243473.8908963394,\n",
       " datetime.datetime(2022, 10, 20, 0, 0): 243789.9700684738,\n",
       " datetime.datetime(2022, 10, 27, 0, 0): 245689.06945373534,\n",
       " datetime.datetime(2022, 11, 3, 0, 0): 246416.44083549498,\n",
       " datetime.datetime(2022, 11, 10, 0, 0): 248295.24065162658,\n",
       " datetime.datetime(2022, 11, 17, 0, 0): 248138.12004425048,\n",
       " datetime.datetime(2022, 11, 24, 0, 0): 249592.67056705474,\n",
       " datetime.datetime(2022, 12, 1, 0, 0): 249623.069287796,\n",
       " datetime.datetime(2022, 12, 8, 0, 0): 248131.58914424895,\n",
       " datetime.datetime(2022, 12, 15, 0, 0): 247125.4592185211,\n",
       " datetime.datetime(2022, 12, 22, 0, 0): 246938.04983970642,\n",
       " datetime.datetime(2022, 12, 29, 0, 0): 248312.01972743988,\n",
       " datetime.datetime(2023, 1, 5, 0, 0): 248317.28041622162,\n",
       " datetime.datetime(2023, 1, 12, 0, 0): 247454.26071331024,\n",
       " datetime.datetime(2023, 1, 19, 0, 0): 249515.4491584015,\n",
       " datetime.datetime(2023, 1, 26, 0, 0): 251640.03024742127}"
      ]
     },
     "execution_count": 48,
     "metadata": {},
     "output_type": "execute_result"
    }
   ],
   "source": [
    "# get weekly port values over the last year\n",
    "agg_values_vF_rational2 = {}\n",
    "for i in range(1, (53 * 4)):\n",
    "    dt = datetime.datetime(2019, 1, 10) + datetime.timedelta(days=i*7)\n",
    "    print(dt)\n",
    "    dated_portfolio = pb_rational2.get_portfolio(up_to=dt)\n",
    "    agg_val = dated_portfolio['Value'].sum()\n",
    "    agg_values_vF_rational2[dt] = agg_val\n",
    "\n",
    "agg_values_vF_rational2"
   ]
  },
  {
   "cell_type": "code",
   "execution_count": 55,
   "metadata": {},
   "outputs": [
    {
     "data": {
      "application/vnd.plotly.v1+json": {
       "config": {
        "plotlyServerURL": "https://plot.ly"
       },
       "data": [
        {
         "mode": "lines",
         "name": "Actual Portfolio",
         "type": "scatter",
         "x": [
          "2019-01-17T00:00:00",
          "2019-01-24T00:00:00",
          "2019-01-31T00:00:00",
          "2019-02-07T00:00:00",
          "2019-02-14T00:00:00",
          "2019-02-21T00:00:00",
          "2019-02-28T00:00:00",
          "2019-03-07T00:00:00",
          "2019-03-14T00:00:00",
          "2019-03-21T00:00:00",
          "2019-03-28T00:00:00",
          "2019-04-04T00:00:00",
          "2019-04-11T00:00:00",
          "2019-04-18T00:00:00",
          "2019-04-25T00:00:00",
          "2019-05-02T00:00:00",
          "2019-05-09T00:00:00",
          "2019-05-16T00:00:00",
          "2019-05-23T00:00:00",
          "2019-05-30T00:00:00",
          "2019-06-06T00:00:00",
          "2019-06-13T00:00:00",
          "2019-06-20T00:00:00",
          "2019-06-27T00:00:00",
          "2019-07-04T00:00:00",
          "2019-07-11T00:00:00",
          "2019-07-18T00:00:00",
          "2019-07-25T00:00:00",
          "2019-08-01T00:00:00",
          "2019-08-08T00:00:00",
          "2019-08-15T00:00:00",
          "2019-08-22T00:00:00",
          "2019-08-29T00:00:00",
          "2019-09-05T00:00:00",
          "2019-09-12T00:00:00",
          "2019-09-19T00:00:00",
          "2019-09-26T00:00:00",
          "2019-10-03T00:00:00",
          "2019-10-10T00:00:00",
          "2019-10-17T00:00:00",
          "2019-10-24T00:00:00",
          "2019-10-31T00:00:00",
          "2019-11-07T00:00:00",
          "2019-11-14T00:00:00",
          "2019-11-21T00:00:00",
          "2019-11-28T00:00:00",
          "2019-12-05T00:00:00",
          "2019-12-12T00:00:00",
          "2019-12-19T00:00:00",
          "2019-12-26T00:00:00",
          "2020-01-02T00:00:00",
          "2020-01-09T00:00:00",
          "2020-01-16T00:00:00",
          "2020-01-23T00:00:00",
          "2020-01-30T00:00:00",
          "2020-02-06T00:00:00",
          "2020-02-13T00:00:00",
          "2020-02-20T00:00:00",
          "2020-02-27T00:00:00",
          "2020-03-05T00:00:00",
          "2020-03-12T00:00:00",
          "2020-03-19T00:00:00",
          "2020-03-26T00:00:00",
          "2020-04-02T00:00:00",
          "2020-04-09T00:00:00",
          "2020-04-16T00:00:00",
          "2020-04-23T00:00:00",
          "2020-04-30T00:00:00",
          "2020-05-07T00:00:00",
          "2020-05-14T00:00:00",
          "2020-05-21T00:00:00",
          "2020-05-28T00:00:00",
          "2020-06-04T00:00:00",
          "2020-06-11T00:00:00",
          "2020-06-18T00:00:00",
          "2020-06-25T00:00:00",
          "2020-07-02T00:00:00",
          "2020-07-09T00:00:00",
          "2020-07-16T00:00:00",
          "2020-07-23T00:00:00",
          "2020-07-30T00:00:00",
          "2020-08-06T00:00:00",
          "2020-08-13T00:00:00",
          "2020-08-20T00:00:00",
          "2020-08-27T00:00:00",
          "2020-09-03T00:00:00",
          "2020-09-10T00:00:00",
          "2020-09-17T00:00:00",
          "2020-09-24T00:00:00",
          "2020-10-01T00:00:00",
          "2020-10-08T00:00:00",
          "2020-10-15T00:00:00",
          "2020-10-22T00:00:00",
          "2020-10-29T00:00:00",
          "2020-11-05T00:00:00",
          "2020-11-12T00:00:00",
          "2020-11-19T00:00:00",
          "2020-11-26T00:00:00",
          "2020-12-03T00:00:00",
          "2020-12-10T00:00:00",
          "2020-12-17T00:00:00",
          "2020-12-24T00:00:00",
          "2020-12-31T00:00:00",
          "2021-01-07T00:00:00",
          "2021-01-14T00:00:00",
          "2021-01-21T00:00:00",
          "2021-01-28T00:00:00",
          "2021-02-04T00:00:00",
          "2021-02-11T00:00:00",
          "2021-02-18T00:00:00",
          "2021-02-25T00:00:00",
          "2021-03-04T00:00:00",
          "2021-03-11T00:00:00",
          "2021-03-18T00:00:00",
          "2021-03-25T00:00:00",
          "2021-04-01T00:00:00",
          "2021-04-08T00:00:00",
          "2021-04-15T00:00:00",
          "2021-04-22T00:00:00",
          "2021-04-29T00:00:00",
          "2021-05-06T00:00:00",
          "2021-05-13T00:00:00",
          "2021-05-20T00:00:00",
          "2021-05-27T00:00:00",
          "2021-06-03T00:00:00",
          "2021-06-10T00:00:00",
          "2021-06-17T00:00:00",
          "2021-06-24T00:00:00",
          "2021-07-01T00:00:00",
          "2021-07-08T00:00:00",
          "2021-07-15T00:00:00",
          "2021-07-22T00:00:00",
          "2021-07-29T00:00:00",
          "2021-08-05T00:00:00",
          "2021-08-12T00:00:00",
          "2021-08-19T00:00:00",
          "2021-08-26T00:00:00",
          "2021-09-02T00:00:00",
          "2021-09-09T00:00:00",
          "2021-09-16T00:00:00",
          "2021-09-23T00:00:00",
          "2021-09-30T00:00:00",
          "2021-10-07T00:00:00",
          "2021-10-14T00:00:00",
          "2021-10-21T00:00:00",
          "2021-10-28T00:00:00",
          "2021-11-04T00:00:00",
          "2021-11-11T00:00:00",
          "2021-11-18T00:00:00",
          "2021-11-25T00:00:00",
          "2021-12-02T00:00:00",
          "2021-12-09T00:00:00",
          "2021-12-16T00:00:00",
          "2021-12-23T00:00:00",
          "2021-12-30T00:00:00",
          "2022-01-06T00:00:00",
          "2022-01-13T00:00:00",
          "2022-01-20T00:00:00",
          "2022-01-27T00:00:00",
          "2022-02-03T00:00:00",
          "2022-02-10T00:00:00",
          "2022-02-17T00:00:00",
          "2022-02-24T00:00:00",
          "2022-03-03T00:00:00",
          "2022-03-10T00:00:00",
          "2022-03-17T00:00:00",
          "2022-03-24T00:00:00",
          "2022-03-31T00:00:00",
          "2022-04-07T00:00:00",
          "2022-04-14T00:00:00",
          "2022-04-21T00:00:00",
          "2022-04-28T00:00:00",
          "2022-05-05T00:00:00",
          "2022-05-12T00:00:00",
          "2022-05-19T00:00:00",
          "2022-05-26T00:00:00",
          "2022-06-02T00:00:00",
          "2022-06-09T00:00:00",
          "2022-06-16T00:00:00",
          "2022-06-23T00:00:00",
          "2022-06-30T00:00:00",
          "2022-07-07T00:00:00",
          "2022-07-14T00:00:00",
          "2022-07-21T00:00:00",
          "2022-07-28T00:00:00",
          "2022-08-04T00:00:00",
          "2022-08-11T00:00:00",
          "2022-08-18T00:00:00",
          "2022-08-25T00:00:00",
          "2022-09-01T00:00:00",
          "2022-09-08T00:00:00",
          "2022-09-15T00:00:00",
          "2022-09-22T00:00:00",
          "2022-09-29T00:00:00",
          "2022-10-06T00:00:00",
          "2022-10-13T00:00:00",
          "2022-10-20T00:00:00",
          "2022-10-27T00:00:00",
          "2022-11-03T00:00:00",
          "2022-11-10T00:00:00",
          "2022-11-17T00:00:00",
          "2022-11-24T00:00:00",
          "2022-12-01T00:00:00",
          "2022-12-08T00:00:00",
          "2022-12-15T00:00:00",
          "2022-12-22T00:00:00",
          "2022-12-29T00:00:00",
          "2023-01-05T00:00:00",
          "2023-01-12T00:00:00",
          "2023-01-19T00:00:00",
          "2023-01-26T00:00:00"
         ],
         "y": [
          199792.2236328125,
          199758.894241333,
          199913.81939697266,
          199873.5136871338,
          200029.61376953125,
          200165.16255187988,
          200193.33485412598,
          200059.63314819336,
          200050.85858154297,
          200039.7734527588,
          200040.92930603027,
          200320.56950378418,
          200417.55436706543,
          200511.0754852295,
          200328.6509399414,
          203174.13726039886,
          202871.05589862823,
          202879.40290542602,
          202791.23835273742,
          202928.62204738616,
          203256.42174907684,
          202678.17008777618,
          203253.02981563567,
          203068.4769763565,
          203425.46373458861,
          203722.0980624771,
          203622.55190654754,
          203878.81658836364,
          201844.41500183105,
          201250.77387996673,
          200985.06661697387,
          201288.00428577422,
          201302.51072784423,
          201477.79054447173,
          201624.39831062316,
          201854.73918243407,
          201153.61509319305,
          200650.6724557495,
          200368.1493787384,
          200833.9938306427,
          200822.43909164428,
          201831.68131786346,
          202844.35537963867,
          202059.87969547271,
          201004.746712265,
          201863.7240768051,
          202439.23990016937,
          203174.39773723602,
          203226.25286361694,
          204569.56416770935,
          204232.8640896988,
          203880.7043969345,
          204006.03867218018,
          203204.14390060425,
          200713.91653224945,
          200824.25967380524,
          200454.03406879425,
          199556.2523047638,
          194133.61362621307,
          194836.85315105438,
          187130.1130888176,
          187071.7884480667,
          193010.9045254898,
          190895.0467698288,
          193044.79876205444,
          193446.96899291992,
          195656.87462112427,
          196861.89949676514,
          198364.37869235993,
          197128.123673172,
          200038.6694972229,
          200982.57521507263,
          204056.59475681305,
          201420.16589996338,
          204924.30226776123,
          203751.99345371246,
          205422.54645988464,
          206921.43970558167,
          206140.84791728974,
          206622.58751556397,
          206490.17745658875,
          211174.1794154358,
          210206.23881980896,
          210603.4454858017,
          211899.6913125229,
          212324.54062721253,
          209885.69396087647,
          213455.09545585632,
          212187.38901493073,
          215786.58086845398,
          217658.5707080078,
          217092.06403324127,
          215687.05624362946,
          213190.45886585236,
          216894.41977855682,
          212342.5006148529,
          214246.37321540833,
          218572.68657180786,
          215990.92657157898,
          215732.91563674927,
          219794.60235855103,
          223384.83575698853,
          223536.4048335266,
          228569.62462684631,
          229552.71757671356,
          231904.45955059052,
          227433.16907569885,
          227657.7651040268,
          233709.1674582672,
          231341.84251472473,
          227253.24315998078,
          220799.84480163574,
          224749.15377876282,
          222620.39380714417,
          220479.38306591034,
          224911.0643698883,
          225562.65348407745,
          228010.51741605758,
          266097.6334769726,
          269863.2858147621,
          261438.14182019234,
          245383.59527373314,
          258382.4882993698,
          267331.6779572964,
          267661.3781962395,
          276136.90385222435,
          268455.4238374233,
          273303.1901125908,
          270261.17072224617,
          265984.8796069622,
          265178.8092699051,
          272586.7501540184,
          278664.60840415955,
          280240.10497522354,
          279251.54460287094,
          263508.6194882393,
          275308.8490829468,
          282628.8710298538,
          275182.6460323334,
          269123.8106241226,
          271008.7651767731,
          262900.56041431427,
          262185.5746240616,
          270747.19519615173,
          276563.12223625183,
          273051.62193870544,
          272775.6597881317,
          272044.411591053,
          270085.51183366776,
          246565.37943935394,
          239023.36643600464,
          245233.21337342262,
          239503.7695260048,
          245406.20992827415,
          258651.06562420845,
          268968.2146041775,
          263629.7100439453,
          255051.76851688387,
          241800.9509605217,
          247671.1686944771,
          258259.9465574646,
          249605.03615285872,
          247908.24490898132,
          256167.85445611953,
          250977.87515857696,
          254309.90686590195,
          258536.50717035294,
          256220.44893554688,
          253624.40533769608,
          231304.69619272233,
          222074.4478448105,
          216195.15680994032,
          199354.63732910156,
          178099.39712625503,
          178656.21648617744,
          178637.8490070343,
          185093.19734760284,
          181747.18841530802,
          172144.10440431596,
          177049.68938546182,
          175036.22905720712,
          178809.8016006279,
          170381.95554356577,
          179136.89619904518,
          175284.43432226183,
          184316.3919563675,
          187882.52034874915,
          186229.369456501,
          180716.57353629114,
          171856.96937606813,
          173175.36751077653,
          172152.5873841095,
          169307.47418784144,
          167673.8789982605,
          171945.22850320817,
          169740.47746465684,
          169806.08432195664,
          173939.61319396974,
          169978.51041124345,
          175654.22391913415,
          173613.06947229386,
          177714.78433797837,
          178148.05471847535,
          176593.99654148103,
          173407.77967904092,
          172790.21257231713,
          173444.153930645,
          173769.5301253605,
          176598.1552808094,
          178935.0278487015,
          180556.50075076104
         ]
        },
        {
         "mode": "lines",
         "name": "Rational Execution Times",
         "type": "scatter",
         "x": [
          "2019-01-17T00:00:00",
          "2019-01-24T00:00:00",
          "2019-01-31T00:00:00",
          "2019-02-07T00:00:00",
          "2019-02-14T00:00:00",
          "2019-02-21T00:00:00",
          "2019-02-28T00:00:00",
          "2019-03-07T00:00:00",
          "2019-03-14T00:00:00",
          "2019-03-21T00:00:00",
          "2019-03-28T00:00:00",
          "2019-04-04T00:00:00",
          "2019-04-11T00:00:00",
          "2019-04-18T00:00:00",
          "2019-04-25T00:00:00",
          "2019-05-02T00:00:00",
          "2019-05-09T00:00:00",
          "2019-05-16T00:00:00",
          "2019-05-23T00:00:00",
          "2019-05-30T00:00:00",
          "2019-06-06T00:00:00",
          "2019-06-13T00:00:00",
          "2019-06-20T00:00:00",
          "2019-06-27T00:00:00",
          "2019-07-04T00:00:00",
          "2019-07-11T00:00:00",
          "2019-07-18T00:00:00",
          "2019-07-25T00:00:00",
          "2019-08-01T00:00:00",
          "2019-08-08T00:00:00",
          "2019-08-15T00:00:00",
          "2019-08-22T00:00:00",
          "2019-08-29T00:00:00",
          "2019-09-05T00:00:00",
          "2019-09-12T00:00:00",
          "2019-09-19T00:00:00",
          "2019-09-26T00:00:00",
          "2019-10-03T00:00:00",
          "2019-10-10T00:00:00",
          "2019-10-17T00:00:00",
          "2019-10-24T00:00:00",
          "2019-10-31T00:00:00",
          "2019-11-07T00:00:00",
          "2019-11-14T00:00:00",
          "2019-11-21T00:00:00",
          "2019-11-28T00:00:00",
          "2019-12-05T00:00:00",
          "2019-12-12T00:00:00",
          "2019-12-19T00:00:00",
          "2019-12-26T00:00:00",
          "2020-01-02T00:00:00",
          "2020-01-09T00:00:00",
          "2020-01-16T00:00:00",
          "2020-01-23T00:00:00",
          "2020-01-30T00:00:00",
          "2020-02-06T00:00:00",
          "2020-02-13T00:00:00",
          "2020-02-20T00:00:00",
          "2020-02-27T00:00:00",
          "2020-03-05T00:00:00",
          "2020-03-12T00:00:00",
          "2020-03-19T00:00:00",
          "2020-03-26T00:00:00",
          "2020-04-02T00:00:00",
          "2020-04-09T00:00:00",
          "2020-04-16T00:00:00",
          "2020-04-23T00:00:00",
          "2020-04-30T00:00:00",
          "2020-05-07T00:00:00",
          "2020-05-14T00:00:00",
          "2020-05-21T00:00:00",
          "2020-05-28T00:00:00",
          "2020-06-04T00:00:00",
          "2020-06-11T00:00:00",
          "2020-06-18T00:00:00",
          "2020-06-25T00:00:00",
          "2020-07-02T00:00:00",
          "2020-07-09T00:00:00",
          "2020-07-16T00:00:00",
          "2020-07-23T00:00:00",
          "2020-07-30T00:00:00",
          "2020-08-06T00:00:00",
          "2020-08-13T00:00:00",
          "2020-08-20T00:00:00",
          "2020-08-27T00:00:00",
          "2020-09-03T00:00:00",
          "2020-09-10T00:00:00",
          "2020-09-17T00:00:00",
          "2020-09-24T00:00:00",
          "2020-10-01T00:00:00",
          "2020-10-08T00:00:00",
          "2020-10-15T00:00:00",
          "2020-10-22T00:00:00",
          "2020-10-29T00:00:00",
          "2020-11-05T00:00:00",
          "2020-11-12T00:00:00",
          "2020-11-19T00:00:00",
          "2020-11-26T00:00:00",
          "2020-12-03T00:00:00",
          "2020-12-10T00:00:00",
          "2020-12-17T00:00:00",
          "2020-12-24T00:00:00",
          "2020-12-31T00:00:00",
          "2021-01-07T00:00:00",
          "2021-01-14T00:00:00",
          "2021-01-21T00:00:00",
          "2021-01-28T00:00:00",
          "2021-02-04T00:00:00",
          "2021-02-11T00:00:00",
          "2021-02-18T00:00:00",
          "2021-02-25T00:00:00",
          "2021-03-04T00:00:00",
          "2021-03-11T00:00:00",
          "2021-03-18T00:00:00",
          "2021-03-25T00:00:00",
          "2021-04-01T00:00:00",
          "2021-04-08T00:00:00",
          "2021-04-15T00:00:00",
          "2021-04-22T00:00:00",
          "2021-04-29T00:00:00",
          "2021-05-06T00:00:00",
          "2021-05-13T00:00:00",
          "2021-05-20T00:00:00",
          "2021-05-27T00:00:00",
          "2021-06-03T00:00:00",
          "2021-06-10T00:00:00",
          "2021-06-17T00:00:00",
          "2021-06-24T00:00:00",
          "2021-07-01T00:00:00",
          "2021-07-08T00:00:00",
          "2021-07-15T00:00:00",
          "2021-07-22T00:00:00",
          "2021-07-29T00:00:00",
          "2021-08-05T00:00:00",
          "2021-08-12T00:00:00",
          "2021-08-19T00:00:00",
          "2021-08-26T00:00:00",
          "2021-09-02T00:00:00",
          "2021-09-09T00:00:00",
          "2021-09-16T00:00:00",
          "2021-09-23T00:00:00",
          "2021-09-30T00:00:00",
          "2021-10-07T00:00:00",
          "2021-10-14T00:00:00",
          "2021-10-21T00:00:00",
          "2021-10-28T00:00:00",
          "2021-11-04T00:00:00",
          "2021-11-11T00:00:00",
          "2021-11-18T00:00:00",
          "2021-11-25T00:00:00",
          "2021-12-02T00:00:00",
          "2021-12-09T00:00:00",
          "2021-12-16T00:00:00",
          "2021-12-23T00:00:00",
          "2021-12-30T00:00:00",
          "2022-01-06T00:00:00",
          "2022-01-13T00:00:00",
          "2022-01-20T00:00:00",
          "2022-01-27T00:00:00",
          "2022-02-03T00:00:00",
          "2022-02-10T00:00:00",
          "2022-02-17T00:00:00",
          "2022-02-24T00:00:00",
          "2022-03-03T00:00:00",
          "2022-03-10T00:00:00",
          "2022-03-17T00:00:00",
          "2022-03-24T00:00:00",
          "2022-03-31T00:00:00",
          "2022-04-07T00:00:00",
          "2022-04-14T00:00:00",
          "2022-04-21T00:00:00",
          "2022-04-28T00:00:00",
          "2022-05-05T00:00:00",
          "2022-05-12T00:00:00",
          "2022-05-19T00:00:00",
          "2022-05-26T00:00:00",
          "2022-06-02T00:00:00",
          "2022-06-09T00:00:00",
          "2022-06-16T00:00:00",
          "2022-06-23T00:00:00",
          "2022-06-30T00:00:00",
          "2022-07-07T00:00:00",
          "2022-07-14T00:00:00",
          "2022-07-21T00:00:00",
          "2022-07-28T00:00:00",
          "2022-08-04T00:00:00",
          "2022-08-11T00:00:00",
          "2022-08-18T00:00:00",
          "2022-08-25T00:00:00",
          "2022-09-01T00:00:00",
          "2022-09-08T00:00:00",
          "2022-09-15T00:00:00",
          "2022-09-22T00:00:00",
          "2022-09-29T00:00:00",
          "2022-10-06T00:00:00",
          "2022-10-13T00:00:00",
          "2022-10-20T00:00:00",
          "2022-10-27T00:00:00",
          "2022-11-03T00:00:00",
          "2022-11-10T00:00:00",
          "2022-11-17T00:00:00",
          "2022-11-24T00:00:00",
          "2022-12-01T00:00:00",
          "2022-12-08T00:00:00",
          "2022-12-15T00:00:00",
          "2022-12-22T00:00:00",
          "2022-12-29T00:00:00",
          "2023-01-05T00:00:00",
          "2023-01-12T00:00:00",
          "2023-01-19T00:00:00",
          "2023-01-26T00:00:00"
         ],
         "y": [
          199792.2236328125,
          199758.89385986328,
          199913.8201599121,
          199873.51445007324,
          200029.61376953125,
          200165.16217041016,
          200193.33294677734,
          200059.63314819336,
          200050.8589630127,
          200039.77459716797,
          200040.92892456055,
          200320.56950378418,
          200417.55436706543,
          200511.07624816895,
          200328.65055847168,
          204710.5064974594,
          204407.42628009795,
          204415.77328689574,
          204327.6068268585,
          204464.99204738616,
          204792.7913676071,
          204214.53856189727,
          204789.39905269622,
          204604.84621341704,
          204961.8337345886,
          205258.46768100737,
          205158.92228801726,
          205415.18658836363,
          203380.78500183104,
          202787.143498497,
          202521.4369984436,
          202824.37466724394,
          202838.88110931395,
          203014.16207035063,
          203160.76869209288,
          203391.10918243407,
          202689.98509319304,
          202118.64172760007,
          201758.5992147064,
          202003.2837697601,
          201851.508865509,
          203302.3108798599,
          204501.94536224363,
          203710.63039318082,
          202721.61712852475,
          203547.53433338163,
          204305.44960132596,
          205446.03697429656,
          205497.8924821472,
          206841.2049306488,
          206504.50408969878,
          206152.34363399504,
          206277.6790536499,
          205475.78275619505,
          202985.55576930998,
          203095.89967380522,
          202725.6748317337,
          201827.8926862335,
          196405.2540076828,
          197108.49238811492,
          189401.7534702873,
          189343.42863880156,
          195282.54471622466,
          193166.68696056365,
          195316.43799911498,
          195718.60937438963,
          197928.5153840637,
          199133.5391152954,
          200636.0186923599,
          199399.7640546417,
          202310.3098786926,
          203254.21521507262,
          206328.23513828276,
          203691.80589996336,
          207195.9418862915,
          206023.632690773,
          207694.1860784149,
          209193.08008705138,
          208412.4890616989,
          208894.22865997313,
          208761.81745658873,
          213445.81865249632,
          212477.87881980895,
          212875.08510433196,
          214171.33054958342,
          214596.1806272125,
          212157.33396087645,
          215726.7354558563,
          214459.02863346098,
          218058.22086845397,
          219930.21108947753,
          219363.7047961807,
          217958.69586215972,
          215462.09848438262,
          219166.0597785568,
          214614.13985191344,
          216518.01245246886,
          220844.32657180785,
          218262.56657157897,
          218004.55563674925,
          222066.242358551,
          225656.47499404906,
          225808.04407058714,
          230841.26386390685,
          231824.3552878952,
          234176.09878765105,
          229704.80945716857,
          229929.40586696623,
          235980.8059323883,
          233613.4809888458,
          229524.88315998076,
          223071.48632751463,
          227020.79301582335,
          224892.0330442047,
          222751.02154003142,
          227182.70284400939,
          227834.29195819853,
          222411.99222806928,
          266097.63423991203,
          269863.287340641,
          261438.14105725288,
          245383.59237456322,
          258382.48753643036,
          267331.6771943569,
          267661.3789591789,
          276136.9061410427,
          268455.4238374233,
          273303.1916384697,
          270261.17072224617,
          265984.8796069622,
          265178.80850696564,
          272586.7516798973,
          278664.60993003845,
          280240.105738163,
          279251.54460287094,
          263508.6173520088,
          275308.8490829468,
          282628.8695039749,
          275182.6438961029,
          269123.8106241226,
          271008.7651767731,
          262900.5596513748,
          244086.62249164583,
          247929.64868335726,
          253445.46700553896,
          250724.17428188326,
          251128.0532682419,
          249909.16317300798,
          248844.14536123278,
          231978.08435420992,
          227515.72138385774,
          232656.92964463236,
          230092.15445642473,
          235774.61373763086,
          274317.9851264667,
          268968.2172744656,
          263629.7100439453,
          255051.76851688387,
          241800.9509605217,
          227351.21086791993,
          228112.95219135284,
          224217.20982749938,
          226368.06798480987,
          232193.45996879577,
          229913.79099449157,
          233411.89245689393,
          234007.6632668686,
          231965.99202594758,
          232009.66069263458,
          228289.29084403993,
          226671.1412934494,
          226334.09361862182,
          223984.763564682,
          219913.28237255095,
          222603.54218338014,
          223214.29378787993,
          226780.02201030732,
          224840.04332164765,
          218631.6190947342,
          221087.82425052644,
          220832.22449890137,
          222066.7754919052,
          218116.49112255097,
          222186.45099933623,
          220702.22813884733,
          221527.9865089035,
          222282.87594841004,
          223352.47425674438,
          220515.31812969208,
          215328.54424858093,
          220317.04199504852,
          203242.94667663574,
          219395.03929878236,
          221783.39382934567,
          223628.03367614743,
          223152.88334751126,
          223799.56955242154,
          227467.07790374753,
          227760.52480125424,
          230991.02978706357,
          230119.31472015378,
          232467.538567543,
          233515.58941841123,
          231808.87070369718,
          229754.0946140289,
          229045.1070891571,
          231443.50825511932,
          233084.79292308807,
          236228.11169445037,
          237439.8234549713,
          241851.63550102233
         ]
        },
        {
         "mode": "lines",
         "name": "Rational Execution Times & Trades",
         "type": "scatter",
         "x": [
          "2019-01-17T00:00:00",
          "2019-01-24T00:00:00",
          "2019-01-31T00:00:00",
          "2019-02-07T00:00:00",
          "2019-02-14T00:00:00",
          "2019-02-21T00:00:00",
          "2019-02-28T00:00:00",
          "2019-03-07T00:00:00",
          "2019-03-14T00:00:00",
          "2019-03-21T00:00:00",
          "2019-03-28T00:00:00",
          "2019-04-04T00:00:00",
          "2019-04-11T00:00:00",
          "2019-04-18T00:00:00",
          "2019-04-25T00:00:00",
          "2019-05-02T00:00:00",
          "2019-05-09T00:00:00",
          "2019-05-16T00:00:00",
          "2019-05-23T00:00:00",
          "2019-05-30T00:00:00",
          "2019-06-06T00:00:00",
          "2019-06-13T00:00:00",
          "2019-06-20T00:00:00",
          "2019-06-27T00:00:00",
          "2019-07-04T00:00:00",
          "2019-07-11T00:00:00",
          "2019-07-18T00:00:00",
          "2019-07-25T00:00:00",
          "2019-08-01T00:00:00",
          "2019-08-08T00:00:00",
          "2019-08-15T00:00:00",
          "2019-08-22T00:00:00",
          "2019-08-29T00:00:00",
          "2019-09-05T00:00:00",
          "2019-09-12T00:00:00",
          "2019-09-19T00:00:00",
          "2019-09-26T00:00:00",
          "2019-10-03T00:00:00",
          "2019-10-10T00:00:00",
          "2019-10-17T00:00:00",
          "2019-10-24T00:00:00",
          "2019-10-31T00:00:00",
          "2019-11-07T00:00:00",
          "2019-11-14T00:00:00",
          "2019-11-21T00:00:00",
          "2019-11-28T00:00:00",
          "2019-12-05T00:00:00",
          "2019-12-12T00:00:00",
          "2019-12-19T00:00:00",
          "2019-12-26T00:00:00",
          "2020-01-02T00:00:00",
          "2020-01-09T00:00:00",
          "2020-01-16T00:00:00",
          "2020-01-23T00:00:00",
          "2020-01-30T00:00:00",
          "2020-02-06T00:00:00",
          "2020-02-13T00:00:00",
          "2020-02-20T00:00:00",
          "2020-02-27T00:00:00",
          "2020-03-05T00:00:00",
          "2020-03-12T00:00:00",
          "2020-03-19T00:00:00",
          "2020-03-26T00:00:00",
          "2020-04-02T00:00:00",
          "2020-04-09T00:00:00",
          "2020-04-16T00:00:00",
          "2020-04-23T00:00:00",
          "2020-04-30T00:00:00",
          "2020-05-07T00:00:00",
          "2020-05-14T00:00:00",
          "2020-05-21T00:00:00",
          "2020-05-28T00:00:00",
          "2020-06-04T00:00:00",
          "2020-06-11T00:00:00",
          "2020-06-18T00:00:00",
          "2020-06-25T00:00:00",
          "2020-07-02T00:00:00",
          "2020-07-09T00:00:00",
          "2020-07-16T00:00:00",
          "2020-07-23T00:00:00",
          "2020-07-30T00:00:00",
          "2020-08-06T00:00:00",
          "2020-08-13T00:00:00",
          "2020-08-20T00:00:00",
          "2020-08-27T00:00:00",
          "2020-09-03T00:00:00",
          "2020-09-10T00:00:00",
          "2020-09-17T00:00:00",
          "2020-09-24T00:00:00",
          "2020-10-01T00:00:00",
          "2020-10-08T00:00:00",
          "2020-10-15T00:00:00",
          "2020-10-22T00:00:00",
          "2020-10-29T00:00:00",
          "2020-11-05T00:00:00",
          "2020-11-12T00:00:00",
          "2020-11-19T00:00:00",
          "2020-11-26T00:00:00",
          "2020-12-03T00:00:00",
          "2020-12-10T00:00:00",
          "2020-12-17T00:00:00",
          "2020-12-24T00:00:00",
          "2020-12-31T00:00:00",
          "2021-01-07T00:00:00",
          "2021-01-14T00:00:00",
          "2021-01-21T00:00:00",
          "2021-01-28T00:00:00",
          "2021-02-04T00:00:00",
          "2021-02-11T00:00:00",
          "2021-02-18T00:00:00",
          "2021-02-25T00:00:00",
          "2021-03-04T00:00:00",
          "2021-03-11T00:00:00",
          "2021-03-18T00:00:00",
          "2021-03-25T00:00:00",
          "2021-04-01T00:00:00",
          "2021-04-08T00:00:00",
          "2021-04-15T00:00:00",
          "2021-04-22T00:00:00",
          "2021-04-29T00:00:00",
          "2021-05-06T00:00:00",
          "2021-05-13T00:00:00",
          "2021-05-20T00:00:00",
          "2021-05-27T00:00:00",
          "2021-06-03T00:00:00",
          "2021-06-10T00:00:00",
          "2021-06-17T00:00:00",
          "2021-06-24T00:00:00",
          "2021-07-01T00:00:00",
          "2021-07-08T00:00:00",
          "2021-07-15T00:00:00",
          "2021-07-22T00:00:00",
          "2021-07-29T00:00:00",
          "2021-08-05T00:00:00",
          "2021-08-12T00:00:00",
          "2021-08-19T00:00:00",
          "2021-08-26T00:00:00",
          "2021-09-02T00:00:00",
          "2021-09-09T00:00:00",
          "2021-09-16T00:00:00",
          "2021-09-23T00:00:00",
          "2021-09-30T00:00:00",
          "2021-10-07T00:00:00",
          "2021-10-14T00:00:00",
          "2021-10-21T00:00:00",
          "2021-10-28T00:00:00",
          "2021-11-04T00:00:00",
          "2021-11-11T00:00:00",
          "2021-11-18T00:00:00",
          "2021-11-25T00:00:00",
          "2021-12-02T00:00:00",
          "2021-12-09T00:00:00",
          "2021-12-16T00:00:00",
          "2021-12-23T00:00:00",
          "2021-12-30T00:00:00",
          "2022-01-06T00:00:00",
          "2022-01-13T00:00:00",
          "2022-01-20T00:00:00",
          "2022-01-27T00:00:00",
          "2022-02-03T00:00:00",
          "2022-02-10T00:00:00",
          "2022-02-17T00:00:00",
          "2022-02-24T00:00:00",
          "2022-03-03T00:00:00",
          "2022-03-10T00:00:00",
          "2022-03-17T00:00:00",
          "2022-03-24T00:00:00",
          "2022-03-31T00:00:00",
          "2022-04-07T00:00:00",
          "2022-04-14T00:00:00",
          "2022-04-21T00:00:00",
          "2022-04-28T00:00:00",
          "2022-05-05T00:00:00",
          "2022-05-12T00:00:00",
          "2022-05-19T00:00:00",
          "2022-05-26T00:00:00",
          "2022-06-02T00:00:00",
          "2022-06-09T00:00:00",
          "2022-06-16T00:00:00",
          "2022-06-23T00:00:00",
          "2022-06-30T00:00:00",
          "2022-07-07T00:00:00",
          "2022-07-14T00:00:00",
          "2022-07-21T00:00:00",
          "2022-07-28T00:00:00",
          "2022-08-04T00:00:00",
          "2022-08-11T00:00:00",
          "2022-08-18T00:00:00",
          "2022-08-25T00:00:00",
          "2022-09-01T00:00:00",
          "2022-09-08T00:00:00",
          "2022-09-15T00:00:00",
          "2022-09-22T00:00:00",
          "2022-09-29T00:00:00",
          "2022-10-06T00:00:00",
          "2022-10-13T00:00:00",
          "2022-10-20T00:00:00",
          "2022-10-27T00:00:00",
          "2022-11-03T00:00:00",
          "2022-11-10T00:00:00",
          "2022-11-17T00:00:00",
          "2022-11-24T00:00:00",
          "2022-12-01T00:00:00",
          "2022-12-08T00:00:00",
          "2022-12-15T00:00:00",
          "2022-12-22T00:00:00",
          "2022-12-29T00:00:00",
          "2023-01-05T00:00:00",
          "2023-01-12T00:00:00",
          "2023-01-19T00:00:00",
          "2023-01-26T00:00:00"
         ],
         "y": [
          199792.22439575195,
          199758.894241333,
          199913.81939697266,
          199873.5136871338,
          200029.6145324707,
          200165.16217041016,
          200193.33409118652,
          200059.63314819336,
          200050.85858154297,
          200039.77459716797,
          200040.92930603027,
          200320.56874084473,
          200417.55474853516,
          200511.07586669922,
          200328.65132141113,
          204710.5064974594,
          204407.42589862822,
          204415.77328689574,
          204327.60873420714,
          204464.99204738616,
          204792.79098613738,
          204214.53932483672,
          204789.40096004485,
          204604.84621341704,
          204961.83335311888,
          205258.4680624771,
          205158.92228801726,
          205415.1862068939,
          203380.78462036132,
          202787.14426143645,
          202521.4369984436,
          202824.37428577422,
          202838.88149078368,
          203014.1616888809,
          203160.76831062316,
          203391.10918243407,
          202689.98547466277,
          202118.64134613035,
          201758.59959617612,
          202003.28338829038,
          201851.508865509,
          203302.31164279935,
          204501.94536224363,
          203710.62963024137,
          202721.61674705503,
          203547.53471485135,
          204305.4499827957,
          205446.037737236,
          205497.89362655638,
          206841.2049306488,
          206504.50523410796,
          206152.34401546477,
          206277.67867218016,
          205475.78237472533,
          202985.5561507797,
          203095.89967380522,
          202725.67445026396,
          201827.89306770323,
          196405.2540076828,
          197108.4920066452,
          189401.75327955245,
          189343.42825733183,
          195282.54509769438,
          193166.68696056365,
          195316.4383805847,
          195718.6089929199,
          197928.51500259398,
          199133.53949676512,
          200636.01907382964,
          199399.7640546417,
          202310.31026016234,
          203254.21521507262,
          206328.23513828276,
          203691.80475555419,
          207195.94112335204,
          206023.63307224272,
          207694.1860784149,
          209193.0804685211,
          208412.48829875945,
          208894.22865997313,
          208761.81783805846,
          213445.81941543578,
          212477.87843833922,
          212875.0843413925,
          214171.33093105315,
          214596.1817716217,
          212157.33357940672,
          215726.73507438658,
          214459.02939640044,
          218058.2212499237,
          219930.2107080078,
          219363.70441471098,
          217958.69624362944,
          215462.09886585234,
          219166.05901561736,
          214614.14023338316,
          216518.01245246886,
          220844.3258088684,
          218262.56809745787,
          218004.55563674925,
          222066.24006973265,
          225656.47499404906,
          225808.04559646605,
          230841.26538978575,
          231824.35605083464,
          234176.0980247116,
          229704.80945716857,
          229929.4066299057,
          235980.8059323883,
          233613.48327766417,
          229524.88315998076,
          223071.48556457518,
          227020.7937787628,
          224892.0330442047,
          222751.02230297087,
          227182.70284400939,
          227834.292721138,
          223181.0774331474,
          235446.43489909172,
          233155.89308404922,
          226382.9388782978,
          213794.8638894558,
          226591.14689922333,
          232371.33509230614,
          233324.5207438469,
          240987.7656686306,
          237345.59107375145,
          241051.37584257126,
          240501.4552986622,
          235989.40078616142,
          235851.9420518875,
          242182.36813497543,
          245250.5465145111,
          250174.63439416885,
          249843.63475179672,
          234450.67210054398,
          244276.37410736084,
          250421.2573518753,
          243656.538854599,
          237651.12431430817,
          238425.4068698883,
          234859.34459400177,
          248516.5483522415,
          250542.62775135037,
          252921.62928581235,
          251739.0580282211,
          252550.09453105924,
          252165.03126382825,
          250269.58056020734,
          243334.79892635343,
          240438.29956531522,
          241272.10883927342,
          238259.4582467079,
          242530.4326188564,
          250283.73012108804,
          247838.8902399731,
          244476.90200092318,
          239236.59087165835,
          231699.0926607704,
          241398.65960937503,
          242557.38064624788,
          239662.56906852723,
          242112.010828743,
          249357.3698918915,
          247320.2992604828,
          248931.89826622012,
          249342.7516262436,
          248883.90966999056,
          247222.60072895052,
          245042.48909721378,
          244512.59008831024,
          242736.02081466676,
          240808.56022941592,
          238779.2699705124,
          240166.04066848758,
          240702.74918979645,
          242741.13938426974,
          241727.55038982394,
          237599.20047321322,
          239088.5503891373,
          239434.76013916018,
          240848.38999721527,
          237666.08048137667,
          241259.06949481965,
          238841.5689319992,
          239225.99944408418,
          239805.7700557709,
          241533.14042831422,
          239806.61986797335,
          236295.27018119814,
          240367.70957805635,
          241034.81057254793,
          241146.95943763736,
          242443.62009002684,
          243795.79072143554,
          243473.8908963394,
          243789.9700684738,
          245689.06945373534,
          246416.44083549498,
          248295.24065162658,
          248138.12004425048,
          249592.67056705474,
          249623.069287796,
          248131.58914424895,
          247125.4592185211,
          246938.04983970642,
          248312.01972743988,
          248317.28041622162,
          247454.26071331024,
          249515.4491584015,
          251640.03024742127
         ]
        }
       ],
       "layout": {
        "font": {
         "family": "Courier New, monospace"
        },
        "legend": {
         "x": 0.01,
         "xanchor": "left",
         "y": 0.99,
         "yanchor": "top"
        },
        "template": {
         "data": {
          "bar": [
           {
            "error_x": {
             "color": "#2a3f5f"
            },
            "error_y": {
             "color": "#2a3f5f"
            },
            "marker": {
             "line": {
              "color": "#E5ECF6",
              "width": 0.5
             },
             "pattern": {
              "fillmode": "overlay",
              "size": 10,
              "solidity": 0.2
             }
            },
            "type": "bar"
           }
          ],
          "barpolar": [
           {
            "marker": {
             "line": {
              "color": "#E5ECF6",
              "width": 0.5
             },
             "pattern": {
              "fillmode": "overlay",
              "size": 10,
              "solidity": 0.2
             }
            },
            "type": "barpolar"
           }
          ],
          "carpet": [
           {
            "aaxis": {
             "endlinecolor": "#2a3f5f",
             "gridcolor": "white",
             "linecolor": "white",
             "minorgridcolor": "white",
             "startlinecolor": "#2a3f5f"
            },
            "baxis": {
             "endlinecolor": "#2a3f5f",
             "gridcolor": "white",
             "linecolor": "white",
             "minorgridcolor": "white",
             "startlinecolor": "#2a3f5f"
            },
            "type": "carpet"
           }
          ],
          "choropleth": [
           {
            "colorbar": {
             "outlinewidth": 0,
             "ticks": ""
            },
            "type": "choropleth"
           }
          ],
          "contour": [
           {
            "colorbar": {
             "outlinewidth": 0,
             "ticks": ""
            },
            "colorscale": [
             [
              0,
              "#0d0887"
             ],
             [
              0.1111111111111111,
              "#46039f"
             ],
             [
              0.2222222222222222,
              "#7201a8"
             ],
             [
              0.3333333333333333,
              "#9c179e"
             ],
             [
              0.4444444444444444,
              "#bd3786"
             ],
             [
              0.5555555555555556,
              "#d8576b"
             ],
             [
              0.6666666666666666,
              "#ed7953"
             ],
             [
              0.7777777777777778,
              "#fb9f3a"
             ],
             [
              0.8888888888888888,
              "#fdca26"
             ],
             [
              1,
              "#f0f921"
             ]
            ],
            "type": "contour"
           }
          ],
          "contourcarpet": [
           {
            "colorbar": {
             "outlinewidth": 0,
             "ticks": ""
            },
            "type": "contourcarpet"
           }
          ],
          "heatmap": [
           {
            "colorbar": {
             "outlinewidth": 0,
             "ticks": ""
            },
            "colorscale": [
             [
              0,
              "#0d0887"
             ],
             [
              0.1111111111111111,
              "#46039f"
             ],
             [
              0.2222222222222222,
              "#7201a8"
             ],
             [
              0.3333333333333333,
              "#9c179e"
             ],
             [
              0.4444444444444444,
              "#bd3786"
             ],
             [
              0.5555555555555556,
              "#d8576b"
             ],
             [
              0.6666666666666666,
              "#ed7953"
             ],
             [
              0.7777777777777778,
              "#fb9f3a"
             ],
             [
              0.8888888888888888,
              "#fdca26"
             ],
             [
              1,
              "#f0f921"
             ]
            ],
            "type": "heatmap"
           }
          ],
          "heatmapgl": [
           {
            "colorbar": {
             "outlinewidth": 0,
             "ticks": ""
            },
            "colorscale": [
             [
              0,
              "#0d0887"
             ],
             [
              0.1111111111111111,
              "#46039f"
             ],
             [
              0.2222222222222222,
              "#7201a8"
             ],
             [
              0.3333333333333333,
              "#9c179e"
             ],
             [
              0.4444444444444444,
              "#bd3786"
             ],
             [
              0.5555555555555556,
              "#d8576b"
             ],
             [
              0.6666666666666666,
              "#ed7953"
             ],
             [
              0.7777777777777778,
              "#fb9f3a"
             ],
             [
              0.8888888888888888,
              "#fdca26"
             ],
             [
              1,
              "#f0f921"
             ]
            ],
            "type": "heatmapgl"
           }
          ],
          "histogram": [
           {
            "marker": {
             "pattern": {
              "fillmode": "overlay",
              "size": 10,
              "solidity": 0.2
             }
            },
            "type": "histogram"
           }
          ],
          "histogram2d": [
           {
            "colorbar": {
             "outlinewidth": 0,
             "ticks": ""
            },
            "colorscale": [
             [
              0,
              "#0d0887"
             ],
             [
              0.1111111111111111,
              "#46039f"
             ],
             [
              0.2222222222222222,
              "#7201a8"
             ],
             [
              0.3333333333333333,
              "#9c179e"
             ],
             [
              0.4444444444444444,
              "#bd3786"
             ],
             [
              0.5555555555555556,
              "#d8576b"
             ],
             [
              0.6666666666666666,
              "#ed7953"
             ],
             [
              0.7777777777777778,
              "#fb9f3a"
             ],
             [
              0.8888888888888888,
              "#fdca26"
             ],
             [
              1,
              "#f0f921"
             ]
            ],
            "type": "histogram2d"
           }
          ],
          "histogram2dcontour": [
           {
            "colorbar": {
             "outlinewidth": 0,
             "ticks": ""
            },
            "colorscale": [
             [
              0,
              "#0d0887"
             ],
             [
              0.1111111111111111,
              "#46039f"
             ],
             [
              0.2222222222222222,
              "#7201a8"
             ],
             [
              0.3333333333333333,
              "#9c179e"
             ],
             [
              0.4444444444444444,
              "#bd3786"
             ],
             [
              0.5555555555555556,
              "#d8576b"
             ],
             [
              0.6666666666666666,
              "#ed7953"
             ],
             [
              0.7777777777777778,
              "#fb9f3a"
             ],
             [
              0.8888888888888888,
              "#fdca26"
             ],
             [
              1,
              "#f0f921"
             ]
            ],
            "type": "histogram2dcontour"
           }
          ],
          "mesh3d": [
           {
            "colorbar": {
             "outlinewidth": 0,
             "ticks": ""
            },
            "type": "mesh3d"
           }
          ],
          "parcoords": [
           {
            "line": {
             "colorbar": {
              "outlinewidth": 0,
              "ticks": ""
             }
            },
            "type": "parcoords"
           }
          ],
          "pie": [
           {
            "automargin": true,
            "type": "pie"
           }
          ],
          "scatter": [
           {
            "marker": {
             "colorbar": {
              "outlinewidth": 0,
              "ticks": ""
             }
            },
            "type": "scatter"
           }
          ],
          "scatter3d": [
           {
            "line": {
             "colorbar": {
              "outlinewidth": 0,
              "ticks": ""
             }
            },
            "marker": {
             "colorbar": {
              "outlinewidth": 0,
              "ticks": ""
             }
            },
            "type": "scatter3d"
           }
          ],
          "scattercarpet": [
           {
            "marker": {
             "colorbar": {
              "outlinewidth": 0,
              "ticks": ""
             }
            },
            "type": "scattercarpet"
           }
          ],
          "scattergeo": [
           {
            "marker": {
             "colorbar": {
              "outlinewidth": 0,
              "ticks": ""
             }
            },
            "type": "scattergeo"
           }
          ],
          "scattergl": [
           {
            "marker": {
             "colorbar": {
              "outlinewidth": 0,
              "ticks": ""
             }
            },
            "type": "scattergl"
           }
          ],
          "scattermapbox": [
           {
            "marker": {
             "colorbar": {
              "outlinewidth": 0,
              "ticks": ""
             }
            },
            "type": "scattermapbox"
           }
          ],
          "scatterpolar": [
           {
            "marker": {
             "colorbar": {
              "outlinewidth": 0,
              "ticks": ""
             }
            },
            "type": "scatterpolar"
           }
          ],
          "scatterpolargl": [
           {
            "marker": {
             "colorbar": {
              "outlinewidth": 0,
              "ticks": ""
             }
            },
            "type": "scatterpolargl"
           }
          ],
          "scatterternary": [
           {
            "marker": {
             "colorbar": {
              "outlinewidth": 0,
              "ticks": ""
             }
            },
            "type": "scatterternary"
           }
          ],
          "surface": [
           {
            "colorbar": {
             "outlinewidth": 0,
             "ticks": ""
            },
            "colorscale": [
             [
              0,
              "#0d0887"
             ],
             [
              0.1111111111111111,
              "#46039f"
             ],
             [
              0.2222222222222222,
              "#7201a8"
             ],
             [
              0.3333333333333333,
              "#9c179e"
             ],
             [
              0.4444444444444444,
              "#bd3786"
             ],
             [
              0.5555555555555556,
              "#d8576b"
             ],
             [
              0.6666666666666666,
              "#ed7953"
             ],
             [
              0.7777777777777778,
              "#fb9f3a"
             ],
             [
              0.8888888888888888,
              "#fdca26"
             ],
             [
              1,
              "#f0f921"
             ]
            ],
            "type": "surface"
           }
          ],
          "table": [
           {
            "cells": {
             "fill": {
              "color": "#EBF0F8"
             },
             "line": {
              "color": "white"
             }
            },
            "header": {
             "fill": {
              "color": "#C8D4E3"
             },
             "line": {
              "color": "white"
             }
            },
            "type": "table"
           }
          ]
         },
         "layout": {
          "annotationdefaults": {
           "arrowcolor": "#2a3f5f",
           "arrowhead": 0,
           "arrowwidth": 1
          },
          "autotypenumbers": "strict",
          "coloraxis": {
           "colorbar": {
            "outlinewidth": 0,
            "ticks": ""
           }
          },
          "colorscale": {
           "diverging": [
            [
             0,
             "#8e0152"
            ],
            [
             0.1,
             "#c51b7d"
            ],
            [
             0.2,
             "#de77ae"
            ],
            [
             0.3,
             "#f1b6da"
            ],
            [
             0.4,
             "#fde0ef"
            ],
            [
             0.5,
             "#f7f7f7"
            ],
            [
             0.6,
             "#e6f5d0"
            ],
            [
             0.7,
             "#b8e186"
            ],
            [
             0.8,
             "#7fbc41"
            ],
            [
             0.9,
             "#4d9221"
            ],
            [
             1,
             "#276419"
            ]
           ],
           "sequential": [
            [
             0,
             "#0d0887"
            ],
            [
             0.1111111111111111,
             "#46039f"
            ],
            [
             0.2222222222222222,
             "#7201a8"
            ],
            [
             0.3333333333333333,
             "#9c179e"
            ],
            [
             0.4444444444444444,
             "#bd3786"
            ],
            [
             0.5555555555555556,
             "#d8576b"
            ],
            [
             0.6666666666666666,
             "#ed7953"
            ],
            [
             0.7777777777777778,
             "#fb9f3a"
            ],
            [
             0.8888888888888888,
             "#fdca26"
            ],
            [
             1,
             "#f0f921"
            ]
           ],
           "sequentialminus": [
            [
             0,
             "#0d0887"
            ],
            [
             0.1111111111111111,
             "#46039f"
            ],
            [
             0.2222222222222222,
             "#7201a8"
            ],
            [
             0.3333333333333333,
             "#9c179e"
            ],
            [
             0.4444444444444444,
             "#bd3786"
            ],
            [
             0.5555555555555556,
             "#d8576b"
            ],
            [
             0.6666666666666666,
             "#ed7953"
            ],
            [
             0.7777777777777778,
             "#fb9f3a"
            ],
            [
             0.8888888888888888,
             "#fdca26"
            ],
            [
             1,
             "#f0f921"
            ]
           ]
          },
          "colorway": [
           "#636efa",
           "#EF553B",
           "#00cc96",
           "#ab63fa",
           "#FFA15A",
           "#19d3f3",
           "#FF6692",
           "#B6E880",
           "#FF97FF",
           "#FECB52"
          ],
          "font": {
           "color": "#2a3f5f"
          },
          "geo": {
           "bgcolor": "white",
           "lakecolor": "white",
           "landcolor": "#E5ECF6",
           "showlakes": true,
           "showland": true,
           "subunitcolor": "white"
          },
          "hoverlabel": {
           "align": "left"
          },
          "hovermode": "closest",
          "mapbox": {
           "style": "light"
          },
          "paper_bgcolor": "white",
          "plot_bgcolor": "#E5ECF6",
          "polar": {
           "angularaxis": {
            "gridcolor": "white",
            "linecolor": "white",
            "ticks": ""
           },
           "bgcolor": "#E5ECF6",
           "radialaxis": {
            "gridcolor": "white",
            "linecolor": "white",
            "ticks": ""
           }
          },
          "scene": {
           "xaxis": {
            "backgroundcolor": "#E5ECF6",
            "gridcolor": "white",
            "gridwidth": 2,
            "linecolor": "white",
            "showbackground": true,
            "ticks": "",
            "zerolinecolor": "white"
           },
           "yaxis": {
            "backgroundcolor": "#E5ECF6",
            "gridcolor": "white",
            "gridwidth": 2,
            "linecolor": "white",
            "showbackground": true,
            "ticks": "",
            "zerolinecolor": "white"
           },
           "zaxis": {
            "backgroundcolor": "#E5ECF6",
            "gridcolor": "white",
            "gridwidth": 2,
            "linecolor": "white",
            "showbackground": true,
            "ticks": "",
            "zerolinecolor": "white"
           }
          },
          "shapedefaults": {
           "line": {
            "color": "#2a3f5f"
           }
          },
          "ternary": {
           "aaxis": {
            "gridcolor": "white",
            "linecolor": "white",
            "ticks": ""
           },
           "baxis": {
            "gridcolor": "white",
            "linecolor": "white",
            "ticks": ""
           },
           "bgcolor": "#E5ECF6",
           "caxis": {
            "gridcolor": "white",
            "linecolor": "white",
            "ticks": ""
           }
          },
          "title": {
           "x": 0.05
          },
          "xaxis": {
           "automargin": true,
           "gridcolor": "white",
           "linecolor": "white",
           "ticks": "",
           "title": {
            "standoff": 15
           },
           "zerolinecolor": "white",
           "zerolinewidth": 2
          },
          "yaxis": {
           "automargin": true,
           "gridcolor": "white",
           "linecolor": "white",
           "ticks": "",
           "title": {
            "standoff": 15
           },
           "zerolinecolor": "white",
           "zerolinewidth": 2
          }
         }
        },
        "title": {
         "text": "Theoretical Portfolio Value Over Time"
        },
        "xaxis": {
         "title": {
          "text": "Date"
         }
        },
        "yaxis": {
         "title": {
          "text": "Portfolio Value"
         }
        }
       }
      }
     },
     "metadata": {},
     "output_type": "display_data"
    }
   ],
   "source": [
    "# Plot all three portfolios over time\n",
    "fig = go.Figure()\n",
    "fig.add_trace(go.Scatter(x=list(agg_values_vF.keys()), y=list(agg_values_vF.values()),\n",
    "                    mode='lines',\n",
    "                    name='Actual Portfolio'))\n",
    "fig.add_trace(go.Scatter(x=list(agg_values_vF_rational.keys()), y=list(agg_values_vF_rational.values()),\n",
    "                    mode='lines',\n",
    "                    name='Rational Execution Times'))\n",
    "fig.add_trace(go.Scatter(x=list(agg_values_vF_rational2.keys()), y=list(agg_values_vF_rational2.values()),\n",
    "                    mode='lines',\n",
    "                    name='Rational Execution Times & Trades'))\n",
    "fig.update_layout(title_text=\"Theoretical Portfolio Value Over Time\", xaxis_title=\"Date\", yaxis_title=\"Portfolio Value\")\n",
    "# Move the legend so it takes less space\n",
    "fig.update_layout(legend=dict(\n",
    "    yanchor=\"top\",\n",
    "    y=0.99,\n",
    "    xanchor=\"left\",\n",
    "    x=0.01\n",
    "))\n",
    "# change the font to garamond\n",
    "fig.update_layout(font_family=\"Courier New, monospace\")\n",
    "fig.show()"
   ]
  }
 ],
 "metadata": {
  "kernelspec": {
   "display_name": "Python 3",
   "language": "python",
   "name": "python3"
  },
  "language_info": {
   "codemirror_mode": {
    "name": "ipython",
    "version": 3
   },
   "file_extension": ".py",
   "mimetype": "text/x-python",
   "name": "python",
   "nbconvert_exporter": "python",
   "pygments_lexer": "ipython3",
   "version": "3.9.12"
  },
  "orig_nbformat": 4
 },
 "nbformat": 4,
 "nbformat_minor": 2
}
